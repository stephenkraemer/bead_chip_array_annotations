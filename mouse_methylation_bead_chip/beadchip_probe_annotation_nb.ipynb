{
 "cells": [
  {
   "cell_type": "markdown",
   "id": "7d93ff6e",
   "metadata": {
    "heading_collapsed": "true",
    "tags": []
   },
   "source": [
    "\n",
    "# TODO\n"
   ]
  },
  {
   "cell_type": "markdown",
   "id": "17f3579b",
   "metadata": {},
   "source": [
    "- check sorting order of chromosomes throughout analysis\n",
    "- there is a bug in gtfanno which makes it fail to read the appris principal score, does this influence the results?\n",
    "- there is a \"transcript = 0\" count in the gtfanno basic stat output. is this indicative of a problem?\n",
    "- double check the changes made to allow DCRD intervals enveloping the promoter interval\n",
    "- check annos in IGV\n",
    "- are feature coordinates really 0-based, right open?"
   ]
  },
  {
   "cell_type": "markdown",
   "id": "0af52ed5",
   "metadata": {},
   "source": [
    "annos to add\n",
    "- motif: CG, CHH, CHG\n",
    "- strand, illumina strands are not cytosine strands\n",
    "- hematopoietic regions\n",
    "    - cis reg atlas\n",
    "    - vision\n",
    "    - amit enhancers\n",
    "- general regulatory regions\n",
    "    - ensembl reg regions\n",
    "    - chrom hmm - ask maxi again what he had in mind here - forgot which resource he mentioned\n",
    "- tfbs"
   ]
  },
  {
   "cell_type": "markdown",
   "id": "1586a169",
   "metadata": {
    "tags": []
   },
   "source": [
    "\n",
    "# Setup"
   ]
  },
  {
   "cell_type": "markdown",
   "id": "8094ffb1",
   "metadata": {
    "heading_collapsed": "true",
    "tags": []
   },
   "source": [
    "\n",
    "## Resource parameters\n"
   ]
  },
  {
   "cell_type": "code",
   "execution_count": null,
   "id": "c9990679",
   "metadata": {},
   "outputs": [],
   "source": [
    "n_cores = 12"
   ]
  },
  {
   "cell_type": "markdown",
   "id": "75b12114",
   "metadata": {
    "heading_collapsed": "true",
    "tags": []
   },
   "source": [
    "\n",
    "## Imports"
   ]
  },
  {
   "cell_type": "code",
   "execution_count": null,
   "id": "d03fbbb0",
   "metadata": {
    "tags": []
   },
   "outputs": [],
   "source": [
    "# isort: off\n",
    "import os\n",
    "\n",
    "num_threads = str(n_cores)\n",
    "\n",
    "# these need to be set prior to numpy import\n",
    "os.environ[\"OMP_NUM_THREADS\"] = num_threads\n",
    "os.environ[\"OPENBLAS_NUM_THREADS\"] = num_threads\n",
    "os.environ[\"MKL_NUM_THREADS\"] = num_threads\n",
    "os.environ[\"VECLIB_MAXIMUM_THREADS\"] = num_threads\n",
    "os.environ[\"NUMEXPR_NUM_THREADS\"] = num_threads\n",
    "\n",
    "import numpy as np\n",
    "\n",
    "# isort: on\n",
    "\n",
    "import subprocess\n",
    "import tempfile\n",
    "\n",
    "import gtfanno as ga\n",
    "import matplotlib.pyplot as plt\n",
    "import pandas as pd\n",
    "import pyranges as pr\n",
    "from IPython.display import display\n",
    "\n",
    "import mouse_hema_meth.utils as ut"
   ]
  },
  {
   "cell_type": "code",
   "execution_count": null,
   "id": "34e60eb2",
   "metadata": {},
   "outputs": [],
   "source": [
    "%matplotlib inline"
   ]
  },
  {
   "cell_type": "code",
   "execution_count": null,
   "id": "352a18e6",
   "metadata": {},
   "outputs": [],
   "source": [
    "import mouse_methylation_bead_chip.beadchip_probe_annotation_lib as lib\n",
    "import mouse_methylation_bead_chip.beadchip_probe_annotation_paths as paths"
   ]
  },
  {
   "cell_type": "markdown",
   "id": "25717607",
   "metadata": {
    "heading_collapsed": "true",
    "tags": []
   },
   "source": [
    "\n",
    "## Rerun flags\n"
   ]
  },
  {
   "cell_type": "code",
   "execution_count": null,
   "id": "3cf230aa",
   "metadata": {},
   "outputs": [],
   "source": [
    "recompute = True"
   ]
  },
  {
   "cell_type": "markdown",
   "id": "2870c608",
   "metadata": {
    "heading_collapsed": "true",
    "tags": []
   },
   "source": [
    "\n",
    "## Dtypes\n"
   ]
  },
  {
   "cell_type": "code",
   "execution_count": null,
   "id": "73c06447",
   "metadata": {},
   "outputs": [],
   "source": [
    "chrom_dtype_prefixed = pd.api.types.CategoricalDtype(\n",
    "    categories=[\n",
    "        \"chr1\",\n",
    "        \"chr2\",\n",
    "        \"chr3\",\n",
    "        \"chr4\",\n",
    "        \"chr5\",\n",
    "        \"chr6\",\n",
    "        \"chr7\",\n",
    "        \"chr8\",\n",
    "        \"chr9\",\n",
    "        \"chr10\",\n",
    "        \"chr11\",\n",
    "        \"chr12\",\n",
    "        \"chr13\",\n",
    "        \"chr14\",\n",
    "        \"chr15\",\n",
    "        \"chr16\",\n",
    "        \"chr17\",\n",
    "        \"chr18\",\n",
    "        \"chr19\",\n",
    "        \"chrX\",\n",
    "        \"chrY\",\n",
    "        \"chrMT\",\n",
    "    ],\n",
    "    ordered=True,\n",
    ")"
   ]
  },
  {
   "cell_type": "markdown",
   "id": "a059669e",
   "metadata": {
    "tags": []
   },
   "source": [
    "\n",
    "# Paths\n",
    "\n",
    "temp_dir_obj = tempfile.TemporaryDirectory(dir=paths.project_dir)\n",
    "temp_dir_name = temp_dir_obj.name\n",
    "temp_dir_name"
   ]
  },
  {
   "cell_type": "markdown",
   "id": "36d6e376",
   "metadata": {
    "tags": []
   },
   "source": [
    "\n",
    "# Analysis"
   ]
  },
  {
   "cell_type": "markdown",
   "id": "191d5e2d",
   "metadata": {
    "heading_collapsed": "true",
    "tags": []
   },
   "source": [
    "\n",
    "## Prepare input data"
   ]
  },
  {
   "cell_type": "markdown",
   "id": "5a658de5",
   "metadata": {
    "heading_collapsed": "true",
    "tags": []
   },
   "source": [
    "\n",
    "### CpG island annos"
   ]
  },
  {
   "cell_type": "code",
   "execution_count": null,
   "id": "c8d4111f",
   "metadata": {},
   "outputs": [],
   "source": [
    "import mouse_hema_meth.genome_annotations.get_genome_annos_paths as get_genome_annos_paths\n",
    "\n",
    "cpg_islands_pickle_d = get_genome_annos_paths.cpg_islands_shores_shelves_pickle_paths_d"
   ]
  },
  {
   "cell_type": "markdown",
   "id": "f2e9acaa",
   "metadata": {
    "heading_collapsed": "true",
    "tags": []
   },
   "source": [
    "\n",
    "### Prepare gene annotation"
   ]
  },
  {
   "cell_type": "markdown",
   "id": "61338b25",
   "metadata": {
    "heading_collapsed": "true",
    "tags": []
   },
   "source": [
    "\n",
    "#### download gencode"
   ]
  },
  {
   "cell_type": "code",
   "execution_count": null,
   "id": "6dee5a38",
   "metadata": {
    "tags": []
   },
   "outputs": [],
   "source": [
    "if recompute:\n",
    "    subprocess.run(\n",
    "        [\"wget\", \"-O\", paths.gencode_gtf, paths.gencode_download_url],\n",
    "        check=True,\n",
    "    )"
   ]
  },
  {
   "cell_type": "code",
   "execution_count": null,
   "id": "289616dc",
   "metadata": {
    "tags": []
   },
   "outputs": [],
   "source": [
    "!zcat {paths.gencode_gtf} | head -n 6"
   ]
  },
  {
   "cell_type": "markdown",
   "id": "9592d6a6",
   "metadata": {
    "heading_collapsed": "true",
    "tags": []
   },
   "source": [
    "\n",
    "#### Filter and reformat gencode GTF\n"
   ]
  },
  {
   "cell_type": "markdown",
   "id": "003694d6",
   "metadata": {},
   "source": [
    "- restrict to canonical transcripts\n",
    "- restrict to coding transcripts\n",
    "- remove chr prefix\n",
    "- change M to MT"
   ]
  },
  {
   "cell_type": "code",
   "execution_count": null,
   "id": "90aecccc",
   "metadata": {},
   "outputs": [],
   "source": [
    "gencode_df = pr.read_gtf(paths.gencode_gtf, as_df=True, duplicate_attr=True)"
   ]
  },
  {
   "cell_type": "code",
   "execution_count": null,
   "id": "dcfc0b84",
   "metadata": {},
   "outputs": [],
   "source": [
    "# extract appris principal score from tags\n",
    "appris_principal_score = (\n",
    "    gencode_df[\"tag\"].str.extract(r\"appris_principal_(\\d)\", expand=False).astype(float)\n",
    ")"
   ]
  },
  {
   "cell_type": "code",
   "execution_count": null,
   "id": "737e8a82",
   "metadata": {},
   "outputs": [],
   "source": [
    "appris_principal_score.value_counts()"
   ]
  },
  {
   "cell_type": "code",
   "execution_count": null,
   "id": "bb9f0318",
   "metadata": {},
   "outputs": [],
   "source": [
    "appris_principal_score.isnull().sum()"
   ]
  },
  {
   "cell_type": "code",
   "execution_count": null,
   "id": "5309a272",
   "metadata": {},
   "outputs": [],
   "source": [
    "appris_principal_score.notnull().sum()"
   ]
  },
  {
   "cell_type": "code",
   "execution_count": null,
   "id": "51210e44",
   "metadata": {},
   "outputs": [],
   "source": [
    "is_principal_transcript = appris_principal_score.notnull()"
   ]
  },
  {
   "cell_type": "code",
   "execution_count": null,
   "id": "df0d0c12",
   "metadata": {},
   "outputs": [],
   "source": [
    "is_protein_coding = gencode_df[\"gene_type\"].eq(\"protein_coding\")"
   ]
  },
  {
   "cell_type": "code",
   "execution_count": null,
   "id": "6b09bfc8",
   "metadata": {},
   "outputs": [],
   "source": [
    "gencode_df_coding_canonical = gencode_df.loc[\n",
    "    is_principal_transcript & is_protein_coding\n",
    "].copy()"
   ]
  },
  {
   "cell_type": "code",
   "execution_count": null,
   "id": "e668e5bd",
   "metadata": {},
   "outputs": [],
   "source": [
    "gencode_df_coding_canonical.head(3)"
   ]
  },
  {
   "cell_type": "code",
   "execution_count": null,
   "id": "adc2c529",
   "metadata": {},
   "outputs": [],
   "source": [
    "gencode_df_coding_canonical.shape"
   ]
  },
  {
   "cell_type": "code",
   "execution_count": null,
   "id": "d048c5e3",
   "metadata": {},
   "outputs": [],
   "source": [
    "gencode_df_coding_canonical[\"Chromosome\"] = gencode_df_coding_canonical[\n",
    "    \"Chromosome\"\n",
    "].str.replace(\"chr\", \"\")\n",
    "gencode_df_coding_canonical[\"Chromosome\"] = gencode_df_coding_canonical[\n",
    "    \"Chromosome\"\n",
    "].replace(\"M\", \"MT\")"
   ]
  },
  {
   "cell_type": "code",
   "execution_count": null,
   "id": "6c1de65b",
   "metadata": {},
   "outputs": [],
   "source": [
    "gencode_pr = pr.PyRanges(gencode_df_coding_canonical)\n",
    "gencode_pr.df.Chromosome.unique()"
   ]
  },
  {
   "cell_type": "code",
   "execution_count": null,
   "id": "41254046",
   "metadata": {},
   "outputs": [],
   "source": [
    "gencode_pr.to_gtf(paths.gencode_coding_canonical_gtf)"
   ]
  },
  {
   "cell_type": "code",
   "execution_count": null,
   "id": "6e4df4a0",
   "metadata": {},
   "outputs": [],
   "source": [
    "!zcat {paths.gencode_coding_canonical_gtf} | head"
   ]
  },
  {
   "cell_type": "markdown",
   "id": "e01b219f",
   "metadata": {},
   "source": [
    "verify gtf"
   ]
  },
  {
   "cell_type": "code",
   "execution_count": null,
   "id": "27d790b9",
   "metadata": {
    "jupyter": {
     "outputs_hidden": true
    },
    "tags": []
   },
   "outputs": [],
   "source": [
    "!zcat {paths.gencode_coding_canonical_gtf} | grep ^protein_coding"
   ]
  },
  {
   "cell_type": "code",
   "execution_count": null,
   "id": "5fcd5d58",
   "metadata": {
    "jupyter": {
     "outputs_hidden": true
    },
    "tags": []
   },
   "outputs": [],
   "source": [
    "!zcat {paths.gencode_coding_canonical_gtf} | grep ^appris"
   ]
  },
  {
   "cell_type": "markdown",
   "id": "e7349f5d",
   "metadata": {
    "tags": []
   },
   "source": [
    "\n",
    "### Prepare and inspect probes files"
   ]
  },
  {
   "cell_type": "markdown",
   "id": "df2fbd01",
   "metadata": {
    "heading_collapsed": "true",
    "tags": []
   },
   "source": [
    "\n",
    "#### Probe file from Maxi"
   ]
  },
  {
   "cell_type": "markdown",
   "id": "9bd6bb12",
   "metadata": {
    "heading_collapsed": "true",
    "tags": []
   },
   "source": [
    "\n",
    "##### Inspect original probes file\n"
   ]
  },
  {
   "cell_type": "markdown",
   "id": "a6cc7859",
   "metadata": {},
   "source": [
    "- file has duplicates\n",
    "- file is not fully sorted"
   ]
  },
  {
   "cell_type": "markdown",
   "id": "f1c0b77a",
   "metadata": {
    "tags": []
   },
   "source": [
    "\n",
    "###### General overview\n"
   ]
  },
  {
   "cell_type": "code",
   "execution_count": null,
   "id": "55caae85",
   "metadata": {},
   "outputs": [],
   "source": [
    "!head -n 3 {paths.original_probes_bed}"
   ]
  },
  {
   "cell_type": "code",
   "execution_count": null,
   "id": "104cd555",
   "metadata": {},
   "outputs": [],
   "source": [
    "!cut -f 1 < {paths.original_probes_bed} | uniq"
   ]
  },
  {
   "cell_type": "code",
   "execution_count": null,
   "id": "8d288485",
   "metadata": {},
   "outputs": [],
   "source": [
    "original_probes_df = pd.read_csv(\n",
    "    paths.original_probes_bed,\n",
    "    sep=\"\\t\",\n",
    "    header=None,\n",
    "    names=[\"Chromosome\", \"Start\", \"End\", \"name\"],\n",
    ")\n",
    "original_probes_df[\"Chromosome\"] = pd.Categorical(\n",
    "    original_probes_df[\"Chromosome\"],\n",
    "    categories=original_probes_df[\"Chromosome\"].unique(),\n",
    "    ordered=True,\n",
    ")\n",
    "original_probes_df"
   ]
  },
  {
   "cell_type": "markdown",
   "id": "026eba2f",
   "metadata": {
    "tags": []
   },
   "source": [
    "\n",
    "###### File is not fully sorted\n"
   ]
  },
  {
   "cell_type": "markdown",
   "id": "2a133eab",
   "metadata": {},
   "source": [
    "**Note that the original probes df is not completely sorted on Start/End**"
   ]
  },
  {
   "cell_type": "code",
   "execution_count": null,
   "id": "724e5a3c",
   "metadata": {},
   "outputs": [],
   "source": [
    "original_probes_df_sorted = original_probes_df.sort_values(\n",
    "    [\"Chromosome\", \"Start\", \"End\"]\n",
    ").reset_index(drop=True)\n",
    "original_probes_df_sorted"
   ]
  },
  {
   "cell_type": "code",
   "execution_count": null,
   "id": "27c47734",
   "metadata": {},
   "outputs": [],
   "source": [
    "original_probes_df_sorted.Chromosome.dtype"
   ]
  },
  {
   "cell_type": "markdown",
   "id": "723321d0",
   "metadata": {
    "heading_collapsed": "true",
    "tags": []
   },
   "source": [
    "\n",
    "###### Several probes are present with the same coordinates, but different names\n"
   ]
  },
  {
   "cell_type": "code",
   "execution_count": null,
   "id": "d03f473b",
   "metadata": {},
   "outputs": [],
   "source": [
    "original_probes_df.loc[\n",
    "    original_probes_df.duplicated([\"Chromosome\", \"Start\", \"End\"], keep=False)\n",
    "]"
   ]
  },
  {
   "cell_type": "code",
   "execution_count": null,
   "id": "1bc60ac3",
   "metadata": {},
   "outputs": [],
   "source": [
    "original_probes_df.loc[\n",
    "    original_probes_df.duplicated([\"Chromosome\", \"Start\", \"End\", \"name\"], keep=False)\n",
    "]"
   ]
  },
  {
   "cell_type": "markdown",
   "id": "3b94f1a2",
   "metadata": {
    "heading_collapsed": "true",
    "tags": []
   },
   "source": [
    "\n",
    "##### Reformat probes file\n"
   ]
  },
  {
   "cell_type": "markdown",
   "id": "440dede4",
   "metadata": {},
   "source": [
    "- need to resort\n",
    "- need to remove chr prefix\n",
    "- drop duplicates"
   ]
  },
  {
   "cell_type": "code",
   "execution_count": null,
   "id": "514f117c",
   "metadata": {},
   "outputs": [],
   "source": [
    "probes_df_no_prefix_sorted = (\n",
    "    original_probes_df.assign(\n",
    "        Chromosome=lambda df: df[\"Chromosome\"].str.replace(\"chr\", \"\"),\n",
    "    )[[\"Chromosome\", \"Start\", \"End\"]]\n",
    "    .drop_duplicates()\n",
    "    .sort_values([\"Chromosome\", \"Start\", \"End\"])\n",
    "    .reset_index(drop=True)\n",
    ")"
   ]
  },
  {
   "cell_type": "code",
   "execution_count": null,
   "id": "029d814d",
   "metadata": {},
   "outputs": [],
   "source": [
    "probes_df_no_prefix_sorted.to_csv(\n",
    "    paths.reformatted_probes_bed, sep=\"\\t\", header=False, index=False\n",
    ")"
   ]
  },
  {
   "cell_type": "code",
   "execution_count": null,
   "id": "71293112",
   "metadata": {},
   "outputs": [],
   "source": [
    "!head {paths.reformatted_probes_bed}"
   ]
  },
  {
   "cell_type": "markdown",
   "id": "5a90f1b9",
   "metadata": {
    "heading_collapsed": "true",
    "tags": []
   },
   "source": [
    "\n",
    "#### Illumina probe file"
   ]
  },
  {
   "cell_type": "markdown",
   "id": "d543d63c",
   "metadata": {
    "tags": []
   },
   "source": [
    "\n",
    "##### Schema\n"
   ]
  },
  {
   "cell_type": "markdown",
   "id": "f5057301",
   "metadata": {},
   "source": [
    "- MFG_CHANGE probes haben ein problem\n",
    "- there may be one row separating assay probes from controls somewhere in the dataframe? (info from Maxi)"
   ]
  },
  {
   "cell_type": "markdown",
   "id": "709036f2",
   "metadata": {
    "heading_collapsed": "true",
    "tags": []
   },
   "source": [
    "\n",
    "##### Download\n"
   ]
  },
  {
   "cell_type": "code",
   "execution_count": null,
   "id": "2af361ee",
   "metadata": {},
   "outputs": [],
   "source": [
    "if recompute:\n",
    "    subprocess.run([\"wget\", \"-O\", paths.illumina_probes_csv, paths.illumina_probes_url], check=True)"
   ]
  },
  {
   "cell_type": "code",
   "execution_count": null,
   "id": "b01319d8",
   "metadata": {},
   "outputs": [],
   "source": [
    "!head {paths.illumina_probes_csv}"
   ]
  },
  {
   "cell_type": "markdown",
   "id": "e65c35c4",
   "metadata": {
    "heading_collapsed": "true",
    "tags": []
   },
   "source": [
    "\n",
    "##### Get curated BED intervals for probes\n"
   ]
  },
  {
   "cell_type": "code",
   "execution_count": null,
   "id": "9957560d",
   "metadata": {},
   "outputs": [],
   "source": [
    "illumina_probes = pd.read_csv(\n",
    "    paths.illumina_probes_csv,\n",
    "    skiprows=7,\n",
    "    dtype={\n",
    "        \"AddressA_ID\": str,\n",
    "        \"CHR\": str,\n",
    "        \"MFG_Change_Flagged\": \"boolean\",\n",
    "        \"MAPINFO\": \"Int64\",\n",
    "    },\n",
    ")"
   ]
  },
  {
   "cell_type": "markdown",
   "id": "41b8a28c",
   "metadata": {},
   "source": [
    "Fields, drop fields with longish sequence strings for display"
   ]
  },
  {
   "cell_type": "code",
   "execution_count": null,
   "id": "814061a1",
   "metadata": {
    "tags": []
   },
   "outputs": [],
   "source": [
    "illumina_probes.drop([\"Forward_Sequence\", \"Top_Sequence\"], axis=1).iloc[0].to_frame()"
   ]
  },
  {
   "cell_type": "markdown",
   "id": "7edb03a8",
   "metadata": {},
   "source": [
    "There are nan chromosomes entries, and also some entries for chromosome 0, just 410, so I assume this can just be discarded as controls or something similar"
   ]
  },
  {
   "cell_type": "code",
   "execution_count": null,
   "id": "4728e1dd",
   "metadata": {},
   "outputs": [],
   "source": [
    "illumina_probes.CHR.value_counts()"
   ]
  },
  {
   "cell_type": "markdown",
   "id": "3dc2e2aa",
   "metadata": {},
   "source": [
    "checked manually in my index files: 1-based Start info is in MAPINFO"
   ]
  },
  {
   "cell_type": "markdown",
   "id": "b5f721f2",
   "metadata": {},
   "source": [
    "- for comparability with Maxis probes, also add 'chr' prefix and make Categorical\n",
    "- provide BED interval for cytosine"
   ]
  },
  {
   "cell_type": "code",
   "execution_count": null,
   "id": "c4f51452",
   "metadata": {},
   "outputs": [],
   "source": [
    "illumina_probes_curated_chrom_defined = (\n",
    "    illumina_probes[[\"CHR\", \"MAPINFO\", \"IlmnID\"]]\n",
    "    .rename(columns={\"CHR\": \"Chromosome\", \"MAPINFO\": \"Start\", \"IlmnID\": \"name\"})\n",
    "    .loc[lambda df: df.Chromosome.notnull() & df.Chromosome.ne(\"0\")]\n",
    "    .assign(\n",
    "        Start=lambda df: df[\"Start\"] - 1,\n",
    "        End=lambda df: df[\"Start\"] + 1,\n",
    "        Chromosome=lambda df: (\"chr\" + df[\"Chromosome\"]).astype(chrom_dtype_prefixed),\n",
    "    )\n",
    "    .sort_values([\"Chromosome\", \"Start\", \"End\"])\n",
    "    .reset_index(drop=True)[[\"Chromosome\", \"Start\", \"End\", \"name\"]]\n",
    ")\n",
    "illumina_probes_curated_chrom_defined"
   ]
  },
  {
   "cell_type": "markdown",
   "id": "881b31f8",
   "metadata": {},
   "source": [
    "drop duplicate rows, remove prefix, change to alphabetic sorting order"
   ]
  },
  {
   "cell_type": "code",
   "execution_count": null,
   "id": "7b057926",
   "metadata": {},
   "outputs": [],
   "source": [
    "illumina_probes_curated_chrom_defined.assign(\n",
    "    Chromosome=lambda df: df.Chromosome.astype(str).str.replace(\"chr\", \"\")\n",
    ").iloc[:, 0:3].sort_values([\"Chromosome\", \"Start\", \"End\"]).drop_duplicates().to_csv(\n",
    "    paths.illumina_coordinate_bed, sep=\"\\t\", header=False, index=False\n",
    ")"
   ]
  },
  {
   "cell_type": "code",
   "execution_count": null,
   "id": "d1ac0162",
   "metadata": {},
   "outputs": [],
   "source": [
    "!head {paths.illumina_coordinate_bed}"
   ]
  },
  {
   "cell_type": "markdown",
   "id": "445484dd",
   "metadata": {
    "heading_collapsed": "true",
    "tags": []
   },
   "source": [
    "\n",
    "##### Check against Maxis probes to see whether I have correct manifest file\n"
   ]
  },
  {
   "cell_type": "markdown",
   "id": "32f2b9c5",
   "metadata": {},
   "source": [
    "this is the correct manifest file - maxis coordinates are shifted when on minus strand"
   ]
  },
  {
   "cell_type": "code",
   "execution_count": null,
   "id": "afe28050",
   "metadata": {},
   "outputs": [],
   "source": [
    "pd.merge(\n",
    "    original_probes_df_sorted,\n",
    "    illumina_probes_curated_chrom_defined,\n",
    "    on=[\"Chromosome\", \"Start\", \"End\", \"name\"],\n",
    "    how=\"inner\",\n",
    ")"
   ]
  },
  {
   "cell_type": "code",
   "execution_count": null,
   "id": "d3c2a5ec",
   "metadata": {},
   "outputs": [],
   "source": [
    "df = pd.merge(\n",
    "    original_probes_df_sorted,\n",
    "    illumina_probes_curated_chrom_defined,\n",
    "    on=[\"name\"],\n",
    "    how=\"inner\",\n",
    ")\n",
    "display(df)\n",
    "assert df.shape[0] == original_probes_df_sorted.shape[0]"
   ]
  },
  {
   "cell_type": "markdown",
   "id": "4d450008",
   "metadata": {
    "heading_collapsed": "true",
    "tags": []
   },
   "source": [
    "\n",
    "##### Add motif and strand"
   ]
  },
  {
   "cell_type": "markdown",
   "id": "f752398b",
   "metadata": {
    "tags": []
   },
   "source": [
    "\n",
    "## Annotation"
   ]
  },
  {
   "cell_type": "markdown",
   "id": "92f4ce2a",
   "metadata": {
    "tags": []
   },
   "source": [
    "\n",
    "### Gene annotation"
   ]
  },
  {
   "cell_type": "markdown",
   "id": "9bbcd178",
   "metadata": {
    "heading_collapsed": "true",
    "tags": []
   },
   "source": [
    "\n",
    "#### Perform annotation"
   ]
  },
  {
   "cell_type": "code",
   "execution_count": null,
   "id": "a8532e6a",
   "metadata": {
    "tags": []
   },
   "outputs": [],
   "source": [
    "%%time\n",
    "ga.annotate(\n",
    "    query_bed=paths.illumina_coordinate_bed,\n",
    "    gtf_fp=paths.gencode_coding_canonical_gtf,\n",
    "    trunk_path=paths.custom_intervals_trunk_path,\n",
    "    tmpdir=temp_dir_name,\n",
    "    promoter=(-1500, 500),\n",
    "    distant_cis_regulatory_domain=(-100_000, 100_000),\n",
    ")"
   ]
  },
  {
   "cell_type": "markdown",
   "id": "12f3d225",
   "metadata": {
    "tags": []
   },
   "source": [
    "\n",
    "#### Inspect annotations\n"
   ]
  },
  {
   "cell_type": "code",
   "execution_count": null,
   "id": "121e9d82",
   "metadata": {},
   "outputs": [],
   "source": [
    "primary_annos = pd.read_pickle(paths.custom_intervals_results_paths_d[\"primary_annos_p\"])"
   ]
  },
  {
   "cell_type": "code",
   "execution_count": null,
   "id": "1302a90f",
   "metadata": {},
   "outputs": [],
   "source": [
    "primary_annos.shape"
   ]
  },
  {
   "cell_type": "markdown",
   "id": "007105af",
   "metadata": {
    "tags": []
   },
   "source": [
    "\n",
    "##### General checks\n"
   ]
  },
  {
   "cell_type": "code",
   "execution_count": null,
   "id": "167ff581",
   "metadata": {},
   "outputs": [],
   "source": [
    "primary_annos.query('feat_class == \"Promoter\"').head(3)"
   ]
  },
  {
   "cell_type": "code",
   "execution_count": null,
   "id": "edb9bc26",
   "metadata": {},
   "outputs": [],
   "source": [
    "primary_annos.query('feat_class == \"exon\"').head(3)"
   ]
  },
  {
   "cell_type": "markdown",
   "id": "55a35fc9",
   "metadata": {
    "tags": []
   },
   "source": [
    "\n",
    "##### Multiple assignments per region"
   ]
  },
  {
   "cell_type": "markdown",
   "id": "61ee80b6",
   "metadata": {
    "tags": []
   },
   "source": [
    "\n",
    "###### How is this distributed across feature classes?\n"
   ]
  },
  {
   "cell_type": "code",
   "execution_count": null,
   "id": "57b08870",
   "metadata": {},
   "outputs": [],
   "source": [
    "multi_annos_crosstab = (\n",
    "    primary_annos.groupby([\"feat_class\", \"gtfanno_uid\"], observed=True)\n",
    "    .size()\n",
    "    .groupby(\"feat_class\")\n",
    "    .value_counts()\n",
    "    .unstack()\n",
    ")\n",
    "multi_annos_crosstab"
   ]
  },
  {
   "cell_type": "raw",
   "id": "6938fafd",
   "metadata": {},
   "source": [
    "multi_annos_crosstab.to_clipboard()"
   ]
  },
  {
   "cell_type": "markdown",
   "id": "da161ee6",
   "metadata": {
    "tags": []
   },
   "source": [
    "\n",
    "###### Example for Promoter multiple annotations - random samples indicate that these are indeed ambiguous sites\n"
   ]
  },
  {
   "cell_type": "code",
   "execution_count": null,
   "id": "3ce98402",
   "metadata": {},
   "outputs": [],
   "source": [
    "primary_annos[\"is_duplicated\"] = primary_annos.duplicated(\n",
    "    subset=[\"Chromosome\", \"Start\", \"End\"], keep=False\n",
    ")"
   ]
  },
  {
   "cell_type": "code",
   "execution_count": null,
   "id": "7cbee64e",
   "metadata": {},
   "outputs": [],
   "source": [
    "df = primary_annos.query('feat_class == \"Promoter\" & is_duplicated')[\n",
    "    [\"Chromosome\", \"Start\", \"End\", \"gtfanno_uid\", \"gene_name\"]\n",
    "]\n",
    "display(df.head(20))\n",
    "display(df.tail(20))"
   ]
  },
  {
   "cell_type": "markdown",
   "id": "54c69983",
   "metadata": {},
   "source": [
    "Nsdhl\n",
    "http://www.ensembl.org/Mus_musculus/Gene/Summary?db=core;g=ENSMUSG00000031349;r=X:71962163-72002120\n",
    "\n",
    "Rpl7\n",
    "http://www.ensembl.org/Mus_musculus/Gene/Summary?db=core;g=ENSMUSG00000043716;r=1:16171519-16174886"
   ]
  },
  {
   "cell_type": "markdown",
   "id": "9c67c216",
   "metadata": {
    "heading_collapsed": "true",
    "tags": []
   },
   "source": [
    "\n",
    "#### merge annotations\n"
   ]
  },
  {
   "cell_type": "markdown",
   "id": "3d730cd6",
   "metadata": {},
   "source": [
    "Merging strategy: keep all\n",
    "- for Promoters, the window is relatively small. Ranking on TSS distance in such a small window seems arbitrary.\n",
    "- for enhancer candidates, a typical strategy would be to identify all TSS in +-100 kb window and try to find the target through correlation with gene expression, eg PMID: 30686579. So it also makes sense to indicate all genes in the window to give an impression of the number of possible target genes."
   ]
  },
  {
   "cell_type": "code",
   "execution_count": null,
   "id": "d0035d53",
   "metadata": {},
   "outputs": [],
   "source": [
    "%%time\n",
    "merged_annos = lib.merge_annos(primary_annos=primary_annos)"
   ]
  },
  {
   "cell_type": "code",
   "execution_count": null,
   "id": "c080f3aa",
   "metadata": {},
   "outputs": [],
   "source": [
    "merged_annos"
   ]
  },
  {
   "cell_type": "code",
   "execution_count": null,
   "id": "4ddc4dfc",
   "metadata": {},
   "outputs": [],
   "source": [
    "merged_annos_new_chrom_dtype = merged_annos.copy()\n",
    "merged_annos_new_chrom_dtype[\"Chromosome\"] = (\n",
    "    \"chr\" + merged_annos[\"Chromosome\"].astype(str)\n",
    ").astype(chrom_dtype_prefixed)\n",
    "merged_annos_new_chrom_dtype = (\n",
    "    merged_annos_new_chrom_dtype.sort_values([\"Chromosome\", \"Start\", \"End\"])\n",
    "    .drop(\"gtfanno_uid\", axis=1)\n",
    "    .reset_index(drop=True)\n",
    ")"
   ]
  },
  {
   "cell_type": "code",
   "execution_count": null,
   "id": "df834808",
   "metadata": {},
   "outputs": [],
   "source": [
    "merged_annos_final = pd.merge(\n",
    "    merged_annos_new_chrom_dtype,\n",
    "    illumina_probes_curated_chrom_defined,\n",
    "    on=[\"Chromosome\", \"Start\", \"End\"],\n",
    "    how=\"left\",\n",
    ")"
   ]
  },
  {
   "cell_type": "code",
   "execution_count": null,
   "id": "7402f5ee",
   "metadata": {},
   "outputs": [],
   "source": [
    "merged_annos_final.head(3)"
   ]
  },
  {
   "cell_type": "code",
   "execution_count": null,
   "id": "6fda139a",
   "metadata": {},
   "outputs": [],
   "source": [
    "merged_annos_final.shape"
   ]
  },
  {
   "cell_type": "code",
   "execution_count": null,
   "id": "bde2cbf8",
   "metadata": {},
   "outputs": [],
   "source": [
    "illumina_probes_curated_chrom_defined"
   ]
  },
  {
   "cell_type": "code",
   "execution_count": null,
   "id": "839f4f34",
   "metadata": {},
   "outputs": [],
   "source": [
    "assert merged_annos_final[\"name\"].notnull().all()"
   ]
  },
  {
   "cell_type": "code",
   "execution_count": null,
   "id": "d4b08669",
   "metadata": {},
   "outputs": [],
   "source": [
    "pd.testing.assert_frame_equal(\n",
    "    merged_annos_final[[\"Chromosome\", \"Start\", \"End\"]],\n",
    "    illumina_probes_curated_chrom_defined[[\"Chromosome\", \"Start\", \"End\"]].astype(\n",
    "        {\"Start\": \"i8\", \"End\": \"i8\"}\n",
    "    ),\n",
    ")"
   ]
  },
  {
   "cell_type": "code",
   "execution_count": null,
   "id": "c2fcfc54",
   "metadata": {},
   "outputs": [],
   "source": [
    "merged_annos_final.iloc[0]"
   ]
  },
  {
   "cell_type": "markdown",
   "id": "ff086f15",
   "metadata": {
    "heading_collapsed": "true",
    "tags": []
   },
   "source": [
    "\n",
    "#### Finalize annotation tables\n"
   ]
  },
  {
   "cell_type": "code",
   "execution_count": null,
   "id": "03bc1af2",
   "metadata": {},
   "outputs": [],
   "source": [
    "merged_annos_final.rename(columns={\"Chromosome\": \"#Chromosome\"}).to_csv(\n",
    "    paths.gene_annos_primary_one_row, sep=\"\\t\", header=True, index=False\n",
    ")"
   ]
  },
  {
   "cell_type": "code",
   "execution_count": null,
   "id": "aea98f90",
   "metadata": {},
   "outputs": [],
   "source": [
    "primary_annos_final = (\n",
    "    primary_annos.drop(\"gtfanno_uid\", axis=1)\n",
    "    .assign(\n",
    "        Chromosome=lambda df: (\"chr\" + df[\"Chromosome\"].astype(str)).astype(\n",
    "            chrom_dtype_prefixed\n",
    "        )\n",
    "    )\n",
    "    .sort_values([\"Chromosome\", \"Start\", \"End\"])\n",
    "    .reset_index(drop=True)\n",
    ")"
   ]
  },
  {
   "cell_type": "code",
   "execution_count": null,
   "id": "625b243d",
   "metadata": {},
   "outputs": [],
   "source": [
    "primary_annos_final.rename(columns={\"Chromosome\": \"#Chromosome\"}).to_csv(\n",
    "    paths.gene_annos_primary_multi_row, sep=\"\\t\", header=True, index=False\n",
    ")"
   ]
  },
  {
   "cell_type": "code",
   "execution_count": null,
   "id": "aad7e50b",
   "metadata": {},
   "outputs": [],
   "source": [
    "!head {paths.gene_annos_primary_multi_row}"
   ]
  },
  {
   "cell_type": "markdown",
   "id": "2059f9f7",
   "metadata": {
    "heading_collapsed": "true",
    "tags": []
   },
   "source": [
    "\n",
    "### CpG island annotations\n"
   ]
  },
  {
   "cell_type": "code",
   "execution_count": null,
   "id": "79a00a2a",
   "metadata": {},
   "outputs": [],
   "source": [
    "cpg_island_classif_df = lib.classify_cpg_island_overlap(\n",
    "    granges_df=original_probes_df_sorted,\n",
    "    cpg_islands_pickle_d=cpg_islands_pickle_d,\n",
    ")\n",
    "cpg_island_classif_df.head(3)"
   ]
  },
  {
   "cell_type": "markdown",
   "id": "413b25a3",
   "metadata": {},
   "source": [
    "### Merge all annotations"
   ]
  },
  {
   "cell_type": "code",
   "execution_count": null,
   "id": "c36c64d2",
   "metadata": {},
   "outputs": [],
   "source": [
    "cpg_island_classif_df\n",
    "merged_annos_final"
   ]
  },
  {
   "cell_type": "markdown",
   "id": "21c55836",
   "metadata": {},
   "source": [
    "# End"
   ]
  },
  {
   "cell_type": "code",
   "execution_count": null,
   "id": "1cbc7aa5",
   "metadata": {},
   "outputs": [],
   "source": []
  }
 ],
 "metadata": {
  "jupytext": {
   "formats": "py:percent,ipynb,md:myst"
  },
  "kernelspec": {
   "display_name": "Python [conda env:mouse_hema_meth_dev3] *",
   "language": "python",
   "name": "conda-env-mouse_hema_meth_dev3-xpython"
  }
 },
 "nbformat": 4,
 "nbformat_minor": 5
}
