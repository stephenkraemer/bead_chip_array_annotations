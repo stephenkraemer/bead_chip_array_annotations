{
 "cells": [
  {
   "cell_type": "markdown",
   "id": "supposed-restriction",
   "metadata": {
    "heading_collapsed": "true",
    "tags": []
   },
   "source": [
    "# TODO"
   ]
  },
  {
   "cell_type": "markdown",
   "id": "primary-harassment",
   "metadata": {},
   "source": [
    "- check sorting order of chromosomes throughout analysis\n",
    "- there is a bug in gtfanno which makes it fail to read the appris principal score, does this influence the results?\n",
    "- there is a \"transcript = 0\" count in the gtfanno basic stat output. is this indicative of a problem?\n",
    "- double check the changes made to allow DCRD intervals enveloping the promoter interval\n",
    "- check annos in IGV\n",
    "- are feature coordinates really 0-based, right open?"
   ]
  },
  {
   "cell_type": "markdown",
   "id": "arbitrary-machine",
   "metadata": {},
   "source": [
    "annos to add\n",
    "- motif: CG, CHH, CHG\n",
    "- strand, illumina strands are not cytosine strands\n",
    "- hematopoietic regions\n",
    "    - cis reg atlas\n",
    "    - vision\n",
    "    - amit enhancers\n",
    "- general regulatory regions\n",
    "    - ensembl reg regions\n",
    "    - chrom hmm - ask maxi again what he had in mind here - forgot which resource he mentioned\n",
    "- tfbs"
   ]
  },
  {
   "cell_type": "markdown",
   "id": "viral-integrity",
   "metadata": {
    "tags": []
   },
   "source": [
    "# Setup"
   ]
  },
  {
   "cell_type": "markdown",
   "id": "terminal-warehouse",
   "metadata": {
    "heading_collapsed": "true",
    "tags": []
   },
   "source": [
    "## Resource parameters"
   ]
  },
  {
   "cell_type": "code",
   "execution_count": 22,
   "id": "bibliographic-friend",
   "metadata": {},
   "outputs": [],
   "source": [
    "n_cores = 12"
   ]
  },
  {
   "cell_type": "markdown",
   "id": "ceramic-polymer",
   "metadata": {
    "heading_collapsed": "true",
    "tags": []
   },
   "source": [
    "## Imports"
   ]
  },
  {
   "cell_type": "code",
   "execution_count": 23,
   "id": "sustained-reply",
   "metadata": {
    "tags": []
   },
   "outputs": [],
   "source": [
    "# isort: off\n",
    "import os\n",
    "\n",
    "num_threads = str(n_cores)\n",
    "\n",
    "# these need to be set prior to numpy import\n",
    "os.environ[\"OMP_NUM_THREADS\"] = num_threads\n",
    "os.environ[\"OPENBLAS_NUM_THREADS\"] = num_threads\n",
    "os.environ[\"MKL_NUM_THREADS\"] = num_threads\n",
    "os.environ[\"VECLIB_MAXIMUM_THREADS\"] = num_threads\n",
    "os.environ[\"NUMEXPR_NUM_THREADS\"] = num_threads\n",
    "\n",
    "import numpy as np\n",
    "\n",
    "# isort: on\n",
    "\n",
    "import subprocess\n",
    "import tempfile\n",
    "\n",
    "import gtfanno as ga\n",
    "import matplotlib.pyplot as plt\n",
    "import pandas as pd\n",
    "import pyranges as pr\n",
    "from IPython.display import display\n",
    "\n",
    "import mouse_hema_meth.utils as ut"
   ]
  },
  {
   "cell_type": "code",
   "execution_count": 24,
   "id": "likely-somerset",
   "metadata": {},
   "outputs": [],
   "source": [
    "%matplotlib inline"
   ]
  },
  {
   "cell_type": "code",
   "execution_count": 25,
   "id": "seventh-browse",
   "metadata": {},
   "outputs": [],
   "source": [
    "import mouse_hema_meth.methylome.annotation.epic_array_probe_annotation_lib as lib"
   ]
  },
  {
   "cell_type": "markdown",
   "id": "closing-marathon",
   "metadata": {
    "heading_collapsed": "true",
    "tags": []
   },
   "source": [
    "## Rerun flags"
   ]
  },
  {
   "cell_type": "code",
   "execution_count": 26,
   "id": "cross-chorus",
   "metadata": {},
   "outputs": [],
   "source": [
    "recompute = True"
   ]
  },
  {
   "cell_type": "markdown",
   "id": "individual-corpus",
   "metadata": {
    "heading_collapsed": "true",
    "tags": []
   },
   "source": [
    "## Dtypes"
   ]
  },
  {
   "cell_type": "code",
   "execution_count": 63,
   "id": "crude-tuner",
   "metadata": {},
   "outputs": [],
   "source": [
    "chrom_dtype_prefixed = pd.api.types.CategoricalDtype(\n",
    "    categories=[\n",
    "        \"chr1\",\n",
    "        \"chr2\",\n",
    "        \"chr3\",\n",
    "        \"chr4\",\n",
    "        \"chr5\",\n",
    "        \"chr6\",\n",
    "        \"chr7\",\n",
    "        \"chr8\",\n",
    "        \"chr9\",\n",
    "        \"chr10\",\n",
    "        \"chr11\",\n",
    "        \"chr12\",\n",
    "        \"chr13\",\n",
    "        \"chr14\",\n",
    "        \"chr15\",\n",
    "        \"chr16\",\n",
    "        \"chr17\",\n",
    "        \"chr18\",\n",
    "        \"chr19\",\n",
    "        \"chrX\",\n",
    "        \"chrY\",\n",
    "        \"chrMT\",\n",
    "    ],\n",
    "    ordered=True,\n",
    ")"
   ]
  },
  {
   "cell_type": "markdown",
   "id": "instant-liechtenstein",
   "metadata": {
    "tags": []
   },
   "source": [
    "# Paths"
   ]
  },
  {
   "cell_type": "markdown",
   "id": "centered-basket",
   "metadata": {
    "heading_collapsed": "true",
    "tags": []
   },
   "source": [
    "## Project paths"
   ]
  },
  {
   "cell_type": "code",
   "execution_count": 28,
   "id": "occupational-little",
   "metadata": {},
   "outputs": [],
   "source": [
    "project_dir = (\n",
    "    \"/icgc/dkfzlsdf/analysis/B080/kraemers/projects/epic-arrays-for-hematopoiesis\"\n",
    ")"
   ]
  },
  {
   "cell_type": "code",
   "execution_count": 29,
   "id": "efficient-procurement",
   "metadata": {},
   "outputs": [
    {
     "data": {
      "text/plain": [
       "'/icgc/dkfzlsdf/analysis/B080/kraemers/projects/epic-arrays-for-hematopoiesis/tmpija_b2vj'"
      ]
     },
     "execution_count": 29,
     "metadata": {},
     "output_type": "execute_result"
    }
   ],
   "source": [
    "temp_dir_obj = tempfile.TemporaryDirectory(dir=project_dir)\n",
    "temp_dir_name = temp_dir_obj.name\n",
    "temp_dir_name"
   ]
  },
  {
   "cell_type": "markdown",
   "id": "equipped-parent",
   "metadata": {
    "heading_collapsed": "true",
    "tags": []
   },
   "source": [
    "## Gencode"
   ]
  },
  {
   "cell_type": "code",
   "execution_count": 131,
   "id": "disturbed-farming",
   "metadata": {},
   "outputs": [],
   "source": [
    "gencode_download_url = \"ftp://ftp.ebi.ac.uk/pub/databases/gencode/Gencode_mouse/release_M25/gencode.vM25.annotation.gtf.gz\""
   ]
  },
  {
   "cell_type": "markdown",
   "id": "alpha-nebraska",
   "metadata": {},
   "source": [
    "unmodified gencode gtf (note: with chr prefix)"
   ]
  },
  {
   "cell_type": "code",
   "execution_count": 132,
   "id": "loved-flash",
   "metadata": {},
   "outputs": [
    {
     "data": {
      "text/plain": [
       "'/icgc/dkfzlsdf/analysis/B080/kraemers/projects/epic-arrays-for-hematopoiesis/gencode.vM25.annotation.gtf.gz'"
      ]
     },
     "execution_count": 132,
     "metadata": {},
     "output_type": "execute_result"
    }
   ],
   "source": [
    "gencode_gtf = project_dir + \"/gencode.vM25.annotation.gtf.gz\"\n",
    "gencode_gtf"
   ]
  },
  {
   "cell_type": "markdown",
   "id": "typical-joyce",
   "metadata": {},
   "source": [
    "gencode filtered for principal transcripts of protein coding genes, note that that chromosome prefix ('chr') is removed in this file"
   ]
  },
  {
   "cell_type": "code",
   "execution_count": 133,
   "id": "greenhouse-chambers",
   "metadata": {},
   "outputs": [
    {
     "data": {
      "text/plain": [
       "'/icgc/dkfzlsdf/analysis/B080/kraemers/projects/epic-arrays-for-hematopoiesis/gencode.vM25.annotation_coding_canonical.gtf.gz'"
      ]
     },
     "execution_count": 133,
     "metadata": {},
     "output_type": "execute_result"
    }
   ],
   "source": [
    "gencode_coding_canonical_gtf = (\n",
    "    project_dir + \"/gencode.vM25.annotation_coding_canonical.gtf.gz\"\n",
    ")\n",
    "gencode_coding_canonical_gtf"
   ]
  },
  {
   "cell_type": "markdown",
   "id": "successful-coupon",
   "metadata": {
    "heading_collapsed": "true",
    "tags": []
   },
   "source": [
    "## Probes"
   ]
  },
  {
   "cell_type": "markdown",
   "id": "surface-princess",
   "metadata": {},
   "source": [
    "path to original probe file"
   ]
  },
  {
   "cell_type": "code",
   "execution_count": 33,
   "id": "miniature-extent",
   "metadata": {},
   "outputs": [],
   "source": [
    "original_probes_bed = project_dir + \"/2021-03-22_mmbc_probes.bed\""
   ]
  },
  {
   "cell_type": "code",
   "execution_count": 34,
   "id": "opened-worthy",
   "metadata": {},
   "outputs": [
    {
     "name": "stdout",
     "output_type": "stream",
     "text": [
      "chr1\t3102470\t3102471\tcg36603287_TC21\n",
      "chr1\t3199334\t3199335\tcg36603791_TC21\n",
      "chr1\t3216335\t3216336\tcg36603848_TC21\n",
      "chr1\t3253527\t3253528\tcg36604001_TC21\n",
      "chr1\t3353526\t3353527\tcg36604489_TC21\n",
      "chr1\t3367941\t3367942\tcg36604536_TC21\n",
      "chr1\t3469621\t3469622\tcg36604958_TC21\n",
      "chr1\t3482624\t3482625\tcg36605010_TC21\n",
      "chr1\t3531911\t3531912\tcg36605223_TC21\n",
      "chr1\t3650975\t3650976\tcg36605802_TC21\n"
     ]
    }
   ],
   "source": [
    "!head {original_probes_bed}"
   ]
  },
  {
   "cell_type": "markdown",
   "id": "duplicate-paintball",
   "metadata": {},
   "source": [
    "path to reformatted probe file"
   ]
  },
  {
   "cell_type": "code",
   "execution_count": 35,
   "id": "established-bowling",
   "metadata": {},
   "outputs": [],
   "source": [
    "reformatted_probes_bed = project_dir + \"/2021-03-22_mmbc_probes_reformatted.bed\""
   ]
  },
  {
   "cell_type": "markdown",
   "id": "literary-discount",
   "metadata": {},
   "source": [
    "full Illumina probe file"
   ]
  },
  {
   "cell_type": "code",
   "execution_count": 36,
   "id": "beautiful-marketing",
   "metadata": {},
   "outputs": [
    {
     "data": {
      "text/plain": [
       "'/icgc/dkfzlsdf/analysis/B080/kraemers/projects/epic-arrays-for-hematopoiesis/Infinium_20Mouse_20Methylation_20v1.0_20A1_20GS_20Manifest_20File.csv'"
      ]
     },
     "execution_count": 36,
     "metadata": {},
     "output_type": "execute_result"
    }
   ],
   "source": [
    "illumina_probes_url = \"https://support.illumina.com/content/dam/illumina-support/documents/downloads/productfiles/mouse-methylation/Infinium%20Mouse%20Methylation%20v1.0%20A1%20GS%20Manifest%20File.csv\"\n",
    "illumina_probes_csv = (\n",
    "    project_dir\n",
    "    + \"/Infinium_20Mouse_20Methylation_20v1.0_20A1_20GS_20Manifest_20File.csv\"\n",
    ")\n",
    "illumina_probes_csv"
   ]
  },
  {
   "cell_type": "markdown",
   "id": "confused-haiti",
   "metadata": {},
   "source": [
    "full Illumina probe file BED coordinates"
   ]
  },
  {
   "cell_type": "code",
   "execution_count": 78,
   "id": "industrial-header",
   "metadata": {},
   "outputs": [
    {
     "data": {
      "text/plain": [
       "'/icgc/dkfzlsdf/analysis/B080/kraemers/projects/epic-arrays-for-hematopoiesis/illumina-all-probes.bed'"
      ]
     },
     "execution_count": 78,
     "metadata": {},
     "output_type": "execute_result"
    }
   ],
   "source": [
    "illumina_coordinate_bed = project_dir + \"/illumina-all-probes.bed\"\n",
    "illumina_coordinate_bed"
   ]
  },
  {
   "cell_type": "markdown",
   "id": "municipal-governor",
   "metadata": {
    "tags": []
   },
   "source": [
    "## Gene annotation results"
   ]
  },
  {
   "cell_type": "markdown",
   "id": "amber-bundle",
   "metadata": {
    "heading_collapsed": "true",
    "tags": []
   },
   "source": [
    "### gtfanno results"
   ]
  },
  {
   "cell_type": "code",
   "execution_count": 37,
   "id": "accredited-indicator",
   "metadata": {},
   "outputs": [],
   "source": [
    "custom_intervals_results_dir = project_dir + \"/custom-intervals_1500-500\"\n",
    "os.makedirs(custom_intervals_results_dir, exist_ok=True)"
   ]
  },
  {
   "cell_type": "code",
   "execution_count": 38,
   "id": "municipal-fisher",
   "metadata": {},
   "outputs": [
    {
     "data": {
      "text/plain": [
       "'/icgc/dkfzlsdf/analysis/B080/kraemers/projects/epic-arrays-for-hematopoiesis/custom-intervals_1500-500/custom-intervals_1500-500'"
      ]
     },
     "execution_count": 38,
     "metadata": {},
     "output_type": "execute_result"
    }
   ],
   "source": [
    "custom_intervals_trunk_path = (\n",
    "    custom_intervals_results_dir + \"/custom-intervals_1500-500\"\n",
    ")\n",
    "custom_intervals_trunk_path"
   ]
  },
  {
   "cell_type": "code",
   "execution_count": 39,
   "id": "intimate-might",
   "metadata": {},
   "outputs": [
    {
     "data": {
      "text/plain": [
       "{'primary_annos_bed': '/icgc/dkfzlsdf/analysis/B080/kraemers/projects/epic-arrays-for-hematopoiesis/custom-intervals_1500-500/custom-intervals_1500-500_primary-annotations.bed',\n",
       " 'primary_annos_p': '/icgc/dkfzlsdf/analysis/B080/kraemers/projects/epic-arrays-for-hematopoiesis/custom-intervals_1500-500/custom-intervals_1500-500_primary-annotations.p',\n",
       " 'all_annos_bed': '/icgc/dkfzlsdf/analysis/B080/kraemers/projects/epic-arrays-for-hematopoiesis/custom-intervals_1500-500/custom-intervals_1500-500_all-annotations.bed',\n",
       " 'all_annos_p': '/icgc/dkfzlsdf/analysis/B080/kraemers/projects/epic-arrays-for-hematopoiesis/custom-intervals_1500-500/custom-intervals_1500-500_all-annotations.p'}"
      ]
     },
     "execution_count": 39,
     "metadata": {},
     "output_type": "execute_result"
    }
   ],
   "source": [
    "custom_intervals_results_paths_d = dict(\n",
    "    primary_annos_bed=custom_intervals_trunk_path + \"_primary-annotations.bed\",\n",
    "    primary_annos_p=custom_intervals_trunk_path + \"_primary-annotations.p\",\n",
    "    all_annos_bed=custom_intervals_trunk_path + \"_all-annotations.bed\",\n",
    "    all_annos_p=custom_intervals_trunk_path + \"_all-annotations.p\",\n",
    ")\n",
    "custom_intervals_results_paths_d"
   ]
  },
  {
   "cell_type": "markdown",
   "id": "brave-incident",
   "metadata": {
    "heading_collapsed": "true",
    "tags": []
   },
   "source": [
    "### Final tables"
   ]
  },
  {
   "cell_type": "code",
   "execution_count": 185,
   "id": "large-excerpt",
   "metadata": {},
   "outputs": [
    {
     "name": "stdout",
     "output_type": "stream",
     "text": [
      "/icgc/dkfzlsdf/analysis/B080/kraemers/projects/epic-arrays-for-hematopoiesis/gene-annos_primary_one-row.bed\n",
      "/icgc/dkfzlsdf/analysis/B080/kraemers/projects/epic-arrays-for-hematopoiesis/gene-annos_primary_multi-row.bed\n"
     ]
    }
   ],
   "source": [
    "gene_annos_primary_one_row = project_dir + \"/gene-annos_primary_one-row.bed\"\n",
    "print(gene_annos_primary_one_row)\n",
    "gene_annos_primary_multi_row = project_dir + \"/gene-annos_primary_multi-row.bed\"\n",
    "print(gene_annos_primary_multi_row)"
   ]
  },
  {
   "cell_type": "markdown",
   "id": "green-cyprus",
   "metadata": {
    "tags": []
   },
   "source": [
    "# Analysis"
   ]
  },
  {
   "cell_type": "markdown",
   "id": "challenging-laundry",
   "metadata": {
    "heading_collapsed": "true",
    "tags": []
   },
   "source": [
    "## Prepare input data"
   ]
  },
  {
   "cell_type": "markdown",
   "id": "known-rough",
   "metadata": {
    "heading_collapsed": "true",
    "tags": []
   },
   "source": [
    "### CpG island annos"
   ]
  },
  {
   "cell_type": "code",
   "execution_count": 40,
   "id": "reported-reggae",
   "metadata": {},
   "outputs": [],
   "source": [
    "import mouse_hema_meth.genome_annotations.get_genome_annos_paths as get_genome_annos_paths\n",
    "\n",
    "cpg_islands_pickle_d = get_genome_annos_paths.cpg_islands_shores_shelves_pickle_paths_d"
   ]
  },
  {
   "cell_type": "markdown",
   "id": "super-minneapolis",
   "metadata": {
    "heading_collapsed": "true",
    "tags": []
   },
   "source": [
    "### Prepare gene annotation"
   ]
  },
  {
   "cell_type": "markdown",
   "id": "patient-superior",
   "metadata": {
    "heading_collapsed": "true",
    "tags": []
   },
   "source": [
    "#### download gencode"
   ]
  },
  {
   "cell_type": "code",
   "execution_count": 135,
   "id": "mineral-amateur",
   "metadata": {
    "tags": []
   },
   "outputs": [],
   "source": [
    "if recompute:\n",
    "    subprocess.run(\n",
    "        [\"wget\", \"-O\", gencode_gtf, gencode_download_url],\n",
    "        check=True,\n",
    "    )"
   ]
  },
  {
   "cell_type": "code",
   "execution_count": 137,
   "id": "documentary-mainland",
   "metadata": {
    "tags": []
   },
   "outputs": [
    {
     "name": "stdout",
     "output_type": "stream",
     "text": [
      "##description: evidence-based annotation of the mouse genome (GRCm38), version M25 (Ensembl 100)\n",
      "##provider: GENCODE\n",
      "##contact: gencode-help@ebi.ac.uk\n",
      "##format: gtf\n",
      "##date: 2020-03-24\n",
      "chr1\tHAVANA\tgene\t3073253\t3074322\t.\t+\t.\tgene_id \"ENSMUSG00000102693.1\"; gene_type \"TEC\"; gene_name \"4933401J01Rik\"; level 2; mgi_id \"MGI:1918292\"; havana_gene \"OTTMUSG00000049935.1\";\n",
      "\n",
      "gzip: stdout: Broken pipe\n"
     ]
    }
   ],
   "source": [
    "!zcat {gencode_gtf} | head -n 6"
   ]
  },
  {
   "cell_type": "markdown",
   "id": "liable-destruction",
   "metadata": {
    "heading_collapsed": "true",
    "tags": []
   },
   "source": [
    "#### Filter and reformat gencode GTF"
   ]
  },
  {
   "cell_type": "markdown",
   "id": "magnetic-admission",
   "metadata": {},
   "source": [
    "- restrict to canonical transcripts\n",
    "- restrict to coding transcripts\n",
    "- remove chr prefix\n",
    "- change M to MT"
   ]
  },
  {
   "cell_type": "code",
   "execution_count": 138,
   "id": "closing-release",
   "metadata": {},
   "outputs": [],
   "source": [
    "gencode_df = pr.read_gtf(gencode_gtf, as_df=True, duplicate_attr=True)"
   ]
  },
  {
   "cell_type": "code",
   "execution_count": 139,
   "id": "willing-microphone",
   "metadata": {},
   "outputs": [],
   "source": [
    "# extract appris principal score from tags\n",
    "appris_principal_score = (\n",
    "    gencode_df[\"tag\"].str.extract(r\"appris_principal_(\\d)\", expand=False).astype(float)\n",
    ")"
   ]
  },
  {
   "cell_type": "code",
   "execution_count": 140,
   "id": "successful-service",
   "metadata": {},
   "outputs": [
    {
     "data": {
      "text/plain": [
       "1.00    484929\n",
       "2.00     88170\n",
       "3.00     69849\n",
       "4.00     15559\n",
       "5.00      8279\n",
       "Name: tag, dtype: int64"
      ]
     },
     "execution_count": 140,
     "metadata": {},
     "output_type": "execute_result"
    }
   ],
   "source": [
    "appris_principal_score.value_counts()"
   ]
  },
  {
   "cell_type": "code",
   "execution_count": 141,
   "id": "outside-registrar",
   "metadata": {},
   "outputs": [
    {
     "data": {
      "text/plain": [
       "1205266"
      ]
     },
     "execution_count": 141,
     "metadata": {},
     "output_type": "execute_result"
    }
   ],
   "source": [
    "appris_principal_score.isnull().sum()"
   ]
  },
  {
   "cell_type": "code",
   "execution_count": 142,
   "id": "sealed-secretary",
   "metadata": {},
   "outputs": [
    {
     "data": {
      "text/plain": [
       "666786"
      ]
     },
     "execution_count": 142,
     "metadata": {},
     "output_type": "execute_result"
    }
   ],
   "source": [
    "appris_principal_score.notnull().sum()"
   ]
  },
  {
   "cell_type": "code",
   "execution_count": 143,
   "id": "fourth-bible",
   "metadata": {},
   "outputs": [],
   "source": [
    "is_principal_transcript = appris_principal_score.notnull()"
   ]
  },
  {
   "cell_type": "code",
   "execution_count": 144,
   "id": "noble-expert",
   "metadata": {},
   "outputs": [],
   "source": [
    "is_protein_coding = gencode_df[\"gene_type\"].eq(\"protein_coding\")"
   ]
  },
  {
   "cell_type": "code",
   "execution_count": 145,
   "id": "egyptian-cleaning",
   "metadata": {},
   "outputs": [],
   "source": [
    "gencode_df_coding_canonical = gencode_df.loc[\n",
    "    is_principal_transcript & is_protein_coding\n",
    "].copy()"
   ]
  },
  {
   "cell_type": "code",
   "execution_count": 146,
   "id": "transsexual-zimbabwe",
   "metadata": {},
   "outputs": [
    {
     "data": {
      "text/html": [
       "<div>\n",
       "<style scoped>\n",
       "    .dataframe tbody tr th:only-of-type {\n",
       "        vertical-align: middle;\n",
       "    }\n",
       "\n",
       "    .dataframe tbody tr th {\n",
       "        vertical-align: top;\n",
       "    }\n",
       "\n",
       "    .dataframe thead th {\n",
       "        text-align: right;\n",
       "    }\n",
       "</style>\n",
       "<table border=\"1\" class=\"dataframe\">\n",
       "  <thead>\n",
       "    <tr style=\"text-align: right;\">\n",
       "      <th></th>\n",
       "      <th>Chromosome</th>\n",
       "      <th>Source</th>\n",
       "      <th>Feature</th>\n",
       "      <th>Start</th>\n",
       "      <th>End</th>\n",
       "      <th>Score</th>\n",
       "      <th>Strand</th>\n",
       "      <th>Frame</th>\n",
       "      <th>gene_id</th>\n",
       "      <th>gene_type</th>\n",
       "      <th>...</th>\n",
       "      <th>transcript_type</th>\n",
       "      <th>transcript_name</th>\n",
       "      <th>transcript_support_level</th>\n",
       "      <th>tag</th>\n",
       "      <th>havana_transcript</th>\n",
       "      <th>exon_number</th>\n",
       "      <th>exon_id</th>\n",
       "      <th>protein_id</th>\n",
       "      <th>ccdsid</th>\n",
       "      <th>ont</th>\n",
       "    </tr>\n",
       "  </thead>\n",
       "  <tbody>\n",
       "    <tr>\n",
       "      <th>13</th>\n",
       "      <td>chr1</td>\n",
       "      <td>HAVANA</td>\n",
       "      <td>transcript</td>\n",
       "      <td>3214481</td>\n",
       "      <td>3671498</td>\n",
       "      <td>.</td>\n",
       "      <td>-</td>\n",
       "      <td>.</td>\n",
       "      <td>ENSMUSG00000051951.5</td>\n",
       "      <td>protein_coding</td>\n",
       "      <td>...</td>\n",
       "      <td>protein_coding</td>\n",
       "      <td>Xkr4-201</td>\n",
       "      <td>1</td>\n",
       "      <td>basic,appris_principal_1,CCDS</td>\n",
       "      <td>OTTMUST00000065166.1</td>\n",
       "      <td>NaN</td>\n",
       "      <td>NaN</td>\n",
       "      <td>ENSMUSP00000070648.4</td>\n",
       "      <td>CCDS14803.1</td>\n",
       "      <td>NaN</td>\n",
       "    </tr>\n",
       "    <tr>\n",
       "      <th>14</th>\n",
       "      <td>chr1</td>\n",
       "      <td>HAVANA</td>\n",
       "      <td>exon</td>\n",
       "      <td>3670551</td>\n",
       "      <td>3671498</td>\n",
       "      <td>.</td>\n",
       "      <td>-</td>\n",
       "      <td>.</td>\n",
       "      <td>ENSMUSG00000051951.5</td>\n",
       "      <td>protein_coding</td>\n",
       "      <td>...</td>\n",
       "      <td>protein_coding</td>\n",
       "      <td>Xkr4-201</td>\n",
       "      <td>1</td>\n",
       "      <td>basic,appris_principal_1,CCDS</td>\n",
       "      <td>OTTMUST00000065166.1</td>\n",
       "      <td>1</td>\n",
       "      <td>ENSMUSE00000485541.3</td>\n",
       "      <td>ENSMUSP00000070648.4</td>\n",
       "      <td>CCDS14803.1</td>\n",
       "      <td>NaN</td>\n",
       "    </tr>\n",
       "    <tr>\n",
       "      <th>15</th>\n",
       "      <td>chr1</td>\n",
       "      <td>HAVANA</td>\n",
       "      <td>CDS</td>\n",
       "      <td>3670551</td>\n",
       "      <td>3671348</td>\n",
       "      <td>.</td>\n",
       "      <td>-</td>\n",
       "      <td>0</td>\n",
       "      <td>ENSMUSG00000051951.5</td>\n",
       "      <td>protein_coding</td>\n",
       "      <td>...</td>\n",
       "      <td>protein_coding</td>\n",
       "      <td>Xkr4-201</td>\n",
       "      <td>1</td>\n",
       "      <td>basic,appris_principal_1,CCDS</td>\n",
       "      <td>OTTMUST00000065166.1</td>\n",
       "      <td>1</td>\n",
       "      <td>ENSMUSE00000485541.3</td>\n",
       "      <td>ENSMUSP00000070648.4</td>\n",
       "      <td>CCDS14803.1</td>\n",
       "      <td>NaN</td>\n",
       "    </tr>\n",
       "  </tbody>\n",
       "</table>\n",
       "<p>3 rows × 25 columns</p>\n",
       "</div>"
      ],
      "text/plain": [
       "   Chromosome  Source     Feature    Start      End Score Strand Frame  \\\n",
       "13       chr1  HAVANA  transcript  3214481  3671498     .      -     .   \n",
       "14       chr1  HAVANA        exon  3670551  3671498     .      -     .   \n",
       "15       chr1  HAVANA         CDS  3670551  3671348     .      -     0   \n",
       "\n",
       "                 gene_id       gene_type  ... transcript_type transcript_name  \\\n",
       "13  ENSMUSG00000051951.5  protein_coding  ...  protein_coding        Xkr4-201   \n",
       "14  ENSMUSG00000051951.5  protein_coding  ...  protein_coding        Xkr4-201   \n",
       "15  ENSMUSG00000051951.5  protein_coding  ...  protein_coding        Xkr4-201   \n",
       "\n",
       "   transcript_support_level                            tag  \\\n",
       "13                        1  basic,appris_principal_1,CCDS   \n",
       "14                        1  basic,appris_principal_1,CCDS   \n",
       "15                        1  basic,appris_principal_1,CCDS   \n",
       "\n",
       "       havana_transcript exon_number               exon_id  \\\n",
       "13  OTTMUST00000065166.1         NaN                   NaN   \n",
       "14  OTTMUST00000065166.1           1  ENSMUSE00000485541.3   \n",
       "15  OTTMUST00000065166.1           1  ENSMUSE00000485541.3   \n",
       "\n",
       "              protein_id       ccdsid  ont  \n",
       "13  ENSMUSP00000070648.4  CCDS14803.1  NaN  \n",
       "14  ENSMUSP00000070648.4  CCDS14803.1  NaN  \n",
       "15  ENSMUSP00000070648.4  CCDS14803.1  NaN  \n",
       "\n",
       "[3 rows x 25 columns]"
      ]
     },
     "execution_count": 146,
     "metadata": {},
     "output_type": "execute_result"
    }
   ],
   "source": [
    "gencode_df_coding_canonical.head(3)"
   ]
  },
  {
   "cell_type": "code",
   "execution_count": 147,
   "id": "manual-kinase",
   "metadata": {},
   "outputs": [
    {
     "data": {
      "text/plain": [
       "(663082, 25)"
      ]
     },
     "execution_count": 147,
     "metadata": {},
     "output_type": "execute_result"
    }
   ],
   "source": [
    "gencode_df_coding_canonical.shape"
   ]
  },
  {
   "cell_type": "code",
   "execution_count": 150,
   "id": "popular-denver",
   "metadata": {},
   "outputs": [],
   "source": [
    "gencode_df_coding_canonical[\"Chromosome\"] = gencode_df_coding_canonical[\n",
    "    \"Chromosome\"\n",
    "].str.replace(\"chr\", \"\")\n",
    "gencode_df_coding_canonical[\"Chromosome\"] = gencode_df_coding_canonical[\n",
    "    \"Chromosome\"\n",
    "].replace(\"M\", \"MT\")"
   ]
  },
  {
   "cell_type": "code",
   "execution_count": 151,
   "id": "pressed-bulgaria",
   "metadata": {},
   "outputs": [
    {
     "data": {
      "text/plain": [
       "['1', '2', '3', '4', '5', ..., '18', '19', 'MT', 'X', 'Y']\n",
       "Length: 22\n",
       "Categories (22, object): ['1', '2', '3', '4', ..., '19', 'MT', 'X', 'Y']"
      ]
     },
     "execution_count": 151,
     "metadata": {},
     "output_type": "execute_result"
    }
   ],
   "source": [
    "gencode_pr = pr.PyRanges(gencode_df_coding_canonical)\n",
    "gencode_pr.df.Chromosome.unique()"
   ]
  },
  {
   "cell_type": "code",
   "execution_count": 152,
   "id": "textile-tennis",
   "metadata": {},
   "outputs": [],
   "source": [
    "gencode_pr.to_gtf(gencode_coding_canonical_gtf)"
   ]
  },
  {
   "cell_type": "code",
   "execution_count": 153,
   "id": "aboriginal-semiconductor",
   "metadata": {},
   "outputs": [
    {
     "name": "stdout",
     "output_type": "stream",
     "text": [
      "1\tHAVANA\ttranscript\t4807823\t4846739\t.\t+\t.\tgene_id \"ENSMUSG00000025903.14\"; gene_type \"protein_coding\"; gene_name \"Lypla1\"; level \"2\"; mgi_id \"MGI:1344588\"; havana_gene \"OTTMUSG00000021562.4\"; transcript_id \"ENSMUST00000027036.10\"; transcript_type \"protein_coding\"; transcript_name \"Lypla1-201\"; transcript_support_level \"1\"; tag \"basic,appris_principal_1,CCDS\"; havana_transcript \"OTTMUST00000051162.1\"; protein_id \"ENSMUSP00000027036.4\"; ccdsid \"CCDS14806.1\";\n",
      "1\tHAVANA\texon\t4807823\t4807982\t.\t+\t.\tgene_id \"ENSMUSG00000025903.14\"; gene_type \"protein_coding\"; gene_name \"Lypla1\"; level \"2\"; mgi_id \"MGI:1344588\"; havana_gene \"OTTMUSG00000021562.4\"; transcript_id \"ENSMUST00000027036.10\"; transcript_type \"protein_coding\"; transcript_name \"Lypla1-201\"; transcript_support_level \"1\"; tag \"basic,appris_principal_1,CCDS\"; havana_transcript \"OTTMUST00000051162.1\"; exon_number \"1\"; exon_id \"ENSMUSE00000792454.1\"; protein_id \"ENSMUSP00000027036.4\"; ccdsid \"CCDS14806.1\";\n",
      "1\tHAVANA\tCDS\t4807914\t4807982\t.\t+\t0\tgene_id \"ENSMUSG00000025903.14\"; gene_type \"protein_coding\"; gene_name \"Lypla1\"; level \"2\"; mgi_id \"MGI:1344588\"; havana_gene \"OTTMUSG00000021562.4\"; transcript_id \"ENSMUST00000027036.10\"; transcript_type \"protein_coding\"; transcript_name \"Lypla1-201\"; transcript_support_level \"1\"; tag \"basic,appris_principal_1,CCDS\"; havana_transcript \"OTTMUST00000051162.1\"; exon_number \"1\"; exon_id \"ENSMUSE00000792454.1\"; protein_id \"ENSMUSP00000027036.4\"; ccdsid \"CCDS14806.1\";\n",
      "1\tHAVANA\tstart_codon\t4807914\t4807916\t.\t+\t0\tgene_id \"ENSMUSG00000025903.14\"; gene_type \"protein_coding\"; gene_name \"Lypla1\"; level \"2\"; mgi_id \"MGI:1344588\"; havana_gene \"OTTMUSG00000021562.4\"; transcript_id \"ENSMUST00000027036.10\"; transcript_type \"protein_coding\"; transcript_name \"Lypla1-201\"; transcript_support_level \"1\"; tag \"basic,appris_principal_1,CCDS\"; havana_transcript \"OTTMUST00000051162.1\"; exon_number \"1\"; exon_id \"ENSMUSE00000792454.1\"; protein_id \"ENSMUSP00000027036.4\"; ccdsid \"CCDS14806.1\";\n",
      "1\tHAVANA\texon\t4808455\t4808486\t.\t+\t.\tgene_id \"ENSMUSG00000025903.14\"; gene_type \"protein_coding\"; gene_name \"Lypla1\"; level \"2\"; mgi_id \"MGI:1344588\"; havana_gene \"OTTMUSG00000021562.4\"; transcript_id \"ENSMUST00000027036.10\"; transcript_type \"protein_coding\"; transcript_name \"Lypla1-201\"; transcript_support_level \"1\"; tag \"basic,appris_principal_1,CCDS\"; havana_transcript \"OTTMUST00000051162.1\"; exon_number \"2\"; exon_id \"ENSMUSE00001255376.1\"; protein_id \"ENSMUSP00000027036.4\"; ccdsid \"CCDS14806.1\";\n",
      "1\tHAVANA\tCDS\t4808455\t4808486\t.\t+\t0\tgene_id \"ENSMUSG00000025903.14\"; gene_type \"protein_coding\"; gene_name \"Lypla1\"; level \"2\"; mgi_id \"MGI:1344588\"; havana_gene \"OTTMUSG00000021562.4\"; transcript_id \"ENSMUST00000027036.10\"; transcript_type \"protein_coding\"; transcript_name \"Lypla1-201\"; transcript_support_level \"1\"; tag \"basic,appris_principal_1,CCDS\"; havana_transcript \"OTTMUST00000051162.1\"; exon_number \"2\"; exon_id \"ENSMUSE00001255376.1\"; protein_id \"ENSMUSP00000027036.4\"; ccdsid \"CCDS14806.1\";\n",
      "1\tHAVANA\texon\t4828584\t4828649\t.\t+\t.\tgene_id \"ENSMUSG00000025903.14\"; gene_type \"protein_coding\"; gene_name \"Lypla1\"; level \"2\"; mgi_id \"MGI:1344588\"; havana_gene \"OTTMUSG00000021562.4\"; transcript_id \"ENSMUST00000027036.10\"; transcript_type \"protein_coding\"; transcript_name \"Lypla1-201\"; transcript_support_level \"1\"; tag \"basic,appris_principal_1,CCDS\"; havana_transcript \"OTTMUST00000051162.1\"; exon_number \"3\"; exon_id \"ENSMUSE00001222304.1\"; protein_id \"ENSMUSP00000027036.4\"; ccdsid \"CCDS14806.1\";\n",
      "1\tHAVANA\tCDS\t4828584\t4828649\t.\t+\t1\tgene_id \"ENSMUSG00000025903.14\"; gene_type \"protein_coding\"; gene_name \"Lypla1\"; level \"2\"; mgi_id \"MGI:1344588\"; havana_gene \"OTTMUSG00000021562.4\"; transcript_id \"ENSMUST00000027036.10\"; transcript_type \"protein_coding\"; transcript_name \"Lypla1-201\"; transcript_support_level \"1\"; tag \"basic,appris_principal_1,CCDS\"; havana_transcript \"OTTMUST00000051162.1\"; exon_number \"3\"; exon_id \"ENSMUSE00001222304.1\"; protein_id \"ENSMUSP00000027036.4\"; ccdsid \"CCDS14806.1\";\n",
      "1\tHAVANA\texon\t4830268\t4830315\t.\t+\t.\tgene_id \"ENSMUSG00000025903.14\"; gene_type \"protein_coding\"; gene_name \"Lypla1\"; level \"2\"; mgi_id \"MGI:1344588\"; havana_gene \"OTTMUSG00000021562.4\"; transcript_id \"ENSMUST00000027036.10\"; transcript_type \"protein_coding\"; transcript_name \"Lypla1-201\"; transcript_support_level \"1\"; tag \"basic,appris_principal_1,CCDS\"; havana_transcript \"OTTMUST00000051162.1\"; exon_number \"4\"; exon_id \"ENSMUSE00001206798.1\"; protein_id \"ENSMUSP00000027036.4\"; ccdsid \"CCDS14806.1\";\n",
      "1\tHAVANA\tCDS\t4830268\t4830315\t.\t+\t1\tgene_id \"ENSMUSG00000025903.14\"; gene_type \"protein_coding\"; gene_name \"Lypla1\"; level \"2\"; mgi_id \"MGI:1344588\"; havana_gene \"OTTMUSG00000021562.4\"; transcript_id \"ENSMUST00000027036.10\"; transcript_type \"protein_coding\"; transcript_name \"Lypla1-201\"; transcript_support_level \"1\"; tag \"basic,appris_principal_1,CCDS\"; havana_transcript \"OTTMUST00000051162.1\"; exon_number \"4\"; exon_id \"ENSMUSE00001206798.1\"; protein_id \"ENSMUSP00000027036.4\"; ccdsid \"CCDS14806.1\";\n",
      "\n",
      "gzip: stdout: Broken pipe\n"
     ]
    }
   ],
   "source": [
    "!zcat {gencode_coding_canonical_gtf} | head"
   ]
  },
  {
   "cell_type": "markdown",
   "id": "former-works",
   "metadata": {},
   "source": [
    "verify gtf"
   ]
  },
  {
   "cell_type": "code",
   "execution_count": 154,
   "id": "religious-macro",
   "metadata": {
    "collapsed": true,
    "jupyter": {
     "outputs_hidden": true
    },
    "tags": []
   },
   "outputs": [
    {
     "name": "stdout",
     "output_type": "stream",
     "text": []
    },
    {
     "name": "stdout",
     "output_type": "stream",
     "text": []
    },
    {
     "name": "stdout",
     "output_type": "stream",
     "text": []
    },
    {
     "name": "stdout",
     "output_type": "stream",
     "text": []
    },
    {
     "name": "stdout",
     "output_type": "stream",
     "text": []
    },
    {
     "name": "stdout",
     "output_type": "stream",
     "text": []
    },
    {
     "name": "stdout",
     "output_type": "stream",
     "text": []
    },
    {
     "name": "stdout",
     "output_type": "stream",
     "text": []
    },
    {
     "name": "stdout",
     "output_type": "stream",
     "text": []
    },
    {
     "name": "stdout",
     "output_type": "stream",
     "text": []
    },
    {
     "name": "stdout",
     "output_type": "stream",
     "text": []
    },
    {
     "name": "stdout",
     "output_type": "stream",
     "text": []
    },
    {
     "name": "stdout",
     "output_type": "stream",
     "text": []
    },
    {
     "name": "stdout",
     "output_type": "stream",
     "text": []
    },
    {
     "name": "stdout",
     "output_type": "stream",
     "text": []
    },
    {
     "name": "stdout",
     "output_type": "stream",
     "text": []
    },
    {
     "name": "stdout",
     "output_type": "stream",
     "text": []
    },
    {
     "name": "stdout",
     "output_type": "stream",
     "text": []
    },
    {
     "name": "stdout",
     "output_type": "stream",
     "text": []
    },
    {
     "name": "stdout",
     "output_type": "stream",
     "text": []
    },
    {
     "name": "stdout",
     "output_type": "stream",
     "text": []
    },
    {
     "name": "stdout",
     "output_type": "stream",
     "text": []
    },
    {
     "name": "stdout",
     "output_type": "stream",
     "text": []
    },
    {
     "name": "stdout",
     "output_type": "stream",
     "text": []
    },
    {
     "name": "stdout",
     "output_type": "stream",
     "text": []
    },
    {
     "name": "stdout",
     "output_type": "stream",
     "text": []
    },
    {
     "name": "stdout",
     "output_type": "stream",
     "text": []
    },
    {
     "name": "stdout",
     "output_type": "stream",
     "text": []
    },
    {
     "name": "stdout",
     "output_type": "stream",
     "text": []
    },
    {
     "name": "stdout",
     "output_type": "stream",
     "text": []
    },
    {
     "name": "stdout",
     "output_type": "stream",
     "text": []
    },
    {
     "name": "stdout",
     "output_type": "stream",
     "text": []
    },
    {
     "name": "stdout",
     "output_type": "stream",
     "text": []
    },
    {
     "name": "stdout",
     "output_type": "stream",
     "text": []
    },
    {
     "name": "stdout",
     "output_type": "stream",
     "text": []
    },
    {
     "name": "stdout",
     "output_type": "stream",
     "text": []
    },
    {
     "name": "stdout",
     "output_type": "stream",
     "text": []
    },
    {
     "name": "stdout",
     "output_type": "stream",
     "text": []
    },
    {
     "name": "stdout",
     "output_type": "stream",
     "text": []
    },
    {
     "name": "stdout",
     "output_type": "stream",
     "text": []
    },
    {
     "name": "stdout",
     "output_type": "stream",
     "text": []
    },
    {
     "name": "stdout",
     "output_type": "stream",
     "text": []
    },
    {
     "name": "stdout",
     "output_type": "stream",
     "text": []
    },
    {
     "name": "stdout",
     "output_type": "stream",
     "text": []
    },
    {
     "name": "stdout",
     "output_type": "stream",
     "text": []
    },
    {
     "name": "stdout",
     "output_type": "stream",
     "text": []
    },
    {
     "name": "stdout",
     "output_type": "stream",
     "text": []
    },
    {
     "name": "stdout",
     "output_type": "stream",
     "text": []
    },
    {
     "name": "stdout",
     "output_type": "stream",
     "text": []
    },
    {
     "name": "stdout",
     "output_type": "stream",
     "text": []
    },
    {
     "name": "stdout",
     "output_type": "stream",
     "text": []
    },
    {
     "name": "stdout",
     "output_type": "stream",
     "text": []
    },
    {
     "name": "stdout",
     "output_type": "stream",
     "text": []
    },
    {
     "name": "stdout",
     "output_type": "stream",
     "text": []
    },
    {
     "name": "stdout",
     "output_type": "stream",
     "text": []
    },
    {
     "name": "stdout",
     "output_type": "stream",
     "text": []
    },
    {
     "name": "stdout",
     "output_type": "stream",
     "text": []
    },
    {
     "name": "stdout",
     "output_type": "stream",
     "text": []
    },
    {
     "name": "stdout",
     "output_type": "stream",
     "text": []
    },
    {
     "name": "stdout",
     "output_type": "stream",
     "text": []
    },
    {
     "name": "stdout",
     "output_type": "stream",
     "text": []
    },
    {
     "name": "stdout",
     "output_type": "stream",
     "text": []
    },
    {
     "name": "stdout",
     "output_type": "stream",
     "text": []
    },
    {
     "name": "stdout",
     "output_type": "stream",
     "text": []
    },
    {
     "name": "stdout",
     "output_type": "stream",
     "text": []
    },
    {
     "name": "stdout",
     "output_type": "stream",
     "text": []
    }
   ],
   "source": [
    "!zcat {gencode_coding_canonical_gtf} | grep ^protein_coding"
   ]
  },
  {
   "cell_type": "code",
   "execution_count": 155,
   "id": "better-married",
   "metadata": {
    "collapsed": true,
    "jupyter": {
     "outputs_hidden": true
    },
    "tags": []
   },
   "outputs": [
    {
     "name": "stdout",
     "output_type": "stream",
     "text": []
    },
    {
     "name": "stdout",
     "output_type": "stream",
     "text": []
    },
    {
     "name": "stdout",
     "output_type": "stream",
     "text": []
    },
    {
     "name": "stdout",
     "output_type": "stream",
     "text": []
    },
    {
     "name": "stdout",
     "output_type": "stream",
     "text": []
    },
    {
     "name": "stdout",
     "output_type": "stream",
     "text": []
    },
    {
     "name": "stdout",
     "output_type": "stream",
     "text": []
    },
    {
     "name": "stdout",
     "output_type": "stream",
     "text": []
    },
    {
     "name": "stdout",
     "output_type": "stream",
     "text": []
    },
    {
     "name": "stdout",
     "output_type": "stream",
     "text": []
    },
    {
     "name": "stdout",
     "output_type": "stream",
     "text": []
    },
    {
     "name": "stdout",
     "output_type": "stream",
     "text": []
    },
    {
     "name": "stdout",
     "output_type": "stream",
     "text": []
    },
    {
     "name": "stdout",
     "output_type": "stream",
     "text": []
    },
    {
     "name": "stdout",
     "output_type": "stream",
     "text": []
    },
    {
     "name": "stdout",
     "output_type": "stream",
     "text": []
    },
    {
     "name": "stdout",
     "output_type": "stream",
     "text": []
    },
    {
     "name": "stdout",
     "output_type": "stream",
     "text": []
    },
    {
     "name": "stdout",
     "output_type": "stream",
     "text": []
    },
    {
     "name": "stdout",
     "output_type": "stream",
     "text": []
    },
    {
     "name": "stdout",
     "output_type": "stream",
     "text": []
    },
    {
     "name": "stdout",
     "output_type": "stream",
     "text": []
    },
    {
     "name": "stdout",
     "output_type": "stream",
     "text": []
    },
    {
     "name": "stdout",
     "output_type": "stream",
     "text": []
    },
    {
     "name": "stdout",
     "output_type": "stream",
     "text": []
    },
    {
     "name": "stdout",
     "output_type": "stream",
     "text": []
    },
    {
     "name": "stdout",
     "output_type": "stream",
     "text": []
    },
    {
     "name": "stdout",
     "output_type": "stream",
     "text": []
    },
    {
     "name": "stdout",
     "output_type": "stream",
     "text": []
    },
    {
     "name": "stdout",
     "output_type": "stream",
     "text": []
    },
    {
     "name": "stdout",
     "output_type": "stream",
     "text": []
    },
    {
     "name": "stdout",
     "output_type": "stream",
     "text": []
    },
    {
     "name": "stdout",
     "output_type": "stream",
     "text": []
    },
    {
     "name": "stdout",
     "output_type": "stream",
     "text": []
    },
    {
     "name": "stdout",
     "output_type": "stream",
     "text": []
    },
    {
     "name": "stdout",
     "output_type": "stream",
     "text": []
    },
    {
     "name": "stdout",
     "output_type": "stream",
     "text": []
    },
    {
     "name": "stdout",
     "output_type": "stream",
     "text": []
    },
    {
     "name": "stdout",
     "output_type": "stream",
     "text": []
    },
    {
     "name": "stdout",
     "output_type": "stream",
     "text": []
    },
    {
     "name": "stdout",
     "output_type": "stream",
     "text": []
    },
    {
     "name": "stdout",
     "output_type": "stream",
     "text": []
    },
    {
     "name": "stdout",
     "output_type": "stream",
     "text": []
    },
    {
     "name": "stdout",
     "output_type": "stream",
     "text": []
    },
    {
     "name": "stdout",
     "output_type": "stream",
     "text": []
    },
    {
     "name": "stdout",
     "output_type": "stream",
     "text": []
    },
    {
     "name": "stdout",
     "output_type": "stream",
     "text": []
    },
    {
     "name": "stdout",
     "output_type": "stream",
     "text": []
    },
    {
     "name": "stdout",
     "output_type": "stream",
     "text": []
    },
    {
     "name": "stdout",
     "output_type": "stream",
     "text": []
    },
    {
     "name": "stdout",
     "output_type": "stream",
     "text": []
    },
    {
     "name": "stdout",
     "output_type": "stream",
     "text": []
    },
    {
     "name": "stdout",
     "output_type": "stream",
     "text": []
    },
    {
     "name": "stdout",
     "output_type": "stream",
     "text": []
    },
    {
     "name": "stdout",
     "output_type": "stream",
     "text": []
    },
    {
     "name": "stdout",
     "output_type": "stream",
     "text": []
    },
    {
     "name": "stdout",
     "output_type": "stream",
     "text": []
    },
    {
     "name": "stdout",
     "output_type": "stream",
     "text": []
    },
    {
     "name": "stdout",
     "output_type": "stream",
     "text": []
    },
    {
     "name": "stdout",
     "output_type": "stream",
     "text": []
    },
    {
     "name": "stdout",
     "output_type": "stream",
     "text": []
    },
    {
     "name": "stdout",
     "output_type": "stream",
     "text": []
    },
    {
     "name": "stdout",
     "output_type": "stream",
     "text": []
    },
    {
     "name": "stdout",
     "output_type": "stream",
     "text": []
    },
    {
     "name": "stdout",
     "output_type": "stream",
     "text": []
    },
    {
     "name": "stdout",
     "output_type": "stream",
     "text": []
    },
    {
     "name": "stdout",
     "output_type": "stream",
     "text": []
    },
    {
     "name": "stdout",
     "output_type": "stream",
     "text": []
    },
    {
     "name": "stdout",
     "output_type": "stream",
     "text": []
    },
    {
     "name": "stdout",
     "output_type": "stream",
     "text": []
    },
    {
     "name": "stdout",
     "output_type": "stream",
     "text": []
    },
    {
     "name": "stdout",
     "output_type": "stream",
     "text": []
    },
    {
     "name": "stdout",
     "output_type": "stream",
     "text": []
    },
    {
     "name": "stdout",
     "output_type": "stream",
     "text": []
    },
    {
     "name": "stdout",
     "output_type": "stream",
     "text": []
    },
    {
     "name": "stdout",
     "output_type": "stream",
     "text": []
    },
    {
     "name": "stdout",
     "output_type": "stream",
     "text": []
    },
    {
     "name": "stdout",
     "output_type": "stream",
     "text": []
    },
    {
     "name": "stdout",
     "output_type": "stream",
     "text": []
    },
    {
     "name": "stdout",
     "output_type": "stream",
     "text": []
    },
    {
     "name": "stdout",
     "output_type": "stream",
     "text": []
    },
    {
     "name": "stdout",
     "output_type": "stream",
     "text": []
    },
    {
     "name": "stdout",
     "output_type": "stream",
     "text": []
    },
    {
     "name": "stdout",
     "output_type": "stream",
     "text": []
    },
    {
     "name": "stdout",
     "output_type": "stream",
     "text": []
    },
    {
     "name": "stdout",
     "output_type": "stream",
     "text": []
    },
    {
     "name": "stdout",
     "output_type": "stream",
     "text": []
    },
    {
     "name": "stdout",
     "output_type": "stream",
     "text": []
    },
    {
     "name": "stdout",
     "output_type": "stream",
     "text": []
    },
    {
     "name": "stdout",
     "output_type": "stream",
     "text": []
    },
    {
     "name": "stdout",
     "output_type": "stream",
     "text": []
    },
    {
     "name": "stdout",
     "output_type": "stream",
     "text": []
    },
    {
     "name": "stdout",
     "output_type": "stream",
     "text": []
    },
    {
     "name": "stdout",
     "output_type": "stream",
     "text": []
    },
    {
     "name": "stdout",
     "output_type": "stream",
     "text": []
    },
    {
     "name": "stdout",
     "output_type": "stream",
     "text": []
    },
    {
     "name": "stdout",
     "output_type": "stream",
     "text": []
    },
    {
     "name": "stdout",
     "output_type": "stream",
     "text": []
    },
    {
     "name": "stdout",
     "output_type": "stream",
     "text": []
    },
    {
     "name": "stdout",
     "output_type": "stream",
     "text": []
    },
    {
     "name": "stdout",
     "output_type": "stream",
     "text": []
    },
    {
     "name": "stdout",
     "output_type": "stream",
     "text": []
    },
    {
     "name": "stdout",
     "output_type": "stream",
     "text": []
    },
    {
     "name": "stdout",
     "output_type": "stream",
     "text": []
    },
    {
     "name": "stdout",
     "output_type": "stream",
     "text": []
    },
    {
     "name": "stdout",
     "output_type": "stream",
     "text": []
    },
    {
     "name": "stdout",
     "output_type": "stream",
     "text": []
    },
    {
     "name": "stdout",
     "output_type": "stream",
     "text": []
    },
    {
     "name": "stdout",
     "output_type": "stream",
     "text": []
    },
    {
     "name": "stdout",
     "output_type": "stream",
     "text": []
    },
    {
     "name": "stdout",
     "output_type": "stream",
     "text": []
    },
    {
     "name": "stdout",
     "output_type": "stream",
     "text": []
    },
    {
     "name": "stdout",
     "output_type": "stream",
     "text": []
    },
    {
     "name": "stdout",
     "output_type": "stream",
     "text": []
    },
    {
     "name": "stdout",
     "output_type": "stream",
     "text": []
    },
    {
     "name": "stdout",
     "output_type": "stream",
     "text": []
    },
    {
     "name": "stdout",
     "output_type": "stream",
     "text": []
    },
    {
     "name": "stdout",
     "output_type": "stream",
     "text": []
    },
    {
     "name": "stdout",
     "output_type": "stream",
     "text": []
    },
    {
     "name": "stdout",
     "output_type": "stream",
     "text": []
    }
   ],
   "source": [
    "!zcat {gencode_coding_canonical_gtf} | grep ^appris"
   ]
  },
  {
   "cell_type": "markdown",
   "id": "dense-incident",
   "metadata": {
    "tags": []
   },
   "source": [
    "### Prepare and inspect probes files"
   ]
  },
  {
   "cell_type": "markdown",
   "id": "virgin-scale",
   "metadata": {
    "heading_collapsed": "true",
    "tags": []
   },
   "source": [
    "#### Probe file from Maxi"
   ]
  },
  {
   "cell_type": "markdown",
   "id": "amazing-exposure",
   "metadata": {
    "heading_collapsed": "true",
    "tags": []
   },
   "source": [
    "##### Inspect original probes file"
   ]
  },
  {
   "cell_type": "markdown",
   "id": "australian-garden",
   "metadata": {},
   "source": [
    "- file has duplicates\n",
    "- file is not fully sorted"
   ]
  },
  {
   "cell_type": "markdown",
   "id": "saved-window",
   "metadata": {
    "tags": []
   },
   "source": [
    "###### General overview"
   ]
  },
  {
   "cell_type": "code",
   "execution_count": 43,
   "id": "accepted-unemployment",
   "metadata": {},
   "outputs": [
    {
     "name": "stdout",
     "output_type": "stream",
     "text": [
      "chr1\t3102470\t3102471\tcg36603287_TC21\n",
      "chr1\t3199334\t3199335\tcg36603791_TC21\n",
      "chr1\t3216335\t3216336\tcg36603848_TC21\n"
     ]
    }
   ],
   "source": [
    "!head -n 3 {original_probes_bed}"
   ]
  },
  {
   "cell_type": "code",
   "execution_count": 44,
   "id": "geographic-virgin",
   "metadata": {},
   "outputs": [
    {
     "name": "stdout",
     "output_type": "stream",
     "text": [
      "chr1\n",
      "chr2\n",
      "chr3\n",
      "chr4\n",
      "chr5\n",
      "chr6\n",
      "chr7\n",
      "chr8\n",
      "chr9\n",
      "chr10\n",
      "chr11\n",
      "chr12\n",
      "chr13\n",
      "chr14\n",
      "chr15\n",
      "chr16\n",
      "chr17\n",
      "chr18\n",
      "chr19\n",
      "chrX\n",
      "chrY\n"
     ]
    }
   ],
   "source": [
    "!cut -f 1 < {original_probes_bed} | uniq"
   ]
  },
  {
   "cell_type": "code",
   "execution_count": 46,
   "id": "alone-vatican",
   "metadata": {},
   "outputs": [
    {
     "data": {
      "text/html": [
       "<div>\n",
       "<style scoped>\n",
       "    .dataframe tbody tr th:only-of-type {\n",
       "        vertical-align: middle;\n",
       "    }\n",
       "\n",
       "    .dataframe tbody tr th {\n",
       "        vertical-align: top;\n",
       "    }\n",
       "\n",
       "    .dataframe thead th {\n",
       "        text-align: right;\n",
       "    }\n",
       "</style>\n",
       "<table border=\"1\" class=\"dataframe\">\n",
       "  <thead>\n",
       "    <tr style=\"text-align: right;\">\n",
       "      <th></th>\n",
       "      <th>Chromosome</th>\n",
       "      <th>Start</th>\n",
       "      <th>End</th>\n",
       "      <th>name</th>\n",
       "    </tr>\n",
       "  </thead>\n",
       "  <tbody>\n",
       "    <tr>\n",
       "      <th>0</th>\n",
       "      <td>chr1</td>\n",
       "      <td>3102470</td>\n",
       "      <td>3102471</td>\n",
       "      <td>cg36603287_TC21</td>\n",
       "    </tr>\n",
       "    <tr>\n",
       "      <th>1</th>\n",
       "      <td>chr1</td>\n",
       "      <td>3199334</td>\n",
       "      <td>3199335</td>\n",
       "      <td>cg36603791_TC21</td>\n",
       "    </tr>\n",
       "    <tr>\n",
       "      <th>2</th>\n",
       "      <td>chr1</td>\n",
       "      <td>3216335</td>\n",
       "      <td>3216336</td>\n",
       "      <td>cg36603848_TC21</td>\n",
       "    </tr>\n",
       "    <tr>\n",
       "      <th>3</th>\n",
       "      <td>chr1</td>\n",
       "      <td>3253527</td>\n",
       "      <td>3253528</td>\n",
       "      <td>cg36604001_TC21</td>\n",
       "    </tr>\n",
       "    <tr>\n",
       "      <th>4</th>\n",
       "      <td>chr1</td>\n",
       "      <td>3353526</td>\n",
       "      <td>3353527</td>\n",
       "      <td>cg36604489_TC21</td>\n",
       "    </tr>\n",
       "    <tr>\n",
       "      <th>...</th>\n",
       "      <td>...</td>\n",
       "      <td>...</td>\n",
       "      <td>...</td>\n",
       "      <td>...</td>\n",
       "    </tr>\n",
       "    <tr>\n",
       "      <th>262159</th>\n",
       "      <td>chrY</td>\n",
       "      <td>87877338</td>\n",
       "      <td>87877339</td>\n",
       "      <td>cg48338431_BC11</td>\n",
       "    </tr>\n",
       "    <tr>\n",
       "      <th>262160</th>\n",
       "      <td>chrY</td>\n",
       "      <td>88188140</td>\n",
       "      <td>88188141</td>\n",
       "      <td>cg48338916_BC11</td>\n",
       "    </tr>\n",
       "    <tr>\n",
       "      <th>262161</th>\n",
       "      <td>chrY</td>\n",
       "      <td>90739047</td>\n",
       "      <td>90739048</td>\n",
       "      <td>cg48343391_BC11</td>\n",
       "    </tr>\n",
       "    <tr>\n",
       "      <th>262162</th>\n",
       "      <td>chrY</td>\n",
       "      <td>90805372</td>\n",
       "      <td>90805373</td>\n",
       "      <td>cg48344082_BC11</td>\n",
       "    </tr>\n",
       "    <tr>\n",
       "      <th>262163</th>\n",
       "      <td>chrY</td>\n",
       "      <td>90809535</td>\n",
       "      <td>90809536</td>\n",
       "      <td>cg48344158_BC11</td>\n",
       "    </tr>\n",
       "  </tbody>\n",
       "</table>\n",
       "<p>262164 rows × 4 columns</p>\n",
       "</div>"
      ],
      "text/plain": [
       "       Chromosome     Start       End             name\n",
       "0            chr1   3102470   3102471  cg36603287_TC21\n",
       "1            chr1   3199334   3199335  cg36603791_TC21\n",
       "2            chr1   3216335   3216336  cg36603848_TC21\n",
       "3            chr1   3253527   3253528  cg36604001_TC21\n",
       "4            chr1   3353526   3353527  cg36604489_TC21\n",
       "...           ...       ...       ...              ...\n",
       "262159       chrY  87877338  87877339  cg48338431_BC11\n",
       "262160       chrY  88188140  88188141  cg48338916_BC11\n",
       "262161       chrY  90739047  90739048  cg48343391_BC11\n",
       "262162       chrY  90805372  90805373  cg48344082_BC11\n",
       "262163       chrY  90809535  90809536  cg48344158_BC11\n",
       "\n",
       "[262164 rows x 4 columns]"
      ]
     },
     "execution_count": 46,
     "metadata": {},
     "output_type": "execute_result"
    }
   ],
   "source": [
    "original_probes_df = pd.read_csv(\n",
    "    original_probes_bed,\n",
    "    sep=\"\\t\",\n",
    "    header=None,\n",
    "    names=[\"Chromosome\", \"Start\", \"End\", \"name\"],\n",
    ")\n",
    "original_probes_df[\"Chromosome\"] = pd.Categorical(\n",
    "    original_probes_df[\"Chromosome\"],\n",
    "    categories=original_probes_df[\"Chromosome\"].unique(),\n",
    "    ordered=True,\n",
    ")\n",
    "original_probes_df"
   ]
  },
  {
   "cell_type": "markdown",
   "id": "coated-september",
   "metadata": {
    "tags": []
   },
   "source": [
    "###### File is not fully sorted"
   ]
  },
  {
   "cell_type": "markdown",
   "id": "characteristic-indonesian",
   "metadata": {},
   "source": [
    "**Note that the original probes df is not completely sorted on Start/End**"
   ]
  },
  {
   "cell_type": "code",
   "execution_count": 66,
   "id": "robust-cooperative",
   "metadata": {},
   "outputs": [
    {
     "data": {
      "text/html": [
       "<div>\n",
       "<style scoped>\n",
       "    .dataframe tbody tr th:only-of-type {\n",
       "        vertical-align: middle;\n",
       "    }\n",
       "\n",
       "    .dataframe tbody tr th {\n",
       "        vertical-align: top;\n",
       "    }\n",
       "\n",
       "    .dataframe thead th {\n",
       "        text-align: right;\n",
       "    }\n",
       "</style>\n",
       "<table border=\"1\" class=\"dataframe\">\n",
       "  <thead>\n",
       "    <tr style=\"text-align: right;\">\n",
       "      <th></th>\n",
       "      <th>Chromosome</th>\n",
       "      <th>Start</th>\n",
       "      <th>End</th>\n",
       "      <th>name</th>\n",
       "    </tr>\n",
       "  </thead>\n",
       "  <tbody>\n",
       "    <tr>\n",
       "      <th>0</th>\n",
       "      <td>chr1</td>\n",
       "      <td>3035832</td>\n",
       "      <td>3035833</td>\n",
       "      <td>cg36602902_BC11</td>\n",
       "    </tr>\n",
       "    <tr>\n",
       "      <th>1</th>\n",
       "      <td>chr1</td>\n",
       "      <td>3102470</td>\n",
       "      <td>3102471</td>\n",
       "      <td>cg36603287_TC21</td>\n",
       "    </tr>\n",
       "    <tr>\n",
       "      <th>2</th>\n",
       "      <td>chr1</td>\n",
       "      <td>3121638</td>\n",
       "      <td>3121639</td>\n",
       "      <td>cg36603393_BC21</td>\n",
       "    </tr>\n",
       "    <tr>\n",
       "      <th>3</th>\n",
       "      <td>chr1</td>\n",
       "      <td>3199334</td>\n",
       "      <td>3199335</td>\n",
       "      <td>cg36603791_TC21</td>\n",
       "    </tr>\n",
       "    <tr>\n",
       "      <th>4</th>\n",
       "      <td>chr1</td>\n",
       "      <td>3216335</td>\n",
       "      <td>3216336</td>\n",
       "      <td>cg36603848_TC21</td>\n",
       "    </tr>\n",
       "    <tr>\n",
       "      <th>...</th>\n",
       "      <td>...</td>\n",
       "      <td>...</td>\n",
       "      <td>...</td>\n",
       "      <td>...</td>\n",
       "    </tr>\n",
       "    <tr>\n",
       "      <th>262159</th>\n",
       "      <td>chrY</td>\n",
       "      <td>90805372</td>\n",
       "      <td>90805373</td>\n",
       "      <td>cg48344082_BC11</td>\n",
       "    </tr>\n",
       "    <tr>\n",
       "      <th>262160</th>\n",
       "      <td>chrY</td>\n",
       "      <td>90806785</td>\n",
       "      <td>90806786</td>\n",
       "      <td>cg48344102_TC21</td>\n",
       "    </tr>\n",
       "    <tr>\n",
       "      <th>262161</th>\n",
       "      <td>chrY</td>\n",
       "      <td>90808023</td>\n",
       "      <td>90808024</td>\n",
       "      <td>cg48344138_TC21</td>\n",
       "    </tr>\n",
       "    <tr>\n",
       "      <th>262162</th>\n",
       "      <td>chrY</td>\n",
       "      <td>90808869</td>\n",
       "      <td>90808870</td>\n",
       "      <td>cg48344145_TC21</td>\n",
       "    </tr>\n",
       "    <tr>\n",
       "      <th>262163</th>\n",
       "      <td>chrY</td>\n",
       "      <td>90809535</td>\n",
       "      <td>90809536</td>\n",
       "      <td>cg48344158_BC11</td>\n",
       "    </tr>\n",
       "  </tbody>\n",
       "</table>\n",
       "<p>262164 rows × 4 columns</p>\n",
       "</div>"
      ],
      "text/plain": [
       "       Chromosome     Start       End             name\n",
       "0            chr1   3035832   3035833  cg36602902_BC11\n",
       "1            chr1   3102470   3102471  cg36603287_TC21\n",
       "2            chr1   3121638   3121639  cg36603393_BC21\n",
       "3            chr1   3199334   3199335  cg36603791_TC21\n",
       "4            chr1   3216335   3216336  cg36603848_TC21\n",
       "...           ...       ...       ...              ...\n",
       "262159       chrY  90805372  90805373  cg48344082_BC11\n",
       "262160       chrY  90806785  90806786  cg48344102_TC21\n",
       "262161       chrY  90808023  90808024  cg48344138_TC21\n",
       "262162       chrY  90808869  90808870  cg48344145_TC21\n",
       "262163       chrY  90809535  90809536  cg48344158_BC11\n",
       "\n",
       "[262164 rows x 4 columns]"
      ]
     },
     "execution_count": 66,
     "metadata": {},
     "output_type": "execute_result"
    }
   ],
   "source": [
    "original_probes_df_sorted = original_probes_df.sort_values(\n",
    "    [\"Chromosome\", \"Start\", \"End\"]\n",
    ").reset_index(drop=True)\n",
    "original_probes_df_sorted"
   ]
  },
  {
   "cell_type": "code",
   "execution_count": 186,
   "id": "collective-investment",
   "metadata": {},
   "outputs": [
    {
     "data": {
      "text/plain": [
       "CategoricalDtype(categories=['chr1', 'chr2', 'chr3', 'chr4', 'chr5', 'chr6', 'chr7',\n",
       "                  'chr8', 'chr9', 'chr10', 'chr11', 'chr12', 'chr13', 'chr14',\n",
       "                  'chr15', 'chr16', 'chr17', 'chr18', 'chr19', 'chrX', 'chrY'],\n",
       ", ordered=True)"
      ]
     },
     "execution_count": 186,
     "metadata": {},
     "output_type": "execute_result"
    }
   ],
   "source": [
    "original_probes_df_sorted.Chromosome.dtype"
   ]
  },
  {
   "cell_type": "markdown",
   "id": "recent-bailey",
   "metadata": {
    "heading_collapsed": "true",
    "tags": []
   },
   "source": [
    "###### Several probes are present with the same coordinates, but different names"
   ]
  },
  {
   "cell_type": "code",
   "execution_count": 48,
   "id": "southwest-macintosh",
   "metadata": {},
   "outputs": [
    {
     "data": {
      "text/html": [
       "<div>\n",
       "<style scoped>\n",
       "    .dataframe tbody tr th:only-of-type {\n",
       "        vertical-align: middle;\n",
       "    }\n",
       "\n",
       "    .dataframe tbody tr th {\n",
       "        vertical-align: top;\n",
       "    }\n",
       "\n",
       "    .dataframe thead th {\n",
       "        text-align: right;\n",
       "    }\n",
       "</style>\n",
       "<table border=\"1\" class=\"dataframe\">\n",
       "  <thead>\n",
       "    <tr style=\"text-align: right;\">\n",
       "      <th></th>\n",
       "      <th>Chromosome</th>\n",
       "      <th>Start</th>\n",
       "      <th>End</th>\n",
       "      <th>name</th>\n",
       "    </tr>\n",
       "  </thead>\n",
       "  <tbody>\n",
       "    <tr>\n",
       "      <th>528</th>\n",
       "      <td>chr1</td>\n",
       "      <td>24417083</td>\n",
       "      <td>24417084</td>\n",
       "      <td>cg36730985_TC11</td>\n",
       "    </tr>\n",
       "    <tr>\n",
       "      <th>529</th>\n",
       "      <td>chr1</td>\n",
       "      <td>24417083</td>\n",
       "      <td>24417084</td>\n",
       "      <td>cg36730985_TC12</td>\n",
       "    </tr>\n",
       "    <tr>\n",
       "      <th>806</th>\n",
       "      <td>chr1</td>\n",
       "      <td>36104057</td>\n",
       "      <td>36104058</td>\n",
       "      <td>cg36801891_TC11</td>\n",
       "    </tr>\n",
       "    <tr>\n",
       "      <th>807</th>\n",
       "      <td>chr1</td>\n",
       "      <td>36104057</td>\n",
       "      <td>36104058</td>\n",
       "      <td>cg36801891_TO11</td>\n",
       "    </tr>\n",
       "    <tr>\n",
       "      <th>2960</th>\n",
       "      <td>chr1</td>\n",
       "      <td>82925910</td>\n",
       "      <td>82925911</td>\n",
       "      <td>cg37153974_TC11</td>\n",
       "    </tr>\n",
       "    <tr>\n",
       "      <th>...</th>\n",
       "      <td>...</td>\n",
       "      <td>...</td>\n",
       "      <td>...</td>\n",
       "      <td>...</td>\n",
       "    </tr>\n",
       "    <tr>\n",
       "      <th>259982</th>\n",
       "      <td>chrX</td>\n",
       "      <td>132046592</td>\n",
       "      <td>132046593</td>\n",
       "      <td>cg48007966_BC12</td>\n",
       "    </tr>\n",
       "    <tr>\n",
       "      <th>260591</th>\n",
       "      <td>chrX</td>\n",
       "      <td>140664692</td>\n",
       "      <td>140664693</td>\n",
       "      <td>cg48058116_BC11</td>\n",
       "    </tr>\n",
       "    <tr>\n",
       "      <th>260592</th>\n",
       "      <td>chrX</td>\n",
       "      <td>140664692</td>\n",
       "      <td>140664693</td>\n",
       "      <td>cg48058116_BC12</td>\n",
       "    </tr>\n",
       "    <tr>\n",
       "      <th>261408</th>\n",
       "      <td>chrX</td>\n",
       "      <td>159641362</td>\n",
       "      <td>159641363</td>\n",
       "      <td>cg48151117_BC11</td>\n",
       "    </tr>\n",
       "    <tr>\n",
       "      <th>261409</th>\n",
       "      <td>chrX</td>\n",
       "      <td>159641362</td>\n",
       "      <td>159641363</td>\n",
       "      <td>cg48151117_BC12</td>\n",
       "    </tr>\n",
       "  </tbody>\n",
       "</table>\n",
       "<p>926 rows × 4 columns</p>\n",
       "</div>"
      ],
      "text/plain": [
       "       Chromosome      Start        End             name\n",
       "528          chr1   24417083   24417084  cg36730985_TC11\n",
       "529          chr1   24417083   24417084  cg36730985_TC12\n",
       "806          chr1   36104057   36104058  cg36801891_TC11\n",
       "807          chr1   36104057   36104058  cg36801891_TO11\n",
       "2960         chr1   82925910   82925911  cg37153974_TC11\n",
       "...           ...        ...        ...              ...\n",
       "259982       chrX  132046592  132046593  cg48007966_BC12\n",
       "260591       chrX  140664692  140664693  cg48058116_BC11\n",
       "260592       chrX  140664692  140664693  cg48058116_BC12\n",
       "261408       chrX  159641362  159641363  cg48151117_BC11\n",
       "261409       chrX  159641362  159641363  cg48151117_BC12\n",
       "\n",
       "[926 rows x 4 columns]"
      ]
     },
     "execution_count": 48,
     "metadata": {},
     "output_type": "execute_result"
    }
   ],
   "source": [
    "original_probes_df.loc[\n",
    "    original_probes_df.duplicated([\"Chromosome\", \"Start\", \"End\"], keep=False)\n",
    "]"
   ]
  },
  {
   "cell_type": "code",
   "execution_count": 49,
   "id": "clean-label",
   "metadata": {},
   "outputs": [
    {
     "data": {
      "text/html": [
       "<div>\n",
       "<style scoped>\n",
       "    .dataframe tbody tr th:only-of-type {\n",
       "        vertical-align: middle;\n",
       "    }\n",
       "\n",
       "    .dataframe tbody tr th {\n",
       "        vertical-align: top;\n",
       "    }\n",
       "\n",
       "    .dataframe thead th {\n",
       "        text-align: right;\n",
       "    }\n",
       "</style>\n",
       "<table border=\"1\" class=\"dataframe\">\n",
       "  <thead>\n",
       "    <tr style=\"text-align: right;\">\n",
       "      <th></th>\n",
       "      <th>Chromosome</th>\n",
       "      <th>Start</th>\n",
       "      <th>End</th>\n",
       "      <th>name</th>\n",
       "    </tr>\n",
       "  </thead>\n",
       "  <tbody>\n",
       "  </tbody>\n",
       "</table>\n",
       "</div>"
      ],
      "text/plain": [
       "Empty DataFrame\n",
       "Columns: [Chromosome, Start, End, name]\n",
       "Index: []"
      ]
     },
     "execution_count": 49,
     "metadata": {},
     "output_type": "execute_result"
    }
   ],
   "source": [
    "original_probes_df.loc[\n",
    "    original_probes_df.duplicated([\"Chromosome\", \"Start\", \"End\", \"name\"], keep=False)\n",
    "]"
   ]
  },
  {
   "cell_type": "markdown",
   "id": "handmade-image",
   "metadata": {
    "heading_collapsed": "true",
    "tags": []
   },
   "source": [
    "##### Reformat probes file"
   ]
  },
  {
   "cell_type": "markdown",
   "id": "specified-trigger",
   "metadata": {},
   "source": [
    "- need to resort\n",
    "- need to remove chr prefix\n",
    "- drop duplicates"
   ]
  },
  {
   "cell_type": "code",
   "execution_count": 18,
   "id": "postal-graduation",
   "metadata": {},
   "outputs": [],
   "source": [
    "probes_df_no_prefix_sorted = (\n",
    "    original_probes_df.assign(\n",
    "        Chromosome=lambda df: df[\"Chromosome\"].str.replace(\"chr\", \"\"),\n",
    "    )[[\"Chromosome\", \"Start\", \"End\"]]\n",
    "    .drop_duplicates()\n",
    "    .sort_values([\"Chromosome\", \"Start\", \"End\"])\n",
    "    .reset_index(drop=True)\n",
    ")"
   ]
  },
  {
   "cell_type": "code",
   "execution_count": 105,
   "id": "powerful-windows",
   "metadata": {},
   "outputs": [],
   "source": [
    "probes_df_no_prefix_sorted.to_csv(\n",
    "    reformatted_probes_bed, sep=\"\\t\", header=False, index=False\n",
    ")"
   ]
  },
  {
   "cell_type": "code",
   "execution_count": 106,
   "id": "charitable-jewelry",
   "metadata": {},
   "outputs": [
    {
     "name": "stdout",
     "output_type": "stream",
     "text": [
      "1\t3035832\t3035833\n",
      "1\t3102470\t3102471\n",
      "1\t3121638\t3121639\n",
      "1\t3199334\t3199335\n",
      "1\t3216335\t3216336\n",
      "1\t3253527\t3253528\n",
      "1\t3353526\t3353527\n",
      "1\t3367941\t3367942\n",
      "1\t3469621\t3469622\n",
      "1\t3482624\t3482625\n"
     ]
    }
   ],
   "source": [
    "!head {reformatted_probes_bed}"
   ]
  },
  {
   "cell_type": "markdown",
   "id": "excess-improvement",
   "metadata": {
    "heading_collapsed": "true",
    "tags": []
   },
   "source": [
    "#### Illumina probe file"
   ]
  },
  {
   "cell_type": "markdown",
   "id": "unknown-proxy",
   "metadata": {
    "tags": []
   },
   "source": [
    "##### Schema"
   ]
  },
  {
   "cell_type": "markdown",
   "id": "funny-suspension",
   "metadata": {},
   "source": [
    "- MFG_CHANGE probes haben ein problem\n",
    "- there may be one row separating assay probes from controls somewhere in the dataframe? (info from Maxi)"
   ]
  },
  {
   "cell_type": "markdown",
   "id": "comfortable-benjamin",
   "metadata": {
    "heading_collapsed": "true",
    "tags": []
   },
   "source": [
    "##### Download"
   ]
  },
  {
   "cell_type": "code",
   "execution_count": 148,
   "id": "endangered-security",
   "metadata": {},
   "outputs": [],
   "source": [
    "if recompute:\n",
    "    subprocess.run([\"wget\", \"-O\", illumina_probes_csv, illumina_probes_url], check=True)"
   ]
  },
  {
   "cell_type": "code",
   "execution_count": 149,
   "id": "unknown-frame",
   "metadata": {},
   "outputs": [
    {
     "name": "stdout",
     "output_type": "stream",
     "text": [
      "Illumina, Inc.,,,,,,,,,,,,,,,,,,,,,,,,,,,,,,,,\n",
      "[Heading],,,,,,,,,,,,,,,,,,,,,,,,,,,,,,,,,\n",
      "Descriptor File Name,MouseMethylation-12v1-0_A1.csv,,,,,,,,,,,,,,,,,,,,,,,,,,,,,,,,\n",
      "Assay Format,Infinium 2,,,,,,,,,,,,,,,,,,,,,,,,,,,,,,,,\n",
      "Date Manufactured,10/15/2020,,,,,,,,,,,,,,,,,,,,,,,,,,,,,,,,\n",
      "Loci Count,287050,,,,,,,,,,,,,,,,,,,,,,,,,,,,,,,,\n",
      "[Assay],,,,,,,,,,,,,,,,,,,,,,,,,,,,,,,,,\n",
      "IlmnID,Name,AddressA_ID,AlleleA_ProbeSeq,AddressB_ID,AlleleB_ProbeSeq,Infinium_Design_Type,Next_Base,Color_Channel,Forward_Sequence,Top_Sequence,Genome_Build,Genome_Build_NCBI,CHR,MAPINFO,SourceSeq,Strand,Strand_TB,Strand_CO,N_Shelf,N_Shore,CpG_Island,CpG_Island_chrom,CpG_Island_chromStart,CpG_Island_chromEnd,CpG_Island_length,CpG_Island_cpgNum,CpG_Island_gcNum,CpG_Island_perCpg,CpG_Island_perGc,CpG_Island_obsExp,S_Shore,S_Shelf,MFG_Change_Flagged\n",
      "cg00101675_BC21,cg00101675,91684905,TTCCTAAAAAAACTTCAACAATACTATATCATTTTTAACTTCATAAACAC,,,II,,,AGCCTGAACTGTTCCTAAAGAAACTTCAGCAGTGCTGTGTCATTTTTGACTTCATGGACA[CG]CTATCTGATCTTAAAATGAAAGAATACAAGCGCTCCACTCTTAATGAACTGGTGGACTAC,AGCCTGAACTGTTCCTAAAGAAACTTCAGCAGTGCTGTGTCATTTTTGACTTCATGGACA[CG]CTATCTGATCTTAAAATGAAAGAATACAAGCGCTCCACTCTTAATGAACTGGTGGACTAC,mm10,GRCm10,12,75515719,TCCTAAAaAAACTTCAaCAaTaCTaTaTCATTTTTaACTTCATaaACACr,R,B,C,,,,,,,,,,,,,,,FALSE\n",
      "cg00116289_BC21,cg00116289,20615285,ACRTAACRTAAAACAACCAAAACRTCAAAACATTTTTACCTATCCAAAAC,,,II,,,GGAACCACTTAGCGTGGCGTAGAGCAGCCAGAGCGTCAAGGCATTTTTGCCTGTCCAAGA[CG]TCCGGTGGGTCTTTCACCATACCCGAGGTTACATCTAAAATGGATTGAATTGGCAAAATG,GGAACCACTTAGCGTGGCGTAGAGCAGCCAGAGCGTCAAGGCATTTTTGCCTGTCCAAGA[CG]TCCGGTGGGTCTTTCACCATACCCGAGGTTACATCTAAAATGGATTGAATTGGCAAAATG,mm10,GRCm10,15,12170850,CrTaaCrTAaAaCAaCCAaAaCrTCAAaaCATTTTTaCCTaTCCAAaACr,R,B,C,,,,,,,,,,,,,,,FALSE\n"
     ]
    }
   ],
   "source": [
    "!head {illumina_probes_csv}"
   ]
  },
  {
   "cell_type": "markdown",
   "id": "first-determination",
   "metadata": {
    "heading_collapsed": "true",
    "tags": []
   },
   "source": [
    "##### Get curated BED intervals for probes"
   ]
  },
  {
   "cell_type": "code",
   "execution_count": 70,
   "id": "economic-hands",
   "metadata": {},
   "outputs": [],
   "source": [
    "illumina_probes = pd.read_csv(\n",
    "    illumina_probes_csv,\n",
    "    skiprows=7,\n",
    "    dtype={\n",
    "        \"AddressA_ID\": str,\n",
    "        \"CHR\": str,\n",
    "        \"MFG_Change_Flagged\": \"boolean\",\n",
    "        \"MAPINFO\": \"Int64\",\n",
    "    },\n",
    ")"
   ]
  },
  {
   "cell_type": "markdown",
   "id": "sporting-completion",
   "metadata": {},
   "source": [
    "Fields, drop fields with longish sequence strings for display"
   ]
  },
  {
   "cell_type": "code",
   "execution_count": 71,
   "id": "accessible-success",
   "metadata": {
    "tags": []
   },
   "outputs": [
    {
     "data": {
      "text/html": [
       "<div>\n",
       "<style scoped>\n",
       "    .dataframe tbody tr th:only-of-type {\n",
       "        vertical-align: middle;\n",
       "    }\n",
       "\n",
       "    .dataframe tbody tr th {\n",
       "        vertical-align: top;\n",
       "    }\n",
       "\n",
       "    .dataframe thead th {\n",
       "        text-align: right;\n",
       "    }\n",
       "</style>\n",
       "<table border=\"1\" class=\"dataframe\">\n",
       "  <thead>\n",
       "    <tr style=\"text-align: right;\">\n",
       "      <th></th>\n",
       "      <th>0</th>\n",
       "    </tr>\n",
       "  </thead>\n",
       "  <tbody>\n",
       "    <tr>\n",
       "      <th>IlmnID</th>\n",
       "      <td>cg00101675_BC21</td>\n",
       "    </tr>\n",
       "    <tr>\n",
       "      <th>Name</th>\n",
       "      <td>cg00101675</td>\n",
       "    </tr>\n",
       "    <tr>\n",
       "      <th>AddressA_ID</th>\n",
       "      <td>91684905</td>\n",
       "    </tr>\n",
       "    <tr>\n",
       "      <th>AlleleA_ProbeSeq</th>\n",
       "      <td>TTCCTAAAAAAACTTCAACAATACTATATCATTTTTAACTTCATAAACAC</td>\n",
       "    </tr>\n",
       "    <tr>\n",
       "      <th>AddressB_ID</th>\n",
       "      <td>NaN</td>\n",
       "    </tr>\n",
       "    <tr>\n",
       "      <th>AlleleB_ProbeSeq</th>\n",
       "      <td>NaN</td>\n",
       "    </tr>\n",
       "    <tr>\n",
       "      <th>Infinium_Design_Type</th>\n",
       "      <td>II</td>\n",
       "    </tr>\n",
       "    <tr>\n",
       "      <th>Next_Base</th>\n",
       "      <td>NaN</td>\n",
       "    </tr>\n",
       "    <tr>\n",
       "      <th>Color_Channel</th>\n",
       "      <td>NaN</td>\n",
       "    </tr>\n",
       "    <tr>\n",
       "      <th>Genome_Build</th>\n",
       "      <td>mm10</td>\n",
       "    </tr>\n",
       "    <tr>\n",
       "      <th>Genome_Build_NCBI</th>\n",
       "      <td>GRCm10</td>\n",
       "    </tr>\n",
       "    <tr>\n",
       "      <th>CHR</th>\n",
       "      <td>12</td>\n",
       "    </tr>\n",
       "    <tr>\n",
       "      <th>MAPINFO</th>\n",
       "      <td>75515719</td>\n",
       "    </tr>\n",
       "    <tr>\n",
       "      <th>SourceSeq</th>\n",
       "      <td>TCCTAAAaAAACTTCAaCAaTaCTaTaTCATTTTTaACTTCATaaACACr</td>\n",
       "    </tr>\n",
       "    <tr>\n",
       "      <th>Strand</th>\n",
       "      <td>R</td>\n",
       "    </tr>\n",
       "    <tr>\n",
       "      <th>Strand_TB</th>\n",
       "      <td>B</td>\n",
       "    </tr>\n",
       "    <tr>\n",
       "      <th>Strand_CO</th>\n",
       "      <td>C</td>\n",
       "    </tr>\n",
       "    <tr>\n",
       "      <th>N_Shelf</th>\n",
       "      <td>NaN</td>\n",
       "    </tr>\n",
       "    <tr>\n",
       "      <th>N_Shore</th>\n",
       "      <td>NaN</td>\n",
       "    </tr>\n",
       "    <tr>\n",
       "      <th>CpG_Island</th>\n",
       "      <td>NaN</td>\n",
       "    </tr>\n",
       "    <tr>\n",
       "      <th>CpG_Island_chrom</th>\n",
       "      <td>NaN</td>\n",
       "    </tr>\n",
       "    <tr>\n",
       "      <th>CpG_Island_chromStart</th>\n",
       "      <td>NaN</td>\n",
       "    </tr>\n",
       "    <tr>\n",
       "      <th>CpG_Island_chromEnd</th>\n",
       "      <td>NaN</td>\n",
       "    </tr>\n",
       "    <tr>\n",
       "      <th>CpG_Island_length</th>\n",
       "      <td>NaN</td>\n",
       "    </tr>\n",
       "    <tr>\n",
       "      <th>CpG_Island_cpgNum</th>\n",
       "      <td>NaN</td>\n",
       "    </tr>\n",
       "    <tr>\n",
       "      <th>CpG_Island_gcNum</th>\n",
       "      <td>NaN</td>\n",
       "    </tr>\n",
       "    <tr>\n",
       "      <th>CpG_Island_perCpg</th>\n",
       "      <td>NaN</td>\n",
       "    </tr>\n",
       "    <tr>\n",
       "      <th>CpG_Island_perGc</th>\n",
       "      <td>NaN</td>\n",
       "    </tr>\n",
       "    <tr>\n",
       "      <th>CpG_Island_obsExp</th>\n",
       "      <td>NaN</td>\n",
       "    </tr>\n",
       "    <tr>\n",
       "      <th>S_Shore</th>\n",
       "      <td>NaN</td>\n",
       "    </tr>\n",
       "    <tr>\n",
       "      <th>S_Shelf</th>\n",
       "      <td>NaN</td>\n",
       "    </tr>\n",
       "    <tr>\n",
       "      <th>MFG_Change_Flagged</th>\n",
       "      <td>False</td>\n",
       "    </tr>\n",
       "  </tbody>\n",
       "</table>\n",
       "</div>"
      ],
      "text/plain": [
       "                                                                        0\n",
       "IlmnID                                                    cg00101675_BC21\n",
       "Name                                                           cg00101675\n",
       "AddressA_ID                                                      91684905\n",
       "AlleleA_ProbeSeq       TTCCTAAAAAAACTTCAACAATACTATATCATTTTTAACTTCATAAACAC\n",
       "AddressB_ID                                                           NaN\n",
       "AlleleB_ProbeSeq                                                      NaN\n",
       "Infinium_Design_Type                                                   II\n",
       "Next_Base                                                             NaN\n",
       "Color_Channel                                                         NaN\n",
       "Genome_Build                                                         mm10\n",
       "Genome_Build_NCBI                                                  GRCm10\n",
       "CHR                                                                    12\n",
       "MAPINFO                                                          75515719\n",
       "SourceSeq              TCCTAAAaAAACTTCAaCAaTaCTaTaTCATTTTTaACTTCATaaACACr\n",
       "Strand                                                                  R\n",
       "Strand_TB                                                               B\n",
       "Strand_CO                                                               C\n",
       "N_Shelf                                                               NaN\n",
       "N_Shore                                                               NaN\n",
       "CpG_Island                                                            NaN\n",
       "CpG_Island_chrom                                                      NaN\n",
       "CpG_Island_chromStart                                                 NaN\n",
       "CpG_Island_chromEnd                                                   NaN\n",
       "CpG_Island_length                                                     NaN\n",
       "CpG_Island_cpgNum                                                     NaN\n",
       "CpG_Island_gcNum                                                      NaN\n",
       "CpG_Island_perCpg                                                     NaN\n",
       "CpG_Island_perGc                                                      NaN\n",
       "CpG_Island_obsExp                                                     NaN\n",
       "S_Shore                                                               NaN\n",
       "S_Shelf                                                               NaN\n",
       "MFG_Change_Flagged                                                  False"
      ]
     },
     "execution_count": 71,
     "metadata": {},
     "output_type": "execute_result"
    }
   ],
   "source": [
    "illumina_probes.drop([\"Forward_Sequence\", \"Top_Sequence\"], axis=1).iloc[0].to_frame()"
   ]
  },
  {
   "cell_type": "markdown",
   "id": "chief-notification",
   "metadata": {},
   "source": [
    "There are nan chromosomes entries, and also some entries for chromosome 0, just 410, so I assume this can just be discarded as controls or something similar"
   ]
  },
  {
   "cell_type": "code",
   "execution_count": 72,
   "id": "mental-kansas",
   "metadata": {},
   "outputs": [
    {
     "data": {
      "text/plain": [
       "2     21675\n",
       "11    18941\n",
       "7     18875\n",
       "4     18151\n",
       "5     17173\n",
       "1     17077\n",
       "X     15147\n",
       "9     14907\n",
       "10    14824\n",
       "6     14427\n",
       "8     13998\n",
       "3     13511\n",
       "17    13055\n",
       "13    11861\n",
       "15    11458\n",
       "12    11130\n",
       "14    10532\n",
       "16     9093\n",
       "18     8596\n",
       "19     8508\n",
       "Y      3665\n",
       "0       410\n",
       "MT       36\n",
       "Name: CHR, dtype: int64"
      ]
     },
     "execution_count": 72,
     "metadata": {},
     "output_type": "execute_result"
    }
   ],
   "source": [
    "illumina_probes.CHR.value_counts()"
   ]
  },
  {
   "cell_type": "markdown",
   "id": "attractive-douglas",
   "metadata": {},
   "source": [
    "checked manually in my index files: 1-based Start info is in MAPINFO"
   ]
  },
  {
   "cell_type": "markdown",
   "id": "legitimate-nancy",
   "metadata": {},
   "source": [
    "- for comparability with Maxis probes, also add 'chr' prefix and make Categorical\n",
    "- provide BED interval for cytosine"
   ]
  },
  {
   "cell_type": "code",
   "execution_count": 94,
   "id": "subsequent-johnston",
   "metadata": {},
   "outputs": [
    {
     "data": {
      "text/html": [
       "<div>\n",
       "<style scoped>\n",
       "    .dataframe tbody tr th:only-of-type {\n",
       "        vertical-align: middle;\n",
       "    }\n",
       "\n",
       "    .dataframe tbody tr th {\n",
       "        vertical-align: top;\n",
       "    }\n",
       "\n",
       "    .dataframe thead th {\n",
       "        text-align: right;\n",
       "    }\n",
       "</style>\n",
       "<table border=\"1\" class=\"dataframe\">\n",
       "  <thead>\n",
       "    <tr style=\"text-align: right;\">\n",
       "      <th></th>\n",
       "      <th>Chromosome</th>\n",
       "      <th>Start</th>\n",
       "      <th>End</th>\n",
       "      <th>name</th>\n",
       "    </tr>\n",
       "  </thead>\n",
       "  <tbody>\n",
       "    <tr>\n",
       "      <th>0</th>\n",
       "      <td>chr1</td>\n",
       "      <td>3005997</td>\n",
       "      <td>3005998</td>\n",
       "      <td>cg36602742_TC11</td>\n",
       "    </tr>\n",
       "    <tr>\n",
       "      <th>1</th>\n",
       "      <td>chr1</td>\n",
       "      <td>3006186</td>\n",
       "      <td>3006187</td>\n",
       "      <td>cg36602743_TC21</td>\n",
       "    </tr>\n",
       "    <tr>\n",
       "      <th>2</th>\n",
       "      <td>chr1</td>\n",
       "      <td>3035832</td>\n",
       "      <td>3035833</td>\n",
       "      <td>cg36602902_BC11</td>\n",
       "    </tr>\n",
       "    <tr>\n",
       "      <th>3</th>\n",
       "      <td>chr1</td>\n",
       "      <td>3062738</td>\n",
       "      <td>3062739</td>\n",
       "      <td>cg36603113_TC21</td>\n",
       "    </tr>\n",
       "    <tr>\n",
       "      <th>4</th>\n",
       "      <td>chr1</td>\n",
       "      <td>3102469</td>\n",
       "      <td>3102470</td>\n",
       "      <td>cg36603287_TC21</td>\n",
       "    </tr>\n",
       "    <tr>\n",
       "      <th>...</th>\n",
       "      <td>...</td>\n",
       "      <td>...</td>\n",
       "      <td>...</td>\n",
       "      <td>...</td>\n",
       "    </tr>\n",
       "    <tr>\n",
       "      <th>286635</th>\n",
       "      <td>chrMT</td>\n",
       "      <td>12086</td>\n",
       "      <td>12087</td>\n",
       "      <td>cg47407346_TC21</td>\n",
       "    </tr>\n",
       "    <tr>\n",
       "      <th>286636</th>\n",
       "      <td>chrMT</td>\n",
       "      <td>12865</td>\n",
       "      <td>12866</td>\n",
       "      <td>cg47407363_BC21</td>\n",
       "    </tr>\n",
       "    <tr>\n",
       "      <th>286637</th>\n",
       "      <td>chrMT</td>\n",
       "      <td>13343</td>\n",
       "      <td>13344</td>\n",
       "      <td>cg47407375_TC11</td>\n",
       "    </tr>\n",
       "    <tr>\n",
       "      <th>286638</th>\n",
       "      <td>chrMT</td>\n",
       "      <td>14354</td>\n",
       "      <td>14355</td>\n",
       "      <td>cg47407385_BC21</td>\n",
       "    </tr>\n",
       "    <tr>\n",
       "      <th>286639</th>\n",
       "      <td>chrMT</td>\n",
       "      <td>14441</td>\n",
       "      <td>14442</td>\n",
       "      <td>cg47407392_BC21</td>\n",
       "    </tr>\n",
       "  </tbody>\n",
       "</table>\n",
       "<p>286640 rows × 4 columns</p>\n",
       "</div>"
      ],
      "text/plain": [
       "       Chromosome    Start      End             name\n",
       "0            chr1  3005997  3005998  cg36602742_TC11\n",
       "1            chr1  3006186  3006187  cg36602743_TC21\n",
       "2            chr1  3035832  3035833  cg36602902_BC11\n",
       "3            chr1  3062738  3062739  cg36603113_TC21\n",
       "4            chr1  3102469  3102470  cg36603287_TC21\n",
       "...           ...      ...      ...              ...\n",
       "286635      chrMT    12086    12087  cg47407346_TC21\n",
       "286636      chrMT    12865    12866  cg47407363_BC21\n",
       "286637      chrMT    13343    13344  cg47407375_TC11\n",
       "286638      chrMT    14354    14355  cg47407385_BC21\n",
       "286639      chrMT    14441    14442  cg47407392_BC21\n",
       "\n",
       "[286640 rows x 4 columns]"
      ]
     },
     "execution_count": 94,
     "metadata": {},
     "output_type": "execute_result"
    }
   ],
   "source": [
    "illumina_probes_curated_chrom_defined = (\n",
    "    illumina_probes[[\"CHR\", \"MAPINFO\", \"IlmnID\"]]\n",
    "    .rename(columns={\"CHR\": \"Chromosome\", \"MAPINFO\": \"Start\", \"IlmnID\": \"name\"})\n",
    "    .loc[lambda df: df.Chromosome.notnull() & df.Chromosome.ne(\"0\")]\n",
    "    .assign(\n",
    "        Start=lambda df: df[\"Start\"] - 1,\n",
    "        End=lambda df: df[\"Start\"] + 1,\n",
    "        Chromosome=lambda df: (\"chr\" + df[\"Chromosome\"]).astype(chrom_dtype_prefixed),\n",
    "    )\n",
    "    .sort_values([\"Chromosome\", \"Start\", \"End\"])\n",
    "    .reset_index(drop=True)[[\"Chromosome\", \"Start\", \"End\", \"name\"]]\n",
    ")\n",
    "illumina_probes_curated_chrom_defined"
   ]
  },
  {
   "cell_type": "markdown",
   "id": "virgin-arcade",
   "metadata": {},
   "source": [
    "drop duplicate rows, remove prefix, change to alphabetic sorting order"
   ]
  },
  {
   "cell_type": "code",
   "execution_count": 95,
   "id": "collected-walker",
   "metadata": {},
   "outputs": [],
   "source": [
    "illumina_probes_curated_chrom_defined.assign(\n",
    "    Chromosome=lambda df: df.Chromosome.astype(str).str.replace(\"chr\", \"\")\n",
    ").iloc[:, 0:3].sort_values([\"Chromosome\", \"Start\", \"End\"]).drop_duplicates().to_csv(\n",
    "    illumina_coordinate_bed, sep=\"\\t\", header=False, index=False\n",
    ")"
   ]
  },
  {
   "cell_type": "code",
   "execution_count": 96,
   "id": "developmental-economics",
   "metadata": {},
   "outputs": [
    {
     "name": "stdout",
     "output_type": "stream",
     "text": [
      "1\t3005997\t3005998\n",
      "1\t3006186\t3006187\n",
      "1\t3035832\t3035833\n",
      "1\t3062738\t3062739\n",
      "1\t3102469\t3102470\n",
      "1\t3121638\t3121639\n",
      "1\t3199333\t3199334\n",
      "1\t3216334\t3216335\n",
      "1\t3253526\t3253527\n",
      "1\t3275903\t3275904\n"
     ]
    }
   ],
   "source": [
    "!head {illumina_coordinate_bed}"
   ]
  },
  {
   "cell_type": "markdown",
   "id": "agricultural-american",
   "metadata": {
    "heading_collapsed": "true",
    "tags": []
   },
   "source": [
    "##### Check against Maxis probes to see whether I have correct manifest file"
   ]
  },
  {
   "cell_type": "markdown",
   "id": "surrounded-things",
   "metadata": {},
   "source": [
    "this is the correct manifest file - maxis coordinates are shifted when on minus strand"
   ]
  },
  {
   "cell_type": "code",
   "execution_count": 75,
   "id": "million-agency",
   "metadata": {},
   "outputs": [
    {
     "data": {
      "text/html": [
       "<div>\n",
       "<style scoped>\n",
       "    .dataframe tbody tr th:only-of-type {\n",
       "        vertical-align: middle;\n",
       "    }\n",
       "\n",
       "    .dataframe tbody tr th {\n",
       "        vertical-align: top;\n",
       "    }\n",
       "\n",
       "    .dataframe thead th {\n",
       "        text-align: right;\n",
       "    }\n",
       "</style>\n",
       "<table border=\"1\" class=\"dataframe\">\n",
       "  <thead>\n",
       "    <tr style=\"text-align: right;\">\n",
       "      <th></th>\n",
       "      <th>Chromosome</th>\n",
       "      <th>Start</th>\n",
       "      <th>End</th>\n",
       "      <th>name</th>\n",
       "    </tr>\n",
       "  </thead>\n",
       "  <tbody>\n",
       "    <tr>\n",
       "      <th>0</th>\n",
       "      <td>chr1</td>\n",
       "      <td>3035832</td>\n",
       "      <td>3035833</td>\n",
       "      <td>cg36602902_BC11</td>\n",
       "    </tr>\n",
       "    <tr>\n",
       "      <th>1</th>\n",
       "      <td>chr1</td>\n",
       "      <td>3121638</td>\n",
       "      <td>3121639</td>\n",
       "      <td>cg36603393_BC21</td>\n",
       "    </tr>\n",
       "    <tr>\n",
       "      <th>2</th>\n",
       "      <td>chr1</td>\n",
       "      <td>3514033</td>\n",
       "      <td>3514034</td>\n",
       "      <td>cg36605130_BC21</td>\n",
       "    </tr>\n",
       "    <tr>\n",
       "      <th>3</th>\n",
       "      <td>chr1</td>\n",
       "      <td>3526405</td>\n",
       "      <td>3526406</td>\n",
       "      <td>cg36605172_BC21</td>\n",
       "    </tr>\n",
       "    <tr>\n",
       "      <th>4</th>\n",
       "      <td>chr1</td>\n",
       "      <td>3548143</td>\n",
       "      <td>3548144</td>\n",
       "      <td>cg36605321_BC21</td>\n",
       "    </tr>\n",
       "    <tr>\n",
       "      <th>...</th>\n",
       "      <td>...</td>\n",
       "      <td>...</td>\n",
       "      <td>...</td>\n",
       "      <td>...</td>\n",
       "    </tr>\n",
       "    <tr>\n",
       "      <th>131877</th>\n",
       "      <td>chrY</td>\n",
       "      <td>87877338</td>\n",
       "      <td>87877339</td>\n",
       "      <td>cg48338431_BC11</td>\n",
       "    </tr>\n",
       "    <tr>\n",
       "      <th>131878</th>\n",
       "      <td>chrY</td>\n",
       "      <td>88188140</td>\n",
       "      <td>88188141</td>\n",
       "      <td>cg48338916_BC11</td>\n",
       "    </tr>\n",
       "    <tr>\n",
       "      <th>131879</th>\n",
       "      <td>chrY</td>\n",
       "      <td>90739047</td>\n",
       "      <td>90739048</td>\n",
       "      <td>cg48343391_BC11</td>\n",
       "    </tr>\n",
       "    <tr>\n",
       "      <th>131880</th>\n",
       "      <td>chrY</td>\n",
       "      <td>90805372</td>\n",
       "      <td>90805373</td>\n",
       "      <td>cg48344082_BC11</td>\n",
       "    </tr>\n",
       "    <tr>\n",
       "      <th>131881</th>\n",
       "      <td>chrY</td>\n",
       "      <td>90809535</td>\n",
       "      <td>90809536</td>\n",
       "      <td>cg48344158_BC11</td>\n",
       "    </tr>\n",
       "  </tbody>\n",
       "</table>\n",
       "<p>131882 rows × 4 columns</p>\n",
       "</div>"
      ],
      "text/plain": [
       "       Chromosome     Start       End             name\n",
       "0            chr1   3035832   3035833  cg36602902_BC11\n",
       "1            chr1   3121638   3121639  cg36603393_BC21\n",
       "2            chr1   3514033   3514034  cg36605130_BC21\n",
       "3            chr1   3526405   3526406  cg36605172_BC21\n",
       "4            chr1   3548143   3548144  cg36605321_BC21\n",
       "...           ...       ...       ...              ...\n",
       "131877       chrY  87877338  87877339  cg48338431_BC11\n",
       "131878       chrY  88188140  88188141  cg48338916_BC11\n",
       "131879       chrY  90739047  90739048  cg48343391_BC11\n",
       "131880       chrY  90805372  90805373  cg48344082_BC11\n",
       "131881       chrY  90809535  90809536  cg48344158_BC11\n",
       "\n",
       "[131882 rows x 4 columns]"
      ]
     },
     "execution_count": 75,
     "metadata": {},
     "output_type": "execute_result"
    }
   ],
   "source": [
    "pd.merge(\n",
    "    original_probes_df_sorted,\n",
    "    illumina_probes_curated_chrom_defined,\n",
    "    on=[\"Chromosome\", \"Start\", \"End\", \"name\"],\n",
    "    how=\"inner\",\n",
    ")"
   ]
  },
  {
   "cell_type": "code",
   "execution_count": 76,
   "id": "insured-engineering",
   "metadata": {},
   "outputs": [
    {
     "data": {
      "text/html": [
       "<div>\n",
       "<style scoped>\n",
       "    .dataframe tbody tr th:only-of-type {\n",
       "        vertical-align: middle;\n",
       "    }\n",
       "\n",
       "    .dataframe tbody tr th {\n",
       "        vertical-align: top;\n",
       "    }\n",
       "\n",
       "    .dataframe thead th {\n",
       "        text-align: right;\n",
       "    }\n",
       "</style>\n",
       "<table border=\"1\" class=\"dataframe\">\n",
       "  <thead>\n",
       "    <tr style=\"text-align: right;\">\n",
       "      <th></th>\n",
       "      <th>Chromosome_x</th>\n",
       "      <th>Start_x</th>\n",
       "      <th>End_x</th>\n",
       "      <th>name</th>\n",
       "      <th>Chromosome_y</th>\n",
       "      <th>Start_y</th>\n",
       "      <th>End_y</th>\n",
       "    </tr>\n",
       "  </thead>\n",
       "  <tbody>\n",
       "    <tr>\n",
       "      <th>0</th>\n",
       "      <td>chr1</td>\n",
       "      <td>3035832</td>\n",
       "      <td>3035833</td>\n",
       "      <td>cg36602902_BC11</td>\n",
       "      <td>chr1</td>\n",
       "      <td>3035832</td>\n",
       "      <td>3035833</td>\n",
       "    </tr>\n",
       "    <tr>\n",
       "      <th>1</th>\n",
       "      <td>chr1</td>\n",
       "      <td>3102470</td>\n",
       "      <td>3102471</td>\n",
       "      <td>cg36603287_TC21</td>\n",
       "      <td>chr1</td>\n",
       "      <td>3102469</td>\n",
       "      <td>3102470</td>\n",
       "    </tr>\n",
       "    <tr>\n",
       "      <th>2</th>\n",
       "      <td>chr1</td>\n",
       "      <td>3121638</td>\n",
       "      <td>3121639</td>\n",
       "      <td>cg36603393_BC21</td>\n",
       "      <td>chr1</td>\n",
       "      <td>3121638</td>\n",
       "      <td>3121639</td>\n",
       "    </tr>\n",
       "    <tr>\n",
       "      <th>3</th>\n",
       "      <td>chr1</td>\n",
       "      <td>3199334</td>\n",
       "      <td>3199335</td>\n",
       "      <td>cg36603791_TC21</td>\n",
       "      <td>chr1</td>\n",
       "      <td>3199333</td>\n",
       "      <td>3199334</td>\n",
       "    </tr>\n",
       "    <tr>\n",
       "      <th>4</th>\n",
       "      <td>chr1</td>\n",
       "      <td>3216335</td>\n",
       "      <td>3216336</td>\n",
       "      <td>cg36603848_TC21</td>\n",
       "      <td>chr1</td>\n",
       "      <td>3216334</td>\n",
       "      <td>3216335</td>\n",
       "    </tr>\n",
       "    <tr>\n",
       "      <th>...</th>\n",
       "      <td>...</td>\n",
       "      <td>...</td>\n",
       "      <td>...</td>\n",
       "      <td>...</td>\n",
       "      <td>...</td>\n",
       "      <td>...</td>\n",
       "      <td>...</td>\n",
       "    </tr>\n",
       "    <tr>\n",
       "      <th>262159</th>\n",
       "      <td>chrY</td>\n",
       "      <td>90805372</td>\n",
       "      <td>90805373</td>\n",
       "      <td>cg48344082_BC11</td>\n",
       "      <td>chrY</td>\n",
       "      <td>90805372</td>\n",
       "      <td>90805373</td>\n",
       "    </tr>\n",
       "    <tr>\n",
       "      <th>262160</th>\n",
       "      <td>chrY</td>\n",
       "      <td>90806785</td>\n",
       "      <td>90806786</td>\n",
       "      <td>cg48344102_TC21</td>\n",
       "      <td>chrY</td>\n",
       "      <td>90806784</td>\n",
       "      <td>90806785</td>\n",
       "    </tr>\n",
       "    <tr>\n",
       "      <th>262161</th>\n",
       "      <td>chrY</td>\n",
       "      <td>90808023</td>\n",
       "      <td>90808024</td>\n",
       "      <td>cg48344138_TC21</td>\n",
       "      <td>chrY</td>\n",
       "      <td>90808022</td>\n",
       "      <td>90808023</td>\n",
       "    </tr>\n",
       "    <tr>\n",
       "      <th>262162</th>\n",
       "      <td>chrY</td>\n",
       "      <td>90808869</td>\n",
       "      <td>90808870</td>\n",
       "      <td>cg48344145_TC21</td>\n",
       "      <td>chrY</td>\n",
       "      <td>90808868</td>\n",
       "      <td>90808869</td>\n",
       "    </tr>\n",
       "    <tr>\n",
       "      <th>262163</th>\n",
       "      <td>chrY</td>\n",
       "      <td>90809535</td>\n",
       "      <td>90809536</td>\n",
       "      <td>cg48344158_BC11</td>\n",
       "      <td>chrY</td>\n",
       "      <td>90809535</td>\n",
       "      <td>90809536</td>\n",
       "    </tr>\n",
       "  </tbody>\n",
       "</table>\n",
       "<p>262164 rows × 7 columns</p>\n",
       "</div>"
      ],
      "text/plain": [
       "       Chromosome_x   Start_x     End_x             name Chromosome_y  \\\n",
       "0              chr1   3035832   3035833  cg36602902_BC11         chr1   \n",
       "1              chr1   3102470   3102471  cg36603287_TC21         chr1   \n",
       "2              chr1   3121638   3121639  cg36603393_BC21         chr1   \n",
       "3              chr1   3199334   3199335  cg36603791_TC21         chr1   \n",
       "4              chr1   3216335   3216336  cg36603848_TC21         chr1   \n",
       "...             ...       ...       ...              ...          ...   \n",
       "262159         chrY  90805372  90805373  cg48344082_BC11         chrY   \n",
       "262160         chrY  90806785  90806786  cg48344102_TC21         chrY   \n",
       "262161         chrY  90808023  90808024  cg48344138_TC21         chrY   \n",
       "262162         chrY  90808869  90808870  cg48344145_TC21         chrY   \n",
       "262163         chrY  90809535  90809536  cg48344158_BC11         chrY   \n",
       "\n",
       "         Start_y     End_y  \n",
       "0        3035832   3035833  \n",
       "1        3102469   3102470  \n",
       "2        3121638   3121639  \n",
       "3        3199333   3199334  \n",
       "4        3216334   3216335  \n",
       "...          ...       ...  \n",
       "262159  90805372  90805373  \n",
       "262160  90806784  90806785  \n",
       "262161  90808022  90808023  \n",
       "262162  90808868  90808869  \n",
       "262163  90809535  90809536  \n",
       "\n",
       "[262164 rows x 7 columns]"
      ]
     },
     "metadata": {},
     "output_type": "display_data"
    }
   ],
   "source": [
    "df = pd.merge(\n",
    "    original_probes_df_sorted,\n",
    "    illumina_probes_curated_chrom_defined,\n",
    "    on=[\"name\"],\n",
    "    how=\"inner\",\n",
    ")\n",
    "display(df)\n",
    "assert df.shape[0] == original_probes_df_sorted.shape[0]"
   ]
  },
  {
   "cell_type": "markdown",
   "id": "express-plaza",
   "metadata": {
    "heading_collapsed": "true",
    "tags": []
   },
   "source": [
    "##### Add motif and strand"
   ]
  },
  {
   "cell_type": "markdown",
   "id": "liquid-generator",
   "metadata": {
    "tags": []
   },
   "source": [
    "## Annotation"
   ]
  },
  {
   "cell_type": "markdown",
   "id": "painted-milwaukee",
   "metadata": {
    "tags": []
   },
   "source": [
    "### Gene annotation"
   ]
  },
  {
   "cell_type": "markdown",
   "id": "fiscal-moses",
   "metadata": {
    "heading_collapsed": "true",
    "tags": []
   },
   "source": [
    "#### Perform annotation"
   ]
  },
  {
   "cell_type": "code",
   "execution_count": 156,
   "id": "absolute-while",
   "metadata": {
    "tags": []
   },
   "outputs": [
    {
     "name": "stdout",
     "output_type": "stream",
     "text": [
      "Loading data\n",
      "Annotating promoter regions\n",
      "FIXED DCRD ANNO\n",
      "Annotating transcript parts\n",
      "UTR classification\n",
      "Merge results\n",
      "Classify annotations\n",
      "Add intergenic regions\n",
      "Save results\n",
      "Basic stats for primary annotations\n",
      "    #Primary annotations  Frequency\n",
      "0                      1     235952\n",
      "1                      2      20045\n",
      "2                      3       8610\n",
      "3                      4       5253\n",
      "4                      5       3642\n",
      "5                      6       2377\n",
      "6                      7       1579\n",
      "7                      8       1201\n",
      "8                      9        913\n",
      "9                     10        644\n",
      "10                    11        538\n",
      "11                    12        359\n",
      "12                    13        312\n",
      "13                    14        164\n",
      "14                    15        113\n",
      "15                    17         93\n",
      "16                    16         60\n",
      "17                    18         55\n",
      "18                    21         26\n",
      "19                    19         22\n",
      "20                    20         17\n",
      "21                    22         12\n",
      "22                    24          9\n",
      "23                    25          7\n",
      "24                    23          3\n",
      "      Feature  Frequency\n",
      "0        DCRD     184620\n",
      "1      intron      95281\n",
      "2    Promoter      66525\n",
      "3  intergenic      34506\n",
      "4        exon      27046\n",
      "5      3'-UTR       5517\n",
      "6      5'-UTR       1011\n",
      "7  transcript          0\n",
      "CPU times: user 22min 43s, sys: 21.4 s, total: 23min 5s\n",
      "Wall time: 22min 49s\n"
     ]
    }
   ],
   "source": [
    "%%time\n",
    "ga.annotate(\n",
    "    query_bed=illumina_coordinate_bed,\n",
    "    gtf_fp=gencode_coding_canonical_gtf,\n",
    "    trunk_path=custom_intervals_trunk_path,\n",
    "    tmpdir=temp_dir_name,\n",
    "    promoter=(-1500, 500),\n",
    "    distant_cis_regulatory_domain=(-100_000, 100_000),\n",
    ")"
   ]
  },
  {
   "cell_type": "markdown",
   "id": "optimum-supervisor",
   "metadata": {
    "tags": []
   },
   "source": [
    "#### Inspect annotations"
   ]
  },
  {
   "cell_type": "code",
   "execution_count": 157,
   "id": "dynamic-luxembourg",
   "metadata": {},
   "outputs": [],
   "source": [
    "primary_annos = pd.read_pickle(custom_intervals_results_paths_d[\"primary_annos_p\"])"
   ]
  },
  {
   "cell_type": "code",
   "execution_count": 158,
   "id": "dynamic-tongue",
   "metadata": {},
   "outputs": [
    {
     "data": {
      "text/plain": [
       "(414506, 20)"
      ]
     },
     "execution_count": 158,
     "metadata": {},
     "output_type": "execute_result"
    }
   ],
   "source": [
    "primary_annos.shape"
   ]
  },
  {
   "cell_type": "markdown",
   "id": "cooked-residence",
   "metadata": {
    "tags": []
   },
   "source": [
    "##### General checks"
   ]
  },
  {
   "cell_type": "code",
   "execution_count": 159,
   "id": "forced-sperm",
   "metadata": {},
   "outputs": [
    {
     "data": {
      "text/html": [
       "<div>\n",
       "<style scoped>\n",
       "    .dataframe tbody tr th:only-of-type {\n",
       "        vertical-align: middle;\n",
       "    }\n",
       "\n",
       "    .dataframe tbody tr th {\n",
       "        vertical-align: top;\n",
       "    }\n",
       "\n",
       "    .dataframe thead th {\n",
       "        text-align: right;\n",
       "    }\n",
       "</style>\n",
       "<table border=\"1\" class=\"dataframe\">\n",
       "  <thead>\n",
       "    <tr style=\"text-align: right;\">\n",
       "      <th></th>\n",
       "      <th>Chromosome</th>\n",
       "      <th>Start</th>\n",
       "      <th>End</th>\n",
       "      <th>gtfanno_uid</th>\n",
       "      <th>center</th>\n",
       "      <th>feat_class</th>\n",
       "      <th>perc_feature</th>\n",
       "      <th>perc_region</th>\n",
       "      <th>distance</th>\n",
       "      <th>has_center</th>\n",
       "      <th>gene_name</th>\n",
       "      <th>gene_id</th>\n",
       "      <th>transcript_id</th>\n",
       "      <th>appris_principal_score</th>\n",
       "      <th>feat_chrom</th>\n",
       "      <th>feat_start</th>\n",
       "      <th>feat_end</th>\n",
       "      <th>feat_center</th>\n",
       "      <th>feat_strand</th>\n",
       "      <th>feature_rank</th>\n",
       "    </tr>\n",
       "  </thead>\n",
       "  <tbody>\n",
       "    <tr>\n",
       "      <th>32</th>\n",
       "      <td>1</td>\n",
       "      <td>3671231</td>\n",
       "      <td>3671232</td>\n",
       "      <td>24</td>\n",
       "      <td>3,671,231.50</td>\n",
       "      <td>Promoter</td>\n",
       "      <td>NaN</td>\n",
       "      <td>NaN</td>\n",
       "      <td>266.50</td>\n",
       "      <td>True</td>\n",
       "      <td>Xkr4</td>\n",
       "      <td>ENSMUSG00000051951.5</td>\n",
       "      <td>ENSMUST00000070533.4</td>\n",
       "      <td>0.00</td>\n",
       "      <td>1</td>\n",
       "      <td>3,571,498.00</td>\n",
       "      <td>3,771,498.00</td>\n",
       "      <td>NaN</td>\n",
       "      <td>-</td>\n",
       "      <td>primary</td>\n",
       "    </tr>\n",
       "    <tr>\n",
       "      <th>66</th>\n",
       "      <td>1</td>\n",
       "      <td>4408881</td>\n",
       "      <td>4408882</td>\n",
       "      <td>43</td>\n",
       "      <td>4,408,881.50</td>\n",
       "      <td>Promoter</td>\n",
       "      <td>NaN</td>\n",
       "      <td>NaN</td>\n",
       "      <td>359.50</td>\n",
       "      <td>True</td>\n",
       "      <td>Rp1</td>\n",
       "      <td>ENSMUSG00000025900.13</td>\n",
       "      <td>ENSMUST00000208660.1</td>\n",
       "      <td>0.00</td>\n",
       "      <td>1</td>\n",
       "      <td>4,309,241.00</td>\n",
       "      <td>4,509,241.00</td>\n",
       "      <td>NaN</td>\n",
       "      <td>-</td>\n",
       "      <td>primary</td>\n",
       "    </tr>\n",
       "    <tr>\n",
       "      <th>70</th>\n",
       "      <td>1</td>\n",
       "      <td>4409378</td>\n",
       "      <td>4409379</td>\n",
       "      <td>44</td>\n",
       "      <td>4,409,378.50</td>\n",
       "      <td>Promoter</td>\n",
       "      <td>NaN</td>\n",
       "      <td>NaN</td>\n",
       "      <td>-137.50</td>\n",
       "      <td>True</td>\n",
       "      <td>Rp1</td>\n",
       "      <td>ENSMUSG00000025900.13</td>\n",
       "      <td>ENSMUST00000208660.1</td>\n",
       "      <td>0.00</td>\n",
       "      <td>1</td>\n",
       "      <td>4,309,241.00</td>\n",
       "      <td>4,509,241.00</td>\n",
       "      <td>NaN</td>\n",
       "      <td>-</td>\n",
       "      <td>primary</td>\n",
       "    </tr>\n",
       "  </tbody>\n",
       "</table>\n",
       "</div>"
      ],
      "text/plain": [
       "   Chromosome    Start      End  gtfanno_uid       center feat_class  \\\n",
       "32          1  3671231  3671232           24 3,671,231.50   Promoter   \n",
       "66          1  4408881  4408882           43 4,408,881.50   Promoter   \n",
       "70          1  4409378  4409379           44 4,409,378.50   Promoter   \n",
       "\n",
       "    perc_feature  perc_region  distance has_center gene_name  \\\n",
       "32           NaN          NaN    266.50       True      Xkr4   \n",
       "66           NaN          NaN    359.50       True       Rp1   \n",
       "70           NaN          NaN   -137.50       True       Rp1   \n",
       "\n",
       "                  gene_id         transcript_id  appris_principal_score  \\\n",
       "32   ENSMUSG00000051951.5  ENSMUST00000070533.4                    0.00   \n",
       "66  ENSMUSG00000025900.13  ENSMUST00000208660.1                    0.00   \n",
       "70  ENSMUSG00000025900.13  ENSMUST00000208660.1                    0.00   \n",
       "\n",
       "   feat_chrom   feat_start     feat_end  feat_center feat_strand feature_rank  \n",
       "32          1 3,571,498.00 3,771,498.00          NaN           -      primary  \n",
       "66          1 4,309,241.00 4,509,241.00          NaN           -      primary  \n",
       "70          1 4,309,241.00 4,509,241.00          NaN           -      primary  "
      ]
     },
     "execution_count": 159,
     "metadata": {},
     "output_type": "execute_result"
    }
   ],
   "source": [
    "primary_annos.query('feat_class == \"Promoter\"').head(3)"
   ]
  },
  {
   "cell_type": "code",
   "execution_count": 160,
   "id": "silver-formation",
   "metadata": {},
   "outputs": [
    {
     "data": {
      "text/html": [
       "<div>\n",
       "<style scoped>\n",
       "    .dataframe tbody tr th:only-of-type {\n",
       "        vertical-align: middle;\n",
       "    }\n",
       "\n",
       "    .dataframe tbody tr th {\n",
       "        vertical-align: top;\n",
       "    }\n",
       "\n",
       "    .dataframe thead th {\n",
       "        text-align: right;\n",
       "    }\n",
       "</style>\n",
       "<table border=\"1\" class=\"dataframe\">\n",
       "  <thead>\n",
       "    <tr style=\"text-align: right;\">\n",
       "      <th></th>\n",
       "      <th>Chromosome</th>\n",
       "      <th>Start</th>\n",
       "      <th>End</th>\n",
       "      <th>gtfanno_uid</th>\n",
       "      <th>center</th>\n",
       "      <th>feat_class</th>\n",
       "      <th>perc_feature</th>\n",
       "      <th>perc_region</th>\n",
       "      <th>distance</th>\n",
       "      <th>has_center</th>\n",
       "      <th>gene_name</th>\n",
       "      <th>gene_id</th>\n",
       "      <th>transcript_id</th>\n",
       "      <th>appris_principal_score</th>\n",
       "      <th>feat_chrom</th>\n",
       "      <th>feat_start</th>\n",
       "      <th>feat_end</th>\n",
       "      <th>feat_center</th>\n",
       "      <th>feat_strand</th>\n",
       "      <th>feature_rank</th>\n",
       "    </tr>\n",
       "  </thead>\n",
       "  <tbody>\n",
       "    <tr>\n",
       "      <th>7</th>\n",
       "      <td>1</td>\n",
       "      <td>3216334</td>\n",
       "      <td>3216335</td>\n",
       "      <td>7</td>\n",
       "      <td>3,216,334.00</td>\n",
       "      <td>exon</td>\n",
       "      <td>0.00</td>\n",
       "      <td>1.00</td>\n",
       "      <td>609.50</td>\n",
       "      <td>True</td>\n",
       "      <td>Xkr4</td>\n",
       "      <td>ENSMUSG00000051951.5</td>\n",
       "      <td>ENSMUST00000070533.4</td>\n",
       "      <td>0.00</td>\n",
       "      <td>1</td>\n",
       "      <td>3,214,482.00</td>\n",
       "      <td>3,216,968.00</td>\n",
       "      <td>3,215,724.50</td>\n",
       "      <td>-</td>\n",
       "      <td>primary</td>\n",
       "    </tr>\n",
       "    <tr>\n",
       "      <th>23</th>\n",
       "      <td>1</td>\n",
       "      <td>3670721</td>\n",
       "      <td>3670722</td>\n",
       "      <td>21</td>\n",
       "      <td>3,670,721.00</td>\n",
       "      <td>exon</td>\n",
       "      <td>0.00</td>\n",
       "      <td>1.00</td>\n",
       "      <td>-303.50</td>\n",
       "      <td>True</td>\n",
       "      <td>Xkr4</td>\n",
       "      <td>ENSMUSG00000051951.5</td>\n",
       "      <td>ENSMUST00000070533.4</td>\n",
       "      <td>0.00</td>\n",
       "      <td>1</td>\n",
       "      <td>3,670,552.00</td>\n",
       "      <td>3,671,498.00</td>\n",
       "      <td>3,671,024.50</td>\n",
       "      <td>-</td>\n",
       "      <td>primary</td>\n",
       "    </tr>\n",
       "    <tr>\n",
       "      <th>26</th>\n",
       "      <td>1</td>\n",
       "      <td>3670834</td>\n",
       "      <td>3670835</td>\n",
       "      <td>22</td>\n",
       "      <td>3,670,834.00</td>\n",
       "      <td>exon</td>\n",
       "      <td>0.00</td>\n",
       "      <td>1.00</td>\n",
       "      <td>-190.50</td>\n",
       "      <td>True</td>\n",
       "      <td>Xkr4</td>\n",
       "      <td>ENSMUSG00000051951.5</td>\n",
       "      <td>ENSMUST00000070533.4</td>\n",
       "      <td>0.00</td>\n",
       "      <td>1</td>\n",
       "      <td>3,670,552.00</td>\n",
       "      <td>3,671,498.00</td>\n",
       "      <td>3,671,024.50</td>\n",
       "      <td>-</td>\n",
       "      <td>primary</td>\n",
       "    </tr>\n",
       "  </tbody>\n",
       "</table>\n",
       "</div>"
      ],
      "text/plain": [
       "   Chromosome    Start      End  gtfanno_uid       center feat_class  \\\n",
       "7           1  3216334  3216335            7 3,216,334.00       exon   \n",
       "23          1  3670721  3670722           21 3,670,721.00       exon   \n",
       "26          1  3670834  3670835           22 3,670,834.00       exon   \n",
       "\n",
       "    perc_feature  perc_region  distance has_center gene_name  \\\n",
       "7           0.00         1.00    609.50       True      Xkr4   \n",
       "23          0.00         1.00   -303.50       True      Xkr4   \n",
       "26          0.00         1.00   -190.50       True      Xkr4   \n",
       "\n",
       "                 gene_id         transcript_id  appris_principal_score  \\\n",
       "7   ENSMUSG00000051951.5  ENSMUST00000070533.4                    0.00   \n",
       "23  ENSMUSG00000051951.5  ENSMUST00000070533.4                    0.00   \n",
       "26  ENSMUSG00000051951.5  ENSMUST00000070533.4                    0.00   \n",
       "\n",
       "   feat_chrom   feat_start     feat_end  feat_center feat_strand feature_rank  \n",
       "7           1 3,214,482.00 3,216,968.00 3,215,724.50           -      primary  \n",
       "23          1 3,670,552.00 3,671,498.00 3,671,024.50           -      primary  \n",
       "26          1 3,670,552.00 3,671,498.00 3,671,024.50           -      primary  "
      ]
     },
     "execution_count": 160,
     "metadata": {},
     "output_type": "execute_result"
    }
   ],
   "source": [
    "primary_annos.query('feat_class == \"exon\"').head(3)"
   ]
  },
  {
   "cell_type": "markdown",
   "id": "aerial-marina",
   "metadata": {
    "tags": []
   },
   "source": [
    "##### Multiple assignments per region"
   ]
  },
  {
   "cell_type": "markdown",
   "id": "jewish-prisoner",
   "metadata": {
    "tags": []
   },
   "source": [
    "###### How is this distributed across feature classes?"
   ]
  },
  {
   "cell_type": "code",
   "execution_count": 161,
   "id": "quiet-forge",
   "metadata": {},
   "outputs": [
    {
     "data": {
      "text/html": [
       "<div>\n",
       "<style scoped>\n",
       "    .dataframe tbody tr th:only-of-type {\n",
       "        vertical-align: middle;\n",
       "    }\n",
       "\n",
       "    .dataframe tbody tr th {\n",
       "        vertical-align: top;\n",
       "    }\n",
       "\n",
       "    .dataframe thead th {\n",
       "        text-align: right;\n",
       "    }\n",
       "</style>\n",
       "<table border=\"1\" class=\"dataframe\">\n",
       "  <thead>\n",
       "    <tr style=\"text-align: right;\">\n",
       "      <th></th>\n",
       "      <th>1</th>\n",
       "      <th>2</th>\n",
       "      <th>3</th>\n",
       "      <th>4</th>\n",
       "      <th>5</th>\n",
       "      <th>6</th>\n",
       "      <th>7</th>\n",
       "      <th>8</th>\n",
       "      <th>9</th>\n",
       "      <th>10</th>\n",
       "      <th>...</th>\n",
       "      <th>16</th>\n",
       "      <th>17</th>\n",
       "      <th>18</th>\n",
       "      <th>19</th>\n",
       "      <th>20</th>\n",
       "      <th>21</th>\n",
       "      <th>22</th>\n",
       "      <th>23</th>\n",
       "      <th>24</th>\n",
       "      <th>25</th>\n",
       "    </tr>\n",
       "    <tr>\n",
       "      <th>feat_class</th>\n",
       "      <th></th>\n",
       "      <th></th>\n",
       "      <th></th>\n",
       "      <th></th>\n",
       "      <th></th>\n",
       "      <th></th>\n",
       "      <th></th>\n",
       "      <th></th>\n",
       "      <th></th>\n",
       "      <th></th>\n",
       "      <th></th>\n",
       "      <th></th>\n",
       "      <th></th>\n",
       "      <th></th>\n",
       "      <th></th>\n",
       "      <th></th>\n",
       "      <th></th>\n",
       "      <th></th>\n",
       "      <th></th>\n",
       "      <th></th>\n",
       "      <th></th>\n",
       "    </tr>\n",
       "  </thead>\n",
       "  <tbody>\n",
       "    <tr>\n",
       "      <th>Promoter</th>\n",
       "      <td>56,553.00</td>\n",
       "      <td>4,704.00</td>\n",
       "      <td>184.00</td>\n",
       "      <td>3.00</td>\n",
       "      <td>NaN</td>\n",
       "      <td>NaN</td>\n",
       "      <td>NaN</td>\n",
       "      <td>NaN</td>\n",
       "      <td>NaN</td>\n",
       "      <td>NaN</td>\n",
       "      <td>...</td>\n",
       "      <td>NaN</td>\n",
       "      <td>NaN</td>\n",
       "      <td>NaN</td>\n",
       "      <td>NaN</td>\n",
       "      <td>NaN</td>\n",
       "      <td>NaN</td>\n",
       "      <td>NaN</td>\n",
       "      <td>NaN</td>\n",
       "      <td>NaN</td>\n",
       "      <td>NaN</td>\n",
       "    </tr>\n",
       "    <tr>\n",
       "      <th>5'-UTR</th>\n",
       "      <td>1,003.00</td>\n",
       "      <td>4.00</td>\n",
       "      <td>NaN</td>\n",
       "      <td>NaN</td>\n",
       "      <td>NaN</td>\n",
       "      <td>NaN</td>\n",
       "      <td>NaN</td>\n",
       "      <td>NaN</td>\n",
       "      <td>NaN</td>\n",
       "      <td>NaN</td>\n",
       "      <td>...</td>\n",
       "      <td>NaN</td>\n",
       "      <td>NaN</td>\n",
       "      <td>NaN</td>\n",
       "      <td>NaN</td>\n",
       "      <td>NaN</td>\n",
       "      <td>NaN</td>\n",
       "      <td>NaN</td>\n",
       "      <td>NaN</td>\n",
       "      <td>NaN</td>\n",
       "      <td>NaN</td>\n",
       "    </tr>\n",
       "    <tr>\n",
       "      <th>3'-UTR</th>\n",
       "      <td>5,284.00</td>\n",
       "      <td>89.00</td>\n",
       "      <td>NaN</td>\n",
       "      <td>NaN</td>\n",
       "      <td>NaN</td>\n",
       "      <td>NaN</td>\n",
       "      <td>NaN</td>\n",
       "      <td>NaN</td>\n",
       "      <td>NaN</td>\n",
       "      <td>NaN</td>\n",
       "      <td>...</td>\n",
       "      <td>NaN</td>\n",
       "      <td>NaN</td>\n",
       "      <td>NaN</td>\n",
       "      <td>NaN</td>\n",
       "      <td>NaN</td>\n",
       "      <td>2.00</td>\n",
       "      <td>NaN</td>\n",
       "      <td>NaN</td>\n",
       "      <td>NaN</td>\n",
       "      <td>NaN</td>\n",
       "    </tr>\n",
       "    <tr>\n",
       "      <th>exon</th>\n",
       "      <td>26,634.00</td>\n",
       "      <td>186.00</td>\n",
       "      <td>3.00</td>\n",
       "      <td>NaN</td>\n",
       "      <td>NaN</td>\n",
       "      <td>NaN</td>\n",
       "      <td>NaN</td>\n",
       "      <td>NaN</td>\n",
       "      <td>1.00</td>\n",
       "      <td>NaN</td>\n",
       "      <td>...</td>\n",
       "      <td>NaN</td>\n",
       "      <td>NaN</td>\n",
       "      <td>NaN</td>\n",
       "      <td>NaN</td>\n",
       "      <td>NaN</td>\n",
       "      <td>NaN</td>\n",
       "      <td>1.00</td>\n",
       "      <td>NaN</td>\n",
       "      <td>NaN</td>\n",
       "      <td>NaN</td>\n",
       "    </tr>\n",
       "    <tr>\n",
       "      <th>intron</th>\n",
       "      <td>90,028.00</td>\n",
       "      <td>1,929.00</td>\n",
       "      <td>84.00</td>\n",
       "      <td>4.00</td>\n",
       "      <td>10.00</td>\n",
       "      <td>6.00</td>\n",
       "      <td>5.00</td>\n",
       "      <td>1.00</td>\n",
       "      <td>3.00</td>\n",
       "      <td>9.00</td>\n",
       "      <td>...</td>\n",
       "      <td>9.00</td>\n",
       "      <td>NaN</td>\n",
       "      <td>1.00</td>\n",
       "      <td>NaN</td>\n",
       "      <td>5.00</td>\n",
       "      <td>9.00</td>\n",
       "      <td>4.00</td>\n",
       "      <td>NaN</td>\n",
       "      <td>8.00</td>\n",
       "      <td>NaN</td>\n",
       "    </tr>\n",
       "    <tr>\n",
       "      <th>DCRD</th>\n",
       "      <td>21,944.00</td>\n",
       "      <td>13,133.00</td>\n",
       "      <td>8,339.00</td>\n",
       "      <td>5,246.00</td>\n",
       "      <td>3,632.00</td>\n",
       "      <td>2,371.00</td>\n",
       "      <td>1,574.00</td>\n",
       "      <td>1,200.00</td>\n",
       "      <td>909.00</td>\n",
       "      <td>635.00</td>\n",
       "      <td>...</td>\n",
       "      <td>51.00</td>\n",
       "      <td>93.00</td>\n",
       "      <td>54.00</td>\n",
       "      <td>22.00</td>\n",
       "      <td>12.00</td>\n",
       "      <td>15.00</td>\n",
       "      <td>7.00</td>\n",
       "      <td>3.00</td>\n",
       "      <td>1.00</td>\n",
       "      <td>7.00</td>\n",
       "    </tr>\n",
       "    <tr>\n",
       "      <th>intergenic</th>\n",
       "      <td>34,506.00</td>\n",
       "      <td>NaN</td>\n",
       "      <td>NaN</td>\n",
       "      <td>NaN</td>\n",
       "      <td>NaN</td>\n",
       "      <td>NaN</td>\n",
       "      <td>NaN</td>\n",
       "      <td>NaN</td>\n",
       "      <td>NaN</td>\n",
       "      <td>NaN</td>\n",
       "      <td>...</td>\n",
       "      <td>NaN</td>\n",
       "      <td>NaN</td>\n",
       "      <td>NaN</td>\n",
       "      <td>NaN</td>\n",
       "      <td>NaN</td>\n",
       "      <td>NaN</td>\n",
       "      <td>NaN</td>\n",
       "      <td>NaN</td>\n",
       "      <td>NaN</td>\n",
       "      <td>NaN</td>\n",
       "    </tr>\n",
       "  </tbody>\n",
       "</table>\n",
       "<p>7 rows × 25 columns</p>\n",
       "</div>"
      ],
      "text/plain": [
       "                  1         2        3        4        5        6        7   \\\n",
       "feat_class                                                                    \n",
       "Promoter   56,553.00  4,704.00   184.00     3.00      NaN      NaN      NaN   \n",
       "5'-UTR      1,003.00      4.00      NaN      NaN      NaN      NaN      NaN   \n",
       "3'-UTR      5,284.00     89.00      NaN      NaN      NaN      NaN      NaN   \n",
       "exon       26,634.00    186.00     3.00      NaN      NaN      NaN      NaN   \n",
       "intron     90,028.00  1,929.00    84.00     4.00    10.00     6.00     5.00   \n",
       "DCRD       21,944.00 13,133.00 8,339.00 5,246.00 3,632.00 2,371.00 1,574.00   \n",
       "intergenic 34,506.00       NaN      NaN      NaN      NaN      NaN      NaN   \n",
       "\n",
       "                 8      9      10  ...    16    17    18    19    20    21  \\\n",
       "feat_class                         ...                                       \n",
       "Promoter        NaN    NaN    NaN  ...   NaN   NaN   NaN   NaN   NaN   NaN   \n",
       "5'-UTR          NaN    NaN    NaN  ...   NaN   NaN   NaN   NaN   NaN   NaN   \n",
       "3'-UTR          NaN    NaN    NaN  ...   NaN   NaN   NaN   NaN   NaN  2.00   \n",
       "exon            NaN   1.00    NaN  ...   NaN   NaN   NaN   NaN   NaN   NaN   \n",
       "intron         1.00   3.00   9.00  ...  9.00   NaN  1.00   NaN  5.00  9.00   \n",
       "DCRD       1,200.00 909.00 635.00  ... 51.00 93.00 54.00 22.00 12.00 15.00   \n",
       "intergenic      NaN    NaN    NaN  ...   NaN   NaN   NaN   NaN   NaN   NaN   \n",
       "\n",
       "             22   23   24   25  \n",
       "feat_class                      \n",
       "Promoter    NaN  NaN  NaN  NaN  \n",
       "5'-UTR      NaN  NaN  NaN  NaN  \n",
       "3'-UTR      NaN  NaN  NaN  NaN  \n",
       "exon       1.00  NaN  NaN  NaN  \n",
       "intron     4.00  NaN 8.00  NaN  \n",
       "DCRD       7.00 3.00 1.00 7.00  \n",
       "intergenic  NaN  NaN  NaN  NaN  \n",
       "\n",
       "[7 rows x 25 columns]"
      ]
     },
     "execution_count": 161,
     "metadata": {},
     "output_type": "execute_result"
    }
   ],
   "source": [
    "multi_annos_crosstab = (\n",
    "    primary_annos.groupby([\"feat_class\", \"gtfanno_uid\"], observed=True)\n",
    "    .size()\n",
    "    .groupby(\"feat_class\")\n",
    "    .value_counts()\n",
    "    .unstack()\n",
    ")\n",
    "multi_annos_crosstab"
   ]
  },
  {
   "cell_type": "raw",
   "id": "according-producer",
   "metadata": {},
   "source": [
    "multi_annos_crosstab.to_clipboard()"
   ]
  },
  {
   "cell_type": "markdown",
   "id": "established-feeding",
   "metadata": {
    "tags": []
   },
   "source": [
    "###### Example for Promoter multiple annotations - random samples indicate that these are indeed ambiguous sites"
   ]
  },
  {
   "cell_type": "code",
   "execution_count": 162,
   "id": "monthly-flavor",
   "metadata": {},
   "outputs": [],
   "source": [
    "primary_annos[\"is_duplicated\"] = primary_annos.duplicated(\n",
    "    subset=[\"Chromosome\", \"Start\", \"End\"], keep=False\n",
    ")"
   ]
  },
  {
   "cell_type": "code",
   "execution_count": 163,
   "id": "particular-plain",
   "metadata": {},
   "outputs": [
    {
     "data": {
      "text/html": [
       "<div>\n",
       "<style scoped>\n",
       "    .dataframe tbody tr th:only-of-type {\n",
       "        vertical-align: middle;\n",
       "    }\n",
       "\n",
       "    .dataframe tbody tr th {\n",
       "        vertical-align: top;\n",
       "    }\n",
       "\n",
       "    .dataframe thead th {\n",
       "        text-align: right;\n",
       "    }\n",
       "</style>\n",
       "<table border=\"1\" class=\"dataframe\">\n",
       "  <thead>\n",
       "    <tr style=\"text-align: right;\">\n",
       "      <th></th>\n",
       "      <th>Chromosome</th>\n",
       "      <th>Start</th>\n",
       "      <th>End</th>\n",
       "      <th>gtfanno_uid</th>\n",
       "      <th>gene_name</th>\n",
       "    </tr>\n",
       "  </thead>\n",
       "  <tbody>\n",
       "    <tr>\n",
       "      <th>238</th>\n",
       "      <td>1</td>\n",
       "      <td>4808196</td>\n",
       "      <td>4808197</td>\n",
       "      <td>96</td>\n",
       "      <td>Gm37988</td>\n",
       "    </tr>\n",
       "    <tr>\n",
       "      <th>239</th>\n",
       "      <td>1</td>\n",
       "      <td>4808196</td>\n",
       "      <td>4808197</td>\n",
       "      <td>96</td>\n",
       "      <td>Lypla1</td>\n",
       "    </tr>\n",
       "    <tr>\n",
       "      <th>244</th>\n",
       "      <td>1</td>\n",
       "      <td>4808291</td>\n",
       "      <td>4808292</td>\n",
       "      <td>97</td>\n",
       "      <td>Gm37988</td>\n",
       "    </tr>\n",
       "    <tr>\n",
       "      <th>245</th>\n",
       "      <td>1</td>\n",
       "      <td>4808291</td>\n",
       "      <td>4808292</td>\n",
       "      <td>97</td>\n",
       "      <td>Lypla1</td>\n",
       "    </tr>\n",
       "    <tr>\n",
       "      <th>1252</th>\n",
       "      <td>1</td>\n",
       "      <td>10037877</td>\n",
       "      <td>10037878</td>\n",
       "      <td>355</td>\n",
       "      <td>Cspp1</td>\n",
       "    </tr>\n",
       "    <tr>\n",
       "      <th>1253</th>\n",
       "      <td>1</td>\n",
       "      <td>10037877</td>\n",
       "      <td>10037878</td>\n",
       "      <td>355</td>\n",
       "      <td>Cops5</td>\n",
       "    </tr>\n",
       "    <tr>\n",
       "      <th>1259</th>\n",
       "      <td>1</td>\n",
       "      <td>10038004</td>\n",
       "      <td>10038005</td>\n",
       "      <td>356</td>\n",
       "      <td>Cspp1</td>\n",
       "    </tr>\n",
       "    <tr>\n",
       "      <th>1260</th>\n",
       "      <td>1</td>\n",
       "      <td>10038004</td>\n",
       "      <td>10038005</td>\n",
       "      <td>356</td>\n",
       "      <td>Cops5</td>\n",
       "    </tr>\n",
       "    <tr>\n",
       "      <th>1266</th>\n",
       "      <td>1</td>\n",
       "      <td>10038459</td>\n",
       "      <td>10038460</td>\n",
       "      <td>357</td>\n",
       "      <td>Cops5</td>\n",
       "    </tr>\n",
       "    <tr>\n",
       "      <th>1267</th>\n",
       "      <td>1</td>\n",
       "      <td>10038459</td>\n",
       "      <td>10038460</td>\n",
       "      <td>357</td>\n",
       "      <td>Cspp1</td>\n",
       "    </tr>\n",
       "    <tr>\n",
       "      <th>1271</th>\n",
       "      <td>1</td>\n",
       "      <td>10038470</td>\n",
       "      <td>10038471</td>\n",
       "      <td>358</td>\n",
       "      <td>Cops5</td>\n",
       "    </tr>\n",
       "    <tr>\n",
       "      <th>1272</th>\n",
       "      <td>1</td>\n",
       "      <td>10038470</td>\n",
       "      <td>10038471</td>\n",
       "      <td>358</td>\n",
       "      <td>Cspp1</td>\n",
       "    </tr>\n",
       "    <tr>\n",
       "      <th>2125</th>\n",
       "      <td>1</td>\n",
       "      <td>16104481</td>\n",
       "      <td>16104482</td>\n",
       "      <td>677</td>\n",
       "      <td>Rdh10</td>\n",
       "    </tr>\n",
       "    <tr>\n",
       "      <th>2126</th>\n",
       "      <td>1</td>\n",
       "      <td>16104481</td>\n",
       "      <td>16104482</td>\n",
       "      <td>677</td>\n",
       "      <td>Rpl7</td>\n",
       "    </tr>\n",
       "    <tr>\n",
       "      <th>2132</th>\n",
       "      <td>1</td>\n",
       "      <td>16104680</td>\n",
       "      <td>16104681</td>\n",
       "      <td>678</td>\n",
       "      <td>Rdh10</td>\n",
       "    </tr>\n",
       "    <tr>\n",
       "      <th>2133</th>\n",
       "      <td>1</td>\n",
       "      <td>16104680</td>\n",
       "      <td>16104681</td>\n",
       "      <td>678</td>\n",
       "      <td>Rpl7</td>\n",
       "    </tr>\n",
       "    <tr>\n",
       "      <th>2136</th>\n",
       "      <td>1</td>\n",
       "      <td>16104707</td>\n",
       "      <td>16104708</td>\n",
       "      <td>679</td>\n",
       "      <td>Rdh10</td>\n",
       "    </tr>\n",
       "    <tr>\n",
       "      <th>2137</th>\n",
       "      <td>1</td>\n",
       "      <td>16104707</td>\n",
       "      <td>16104708</td>\n",
       "      <td>679</td>\n",
       "      <td>Rpl7</td>\n",
       "    </tr>\n",
       "    <tr>\n",
       "      <th>2140</th>\n",
       "      <td>1</td>\n",
       "      <td>16104868</td>\n",
       "      <td>16104869</td>\n",
       "      <td>680</td>\n",
       "      <td>Rdh10</td>\n",
       "    </tr>\n",
       "    <tr>\n",
       "      <th>2141</th>\n",
       "      <td>1</td>\n",
       "      <td>16104868</td>\n",
       "      <td>16104869</td>\n",
       "      <td>680</td>\n",
       "      <td>Rpl7</td>\n",
       "    </tr>\n",
       "  </tbody>\n",
       "</table>\n",
       "</div>"
      ],
      "text/plain": [
       "     Chromosome     Start       End  gtfanno_uid gene_name\n",
       "238           1   4808196   4808197           96   Gm37988\n",
       "239           1   4808196   4808197           96    Lypla1\n",
       "244           1   4808291   4808292           97   Gm37988\n",
       "245           1   4808291   4808292           97    Lypla1\n",
       "1252          1  10037877  10037878          355     Cspp1\n",
       "1253          1  10037877  10037878          355     Cops5\n",
       "1259          1  10038004  10038005          356     Cspp1\n",
       "1260          1  10038004  10038005          356     Cops5\n",
       "1266          1  10038459  10038460          357     Cops5\n",
       "1267          1  10038459  10038460          357     Cspp1\n",
       "1271          1  10038470  10038471          358     Cops5\n",
       "1272          1  10038470  10038471          358     Cspp1\n",
       "2125          1  16104481  16104482          677     Rdh10\n",
       "2126          1  16104481  16104482          677      Rpl7\n",
       "2132          1  16104680  16104681          678     Rdh10\n",
       "2133          1  16104680  16104681          678      Rpl7\n",
       "2136          1  16104707  16104708          679     Rdh10\n",
       "2137          1  16104707  16104708          679      Rpl7\n",
       "2140          1  16104868  16104869          680     Rdh10\n",
       "2141          1  16104868  16104869          680      Rpl7"
      ]
     },
     "metadata": {},
     "output_type": "display_data"
    },
    {
     "data": {
      "text/html": [
       "<div>\n",
       "<style scoped>\n",
       "    .dataframe tbody tr th:only-of-type {\n",
       "        vertical-align: middle;\n",
       "    }\n",
       "\n",
       "    .dataframe tbody tr th {\n",
       "        vertical-align: top;\n",
       "    }\n",
       "\n",
       "    .dataframe thead th {\n",
       "        text-align: right;\n",
       "    }\n",
       "</style>\n",
       "<table border=\"1\" class=\"dataframe\">\n",
       "  <thead>\n",
       "    <tr style=\"text-align: right;\">\n",
       "      <th></th>\n",
       "      <th>Chromosome</th>\n",
       "      <th>Start</th>\n",
       "      <th>End</th>\n",
       "      <th>gtfanno_uid</th>\n",
       "      <th>gene_name</th>\n",
       "    </tr>\n",
       "  </thead>\n",
       "  <tbody>\n",
       "    <tr>\n",
       "      <th>1638159</th>\n",
       "      <td>X</td>\n",
       "      <td>155624572</td>\n",
       "      <td>155624573</td>\n",
       "      <td>277148</td>\n",
       "      <td>Ptchd1</td>\n",
       "    </tr>\n",
       "    <tr>\n",
       "      <th>1638160</th>\n",
       "      <td>X</td>\n",
       "      <td>155624572</td>\n",
       "      <td>155624573</td>\n",
       "      <td>277148</td>\n",
       "      <td>Gm15155</td>\n",
       "    </tr>\n",
       "    <tr>\n",
       "      <th>1638161</th>\n",
       "      <td>X</td>\n",
       "      <td>155624668</td>\n",
       "      <td>155624669</td>\n",
       "      <td>277149</td>\n",
       "      <td>Ptchd1</td>\n",
       "    </tr>\n",
       "    <tr>\n",
       "      <th>1638162</th>\n",
       "      <td>X</td>\n",
       "      <td>155624668</td>\n",
       "      <td>155624669</td>\n",
       "      <td>277149</td>\n",
       "      <td>Gm15155</td>\n",
       "    </tr>\n",
       "    <tr>\n",
       "      <th>1641301</th>\n",
       "      <td>X</td>\n",
       "      <td>164980364</td>\n",
       "      <td>164980365</td>\n",
       "      <td>278241</td>\n",
       "      <td>Fancb</td>\n",
       "    </tr>\n",
       "    <tr>\n",
       "      <th>1641302</th>\n",
       "      <td>X</td>\n",
       "      <td>164980364</td>\n",
       "      <td>164980365</td>\n",
       "      <td>278241</td>\n",
       "      <td>Mospd2</td>\n",
       "    </tr>\n",
       "    <tr>\n",
       "      <th>1641304</th>\n",
       "      <td>X</td>\n",
       "      <td>164980482</td>\n",
       "      <td>164980483</td>\n",
       "      <td>278242</td>\n",
       "      <td>Mospd2</td>\n",
       "    </tr>\n",
       "    <tr>\n",
       "      <th>1641305</th>\n",
       "      <td>X</td>\n",
       "      <td>164980482</td>\n",
       "      <td>164980483</td>\n",
       "      <td>278242</td>\n",
       "      <td>Fancb</td>\n",
       "    </tr>\n",
       "    <tr>\n",
       "      <th>1641307</th>\n",
       "      <td>X</td>\n",
       "      <td>164980683</td>\n",
       "      <td>164980684</td>\n",
       "      <td>278243</td>\n",
       "      <td>Mospd2</td>\n",
       "    </tr>\n",
       "    <tr>\n",
       "      <th>1641308</th>\n",
       "      <td>X</td>\n",
       "      <td>164980683</td>\n",
       "      <td>164980684</td>\n",
       "      <td>278243</td>\n",
       "      <td>Fancb</td>\n",
       "    </tr>\n",
       "    <tr>\n",
       "      <th>1641313</th>\n",
       "      <td>X</td>\n",
       "      <td>164980731</td>\n",
       "      <td>164980732</td>\n",
       "      <td>278244</td>\n",
       "      <td>Mospd2</td>\n",
       "    </tr>\n",
       "    <tr>\n",
       "      <th>1641314</th>\n",
       "      <td>X</td>\n",
       "      <td>164980731</td>\n",
       "      <td>164980732</td>\n",
       "      <td>278244</td>\n",
       "      <td>Fancb</td>\n",
       "    </tr>\n",
       "    <tr>\n",
       "      <th>1641724</th>\n",
       "      <td>X</td>\n",
       "      <td>166440217</td>\n",
       "      <td>166440218</td>\n",
       "      <td>278370</td>\n",
       "      <td>Trappc2</td>\n",
       "    </tr>\n",
       "    <tr>\n",
       "      <th>1641725</th>\n",
       "      <td>X</td>\n",
       "      <td>166440217</td>\n",
       "      <td>166440218</td>\n",
       "      <td>278370</td>\n",
       "      <td>Ofd1</td>\n",
       "    </tr>\n",
       "    <tr>\n",
       "      <th>1641731</th>\n",
       "      <td>X</td>\n",
       "      <td>166440245</td>\n",
       "      <td>166440246</td>\n",
       "      <td>278371</td>\n",
       "      <td>Trappc2</td>\n",
       "    </tr>\n",
       "    <tr>\n",
       "      <th>1641732</th>\n",
       "      <td>X</td>\n",
       "      <td>166440245</td>\n",
       "      <td>166440246</td>\n",
       "      <td>278371</td>\n",
       "      <td>Ofd1</td>\n",
       "    </tr>\n",
       "    <tr>\n",
       "      <th>1641738</th>\n",
       "      <td>X</td>\n",
       "      <td>166441052</td>\n",
       "      <td>166441053</td>\n",
       "      <td>278372</td>\n",
       "      <td>Ofd1</td>\n",
       "    </tr>\n",
       "    <tr>\n",
       "      <th>1641739</th>\n",
       "      <td>X</td>\n",
       "      <td>166441052</td>\n",
       "      <td>166441053</td>\n",
       "      <td>278372</td>\n",
       "      <td>Trappc2</td>\n",
       "    </tr>\n",
       "    <tr>\n",
       "      <th>1641745</th>\n",
       "      <td>X</td>\n",
       "      <td>166441070</td>\n",
       "      <td>166441071</td>\n",
       "      <td>278373</td>\n",
       "      <td>Ofd1</td>\n",
       "    </tr>\n",
       "    <tr>\n",
       "      <th>1641746</th>\n",
       "      <td>X</td>\n",
       "      <td>166441070</td>\n",
       "      <td>166441071</td>\n",
       "      <td>278373</td>\n",
       "      <td>Trappc2</td>\n",
       "    </tr>\n",
       "  </tbody>\n",
       "</table>\n",
       "</div>"
      ],
      "text/plain": [
       "        Chromosome      Start        End  gtfanno_uid gene_name\n",
       "1638159          X  155624572  155624573       277148    Ptchd1\n",
       "1638160          X  155624572  155624573       277148   Gm15155\n",
       "1638161          X  155624668  155624669       277149    Ptchd1\n",
       "1638162          X  155624668  155624669       277149   Gm15155\n",
       "1641301          X  164980364  164980365       278241     Fancb\n",
       "1641302          X  164980364  164980365       278241    Mospd2\n",
       "1641304          X  164980482  164980483       278242    Mospd2\n",
       "1641305          X  164980482  164980483       278242     Fancb\n",
       "1641307          X  164980683  164980684       278243    Mospd2\n",
       "1641308          X  164980683  164980684       278243     Fancb\n",
       "1641313          X  164980731  164980732       278244    Mospd2\n",
       "1641314          X  164980731  164980732       278244     Fancb\n",
       "1641724          X  166440217  166440218       278370   Trappc2\n",
       "1641725          X  166440217  166440218       278370      Ofd1\n",
       "1641731          X  166440245  166440246       278371   Trappc2\n",
       "1641732          X  166440245  166440246       278371      Ofd1\n",
       "1641738          X  166441052  166441053       278372      Ofd1\n",
       "1641739          X  166441052  166441053       278372   Trappc2\n",
       "1641745          X  166441070  166441071       278373      Ofd1\n",
       "1641746          X  166441070  166441071       278373   Trappc2"
      ]
     },
     "metadata": {},
     "output_type": "display_data"
    }
   ],
   "source": [
    "df = primary_annos.query('feat_class == \"Promoter\" & is_duplicated')[\n",
    "    [\"Chromosome\", \"Start\", \"End\", \"gtfanno_uid\", \"gene_name\"]\n",
    "]\n",
    "display(df.head(20))\n",
    "display(df.tail(20))"
   ]
  },
  {
   "cell_type": "markdown",
   "id": "furnished-banana",
   "metadata": {},
   "source": [
    "Nsdhl\n",
    "http://www.ensembl.org/Mus_musculus/Gene/Summary?db=core;g=ENSMUSG00000031349;r=X:71962163-72002120\n",
    "\n",
    "Rpl7\n",
    "http://www.ensembl.org/Mus_musculus/Gene/Summary?db=core;g=ENSMUSG00000043716;r=1:16171519-16174886"
   ]
  },
  {
   "cell_type": "markdown",
   "id": "knowing-median",
   "metadata": {
    "heading_collapsed": "true",
    "tags": []
   },
   "source": [
    "#### merge annotations"
   ]
  },
  {
   "cell_type": "markdown",
   "id": "average-ethnic",
   "metadata": {},
   "source": [
    "Merging strategy: keep all\n",
    "- for Promoters, the window is relatively small. Ranking on TSS distance in such a small window seems arbitrary.\n",
    "- for enhancer candidates, a typical strategy would be to identify all TSS in +-100 kb window and try to find the target through correlation with gene expression, eg PMID: 30686579. So it also makes sense to indicate all genes in the window to give an impression of the number of possible target genes."
   ]
  },
  {
   "cell_type": "code",
   "execution_count": 164,
   "id": "brutal-promise",
   "metadata": {},
   "outputs": [
    {
     "name": "stdout",
     "output_type": "stream",
     "text": [
      "merge unique value fields\n",
      "CPU times: user 8min 9s, sys: 10.1 s, total: 8min 19s\n",
      "Wall time: 7min 58s\n"
     ]
    }
   ],
   "source": [
    "%%time\n",
    "merged_annos = lib.merge_annos(primary_annos=primary_annos)"
   ]
  },
  {
   "cell_type": "code",
   "execution_count": 174,
   "id": "affected-profession",
   "metadata": {},
   "outputs": [
    {
     "data": {
      "text/html": [
       "<div>\n",
       "<style scoped>\n",
       "    .dataframe tbody tr th:only-of-type {\n",
       "        vertical-align: middle;\n",
       "    }\n",
       "\n",
       "    .dataframe tbody tr th {\n",
       "        vertical-align: top;\n",
       "    }\n",
       "\n",
       "    .dataframe thead th {\n",
       "        text-align: right;\n",
       "    }\n",
       "</style>\n",
       "<table border=\"1\" class=\"dataframe\">\n",
       "  <thead>\n",
       "    <tr style=\"text-align: right;\">\n",
       "      <th></th>\n",
       "      <th>Chromosome</th>\n",
       "      <th>Start</th>\n",
       "      <th>End</th>\n",
       "      <th>gtfanno_uid</th>\n",
       "      <th>center</th>\n",
       "      <th>feat_class</th>\n",
       "      <th>perc_feature</th>\n",
       "      <th>perc_region</th>\n",
       "      <th>distance</th>\n",
       "      <th>has_center</th>\n",
       "      <th>...</th>\n",
       "      <th>gene_id</th>\n",
       "      <th>transcript_id</th>\n",
       "      <th>appris_principal_score</th>\n",
       "      <th>feat_chrom</th>\n",
       "      <th>feat_start</th>\n",
       "      <th>feat_end</th>\n",
       "      <th>feat_center</th>\n",
       "      <th>feat_strand</th>\n",
       "      <th>feature_rank</th>\n",
       "      <th>is_duplicated</th>\n",
       "    </tr>\n",
       "  </thead>\n",
       "  <tbody>\n",
       "    <tr>\n",
       "      <th>0</th>\n",
       "      <td>1</td>\n",
       "      <td>3005997</td>\n",
       "      <td>3005998</td>\n",
       "      <td>0</td>\n",
       "      <td>NaN</td>\n",
       "      <td>intergenic</td>\n",
       "      <td>nan</td>\n",
       "      <td>nan</td>\n",
       "      <td>nan</td>\n",
       "      <td>nan</td>\n",
       "      <td>...</td>\n",
       "      <td>nan</td>\n",
       "      <td>nan</td>\n",
       "      <td>nan</td>\n",
       "      <td>NaN</td>\n",
       "      <td>nan</td>\n",
       "      <td>nan</td>\n",
       "      <td>nan</td>\n",
       "      <td>nan</td>\n",
       "      <td>primary</td>\n",
       "      <td>False</td>\n",
       "    </tr>\n",
       "    <tr>\n",
       "      <th>1</th>\n",
       "      <td>1</td>\n",
       "      <td>3006186</td>\n",
       "      <td>3006187</td>\n",
       "      <td>1</td>\n",
       "      <td>NaN</td>\n",
       "      <td>intergenic</td>\n",
       "      <td>nan</td>\n",
       "      <td>nan</td>\n",
       "      <td>nan</td>\n",
       "      <td>nan</td>\n",
       "      <td>...</td>\n",
       "      <td>nan</td>\n",
       "      <td>nan</td>\n",
       "      <td>nan</td>\n",
       "      <td>NaN</td>\n",
       "      <td>nan</td>\n",
       "      <td>nan</td>\n",
       "      <td>nan</td>\n",
       "      <td>nan</td>\n",
       "      <td>primary</td>\n",
       "      <td>False</td>\n",
       "    </tr>\n",
       "    <tr>\n",
       "      <th>2</th>\n",
       "      <td>1</td>\n",
       "      <td>3035832</td>\n",
       "      <td>3035833</td>\n",
       "      <td>2</td>\n",
       "      <td>NaN</td>\n",
       "      <td>intergenic</td>\n",
       "      <td>nan</td>\n",
       "      <td>nan</td>\n",
       "      <td>nan</td>\n",
       "      <td>nan</td>\n",
       "      <td>...</td>\n",
       "      <td>nan</td>\n",
       "      <td>nan</td>\n",
       "      <td>nan</td>\n",
       "      <td>NaN</td>\n",
       "      <td>nan</td>\n",
       "      <td>nan</td>\n",
       "      <td>nan</td>\n",
       "      <td>nan</td>\n",
       "      <td>primary</td>\n",
       "      <td>False</td>\n",
       "    </tr>\n",
       "    <tr>\n",
       "      <th>3</th>\n",
       "      <td>1</td>\n",
       "      <td>3062738</td>\n",
       "      <td>3062739</td>\n",
       "      <td>3</td>\n",
       "      <td>NaN</td>\n",
       "      <td>intergenic</td>\n",
       "      <td>nan</td>\n",
       "      <td>nan</td>\n",
       "      <td>nan</td>\n",
       "      <td>nan</td>\n",
       "      <td>...</td>\n",
       "      <td>nan</td>\n",
       "      <td>nan</td>\n",
       "      <td>nan</td>\n",
       "      <td>NaN</td>\n",
       "      <td>nan</td>\n",
       "      <td>nan</td>\n",
       "      <td>nan</td>\n",
       "      <td>nan</td>\n",
       "      <td>primary</td>\n",
       "      <td>False</td>\n",
       "    </tr>\n",
       "    <tr>\n",
       "      <th>4</th>\n",
       "      <td>1</td>\n",
       "      <td>3102469</td>\n",
       "      <td>3102470</td>\n",
       "      <td>4</td>\n",
       "      <td>NaN</td>\n",
       "      <td>intergenic</td>\n",
       "      <td>nan</td>\n",
       "      <td>nan</td>\n",
       "      <td>nan</td>\n",
       "      <td>nan</td>\n",
       "      <td>...</td>\n",
       "      <td>nan</td>\n",
       "      <td>nan</td>\n",
       "      <td>nan</td>\n",
       "      <td>NaN</td>\n",
       "      <td>nan</td>\n",
       "      <td>nan</td>\n",
       "      <td>nan</td>\n",
       "      <td>nan</td>\n",
       "      <td>primary</td>\n",
       "      <td>False</td>\n",
       "    </tr>\n",
       "    <tr>\n",
       "      <th>...</th>\n",
       "      <td>...</td>\n",
       "      <td>...</td>\n",
       "      <td>...</td>\n",
       "      <td>...</td>\n",
       "      <td>...</td>\n",
       "      <td>...</td>\n",
       "      <td>...</td>\n",
       "      <td>...</td>\n",
       "      <td>...</td>\n",
       "      <td>...</td>\n",
       "      <td>...</td>\n",
       "      <td>...</td>\n",
       "      <td>...</td>\n",
       "      <td>...</td>\n",
       "      <td>...</td>\n",
       "      <td>...</td>\n",
       "      <td>...</td>\n",
       "      <td>...</td>\n",
       "      <td>...</td>\n",
       "      <td>...</td>\n",
       "      <td>...</td>\n",
       "    </tr>\n",
       "    <tr>\n",
       "      <th>282001</th>\n",
       "      <td>Y</td>\n",
       "      <td>90808022</td>\n",
       "      <td>90808023</td>\n",
       "      <td>282001</td>\n",
       "      <td>90,808,022.50</td>\n",
       "      <td>DCRD</td>\n",
       "      <td>nan</td>\n",
       "      <td>nan</td>\n",
       "      <td>31154.5</td>\n",
       "      <td>True</td>\n",
       "      <td>...</td>\n",
       "      <td>ENSMUSG00000096850.1</td>\n",
       "      <td>ENSMUST00000179623.1</td>\n",
       "      <td>0.0</td>\n",
       "      <td>Y</td>\n",
       "      <td>90739177.0</td>\n",
       "      <td>90939177.0</td>\n",
       "      <td>nan</td>\n",
       "      <td>-</td>\n",
       "      <td>primary</td>\n",
       "      <td>False</td>\n",
       "    </tr>\n",
       "    <tr>\n",
       "      <th>282002</th>\n",
       "      <td>Y</td>\n",
       "      <td>90808868</td>\n",
       "      <td>90808869</td>\n",
       "      <td>282002</td>\n",
       "      <td>90,808,868.50</td>\n",
       "      <td>DCRD</td>\n",
       "      <td>nan</td>\n",
       "      <td>nan</td>\n",
       "      <td>30308.5</td>\n",
       "      <td>True</td>\n",
       "      <td>...</td>\n",
       "      <td>ENSMUSG00000096850.1</td>\n",
       "      <td>ENSMUST00000179623.1</td>\n",
       "      <td>0.0</td>\n",
       "      <td>Y</td>\n",
       "      <td>90739177.0</td>\n",
       "      <td>90939177.0</td>\n",
       "      <td>nan</td>\n",
       "      <td>-</td>\n",
       "      <td>primary</td>\n",
       "      <td>False</td>\n",
       "    </tr>\n",
       "    <tr>\n",
       "      <th>282003</th>\n",
       "      <td>Y</td>\n",
       "      <td>90809535</td>\n",
       "      <td>90809536</td>\n",
       "      <td>282003</td>\n",
       "      <td>90,809,535.50</td>\n",
       "      <td>DCRD</td>\n",
       "      <td>nan</td>\n",
       "      <td>nan</td>\n",
       "      <td>29641.5</td>\n",
       "      <td>True</td>\n",
       "      <td>...</td>\n",
       "      <td>ENSMUSG00000096850.1</td>\n",
       "      <td>ENSMUST00000179623.1</td>\n",
       "      <td>0.0</td>\n",
       "      <td>Y</td>\n",
       "      <td>90739177.0</td>\n",
       "      <td>90939177.0</td>\n",
       "      <td>nan</td>\n",
       "      <td>-</td>\n",
       "      <td>primary</td>\n",
       "      <td>False</td>\n",
       "    </tr>\n",
       "    <tr>\n",
       "      <th>282004</th>\n",
       "      <td>Y</td>\n",
       "      <td>90813404</td>\n",
       "      <td>90813405</td>\n",
       "      <td>282004</td>\n",
       "      <td>90,813,404.50</td>\n",
       "      <td>DCRD</td>\n",
       "      <td>nan</td>\n",
       "      <td>nan</td>\n",
       "      <td>25772.5</td>\n",
       "      <td>True</td>\n",
       "      <td>...</td>\n",
       "      <td>ENSMUSG00000096850.1</td>\n",
       "      <td>ENSMUST00000179623.1</td>\n",
       "      <td>0.0</td>\n",
       "      <td>Y</td>\n",
       "      <td>90739177.0</td>\n",
       "      <td>90939177.0</td>\n",
       "      <td>nan</td>\n",
       "      <td>-</td>\n",
       "      <td>primary</td>\n",
       "      <td>False</td>\n",
       "    </tr>\n",
       "    <tr>\n",
       "      <th>282005</th>\n",
       "      <td>Y</td>\n",
       "      <td>90813678</td>\n",
       "      <td>90813679</td>\n",
       "      <td>282005</td>\n",
       "      <td>90,813,678.50</td>\n",
       "      <td>DCRD</td>\n",
       "      <td>nan</td>\n",
       "      <td>nan</td>\n",
       "      <td>25498.5</td>\n",
       "      <td>True</td>\n",
       "      <td>...</td>\n",
       "      <td>ENSMUSG00000096850.1</td>\n",
       "      <td>ENSMUST00000179623.1</td>\n",
       "      <td>0.0</td>\n",
       "      <td>Y</td>\n",
       "      <td>90739177.0</td>\n",
       "      <td>90939177.0</td>\n",
       "      <td>nan</td>\n",
       "      <td>-</td>\n",
       "      <td>primary</td>\n",
       "      <td>False</td>\n",
       "    </tr>\n",
       "  </tbody>\n",
       "</table>\n",
       "<p>282006 rows × 21 columns</p>\n",
       "</div>"
      ],
      "text/plain": [
       "       Chromosome     Start       End  gtfanno_uid        center  feat_class  \\\n",
       "0               1   3005997   3005998            0           NaN  intergenic   \n",
       "1               1   3006186   3006187            1           NaN  intergenic   \n",
       "2               1   3035832   3035833            2           NaN  intergenic   \n",
       "3               1   3062738   3062739            3           NaN  intergenic   \n",
       "4               1   3102469   3102470            4           NaN  intergenic   \n",
       "...           ...       ...       ...          ...           ...         ...   \n",
       "282001          Y  90808022  90808023       282001 90,808,022.50        DCRD   \n",
       "282002          Y  90808868  90808869       282002 90,808,868.50        DCRD   \n",
       "282003          Y  90809535  90809536       282003 90,809,535.50        DCRD   \n",
       "282004          Y  90813404  90813405       282004 90,813,404.50        DCRD   \n",
       "282005          Y  90813678  90813679       282005 90,813,678.50        DCRD   \n",
       "\n",
       "       perc_feature perc_region distance has_center  ...  \\\n",
       "0               nan         nan      nan        nan  ...   \n",
       "1               nan         nan      nan        nan  ...   \n",
       "2               nan         nan      nan        nan  ...   \n",
       "3               nan         nan      nan        nan  ...   \n",
       "4               nan         nan      nan        nan  ...   \n",
       "...             ...         ...      ...        ...  ...   \n",
       "282001          nan         nan  31154.5       True  ...   \n",
       "282002          nan         nan  30308.5       True  ...   \n",
       "282003          nan         nan  29641.5       True  ...   \n",
       "282004          nan         nan  25772.5       True  ...   \n",
       "282005          nan         nan  25498.5       True  ...   \n",
       "\n",
       "                     gene_id         transcript_id appris_principal_score  \\\n",
       "0                        nan                   nan                    nan   \n",
       "1                        nan                   nan                    nan   \n",
       "2                        nan                   nan                    nan   \n",
       "3                        nan                   nan                    nan   \n",
       "4                        nan                   nan                    nan   \n",
       "...                      ...                   ...                    ...   \n",
       "282001  ENSMUSG00000096850.1  ENSMUST00000179623.1                    0.0   \n",
       "282002  ENSMUSG00000096850.1  ENSMUST00000179623.1                    0.0   \n",
       "282003  ENSMUSG00000096850.1  ENSMUST00000179623.1                    0.0   \n",
       "282004  ENSMUSG00000096850.1  ENSMUST00000179623.1                    0.0   \n",
       "282005  ENSMUSG00000096850.1  ENSMUST00000179623.1                    0.0   \n",
       "\n",
       "       feat_chrom  feat_start    feat_end feat_center feat_strand  \\\n",
       "0             NaN         nan         nan         nan         nan   \n",
       "1             NaN         nan         nan         nan         nan   \n",
       "2             NaN         nan         nan         nan         nan   \n",
       "3             NaN         nan         nan         nan         nan   \n",
       "4             NaN         nan         nan         nan         nan   \n",
       "...           ...         ...         ...         ...         ...   \n",
       "282001          Y  90739177.0  90939177.0         nan           -   \n",
       "282002          Y  90739177.0  90939177.0         nan           -   \n",
       "282003          Y  90739177.0  90939177.0         nan           -   \n",
       "282004          Y  90739177.0  90939177.0         nan           -   \n",
       "282005          Y  90739177.0  90939177.0         nan           -   \n",
       "\n",
       "       feature_rank is_duplicated  \n",
       "0           primary         False  \n",
       "1           primary         False  \n",
       "2           primary         False  \n",
       "3           primary         False  \n",
       "4           primary         False  \n",
       "...             ...           ...  \n",
       "282001      primary         False  \n",
       "282002      primary         False  \n",
       "282003      primary         False  \n",
       "282004      primary         False  \n",
       "282005      primary         False  \n",
       "\n",
       "[282006 rows x 21 columns]"
      ]
     },
     "execution_count": 174,
     "metadata": {},
     "output_type": "execute_result"
    }
   ],
   "source": [
    "merged_annos"
   ]
  },
  {
   "cell_type": "code",
   "execution_count": 175,
   "id": "collect-madonna",
   "metadata": {},
   "outputs": [],
   "source": [
    "merged_annos_new_chrom_dtype = merged_annos.copy()\n",
    "merged_annos_new_chrom_dtype[\"Chromosome\"] = (\n",
    "    \"chr\" + merged_annos[\"Chromosome\"].astype(str)\n",
    ").astype(chrom_dtype_prefixed)\n",
    "merged_annos_new_chrom_dtype = (\n",
    "    merged_annos_new_chrom_dtype.sort_values([\"Chromosome\", \"Start\", \"End\"])\n",
    "    .drop(\"gtfanno_uid\", axis=1)\n",
    "    .reset_index(drop=True)\n",
    ")"
   ]
  },
  {
   "cell_type": "code",
   "execution_count": 176,
   "id": "elect-arrival",
   "metadata": {},
   "outputs": [],
   "source": [
    "merged_annos_final = pd.merge(\n",
    "    merged_annos_new_chrom_dtype,\n",
    "    illumina_probes_curated_chrom_defined,\n",
    "    on=[\"Chromosome\", \"Start\", \"End\"],\n",
    "    how=\"left\",\n",
    ")"
   ]
  },
  {
   "cell_type": "code",
   "execution_count": 177,
   "id": "specified-screening",
   "metadata": {},
   "outputs": [
    {
     "data": {
      "text/html": [
       "<div>\n",
       "<style scoped>\n",
       "    .dataframe tbody tr th:only-of-type {\n",
       "        vertical-align: middle;\n",
       "    }\n",
       "\n",
       "    .dataframe tbody tr th {\n",
       "        vertical-align: top;\n",
       "    }\n",
       "\n",
       "    .dataframe thead th {\n",
       "        text-align: right;\n",
       "    }\n",
       "</style>\n",
       "<table border=\"1\" class=\"dataframe\">\n",
       "  <thead>\n",
       "    <tr style=\"text-align: right;\">\n",
       "      <th></th>\n",
       "      <th>Chromosome</th>\n",
       "      <th>Start</th>\n",
       "      <th>End</th>\n",
       "      <th>center</th>\n",
       "      <th>feat_class</th>\n",
       "      <th>perc_feature</th>\n",
       "      <th>perc_region</th>\n",
       "      <th>distance</th>\n",
       "      <th>has_center</th>\n",
       "      <th>gene_name</th>\n",
       "      <th>...</th>\n",
       "      <th>transcript_id</th>\n",
       "      <th>appris_principal_score</th>\n",
       "      <th>feat_chrom</th>\n",
       "      <th>feat_start</th>\n",
       "      <th>feat_end</th>\n",
       "      <th>feat_center</th>\n",
       "      <th>feat_strand</th>\n",
       "      <th>feature_rank</th>\n",
       "      <th>is_duplicated</th>\n",
       "      <th>name</th>\n",
       "    </tr>\n",
       "  </thead>\n",
       "  <tbody>\n",
       "    <tr>\n",
       "      <th>0</th>\n",
       "      <td>chr1</td>\n",
       "      <td>3005997</td>\n",
       "      <td>3005998</td>\n",
       "      <td>NaN</td>\n",
       "      <td>intergenic</td>\n",
       "      <td>nan</td>\n",
       "      <td>nan</td>\n",
       "      <td>nan</td>\n",
       "      <td>nan</td>\n",
       "      <td>nan</td>\n",
       "      <td>...</td>\n",
       "      <td>nan</td>\n",
       "      <td>nan</td>\n",
       "      <td>NaN</td>\n",
       "      <td>nan</td>\n",
       "      <td>nan</td>\n",
       "      <td>nan</td>\n",
       "      <td>nan</td>\n",
       "      <td>primary</td>\n",
       "      <td>False</td>\n",
       "      <td>cg36602742_TC11</td>\n",
       "    </tr>\n",
       "    <tr>\n",
       "      <th>1</th>\n",
       "      <td>chr1</td>\n",
       "      <td>3006186</td>\n",
       "      <td>3006187</td>\n",
       "      <td>NaN</td>\n",
       "      <td>intergenic</td>\n",
       "      <td>nan</td>\n",
       "      <td>nan</td>\n",
       "      <td>nan</td>\n",
       "      <td>nan</td>\n",
       "      <td>nan</td>\n",
       "      <td>...</td>\n",
       "      <td>nan</td>\n",
       "      <td>nan</td>\n",
       "      <td>NaN</td>\n",
       "      <td>nan</td>\n",
       "      <td>nan</td>\n",
       "      <td>nan</td>\n",
       "      <td>nan</td>\n",
       "      <td>primary</td>\n",
       "      <td>False</td>\n",
       "      <td>cg36602743_TC21</td>\n",
       "    </tr>\n",
       "    <tr>\n",
       "      <th>2</th>\n",
       "      <td>chr1</td>\n",
       "      <td>3035832</td>\n",
       "      <td>3035833</td>\n",
       "      <td>NaN</td>\n",
       "      <td>intergenic</td>\n",
       "      <td>nan</td>\n",
       "      <td>nan</td>\n",
       "      <td>nan</td>\n",
       "      <td>nan</td>\n",
       "      <td>nan</td>\n",
       "      <td>...</td>\n",
       "      <td>nan</td>\n",
       "      <td>nan</td>\n",
       "      <td>NaN</td>\n",
       "      <td>nan</td>\n",
       "      <td>nan</td>\n",
       "      <td>nan</td>\n",
       "      <td>nan</td>\n",
       "      <td>primary</td>\n",
       "      <td>False</td>\n",
       "      <td>cg36602902_BC11</td>\n",
       "    </tr>\n",
       "  </tbody>\n",
       "</table>\n",
       "<p>3 rows × 21 columns</p>\n",
       "</div>"
      ],
      "text/plain": [
       "  Chromosome    Start      End  center  feat_class perc_feature perc_region  \\\n",
       "0       chr1  3005997  3005998     NaN  intergenic          nan         nan   \n",
       "1       chr1  3006186  3006187     NaN  intergenic          nan         nan   \n",
       "2       chr1  3035832  3035833     NaN  intergenic          nan         nan   \n",
       "\n",
       "  distance has_center gene_name  ... transcript_id appris_principal_score  \\\n",
       "0      nan        nan       nan  ...           nan                    nan   \n",
       "1      nan        nan       nan  ...           nan                    nan   \n",
       "2      nan        nan       nan  ...           nan                    nan   \n",
       "\n",
       "  feat_chrom feat_start feat_end feat_center feat_strand feature_rank  \\\n",
       "0        NaN        nan      nan         nan         nan      primary   \n",
       "1        NaN        nan      nan         nan         nan      primary   \n",
       "2        NaN        nan      nan         nan         nan      primary   \n",
       "\n",
       "  is_duplicated             name  \n",
       "0         False  cg36602742_TC11  \n",
       "1         False  cg36602743_TC21  \n",
       "2         False  cg36602902_BC11  \n",
       "\n",
       "[3 rows x 21 columns]"
      ]
     },
     "execution_count": 177,
     "metadata": {},
     "output_type": "execute_result"
    }
   ],
   "source": [
    "merged_annos_final.head(3)"
   ]
  },
  {
   "cell_type": "code",
   "execution_count": 178,
   "id": "invalid-schema",
   "metadata": {},
   "outputs": [
    {
     "data": {
      "text/plain": [
       "(286640, 21)"
      ]
     },
     "execution_count": 178,
     "metadata": {},
     "output_type": "execute_result"
    }
   ],
   "source": [
    "merged_annos_final.shape"
   ]
  },
  {
   "cell_type": "code",
   "execution_count": 179,
   "id": "light-advocate",
   "metadata": {},
   "outputs": [
    {
     "data": {
      "text/html": [
       "<div>\n",
       "<style scoped>\n",
       "    .dataframe tbody tr th:only-of-type {\n",
       "        vertical-align: middle;\n",
       "    }\n",
       "\n",
       "    .dataframe tbody tr th {\n",
       "        vertical-align: top;\n",
       "    }\n",
       "\n",
       "    .dataframe thead th {\n",
       "        text-align: right;\n",
       "    }\n",
       "</style>\n",
       "<table border=\"1\" class=\"dataframe\">\n",
       "  <thead>\n",
       "    <tr style=\"text-align: right;\">\n",
       "      <th></th>\n",
       "      <th>Chromosome</th>\n",
       "      <th>Start</th>\n",
       "      <th>End</th>\n",
       "      <th>name</th>\n",
       "    </tr>\n",
       "  </thead>\n",
       "  <tbody>\n",
       "    <tr>\n",
       "      <th>0</th>\n",
       "      <td>chr1</td>\n",
       "      <td>3005997</td>\n",
       "      <td>3005998</td>\n",
       "      <td>cg36602742_TC11</td>\n",
       "    </tr>\n",
       "    <tr>\n",
       "      <th>1</th>\n",
       "      <td>chr1</td>\n",
       "      <td>3006186</td>\n",
       "      <td>3006187</td>\n",
       "      <td>cg36602743_TC21</td>\n",
       "    </tr>\n",
       "    <tr>\n",
       "      <th>2</th>\n",
       "      <td>chr1</td>\n",
       "      <td>3035832</td>\n",
       "      <td>3035833</td>\n",
       "      <td>cg36602902_BC11</td>\n",
       "    </tr>\n",
       "    <tr>\n",
       "      <th>3</th>\n",
       "      <td>chr1</td>\n",
       "      <td>3062738</td>\n",
       "      <td>3062739</td>\n",
       "      <td>cg36603113_TC21</td>\n",
       "    </tr>\n",
       "    <tr>\n",
       "      <th>4</th>\n",
       "      <td>chr1</td>\n",
       "      <td>3102469</td>\n",
       "      <td>3102470</td>\n",
       "      <td>cg36603287_TC21</td>\n",
       "    </tr>\n",
       "    <tr>\n",
       "      <th>...</th>\n",
       "      <td>...</td>\n",
       "      <td>...</td>\n",
       "      <td>...</td>\n",
       "      <td>...</td>\n",
       "    </tr>\n",
       "    <tr>\n",
       "      <th>286635</th>\n",
       "      <td>chrMT</td>\n",
       "      <td>12086</td>\n",
       "      <td>12087</td>\n",
       "      <td>cg47407346_TC21</td>\n",
       "    </tr>\n",
       "    <tr>\n",
       "      <th>286636</th>\n",
       "      <td>chrMT</td>\n",
       "      <td>12865</td>\n",
       "      <td>12866</td>\n",
       "      <td>cg47407363_BC21</td>\n",
       "    </tr>\n",
       "    <tr>\n",
       "      <th>286637</th>\n",
       "      <td>chrMT</td>\n",
       "      <td>13343</td>\n",
       "      <td>13344</td>\n",
       "      <td>cg47407375_TC11</td>\n",
       "    </tr>\n",
       "    <tr>\n",
       "      <th>286638</th>\n",
       "      <td>chrMT</td>\n",
       "      <td>14354</td>\n",
       "      <td>14355</td>\n",
       "      <td>cg47407385_BC21</td>\n",
       "    </tr>\n",
       "    <tr>\n",
       "      <th>286639</th>\n",
       "      <td>chrMT</td>\n",
       "      <td>14441</td>\n",
       "      <td>14442</td>\n",
       "      <td>cg47407392_BC21</td>\n",
       "    </tr>\n",
       "  </tbody>\n",
       "</table>\n",
       "<p>286640 rows × 4 columns</p>\n",
       "</div>"
      ],
      "text/plain": [
       "       Chromosome    Start      End             name\n",
       "0            chr1  3005997  3005998  cg36602742_TC11\n",
       "1            chr1  3006186  3006187  cg36602743_TC21\n",
       "2            chr1  3035832  3035833  cg36602902_BC11\n",
       "3            chr1  3062738  3062739  cg36603113_TC21\n",
       "4            chr1  3102469  3102470  cg36603287_TC21\n",
       "...           ...      ...      ...              ...\n",
       "286635      chrMT    12086    12087  cg47407346_TC21\n",
       "286636      chrMT    12865    12866  cg47407363_BC21\n",
       "286637      chrMT    13343    13344  cg47407375_TC11\n",
       "286638      chrMT    14354    14355  cg47407385_BC21\n",
       "286639      chrMT    14441    14442  cg47407392_BC21\n",
       "\n",
       "[286640 rows x 4 columns]"
      ]
     },
     "execution_count": 179,
     "metadata": {},
     "output_type": "execute_result"
    }
   ],
   "source": [
    "illumina_probes_curated_chrom_defined"
   ]
  },
  {
   "cell_type": "code",
   "execution_count": 180,
   "id": "simplified-glory",
   "metadata": {},
   "outputs": [],
   "source": [
    "assert merged_annos_final[\"name\"].notnull().all()"
   ]
  },
  {
   "cell_type": "code",
   "execution_count": 181,
   "id": "french-vienna",
   "metadata": {},
   "outputs": [],
   "source": [
    "pd.testing.assert_frame_equal(\n",
    "    merged_annos_final[[\"Chromosome\", \"Start\", \"End\"]],\n",
    "    illumina_probes_curated_chrom_defined[[\"Chromosome\", \"Start\", \"End\"]].astype(\n",
    "        {\"Start\": \"i8\", \"End\": \"i8\"}\n",
    "    ),\n",
    ")"
   ]
  },
  {
   "cell_type": "code",
   "execution_count": 182,
   "id": "collaborative-loading",
   "metadata": {},
   "outputs": [
    {
     "data": {
      "text/plain": [
       "Chromosome                           chr1\n",
       "Start                             3005997\n",
       "End                               3005998\n",
       "center                                NaN\n",
       "feat_class                     intergenic\n",
       "perc_feature                          nan\n",
       "perc_region                           nan\n",
       "distance                              nan\n",
       "has_center                            nan\n",
       "gene_name                             nan\n",
       "gene_id                               nan\n",
       "transcript_id                         nan\n",
       "appris_principal_score                nan\n",
       "feat_chrom                            NaN\n",
       "feat_start                            nan\n",
       "feat_end                              nan\n",
       "feat_center                           nan\n",
       "feat_strand                           nan\n",
       "feature_rank                      primary\n",
       "is_duplicated                       False\n",
       "name                      cg36602742_TC11\n",
       "Name: 0, dtype: object"
      ]
     },
     "execution_count": 182,
     "metadata": {},
     "output_type": "execute_result"
    }
   ],
   "source": [
    "merged_annos_final.iloc[0]"
   ]
  },
  {
   "cell_type": "markdown",
   "id": "opposite-puzzle",
   "metadata": {
    "heading_collapsed": "true",
    "tags": []
   },
   "source": [
    "#### Finalize annotation tables"
   ]
  },
  {
   "cell_type": "code",
   "execution_count": 186,
   "id": "smooth-minneapolis",
   "metadata": {},
   "outputs": [],
   "source": [
    "merged_annos_final.rename(columns={\"Chromosome\": \"#Chromosome\"}).to_csv(\n",
    "    gene_annos_primary_one_row, sep=\"\\t\", header=True, index=False\n",
    ")"
   ]
  },
  {
   "cell_type": "code",
   "execution_count": 184,
   "id": "alpha-birthday",
   "metadata": {},
   "outputs": [],
   "source": [
    "primary_annos_final = (\n",
    "    primary_annos.drop(\"gtfanno_uid\", axis=1)\n",
    "    .assign(\n",
    "        Chromosome=lambda df: (\"chr\" + df[\"Chromosome\"].astype(str)).astype(\n",
    "            chrom_dtype_prefixed\n",
    "        )\n",
    "    )\n",
    "    .sort_values([\"Chromosome\", \"Start\", \"End\"])\n",
    "    .reset_index(drop=True)\n",
    ")"
   ]
  },
  {
   "cell_type": "code",
   "execution_count": 187,
   "id": "static-thesaurus",
   "metadata": {},
   "outputs": [],
   "source": [
    "primary_annos_final.rename(columns={\"Chromosome\": \"#Chromosome\"}).to_csv(\n",
    "    gene_annos_primary_multi_row, sep=\"\\t\", header=True, index=False\n",
    ")"
   ]
  },
  {
   "cell_type": "code",
   "execution_count": 188,
   "id": "optimum-census",
   "metadata": {},
   "outputs": [
    {
     "name": "stdout",
     "output_type": "stream",
     "text": [
      "#Chromosome\tStart\tEnd\tcenter\tfeat_class\tperc_feature\tperc_region\tdistance\thas_center\tgene_name\tgene_id\ttranscript_id\tappris_principal_score\tfeat_chrom\tfeat_start\tfeat_end\tfeat_center\tfeat_strand\tfeature_rank\tis_duplicated\n",
      "chr1\t3005997\t3005998\t\tintergenic\t\t\t\t\t\t\t\t\t\t\t\t\t\tprimary\tFalse\n",
      "chr1\t3006186\t3006187\t\tintergenic\t\t\t\t\t\t\t\t\t\t\t\t\t\tprimary\tFalse\n",
      "chr1\t3035832\t3035833\t\tintergenic\t\t\t\t\t\t\t\t\t\t\t\t\t\tprimary\tFalse\n",
      "chr1\t3062738\t3062739\t\tintergenic\t\t\t\t\t\t\t\t\t\t\t\t\t\tprimary\tFalse\n",
      "chr1\t3102469\t3102470\t\tintergenic\t\t\t\t\t\t\t\t\t\t\t\t\t\tprimary\tFalse\n",
      "chr1\t3121638\t3121639\t\tintergenic\t\t\t\t\t\t\t\t\t\t\t\t\t\tprimary\tFalse\n",
      "chr1\t3199333\t3199334\t\tintergenic\t\t\t\t\t\t\t\t\t\t\t\t\t\tprimary\tFalse\n",
      "chr1\t3216334\t3216335\t3216334.0\texon\t0.00040225261464199515\t1.0\t609.5\tTrue\tXkr4\tENSMUSG00000051951.5\tENSMUST00000070533.4\t0.0\t1\t3214482.0\t3216968.0\t3215724.5\t-\tprimary\tFalse\n",
      "chr1\t3253526\t3253527\t3253526.0\tintron\t2.18810719974793e-06\t1.0\t-189463.5\tTrue\tXkr4\tENSMUSG00000051951.5\tENSMUST00000070533.4\t0.0\t1\t3214482.0\t3671498.0\t3442989.5\t-\tprimary\tFalse\n"
     ]
    }
   ],
   "source": [
    "!head {gene_annos_primary_multi_row}"
   ]
  },
  {
   "cell_type": "markdown",
   "id": "amber-atmosphere",
   "metadata": {
    "heading_collapsed": "true",
    "tags": []
   },
   "source": [
    "### CpG island annotations"
   ]
  },
  {
   "cell_type": "code",
   "execution_count": 141,
   "id": "accessory-conclusion",
   "metadata": {},
   "outputs": [
    {
     "data": {
      "text/html": [
       "<div>\n",
       "<style scoped>\n",
       "    .dataframe tbody tr th:only-of-type {\n",
       "        vertical-align: middle;\n",
       "    }\n",
       "\n",
       "    .dataframe tbody tr th {\n",
       "        vertical-align: top;\n",
       "    }\n",
       "\n",
       "    .dataframe thead th {\n",
       "        text-align: right;\n",
       "    }\n",
       "</style>\n",
       "<table border=\"1\" class=\"dataframe\">\n",
       "  <thead>\n",
       "    <tr style=\"text-align: right;\">\n",
       "      <th></th>\n",
       "      <th>Chromosome</th>\n",
       "      <th>Start</th>\n",
       "      <th>End</th>\n",
       "      <th>name</th>\n",
       "      <th>region_name</th>\n",
       "      <th>distance_signed</th>\n",
       "      <th>north_south_of_island</th>\n",
       "    </tr>\n",
       "  </thead>\n",
       "  <tbody>\n",
       "    <tr>\n",
       "      <th>0</th>\n",
       "      <td>chr1</td>\n",
       "      <td>3035832</td>\n",
       "      <td>3035833</td>\n",
       "      <td>cg36602902_BC11</td>\n",
       "      <td>open sea</td>\n",
       "      <td>-495792</td>\n",
       "      <td></td>\n",
       "    </tr>\n",
       "    <tr>\n",
       "      <th>1</th>\n",
       "      <td>chr1</td>\n",
       "      <td>3102470</td>\n",
       "      <td>3102471</td>\n",
       "      <td>cg36603287_TC21</td>\n",
       "      <td>open sea</td>\n",
       "      <td>-429154</td>\n",
       "      <td></td>\n",
       "    </tr>\n",
       "    <tr>\n",
       "      <th>2</th>\n",
       "      <td>chr1</td>\n",
       "      <td>3121638</td>\n",
       "      <td>3121639</td>\n",
       "      <td>cg36603393_BC21</td>\n",
       "      <td>open sea</td>\n",
       "      <td>-409986</td>\n",
       "      <td></td>\n",
       "    </tr>\n",
       "  </tbody>\n",
       "</table>\n",
       "</div>"
      ],
      "text/plain": [
       "  Chromosome    Start      End             name region_name  distance_signed  \\\n",
       "0       chr1  3035832  3035833  cg36602902_BC11    open sea          -495792   \n",
       "1       chr1  3102470  3102471  cg36603287_TC21    open sea          -429154   \n",
       "2       chr1  3121638  3121639  cg36603393_BC21    open sea          -409986   \n",
       "\n",
       "  north_south_of_island  \n",
       "0                        \n",
       "1                        \n",
       "2                        "
      ]
     },
     "execution_count": 141,
     "metadata": {},
     "output_type": "execute_result"
    }
   ],
   "source": [
    "cpg_island_classif_df = lib.classify_cpg_island_overlap(\n",
    "    granges_df=original_probes_df_sorted,\n",
    "    cpg_islands_pickle_d=cpg_islands_pickle_d,\n",
    ")\n",
    "cpg_island_classif_df.head(3)"
   ]
  },
  {
   "cell_type": "markdown",
   "id": "advance-watts",
   "metadata": {},
   "source": [
    "### Merge all annotations"
   ]
  },
  {
   "cell_type": "code",
   "execution_count": null,
   "id": "interracial-conducting",
   "metadata": {},
   "outputs": [],
   "source": [
    "cpg_island_classif_df\n",
    "merged_annos_final"
   ]
  },
  {
   "cell_type": "markdown",
   "id": "cleared-mission",
   "metadata": {},
   "source": [
    "# End"
   ]
  },
  {
   "cell_type": "code",
   "execution_count": null,
   "id": "infectious-match",
   "metadata": {},
   "outputs": [],
   "source": []
  }
 ],
 "metadata": {
  "jupytext": {
   "text_representation": {
    "extension": ".py",
    "format_name": "light",
    "format_version": "1.5",
    "jupytext_version": "1.11.0"
   }
  },
  "kernelspec": {
   "display_name": "Python [conda env:mouse_hema_meth_dev3] *",
   "language": "python",
   "name": "conda-env-mouse_hema_meth_dev3-xpython"
  },
  "language_info": {
   "file_extension": ".py",
   "mimetype": "text/x-python",
   "name": "python",
   "version": "3.8.8"
  },
  "toc-autonumbering": true
 },
 "nbformat": 4,
 "nbformat_minor": 5
}
