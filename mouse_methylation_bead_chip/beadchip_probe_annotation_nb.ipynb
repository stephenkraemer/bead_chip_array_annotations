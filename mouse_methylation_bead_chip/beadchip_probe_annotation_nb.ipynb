{
 "cells": [
  {
   "cell_type": "markdown",
   "id": "7d93ff6e",
   "metadata": {},
   "source": [
    "# How to reproduce this analysis"
   ]
  },
  {
   "cell_type": "markdown",
   "id": "17f3579b",
   "metadata": {},
   "source": [
    "- install the environment (env yaml and lock file are distributed with the notebook)"
   ]
  },
  {
   "cell_type": "markdown",
   "id": "0af52ed5",
   "metadata": {},
   "source": [
    "mamba env create -f /home/stephen/projects/mouse_methylation_bead_chip/probe-anno_env.yaml"
   ]
  },
  {
   "cell_type": "markdown",
   "id": "eligible-affiliate",
   "metadata": {},
   "source": [
    "- create a project directory\n",
    "- copy the manifest file somewhere into this project directory\n",
    "- specify these paths in the Config section"
   ]
  },
  {
   "cell_type": "markdown",
   "id": "boxed-lightweight",
   "metadata": {
    "lines_to_next_cell": 2
   },
   "source": [
    "- specify the number of available cores in the Config section\n",
    "\n",
    "\n",
    "## Place the manifest somewhere in the project_dir"
   ]
  },
  {
   "cell_type": "markdown",
   "id": "1586a169",
   "metadata": {},
   "source": [
    "# Setup"
   ]
  },
  {
   "cell_type": "markdown",
   "id": "8094ffb1",
   "metadata": {},
   "source": [
    "## Config (ADAPT)"
   ]
  },
  {
   "cell_type": "code",
   "execution_count": null,
   "id": "c9990679",
   "metadata": {},
   "outputs": [],
   "source": [
    "# TODO: set number of available cores as needed\n",
    "n_cores = 12"
   ]
  },
  {
   "cell_type": "code",
   "execution_count": null,
   "id": "white-france",
   "metadata": {},
   "outputs": [],
   "source": [
    "# TODO: set basic paths as needed\n",
    "project_dir = (\n",
    "    \"/omics/groups/OE0029/internal/kraemers/projects/epic-arrays-for-hematopoiesis\"\n",
    ")\n",
    "\n",
    "# this file is distributed with the notebook, place it somewhere in project_dir\n",
    "# and note the location here\n",
    "illumina_probes_csv = (\n",
    "    project_dir\n",
    "    + \"/Infinium_20Mouse_20Methylation_20v1.0_20A1_20GS_20Manifest_20File.csv\"\n",
    ")"
   ]
  },
  {
   "cell_type": "markdown",
   "id": "75b12114",
   "metadata": {},
   "source": [
    "## Imports"
   ]
  },
  {
   "cell_type": "code",
   "execution_count": null,
   "id": "d03fbbb0",
   "metadata": {},
   "outputs": [],
   "source": [
    "import os\n",
    "\n",
    "num_threads = str(n_cores)\n",
    "\n",
    "# these need to be set prior to numpy import\n",
    "os.environ[\"OMP_NUM_THREADS\"] = num_threads\n",
    "os.environ[\"OPENBLAS_NUM_THREADS\"] = num_threads\n",
    "os.environ[\"MKL_NUM_THREADS\"] = num_threads\n",
    "os.environ[\"VECLIB_MAXIMUM_THREADS\"] = num_threads\n",
    "os.environ[\"NUMEXPR_NUM_THREADS\"] = num_threads\n",
    "\n",
    "import numpy as np\n",
    "\n",
    "import subprocess\n",
    "import tempfile\n",
    "from pathlib import Path\n",
    "from typing import Dict\n",
    "\n",
    "import gtfanno as ga\n",
    "import matplotlib as mpl\n",
    "import matplotlib.pyplot as plt\n",
    "import pandas as pd\n",
    "import pyranges as pr\n",
    "from IPython.display import display"
   ]
  },
  {
   "cell_type": "code",
   "execution_count": null,
   "id": "34e60eb2",
   "metadata": {},
   "outputs": [],
   "source": [
    "%matplotlib interactive\n",
    "mpl.rcParams['figure.facecolor'] = 'white'"
   ]
  },
  {
   "cell_type": "markdown",
   "id": "25717607",
   "metadata": {},
   "source": [
    "## Rerun flags"
   ]
  },
  {
   "cell_type": "code",
   "execution_count": null,
   "id": "3cf230aa",
   "metadata": {},
   "outputs": [],
   "source": [
    "recompute = True"
   ]
  },
  {
   "cell_type": "markdown",
   "id": "2870c608",
   "metadata": {},
   "source": [
    "## Paths and URLs"
   ]
  },
  {
   "cell_type": "code",
   "execution_count": null,
   "id": "entertaining-gothic",
   "metadata": {},
   "outputs": [],
   "source": [
    "\n",
    "# ### Input data urls and filepaths"
   ]
  },
  {
   "cell_type": "markdown",
   "id": "musical-nevada",
   "metadata": {},
   "source": [
    "#### Reference genomes"
   ]
  },
  {
   "cell_type": "code",
   "execution_count": null,
   "id": "indirect-framework",
   "metadata": {},
   "outputs": [],
   "source": [
    "mm10_fa_url = 'http://hgdownload.cse.ucsc.edu/goldenpath/mm10/bigZips/mm10.fa.gz'\n",
    "mm10_fa = project_dir + '/ucsc_mm10.fa.gz'\n",
    "mm10_fa_bgz = project_dir + '/ucsc_mm10.fa.bgz'"
   ]
  },
  {
   "cell_type": "code",
   "execution_count": null,
   "id": "regulated-technology",
   "metadata": {},
   "outputs": [],
   "source": [
    "ncbi_mm10_fa_url = 'https://ftp.ncbi.nlm.nih.gov/genomes/refseq/vertebrate_mammalian/Mus_musculus/all_assembly_versions/GCF_000001635.26_GRCm38.p6/GCF_000001635.26_GRCm38.p6_genomic.fna.gz'\n",
    "ncbi_mm10_fa = project_dir + '/ncbi_mm10.fa.gz'\n",
    "ncbi_mm10_fa_bgz = project_dir + '/ncbi_mm10.fa.bgz'"
   ]
  },
  {
   "cell_type": "code",
   "execution_count": null,
   "id": "spiritual-panic",
   "metadata": {},
   "outputs": [],
   "source": [
    "chrom_alias_url = 'https://hgdownload.cse.ucsc.edu/goldenPath/mm10/database/chromAlias.txt.gz'\n",
    "chrom_alias_txt_gz = project_dir + '/chromAlias.txt.gz'"
   ]
  },
  {
   "cell_type": "markdown",
   "id": "found-interpretation",
   "metadata": {},
   "source": [
    "#### Gencode"
   ]
  },
  {
   "cell_type": "code",
   "execution_count": null,
   "id": "diverse-german",
   "metadata": {},
   "outputs": [],
   "source": [
    "gencode_download_url = \"ftp://ftp.ebi.ac.uk/pub/databases/gencode/Gencode_mouse/release_M25/gencode.vM25.annotation.gtf.gz\"\n",
    "\n",
    "# unmodified gencode gtf (note: with chr prefix)\n",
    "gencode_gtf = project_dir + \"/gencode.vM25.annotation.gtf.gz\"\n",
    "\n",
    "# gencode filtered for principal transcripts of protein coding genes, note that that chromosome prefix ('chr') is removed in this file\n",
    "gencode_coding_canonical_gtf = (\n",
    "    project_dir + \"/gencode.vM25.annotation_coding_canonical.gtf.gz\"\n",
    ")"
   ]
  },
  {
   "cell_type": "markdown",
   "id": "exact-calculator",
   "metadata": {},
   "source": [
    "#### CpG islands"
   ]
  },
  {
   "cell_type": "code",
   "execution_count": null,
   "id": "official-garden",
   "metadata": {},
   "outputs": [],
   "source": [
    "cpg_islands_ucsc_unmasked_url = 'http://hgdownload.cse.ucsc.edu/goldenpath/mm10/database/cpgIslandExtUnmasked.txt.gz'\n",
    "cpg_islands_ucsc_unmasked_txt_gz = project_dir + \"/cpg-islands_ucsc_unmasked.txt.gz\""
   ]
  },
  {
   "cell_type": "markdown",
   "id": "green-ottawa",
   "metadata": {},
   "source": [
    "#### Probes"
   ]
  },
  {
   "cell_type": "markdown",
   "id": "oriental-johns",
   "metadata": {
    "lines_to_next_cell": 2
   },
   "source": [
    "originally retrieved from:\n",
    "illumina_probes_url = \"https://support.illumina.com/content/dam/illumina-support/documents/downloads/productfiles/mouse-methylation/Infinium%20Mouse%20Methylation%20v1.0%20A1%20GS%20Manifest%20File.csv\"\n",
    "saved to repo in case the link is not stable, use from here in the future (see Config section)"
   ]
  },
  {
   "cell_type": "markdown",
   "id": "speaking-friday",
   "metadata": {},
   "source": [
    "### Output file paths"
   ]
  },
  {
   "cell_type": "markdown",
   "id": "proper-edgar",
   "metadata": {},
   "source": [
    "#### gtfanno results"
   ]
  },
  {
   "cell_type": "code",
   "execution_count": null,
   "id": "detailed-kennedy",
   "metadata": {},
   "outputs": [],
   "source": [
    "custom_intervals_results_dir = project_dir + \"/custom-intervals_1500-500\"\n",
    "os.makedirs(custom_intervals_results_dir, exist_ok=True)\n",
    "\n",
    "custom_intervals_trunk_path = (\n",
    "    custom_intervals_results_dir + \"/custom-intervals_1500-500\"\n",
    ")\n",
    "custom_intervals_trunk_path\n",
    "\n",
    "custom_intervals_results_paths_d = dict(\n",
    "    primary_annos_bed=custom_intervals_trunk_path + \"_primary-annotations.bed\",\n",
    "    primary_annos_p=custom_intervals_trunk_path + \"_primary-annotations.p\",\n",
    "    all_annos_bed=custom_intervals_trunk_path + \"_all-annotations.bed\",\n",
    "    all_annos_p=custom_intervals_trunk_path + \"_all-annotations.p\",\n",
    ")"
   ]
  },
  {
   "cell_type": "markdown",
   "id": "reverse-rebate",
   "metadata": {},
   "source": [
    "#### Final tables with CpG island and motif annotations"
   ]
  },
  {
   "cell_type": "code",
   "execution_count": null,
   "id": "small-subject",
   "metadata": {},
   "outputs": [],
   "source": [
    "probe_annos_one_row_bed_csv = project_dir + \"/gene-annos_primary_one-row_v2.bed\"\n",
    "probe_annos_one_row_bed_parquet = project_dir + \"/gene-annos_primary_one-row_v2.parquet\""
   ]
  },
  {
   "cell_type": "markdown",
   "id": "favorite-interpretation",
   "metadata": {},
   "source": [
    "## TemporaryDirectory"
   ]
  },
  {
   "cell_type": "code",
   "execution_count": null,
   "id": "solar-brighton",
   "metadata": {
    "lines_to_next_cell": 2
   },
   "outputs": [],
   "source": [
    "temp_dir_obj = tempfile.TemporaryDirectory(dir=project_dir)\n",
    "temp_dir_name = temp_dir_obj.name\n",
    "temp_dir_name"
   ]
  },
  {
   "cell_type": "markdown",
   "id": "acknowledged-demographic",
   "metadata": {},
   "source": [
    "# Functions and objects\n",
    "## Dtypes"
   ]
  },
  {
   "cell_type": "code",
   "execution_count": null,
   "id": "73c06447",
   "metadata": {
    "lines_to_next_cell": 1
   },
   "outputs": [],
   "source": [
    "chrom_dtype_prefixed = pd.api.types.CategoricalDtype(\n",
    "    categories=[\n",
    "        \"chr1\",\n",
    "        \"chr2\",\n",
    "        \"chr3\",\n",
    "        \"chr4\",\n",
    "        \"chr5\",\n",
    "        \"chr6\",\n",
    "        \"chr7\",\n",
    "        \"chr8\",\n",
    "        \"chr9\",\n",
    "        \"chr10\",\n",
    "        \"chr11\",\n",
    "        \"chr12\",\n",
    "        \"chr13\",\n",
    "        \"chr14\",\n",
    "        \"chr15\",\n",
    "        \"chr16\",\n",
    "        \"chr17\",\n",
    "        \"chr18\",\n",
    "        \"chr19\",\n",
    "        \"chrX\",\n",
    "        \"chrY\",\n",
    "        \"chrMT\",\n",
    "    ],\n",
    "    ordered=True,\n",
    ")"
   ]
  },
  {
   "cell_type": "markdown",
   "id": "a059669e",
   "metadata": {},
   "source": [
    "## Merge multiple gene annos per probe"
   ]
  },
  {
   "cell_type": "code",
   "execution_count": null,
   "id": "hundred-financing",
   "metadata": {
    "lines_to_next_cell": 1
   },
   "outputs": [],
   "source": [
    "def merge_annos(\n",
    "    primary_annos: pd.DataFrame,\n",
    "    #     chrom_dtype: pd.api.types.CategoricalDtype,\n",
    ") -> pd.DataFrame:\n",
    "    \"\"\"Merge annotation format with multiple rows per DMR\"\"\"\n",
    "\n",
    "    # TODO: could use some print statements\n",
    "\n",
    "    # Merge information as CSV for fields with different values for different annotations\n",
    "    fields_with_different_values = [\n",
    "        \"perc_feature\",\n",
    "        \"perc_region\",\n",
    "        \"distance\",\n",
    "        \"has_center\",\n",
    "        \"gene_name\",\n",
    "        \"gene_id\",\n",
    "        \"transcript_id\",\n",
    "        \"appris_principal_score\",\n",
    "        \"feat_start\",\n",
    "        \"feat_end\",\n",
    "        \"feat_center\",\n",
    "        \"feat_strand\",\n",
    "    ]\n",
    "\n",
    "    fields_with_unique_values = [\n",
    "        f for f in primary_annos.columns if f not in fields_with_different_values\n",
    "    ]\n",
    "\n",
    "    # float fields require special str formatting\n",
    "    float_fields = [\n",
    "        f\n",
    "        for f in fields_with_different_values\n",
    "        if pd.api.types.is_float_dtype(primary_annos.dtypes[f])\n",
    "    ]\n",
    "\n",
    "    # When we concatenate, we need to convert all fields to str/object dtype\n",
    "    primary_annos_new_dtypes = primary_annos.copy()\n",
    "    primary_annos_new_dtypes[float_fields] = primary_annos_new_dtypes[\n",
    "        float_fields\n",
    "    ].round(2)\n",
    "    primary_annos_new_dtypes[fields_with_different_values] = primary_annos_new_dtypes[\n",
    "        fields_with_different_values\n",
    "    ].astype(str)\n",
    "\n",
    "    # computations are expensive, so only perform on features which are actually duplicated\n",
    "    # always take gtfanno_uid into the mix so that we can avoid problems with duplicate regions\n",
    "    # (which occur for example on the EPIC array)\n",
    "    is_duplicated = primary_annos_new_dtypes.duplicated(\n",
    "        subset=[\"Chromosome\", \"Start\", \"End\", \"gtfanno_uid\"], keep=False\n",
    "    )\n",
    "    duplicated_df = primary_annos_new_dtypes.loc[is_duplicated].copy()\n",
    "\n",
    "    #     primary_annos.query('feat_class == \"Promoter\"')\n",
    "\n",
    "    print(\"merge unique value fields\")\n",
    "    merged_different_value_fields_df = (\n",
    "        duplicated_df\n",
    "        # for testing\n",
    "        # .query('feat_class == \"Promoter\"')\n",
    "        # .head(50)\n",
    "        # / for testing\n",
    "        .groupby(\n",
    "            [\"Chromosome\", \"Start\", \"End\", \"gtfanno_uid\"], observed=True, as_index=False\n",
    "        )[fields_with_different_values].aggregate(_agg_multi_value_columns)\n",
    "    )\n",
    "    merged_different_value_fields_df\n",
    "\n",
    "    # Assert that unique value fields are really unique (1 or 0 unique values if nan)\n",
    "\n",
    "    duplicated_df\n",
    "\n",
    "    assert (\n",
    "        duplicated_df\n",
    "        # .head(100)\n",
    "        .groupby([\"Chromosome\", \"Start\", \"End\", \"gtfanno_uid\"], observed=True)[\n",
    "            fields_with_unique_values\n",
    "        ]\n",
    "        .agg(lambda ser: ser.nunique())\n",
    "        # bug: nunique() does not respected observed atm\n",
    "        # .nunique()\n",
    "        .isin([0, 1])\n",
    "        .all()\n",
    "        .all()\n",
    "    )\n",
    "\n",
    "    merged_unique_value_fields_df = duplicated_df.groupby(\n",
    "        [\"Chromosome\", \"Start\", \"End\", \"gtfanno_uid\"],\n",
    "        observed=True,\n",
    "        as_index=False,\n",
    "    )[fields_with_unique_values].first()\n",
    "    merged_unique_value_fields_df\n",
    "\n",
    "    merged_duplicated_annos = pd.concat(\n",
    "        [\n",
    "            merged_different_value_fields_df.drop(\n",
    "                [\"Chromosome\", \"Start\", \"End\", \"gtfanno_uid\"], axis=1\n",
    "            ),\n",
    "            merged_unique_value_fields_df,\n",
    "        ],\n",
    "        axis=1,\n",
    "    )[primary_annos.columns]\n",
    "    merged_duplicated_annos\n",
    "\n",
    "    full_merged_annos = pd.concat(\n",
    "        [primary_annos_new_dtypes.loc[~is_duplicated], merged_duplicated_annos], axis=0\n",
    "    ).sort_values([\"Chromosome\", \"Start\", \"End\"])\n",
    "    full_merged_annos\n",
    "\n",
    "    assert (\n",
    "        full_merged_annos[\"gtfanno_uid\"] == np.arange(full_merged_annos.shape[0])\n",
    "    ).all()\n",
    "\n",
    "    return full_merged_annos.reset_index(drop=True)\n",
    "\n",
    "\n",
    "def _agg_multi_value_columns(ser):\n",
    "    if ser.eq(\"nan\").all():\n",
    "        return \"nan\"\n",
    "    else:\n",
    "        return ser.str.cat(sep=\",\")"
   ]
  },
  {
   "cell_type": "markdown",
   "id": "favorite-muscle",
   "metadata": {},
   "source": [
    "## Classify cytosine motifs"
   ]
  },
  {
   "cell_type": "code",
   "execution_count": null,
   "id": "absent-ratio",
   "metadata": {
    "lines_to_next_cell": 1
   },
   "outputs": [],
   "source": [
    "def classify_motif(s):\n",
    "    if s[2] == \"C\":\n",
    "        if s[3] == \"G\":\n",
    "            return \"CG\"\n",
    "        elif s[3] == \"N\":\n",
    "            return \"CN\"\n",
    "        elif s[4] == \"G\":\n",
    "            return \"CHG\"\n",
    "        elif s[4] == \"N\":\n",
    "            return \"CHN\"\n",
    "        else:\n",
    "            return \"CHH\"\n",
    "    elif s[2] == \"G\":\n",
    "        if s[1] == \"C\":\n",
    "            return \"CG\"\n",
    "        elif s[1] == \"N\":\n",
    "            return \"CN\"\n",
    "        elif s[0] == \"C\":\n",
    "            return \"CHG\"\n",
    "        elif s[0] == \"N\":\n",
    "            return \"CHN\"\n",
    "        else:\n",
    "            return \"CHH\"\n",
    "    else:\n",
    "        return \"D\""
   ]
  },
  {
   "cell_type": "code",
   "execution_count": null,
   "id": "introductory-library",
   "metadata": {},
   "outputs": [],
   "source": [
    "def find_cytosine_strand_and_motif(df, temp_dir_name, fa_bgz):\n",
    "    \"\"\"\n",
    "\n",
    "    chrom names must match ref genome\n",
    "    \"\"\"\n",
    "\n",
    "    regions_txt = temp_dir_name + \"/regions.txt\"\n",
    "    Path(regions_txt).write_text(\n",
    "        (\n",
    "            df[\"Chromosome\"].astype(str)\n",
    "            + \":\"\n",
    "            + df[\"Start\"].add(1 - 2).astype(str)\n",
    "            + \"-\"\n",
    "            + df[\"End\"].add(2).astype(str)\n",
    "        ).str.cat(sep=\"\\n\")\n",
    "    )\n",
    "\n",
    "\n",
    "    res_txt = temp_dir_name + \"/res.txt\"\n",
    "    proc2 = subprocess.run(\n",
    "        [\n",
    "            \"samtools\",\n",
    "            \"faidx\",\n",
    "            \"-r\",\n",
    "            regions_txt,\n",
    "            \"-o\",\n",
    "            res_txt,\n",
    "            fa_bgz,\n",
    "        ],\n",
    "        check=True,\n",
    "        capture_output=True,\n",
    "        encoding=\"utf-8\",\n",
    "    )\n",
    "\n",
    "    bases_ser = pd.Series(\n",
    "        [s for s in Path(res_txt).read_text().upper().split() if not s.startswith(\">\")]\n",
    "    )\n",
    "\n",
    "    strand_ser = bases_ser.str.slice(2, 3).map({\"C\": \"+\", \"G\": \"-\"}).fillna(\"NA\")\n",
    "    motifs_ser = bases_ser.map(classify_motif)\n",
    "\n",
    "    return strand_ser, motifs_ser"
   ]
  },
  {
   "cell_type": "markdown",
   "id": "36d6e376",
   "metadata": {},
   "source": [
    "# Analysis"
   ]
  },
  {
   "cell_type": "markdown",
   "id": "191d5e2d",
   "metadata": {},
   "source": [
    "## Prepare and inspect the probe manifest"
   ]
  },
  {
   "cell_type": "code",
   "execution_count": null,
   "id": "premium-smart",
   "metadata": {},
   "outputs": [],
   "source": [
    "!head {illumina_probes_csv}"
   ]
  },
  {
   "cell_type": "markdown",
   "id": "e65c35c4",
   "metadata": {},
   "source": [
    "### Get curated BED intervals for probes"
   ]
  },
  {
   "cell_type": "code",
   "execution_count": null,
   "id": "9957560d",
   "metadata": {},
   "outputs": [],
   "source": [
    "illumina_probes = pd.read_csv(\n",
    "    illumina_probes_csv,\n",
    "    skiprows=7,\n",
    "    dtype={\n",
    "        \"AddressA_ID\": str,\n",
    "        \"CHR\": str,\n",
    "        \"MFG_Change_Flagged\": \"boolean\",\n",
    "        \"MAPINFO\": \"Int64\",\n",
    "    },\n",
    ")"
   ]
  },
  {
   "cell_type": "markdown",
   "id": "41b8a28c",
   "metadata": {},
   "source": [
    "exemplary row, drop fields with longish sequence strings for display"
   ]
  },
  {
   "cell_type": "code",
   "execution_count": null,
   "id": "814061a1",
   "metadata": {},
   "outputs": [],
   "source": [
    "illumina_probes.drop([\"Forward_Sequence\", \"Top_Sequence\"], axis=1).iloc[0].to_frame()"
   ]
  },
  {
   "cell_type": "markdown",
   "id": "7edb03a8",
   "metadata": {},
   "source": [
    "There are CHR in ['0', nan] probes"
   ]
  },
  {
   "cell_type": "code",
   "execution_count": null,
   "id": "4728e1dd",
   "metadata": {},
   "outputs": [],
   "source": [
    "illumina_probes.CHR.value_counts(dropna=False)"
   ]
  },
  {
   "cell_type": "markdown",
   "id": "3dc2e2aa",
   "metadata": {},
   "source": [
    "example for control probe (everything NA)"
   ]
  },
  {
   "cell_type": "code",
   "execution_count": null,
   "id": "statutory-surname",
   "metadata": {},
   "outputs": [],
   "source": [
    "illumina_probes.loc[illumina_probes.CHR.isnull()].drop(\n",
    "    [\"Forward_Sequence\", \"Top_Sequence\"], axis=1\n",
    ").iloc[0].to_frame()"
   ]
  },
  {
   "cell_type": "markdown",
   "id": "b5f721f2",
   "metadata": {},
   "source": [
    "example for chromosome 0 probe"
   ]
  },
  {
   "cell_type": "code",
   "execution_count": null,
   "id": "c4f51452",
   "metadata": {},
   "outputs": [],
   "source": [
    "illumina_probes.loc[illumina_probes.CHR.eq(\"0\")].drop(\n",
    "    [\"Forward_Sequence\", \"Top_Sequence\"], axis=1\n",
    ").iloc[0].to_frame()"
   ]
  },
  {
   "cell_type": "markdown",
   "id": "881b31f8",
   "metadata": {},
   "source": [
    "checked manually in my index files: MAPINFO is 1-based Start info"
   ]
  },
  {
   "cell_type": "markdown",
   "id": "thorough-alabama",
   "metadata": {},
   "source": [
    "- add 'chr' prefix and make Categorical\n",
    "- provide BED interval for the 1-bp long cytosine intervals\n",
    "- restrict to columns Chromosome, Start, End"
   ]
  },
  {
   "cell_type": "code",
   "execution_count": null,
   "id": "7b057926",
   "metadata": {},
   "outputs": [],
   "source": [
    "illumina_probe_intervals_bed_convention = (\n",
    "    illumina_probes[[\"CHR\", \"MAPINFO\", \"IlmnID\"]]\n",
    "    .rename(columns={\"CHR\": \"Chromosome\", \"MAPINFO\": \"Start\", \"IlmnID\": \"name\"})\n",
    "    .assign(\n",
    "        Start=lambda df: df[\"Start\"] - 1,\n",
    "        End=lambda df: df[\"Start\"] + 1,\n",
    "        Chromosome=lambda df: (\"chr\" + df[\"Chromosome\"]).astype(chrom_dtype_prefixed),\n",
    "    )[[\"Chromosome\", \"Start\", \"End\", \"name\"]]\n",
    ")\n",
    "\n",
    "\n",
    "illumina_probes_curated_chrom_defined = (\n",
    "    illumina_probe_intervals_bed_convention.loc[\n",
    "        lambda df: df.Chromosome.notnull() & df.Chromosome.ne(\"0\")\n",
    "    ]\n",
    "    .sort_values([\"Chromosome\", \"Start\", \"End\"])\n",
    "    .reset_index(drop=True)\n",
    ")"
   ]
  },
  {
   "cell_type": "markdown",
   "id": "moved-correlation",
   "metadata": {},
   "source": [
    "assert that we have only lost the chromosome 0|na probes\n",
    "\n",
    "n_probes_chr_defined = (\n",
    "    illumina_probes.shape[0] - illumina_probes.CHR.isin([\"0\", np.nan]).sum()\n",
    ")\n",
    "assert n_probes_chr_defined == illumina_probes_curated_chrom_defined.shape[0]"
   ]
  },
  {
   "cell_type": "markdown",
   "id": "naval-quarter",
   "metadata": {},
   "source": [
    "There are duplicated intervals, ie same interval, different probes, with different names"
   ]
  },
  {
   "cell_type": "code",
   "execution_count": null,
   "id": "d1ac0162",
   "metadata": {},
   "outputs": [],
   "source": [
    "illumina_probes_curated_chrom_defined[[\"Chromosome\", \"Start\", \"End\"]].duplicated().sum()"
   ]
  },
  {
   "cell_type": "markdown",
   "id": "445484dd",
   "metadata": {},
   "source": [
    "to get unique intervals for annotation with gtfanno\n",
    "- drop duplicate rows\n",
    "- remove prefix\n",
    "- change to alphabetic sorting order\n",
    "- only save the grange columns"
   ]
  },
  {
   "cell_type": "code",
   "execution_count": null,
   "id": "thrown-diana",
   "metadata": {},
   "outputs": [],
   "source": [
    "illumina_coordinate_bed = temp_dir_name + '/illumina-coordinates.bed'"
   ]
  },
  {
   "cell_type": "code",
   "execution_count": null,
   "id": "primary-lover",
   "metadata": {},
   "outputs": [],
   "source": [
    "illumina_probes_curated_chrom_defined.assign(\n",
    "    Chromosome=lambda df: df.Chromosome.astype(str).str.replace(\"chr\", \"\")\n",
    ").iloc[:, 0:3].sort_values([\"Chromosome\", \"Start\", \"End\"]).drop_duplicates().to_csv(\n",
    "    illumina_coordinate_bed, sep=\"\\t\", header=False, index=False\n",
    ")"
   ]
  },
  {
   "cell_type": "code",
   "execution_count": null,
   "id": "exotic-lewis",
   "metadata": {},
   "outputs": [],
   "source": [
    "!head {illumina_coordinate_bed}"
   ]
  },
  {
   "cell_type": "code",
   "execution_count": null,
   "id": "positive-radio",
   "metadata": {},
   "outputs": [],
   "source": [
    "illumina_probes_curated_chrom_defined_no_names_no_dup_intervals = (\n",
    "    illumina_probes_curated_chrom_defined[\n",
    "        [\"Chromosome\", \"Start\", \"End\"]\n",
    "    ].drop_duplicates(subset=[\"Chromosome\", \"Start\", \"End\"])\n",
    ").reset_index(drop=True)"
   ]
  },
  {
   "cell_type": "markdown",
   "id": "92f4ce2a",
   "metadata": {},
   "source": [
    "## Gene annotation"
   ]
  },
  {
   "cell_type": "markdown",
   "id": "f2e9acaa",
   "metadata": {},
   "source": [
    "### Prepare gene annotation"
   ]
  },
  {
   "cell_type": "markdown",
   "id": "61338b25",
   "metadata": {
    "heading_collapsed": "true",
    "tags": []
   },
   "source": [
    "\n",
    "#### download gencode"
   ]
  },
  {
   "cell_type": "code",
   "execution_count": null,
   "id": "6dee5a38",
   "metadata": {
    "lines_to_next_cell": 2,
    "tags": []
   },
   "outputs": [],
   "source": [
    "if recompute:\n",
    "    subprocess.run(\n",
    "        [\"wget\", \"-O\", gencode_gtf, gencode_download_url],\n",
    "        check=True,\n",
    "        capture_output=True,\n",
    "    )"
   ]
  },
  {
   "cell_type": "markdown",
   "id": "9592d6a6",
   "metadata": {},
   "source": [
    "#### Filter and reformat gencode GTF"
   ]
  },
  {
   "cell_type": "markdown",
   "id": "003694d6",
   "metadata": {},
   "source": [
    "- restrict to canonical transcripts\n",
    "- restrict to coding transcripts\n",
    "- remove chr prefix\n",
    "- change M to MT"
   ]
  },
  {
   "cell_type": "code",
   "execution_count": null,
   "id": "90aecccc",
   "metadata": {},
   "outputs": [],
   "source": [
    "gencode_df = pr.read_gtf(gencode_gtf, as_df=True, duplicate_attr=True)"
   ]
  },
  {
   "cell_type": "code",
   "execution_count": null,
   "id": "dcfc0b84",
   "metadata": {},
   "outputs": [],
   "source": [
    "# extract appris principal score from tags\n",
    "appris_principal_score = (\n",
    "    gencode_df[\"tag\"].str.extract(r\"appris_principal_(\\d)\", expand=False).astype(float)\n",
    ")"
   ]
  },
  {
   "cell_type": "code",
   "execution_count": null,
   "id": "737e8a82",
   "metadata": {},
   "outputs": [],
   "source": [
    "appris_principal_score.value_counts()"
   ]
  },
  {
   "cell_type": "code",
   "execution_count": null,
   "id": "bb9f0318",
   "metadata": {},
   "outputs": [],
   "source": [
    "appris_principal_score.isnull().sum()"
   ]
  },
  {
   "cell_type": "code",
   "execution_count": null,
   "id": "5309a272",
   "metadata": {},
   "outputs": [],
   "source": [
    "appris_principal_score.notnull().sum()"
   ]
  },
  {
   "cell_type": "code",
   "execution_count": null,
   "id": "51210e44",
   "metadata": {},
   "outputs": [],
   "source": [
    "is_principal_transcript = appris_principal_score.notnull()"
   ]
  },
  {
   "cell_type": "code",
   "execution_count": null,
   "id": "df0d0c12",
   "metadata": {},
   "outputs": [],
   "source": [
    "is_protein_coding = gencode_df[\"gene_type\"].eq(\"protein_coding\")"
   ]
  },
  {
   "cell_type": "code",
   "execution_count": null,
   "id": "6b09bfc8",
   "metadata": {},
   "outputs": [],
   "source": [
    "gencode_df_coding_canonical = gencode_df.loc[\n",
    "    is_principal_transcript & is_protein_coding\n",
    "].copy()"
   ]
  },
  {
   "cell_type": "code",
   "execution_count": null,
   "id": "e668e5bd",
   "metadata": {},
   "outputs": [],
   "source": [
    "gencode_df_coding_canonical.head(3)"
   ]
  },
  {
   "cell_type": "code",
   "execution_count": null,
   "id": "adc2c529",
   "metadata": {},
   "outputs": [],
   "source": [
    "gencode_df_coding_canonical.shape"
   ]
  },
  {
   "cell_type": "code",
   "execution_count": null,
   "id": "d048c5e3",
   "metadata": {},
   "outputs": [],
   "source": [
    "gencode_df_coding_canonical[\"Chromosome\"] = gencode_df_coding_canonical[\n",
    "    \"Chromosome\"\n",
    "].str.replace(\"chr\", \"\")\n",
    "gencode_df_coding_canonical[\"Chromosome\"] = gencode_df_coding_canonical[\n",
    "    \"Chromosome\"\n",
    "].replace(\"M\", \"MT\")"
   ]
  },
  {
   "cell_type": "code",
   "execution_count": null,
   "id": "6c1de65b",
   "metadata": {},
   "outputs": [],
   "source": [
    "gencode_pr = pr.PyRanges(gencode_df_coding_canonical)\n",
    "gencode_pr.df.Chromosome.unique()"
   ]
  },
  {
   "cell_type": "code",
   "execution_count": null,
   "id": "41254046",
   "metadata": {},
   "outputs": [],
   "source": [
    "gencode_pr.to_gtf(gencode_coding_canonical_gtf)"
   ]
  },
  {
   "cell_type": "code",
   "execution_count": null,
   "id": "6e4df4a0",
   "metadata": {},
   "outputs": [],
   "source": [
    "!zcat {gencode_coding_canonical_gtf} | head"
   ]
  },
  {
   "cell_type": "markdown",
   "id": "e01b219f",
   "metadata": {},
   "source": [
    "verify gtf"
   ]
  },
  {
   "cell_type": "code",
   "execution_count": null,
   "id": "27d790b9",
   "metadata": {},
   "outputs": [],
   "source": [
    "!zcat {gencode_coding_canonical_gtf} | grep ^protein_coding"
   ]
  },
  {
   "cell_type": "code",
   "execution_count": null,
   "id": "5fcd5d58",
   "metadata": {
    "lines_to_next_cell": 2
   },
   "outputs": [],
   "source": [
    "!zcat {gencode_coding_canonical_gtf} | grep ^appris"
   ]
  },
  {
   "cell_type": "markdown",
   "id": "e7349f5d",
   "metadata": {},
   "source": [
    "### Perform gene annotations"
   ]
  },
  {
   "cell_type": "code",
   "execution_count": null,
   "id": "boolean-shame",
   "metadata": {},
   "outputs": [],
   "source": [
    "if recompute:\n",
    "    ga.annotate(\n",
    "        query_bed=illumina_coordinate_bed,\n",
    "        gtf_fp=gencode_coding_canonical_gtf,\n",
    "        trunk_path=custom_intervals_trunk_path,\n",
    "        tmpdir=temp_dir_name,\n",
    "        promoter=(-1500, 500),\n",
    "        distant_cis_regulatory_domain=(-100_000, 100_000),\n",
    "    )"
   ]
  },
  {
   "cell_type": "code",
   "execution_count": null,
   "id": "decimal-manufacturer",
   "metadata": {},
   "outputs": [],
   "source": [
    "primary_annos = pd.read_pickle(\n",
    "    custom_intervals_results_paths_d[\"primary_annos_p\"]\n",
    ")"
   ]
  },
  {
   "cell_type": "markdown",
   "id": "55a35fc9",
   "metadata": {},
   "source": [
    "#### Multiple assignments per region"
   ]
  },
  {
   "cell_type": "markdown",
   "id": "61ee80b6",
   "metadata": {},
   "source": [
    "##### How is this distributed across feature classes?"
   ]
  },
  {
   "cell_type": "code",
   "execution_count": null,
   "id": "57b08870",
   "metadata": {},
   "outputs": [],
   "source": [
    "multi_annos_crosstab = (\n",
    "    primary_annos.groupby([\"feat_class\", \"gtfanno_uid\"], observed=True)\n",
    "    .size()\n",
    "    .groupby(\"feat_class\")\n",
    "    .value_counts()\n",
    "    .unstack()\n",
    ")\n",
    "multi_annos_crosstab"
   ]
  },
  {
   "cell_type": "markdown",
   "id": "entitled-render",
   "metadata": {},
   "source": [
    "##### Example for Promoter multiple annotations"
   ]
  },
  {
   "cell_type": "code",
   "execution_count": null,
   "id": "3ce98402",
   "metadata": {},
   "outputs": [],
   "source": [
    "primary_annos[\"is_duplicated\"] = primary_annos.duplicated(\n",
    "    subset=[\"Chromosome\", \"Start\", \"End\"], keep=False\n",
    ")"
   ]
  },
  {
   "cell_type": "code",
   "execution_count": null,
   "id": "7cbee64e",
   "metadata": {},
   "outputs": [],
   "source": [
    "df = primary_annos.query('feat_class == \"Promoter\" & is_duplicated')[\n",
    "    [\"Chromosome\", \"Start\", \"End\", \"gtfanno_uid\", \"gene_name\"]\n",
    "]\n",
    "display(df.head(20))\n",
    "display(df.tail(20))"
   ]
  },
  {
   "cell_type": "markdown",
   "id": "54c69983",
   "metadata": {},
   "source": [
    "TODO: exchange with appropriate ensembl version\n",
    "Nsdhl\n",
    "http://nov2020.archive.ensembl.org/Mus_musculus/Gene/Summary?db=core;g=ENSMUSG00000031349;r=X:71962163-72002120\n",
    "\n",
    "Rpl7\n",
    "http://nov2020.archive.ensembl.org/Mus_musculus/Gene/Summary?db=core;g=ENSMUSG00000043716;r=1:16171519-16174886"
   ]
  },
  {
   "cell_type": "markdown",
   "id": "9c67c216",
   "metadata": {},
   "source": [
    "### Merge gene annotations (one row per unique probe interval)"
   ]
  },
  {
   "cell_type": "markdown",
   "id": "3d730cd6",
   "metadata": {},
   "source": [
    "Merging strategy: keep all\n",
    "- for Promoters, the window is relatively small. Ranking on TSS distance in such a small window seems arbitrary.\n",
    "- for enhancer candidates, a typical strategy would be to identify all TSS in +-100 kb window and try to find the target through correlation with gene expression, eg PMID: 30686579. So it also makes sense to indicate all genes in the window to give an impression of the number of possible target genes."
   ]
  },
  {
   "cell_type": "code",
   "execution_count": null,
   "id": "d0035d53",
   "metadata": {},
   "outputs": [],
   "source": [
    "merged_annos = merge_annos(primary_annos=primary_annos)\n",
    "merged_annos"
   ]
  },
  {
   "cell_type": "code",
   "execution_count": null,
   "id": "c080f3aa",
   "metadata": {},
   "outputs": [],
   "source": [
    "merged_annos_new_chrom_dtype = merged_annos.copy()\n",
    "merged_annos_new_chrom_dtype[\"Chromosome\"] = (\n",
    "    \"chr\" + merged_annos[\"Chromosome\"].astype(str)\n",
    ").astype(chrom_dtype_prefixed)\n",
    "merged_annos_new_chrom_dtype = (\n",
    "    merged_annos_new_chrom_dtype.sort_values([\"Chromosome\", \"Start\", \"End\"])\n",
    "    .drop(\"gtfanno_uid\", axis=1)\n",
    "    .reset_index(drop=True)\n",
    ")\n",
    "assert merged_annos_new_chrom_dtype[\"Chromosome\"].notnull().all()"
   ]
  },
  {
   "cell_type": "code",
   "execution_count": null,
   "id": "4ddc4dfc",
   "metadata": {
    "lines_to_next_cell": 2
   },
   "outputs": [],
   "source": [
    "merged_annos_new_chrom_dtype = merged_annos_new_chrom_dtype.astype(\n",
    "    {\"Start\": \"Int64\", \"End\": \"Int64\"}\n",
    ")"
   ]
  },
  {
   "cell_type": "markdown",
   "id": "2059f9f7",
   "metadata": {
    "lines_to_next_cell": 2
   },
   "source": [
    "## CpG island annotations"
   ]
  },
  {
   "cell_type": "markdown",
   "id": "variable-warrior",
   "metadata": {},
   "source": [
    "### Download CpG island regions from UCSC"
   ]
  },
  {
   "cell_type": "code",
   "execution_count": null,
   "id": "79a00a2a",
   "metadata": {},
   "outputs": [],
   "source": [
    "if recompute:\n",
    "    subprocess.run(\n",
    "        [\n",
    "            \"wget\",\n",
    "            \"-O\",\n",
    "            cpg_islands_ucsc_unmasked_txt_gz,\n",
    "            cpg_islands_ucsc_unmasked_url,\n",
    "        ],\n",
    "        check=True,\n",
    "        capture_output=True,\n",
    "    )"
   ]
  },
  {
   "cell_type": "markdown",
   "id": "generous-booking",
   "metadata": {},
   "source": [
    "### Read in CpG islands"
   ]
  },
  {
   "cell_type": "code",
   "execution_count": null,
   "id": "searching-merchant",
   "metadata": {},
   "outputs": [],
   "source": [
    "cpg_islands_df_prelim = pd.read_csv(  # type: ignore\n",
    "        cpg_islands_ucsc_unmasked_txt_gz,\n",
    "        sep=\"\\t\",\n",
    "        header=None,\n",
    "        names=\"bin Chromosome Start End name length cpgNum gcNum perCpg perGc obsExp\".split(),\n",
    "    )"
   ]
  },
  {
   "cell_type": "markdown",
   "id": "cleared-projection",
   "metadata": {},
   "source": [
    "no MT cpg islands"
   ]
  },
  {
   "cell_type": "code",
   "execution_count": null,
   "id": "grand-creek",
   "metadata": {},
   "outputs": [],
   "source": [
    "print(\n",
    "    \"chrMT\" in cpg_islands_df_prelim.Chromosome.unique(),\n",
    "    \"chrM\" in cpg_islands_df_prelim.Chromosome.unique(),\n",
    ")"
   ]
  },
  {
   "cell_type": "code",
   "execution_count": null,
   "id": "agreed-reflection",
   "metadata": {
    "lines_to_next_cell": 2
   },
   "outputs": [],
   "source": [
    "cpg_islands_df = (cpg_islands_df_prelim\n",
    "    .astype({\"Chromosome\": chrom_dtype_prefixed})\n",
    "    .dropna()\n",
    "    .sort_values([\"Chromosome\", \"Start\", \"End\"])\n",
    "    .reset_index(drop=True)\n",
    ")"
   ]
  },
  {
   "cell_type": "markdown",
   "id": "young-oregon",
   "metadata": {
    "lines_to_next_cell": 2
   },
   "source": [
    "### Compute shores and shelves"
   ]
  },
  {
   "cell_type": "code",
   "execution_count": null,
   "id": "sudden-junior",
   "metadata": {},
   "outputs": [],
   "source": [
    "cpg_upstream_shores = cpg_islands_df[[\"Chromosome\", \"Start\", \"End\"]].copy()\n",
    "cpg_upstream_shores[\"End\"] = cpg_islands_df[\"Start\"]\n",
    "cpg_upstream_shores[\"Start\"] = cpg_islands_df[\"Start\"] - 2000\n",
    "cpg_downstream_shores = cpg_islands_df[[\"Chromosome\", \"Start\", \"End\"]].copy()\n",
    "cpg_downstream_shores[\"Start\"] = cpg_islands_df[\"End\"]\n",
    "cpg_downstream_shores[\"End\"] = cpg_islands_df[\"End\"] + 2000\n",
    "cpg_shores_df = (\n",
    "    pd.concat([cpg_upstream_shores, cpg_downstream_shores], axis=0)\n",
    "    .sort_values([\"Chromosome\", \"Start\", \"End\"])\n",
    "    .reset_index(drop=True)\n",
    "    .astype({\"Chromosome\": chrom_dtype_prefixed})\n",
    "    .sort_values([\"Chromosome\", \"Start\", \"End\"])\n",
    "    .reset_index(drop=True)\n",
    ")"
   ]
  },
  {
   "cell_type": "code",
   "execution_count": null,
   "id": "electric-fisher",
   "metadata": {},
   "outputs": [],
   "source": [
    "cpg_upstream_shelves = cpg_islands_df[[\"Chromosome\", \"Start\", \"End\"]].copy()\n",
    "cpg_upstream_shelves[\"End\"] = cpg_islands_df[\"Start\"] - 2000\n",
    "cpg_upstream_shelves[\"Start\"] = cpg_islands_df[\"Start\"] - 4000\n",
    "cpg_downstream_shelves = cpg_islands_df[[\"Chromosome\", \"Start\", \"End\"]].copy()\n",
    "cpg_downstream_shelves[\"Start\"] = cpg_islands_df[\"End\"] + 2000\n",
    "cpg_downstream_shelves[\"End\"] = cpg_islands_df[\"End\"] + 4000\n",
    "cpg_shelves_df = (\n",
    "    pd.concat([cpg_upstream_shelves, cpg_downstream_shelves], axis=0)\n",
    "    .sort_values([\"Chromosome\", \"Start\", \"End\"])\n",
    "    .reset_index(drop=True)\n",
    "    .astype({\"Chromosome\": chrom_dtype_prefixed})\n",
    "    .sort_values([\"Chromosome\", \"Start\", \"End\"])\n",
    "    .reset_index(drop=True)\n",
    ")"
   ]
  },
  {
   "cell_type": "code",
   "execution_count": null,
   "id": "extensive-torture",
   "metadata": {},
   "outputs": [],
   "source": [
    "cpg_islands_regions_gr_d = {'cpg_island': pr.PyRanges(cpg_islands_df[['Chromosome', 'Start', 'End']]),\n",
    "                    'cpg_shore': pr.PyRanges(cpg_shores_df),\n",
    "                    'cpg_shelve': pr.PyRanges(cpg_shelves_df),\n",
    "                    }"
   ]
  },
  {
   "cell_type": "markdown",
   "id": "healthy-zoning",
   "metadata": {},
   "source": [
    "### Join probe and cpg region intervals"
   ]
  },
  {
   "cell_type": "code",
   "execution_count": null,
   "id": "norman-assumption",
   "metadata": {},
   "outputs": [],
   "source": [
    "illumina_probes_curated_chrom_defined_no_names_do_dup_intervals_gr = pr.PyRanges(\n",
    "    illumina_probes_curated_chrom_defined_no_names_no_dup_intervals\n",
    ")"
   ]
  },
  {
   "cell_type": "code",
   "execution_count": null,
   "id": "earned-carpet",
   "metadata": {
    "lines_to_next_cell": 2
   },
   "outputs": [],
   "source": [
    "# join against cpg islands, shelves, shores\n",
    "dfs = []\n",
    "for cpg_island_region_name, cpg_island_region_gr in cpg_islands_regions_gr_d.items():\n",
    "    join_gr = illumina_probes_curated_chrom_defined_no_names_do_dup_intervals_gr.join(\n",
    "        cpg_island_region_gr,\n",
    "        how=None,\n",
    "    )\n",
    "    join_df = join_gr.df.rename(\n",
    "        columns={\"Start_b\": \"region_start\", \"End_b\": \"region_end\"}\n",
    "    )[\n",
    "        [\n",
    "            \"Chromosome\",\n",
    "            \"Start\",\n",
    "            \"End\",\n",
    "            \"region_start\",\n",
    "            \"region_end\",\n",
    "        ]\n",
    "    ].assign(region_name=cpg_island_region_name)\n",
    "    dfs.append(join_df)\n",
    "# NOTE: pyranges may change sorting order\n",
    "cpg_island_anno_df = pd.concat(dfs, axis=0).reset_index(drop=True)"
   ]
  },
  {
   "cell_type": "markdown",
   "id": "golden-native",
   "metadata": {},
   "source": [
    "### Inspect multi-class assignments"
   ]
  },
  {
   "cell_type": "markdown",
   "id": "entitled-method",
   "metadata": {},
   "source": [
    "some cpgs are part of multiple features, e.g. cpg is located in a CpG island and in the shelve region of another CpG island; or a CpG is located in two shelve regions of different CpG islands"
   ]
  },
  {
   "cell_type": "code",
   "execution_count": null,
   "id": "alternate-blank",
   "metadata": {},
   "outputs": [],
   "source": [
    "cpg_island_grange_cols = [\"Chromosome\", \"Start\", \"End\"]\n",
    "cpg_island_anno_df.groupby(cpg_island_grange_cols, observed=True).size().value_counts()"
   ]
  },
  {
   "cell_type": "code",
   "execution_count": null,
   "id": "white-brisbane",
   "metadata": {},
   "outputs": [],
   "source": [
    "cpg_island_anno_df.set_index(cpg_island_grange_cols).loc[\n",
    "    cpg_island_anno_df.groupby(cpg_island_grange_cols, observed=True).size().gt(2)\n",
    "].sort_values(cpg_island_grange_cols)"
   ]
  },
  {
   "cell_type": "markdown",
   "id": "unexpected-exclusion",
   "metadata": {},
   "source": [
    "Sanity check: no CpG is annotated to two CpG islands"
   ]
  },
  {
   "cell_type": "code",
   "execution_count": null,
   "id": "entire-steering",
   "metadata": {},
   "outputs": [],
   "source": [
    "cpg_island_anno_df.query('region_name == \"cpg_island\"').groupby(\n",
    "    cpg_island_grange_cols, observed=True\n",
    ").size().value_counts()"
   ]
  },
  {
   "cell_type": "markdown",
   "id": "polyphonic-brush",
   "metadata": {},
   "source": [
    "### pick unique classif according to precedence"
   ]
  },
  {
   "cell_type": "code",
   "execution_count": null,
   "id": "capital-nickname",
   "metadata": {},
   "outputs": [],
   "source": [
    "cpg_island_anno_df_unique = (\n",
    "    cpg_island_anno_df.assign(\n",
    "        region_name=lambda df: pd.Categorical(\n",
    "            df[\"region_name\"],\n",
    "            categories=[\"cpg_island\", \"cpg_shelve\", \"cpg_shore\", \"open_sea\"],\n",
    "        )\n",
    "    )\n",
    "    .sort_values([\"Chromosome\", \"Start\", \"End\", \"region_name\"], ascending=True)\n",
    "    .groupby(grange_cols, observed=True, as_index=False)\n",
    "    .first()\n",
    "    .assign(\n",
    "        Chromosome=lambda df: df[\"Chromosome\"].astype(\n",
    "            illumina_probes_curated_chrom_defined.Chromosome.dtype\n",
    "        )\n",
    "    )\n",
    ")"
   ]
  },
  {
   "cell_type": "markdown",
   "id": "answering-northwest",
   "metadata": {},
   "source": [
    "### add open sea probes"
   ]
  },
  {
   "cell_type": "markdown",
   "id": "affecting-holiday",
   "metadata": {},
   "source": [
    "the grange join operation has discarded open sea cpgs, merge to get them back"
   ]
  },
  {
   "cell_type": "code",
   "execution_count": null,
   "id": "powerful-respect",
   "metadata": {},
   "outputs": [],
   "source": [
    "full_cpg_island_anno_df = pd.merge(\n",
    "    illumina_probes_curated_chrom_defined_no_names_no_dup_intervals,\n",
    "    cpg_island_anno_df_unique,\n",
    "    on=grange_cols,\n",
    "    how=\"left\",\n",
    ")"
   ]
  },
  {
   "cell_type": "code",
   "execution_count": null,
   "id": "celtic-latitude",
   "metadata": {},
   "outputs": [],
   "source": [
    "# assert: the open sea cpgs have no region_name yet, all other features do have a region_name\n",
    "assert (\n",
    "    full_cpg_island_anno_df.region_name.notnull().sum()\n",
    "    == cpg_island_anno_df_unique.shape[0]\n",
    ")"
   ]
  },
  {
   "cell_type": "code",
   "execution_count": null,
   "id": "gross-dialogue",
   "metadata": {
    "lines_to_next_cell": 2
   },
   "outputs": [],
   "source": [
    "full_cpg_island_anno_df[\"region_name\"] = full_cpg_island_anno_df[\"region_name\"].fillna(\n",
    "    \"open_sea\"\n",
    ")"
   ]
  },
  {
   "cell_type": "markdown",
   "id": "scheduled-hunter",
   "metadata": {},
   "source": [
    "### add distance to nearest CpG island"
   ]
  },
  {
   "cell_type": "code",
   "execution_count": null,
   "id": "english-battlefield",
   "metadata": {},
   "outputs": [],
   "source": [
    "nearest_cpg_island_grange = illumina_probes_curated_chrom_defined_no_names_do_dup_intervals_gr.nearest(\n",
    "    cpg_islands_regions_gr_d['cpg_island'],\n",
    "    strandedness=False,\n",
    "    overlap=True,\n",
    "    how=None,\n",
    ")"
   ]
  },
  {
   "cell_type": "code",
   "execution_count": null,
   "id": "announced-centre",
   "metadata": {},
   "outputs": [],
   "source": [
    "# Distance computed by pyranges has no sign, add it\n",
    "nearest_cpg_island_df = nearest_cpg_island_grange.df.copy()\n",
    "is_upstream = nearest_cpg_island_df.eval(\"Start < Start_b\")\n",
    "is_downstream = nearest_cpg_island_df.eval(\"Start >= End_b\")\n",
    "nearest_cpg_island_df[\"distance_signed\"] = 0\n",
    "nearest_cpg_island_df.loc[is_upstream, \"distance_signed\"] = nearest_cpg_island_df.loc[\n",
    "    is_upstream\n",
    "].eval(\"(End - 1) - Start_b\")\n",
    "nearest_cpg_island_df.loc[is_downstream, \"distance_signed\"] = nearest_cpg_island_df.loc[\n",
    "    is_downstream\n",
    "].eval(\"Start - (End_b - 1)\")\n",
    "\n",
    "pd.testing.assert_series_equal(\n",
    "    nearest_cpg_island_df.distance_signed.abs(),\n",
    "    nearest_cpg_island_df.Distance,\n",
    "    check_names=False,\n",
    ")"
   ]
  },
  {
   "cell_type": "markdown",
   "id": "phantom-advancement",
   "metadata": {},
   "source": [
    "### add coords of nearest CpG island to each probe"
   ]
  },
  {
   "cell_type": "code",
   "execution_count": null,
   "id": "documentary-colors",
   "metadata": {},
   "outputs": [],
   "source": [
    "nearest_cpg_island_df = nearest_cpg_island_df.rename(\n",
    "    columns={\"Start_b\": \"next_cpg_island_start\", \"End_b\": \"next_cpg_island_end\"}\n",
    ")\n",
    "\n",
    "full_cpg_island_anno_df_with_dist = pd.merge(\n",
    "    full_cpg_island_anno_df,\n",
    "    nearest_cpg_island_df[\n",
    "        grange_cols\n",
    "        + [\"distance_signed\", \"next_cpg_island_start\", \"next_cpg_island_end\"]\n",
    "    ],\n",
    "    on=grange_cols,\n",
    "    how=\"left\",\n",
    ")\n",
    "# fix lost chrom dtype (pandas problem)\n",
    "full_cpg_island_anno_df_with_dist.Chromosome = (\n",
    "    full_cpg_island_anno_df_with_dist.Chromosome.astype(\n",
    "        illumina_probes_curated_chrom_defined.Chromosome.dtype\n",
    "    )\n",
    ")"
   ]
  },
  {
   "cell_type": "code",
   "execution_count": null,
   "id": "organizational-garbage",
   "metadata": {},
   "outputs": [],
   "source": [
    "pd.testing.assert_frame_equal(\n",
    "    full_cpg_island_anno_df_with_dist.query('region_name == \"CpG islands\"')[\n",
    "        [\"region_start\", \"region_end\"]\n",
    "    ].set_axis([\"a\", \"b\"], axis=1),\n",
    "    full_cpg_island_anno_df_with_dist.query('region_name == \"CpG islands\"')[\n",
    "        [\"next_cpg_island_start\", \"next_cpg_island_end\"]\n",
    "    ].set_axis([\"a\", \"b\"], axis=1),\n",
    ")"
   ]
  },
  {
   "cell_type": "code",
   "execution_count": null,
   "id": "american-exemption",
   "metadata": {},
   "outputs": [],
   "source": [
    "full_cpg_island_anno_df_with_dist = full_cpg_island_anno_df_with_dist.drop(\n",
    "    [\"region_start\", \"region_end\"], axis=1\n",
    ").rename(\n",
    "    columns={\n",
    "        \"next_cpg_island_start\": \"region_start\",\n",
    "        \"next_cpg_island_end\": \"region_end\",\n",
    "    }\n",
    ")"
   ]
  },
  {
   "cell_type": "code",
   "execution_count": null,
   "id": "brazilian-bangladesh",
   "metadata": {
    "lines_to_next_cell": 2
   },
   "outputs": [],
   "source": [
    "# quick sanity check on distance\n",
    "assert (\n",
    "    full_cpg_island_anno_df_with_dist.query('region_name == \"cpg_island\"')[\n",
    "        \"distance_signed\"\n",
    "    ]\n",
    "    .eq(0)\n",
    "    .all()\n",
    ")"
   ]
  },
  {
   "cell_type": "markdown",
   "id": "remarkable-carry",
   "metadata": {},
   "source": [
    "### Illumina style north/south annos"
   ]
  },
  {
   "cell_type": "code",
   "execution_count": null,
   "id": "third-introduction",
   "metadata": {},
   "outputs": [],
   "source": [
    "full_cpg_island_anno_df_with_dist[\"north_south_of_island\"] = np.sign(\n",
    "    full_cpg_island_anno_df_with_dist[\"distance_signed\"]\n",
    ").replace({0: \"\", 1: \"N\", -1: \"S\"})\n",
    "\n",
    "full_cpg_island_anno_df_with_dist.loc[\n",
    "    ~full_cpg_island_anno_df_with_dist.region_name.isin([\"cpg_shore\", \"cpg_shelve\"]),\n",
    "    \"north_south_of_island\",\n",
    "] = \"\""
   ]
  },
  {
   "cell_type": "markdown",
   "id": "waiting-power",
   "metadata": {},
   "source": [
    "### Final CpG island annos"
   ]
  },
  {
   "cell_type": "code",
   "execution_count": null,
   "id": "labeled-seafood",
   "metadata": {
    "lines_to_next_cell": 2
   },
   "outputs": [],
   "source": [
    "full_cpg_island_anno_df_with_dist = full_cpg_island_anno_df_with_dist.rename(\n",
    "    columns={\n",
    "        \"region_name\": \"cpg_island_region_name\",\n",
    "        \"region_start\": \"cpg_island_region_start\",\n",
    "        \"region_end\": \"cpg_island_region_end\",\n",
    "        \"distance_signed\": \"cpg_island_distance\",\n",
    "        \"north_south_of_island\": \"north_south_of_cpg_island\",\n",
    "    }\n",
    ")"
   ]
  },
  {
   "cell_type": "markdown",
   "id": "helpful-baltimore",
   "metadata": {},
   "source": [
    "### Inspect CpG anno results"
   ]
  },
  {
   "cell_type": "code",
   "execution_count": null,
   "id": "civic-world",
   "metadata": {},
   "outputs": [],
   "source": [
    "full_cpg_island_anno_df_with_dist['cpg_island_region_name'].value_counts()"
   ]
  },
  {
   "cell_type": "code",
   "execution_count": null,
   "id": "unlike-flooring",
   "metadata": {},
   "outputs": [],
   "source": [
    "# check that cpg islands and open sea have no north / south, but shelves and shores do have it\n",
    "# check that strands are approx 50/50\n",
    "pd.crosstab(\n",
    "    full_cpg_island_anno_df_with_dist[\"cpg_island_region_name\"],\n",
    "    full_cpg_island_anno_df_with_dist[\"north_south_of_cpg_island\"],\n",
    ")"
   ]
  },
  {
   "cell_type": "code",
   "execution_count": null,
   "id": "small-lincoln",
   "metadata": {},
   "outputs": [],
   "source": [
    "pd.testing.assert_frame_equal(\n",
    "    full_cpg_island_anno_df_with_dist[grange_cols],\n",
    "    illumina_probes_curated_chrom_defined_no_names_no_dup_intervals,\n",
    ")"
   ]
  },
  {
   "cell_type": "code",
   "execution_count": null,
   "id": "powered-following",
   "metadata": {
    "lines_to_next_cell": 2
   },
   "outputs": [],
   "source": [
    "full_cpg_island_anno_df_with_dist[\"cpg_island_distance\"].plot.hist(\n",
    "    bins=np.linspace(-1e5, 1e5, 100)\n",
    ")"
   ]
  },
  {
   "cell_type": "markdown",
   "id": "expensive-wisconsin",
   "metadata": {
    "lines_to_next_cell": 2
   },
   "source": [
    "## Add probe cytosine motif and strand"
   ]
  },
  {
   "cell_type": "markdown",
   "id": "initial-novel",
   "metadata": {},
   "source": [
    "### Download ref genomes"
   ]
  },
  {
   "cell_type": "markdown",
   "id": "quiet-chaos",
   "metadata": {},
   "source": [
    "ucsc mm10"
   ]
  },
  {
   "cell_type": "code",
   "execution_count": null,
   "id": "sticky-expression",
   "metadata": {
    "lines_to_next_cell": 2
   },
   "outputs": [],
   "source": [
    "if recompute:\n",
    "    subprocess.run([\"wget\", \"-O\", mm10_fa, mm10_fa_url], check=True)\n",
    "    subprocess.run(\n",
    "        f\"zcat {mm10_fa} | bgzip > {mm10_fa_bgz}\", shell=True, check=True\n",
    "    )\n",
    "    subprocess.run([\"samtools\", \"faidx\", mm10_fa_bgz], check=True)"
   ]
  },
  {
   "cell_type": "markdown",
   "id": "written-scholarship",
   "metadata": {},
   "source": [
    "NCBI GRCm38"
   ]
  },
  {
   "cell_type": "code",
   "execution_count": null,
   "id": "collected-award",
   "metadata": {
    "lines_to_next_cell": 2
   },
   "outputs": [],
   "source": [
    "if recompute:\n",
    "    subprocess.run(\n",
    "        [\"wget\", \"-O\", ncbi_mm10_fa, ncbi_mm10_fa_url], check=True,\n",
    "        capture_output=True,\n",
    "    )\n",
    "    subprocess.run(\n",
    "        f\"zcat {ncbi_mm10_fa} | bgzip > {ncbi_mm10_fa_bgz}\",\n",
    "        shell=True,\n",
    "        check=True,\n",
    "        capture_output=True,\n",
    "    )\n",
    "    subprocess.run([\"samtools\", \"faidx\", ncbi_mm10_fa_bgz], check=True, capture_output=True)"
   ]
  },
  {
   "cell_type": "markdown",
   "id": "accredited-audio",
   "metadata": {},
   "source": [
    "### download seq id mapper"
   ]
  },
  {
   "cell_type": "code",
   "execution_count": null,
   "id": "sustained-device",
   "metadata": {
    "lines_to_next_cell": 2
   },
   "outputs": [],
   "source": [
    "if recompute:\n",
    "    subprocess.run(\n",
    "        [\n",
    "            \"wget\",\n",
    "            \"-O\",\n",
    "            chrom_alias_txt_gz,\n",
    "            chrom_alias_url,\n",
    "        ],\n",
    "        check=True,\n",
    "        capture_output=True,\n",
    "    )\n",
    "\n",
    "chrom_aliases = pd.read_csv(  # type_ignore\n",
    "    chrom_alias_txt_gz,\n",
    "    sep=\"\\t\",\n",
    "    header=None,\n",
    "    names=[\"other_db_id\", \"ucsc_id\", \"db\"],\n",
    ")\n",
    "\n",
    "ucsc_to_refseq_chrom_name = chrom_aliases.query('db == \"refseq\"').set_index(\n",
    "    \"ucsc_id\"\n",
    ")[\"other_db_id\"]"
   ]
  },
  {
   "cell_type": "markdown",
   "id": "directed-seller",
   "metadata": {},
   "source": [
    "### Get strands and motifs"
   ]
  },
  {
   "cell_type": "code",
   "execution_count": null,
   "id": "preceding-school",
   "metadata": {},
   "outputs": [],
   "source": [
    "ucsc_strand_ser, ucsc_motifs_ser = find_cytosine_strand_and_motif(\n",
    "    temp_dir_name=temp_dir_name,\n",
    "    df=illumina_probes_curated_chrom_defined_no_names_no_dup_intervals.assign(\n",
    "        Chromosome=lambda df: df[\"Chromosome\"].astype(str).replace({\"chrMT\": \"chrM\"})\n",
    "    ),\n",
    "    fa_bgz=mm10_fa_bgz,\n",
    ")"
   ]
  },
  {
   "cell_type": "code",
   "execution_count": null,
   "id": "worth-flower",
   "metadata": {
    "lines_to_next_cell": 2
   },
   "outputs": [],
   "source": [
    "\n",
    "df = illumina_probes_curated_chrom_defined_no_names_no_dup_intervals.assign(\n",
    "    Chromosome=lambda df: df[\"Chromosome\"]\n",
    "    .astype(str)\n",
    "    .replace({\"chrMT\": \"chrM\"})\n",
    "    .map(ucsc_to_refseq_chrom_name)\n",
    ")\n",
    "assert df.Chromosome.notnull().all()\n",
    "\n",
    "ncbi_strand_ser, ncbi_motifs_ser = find_cytosine_strand_and_motif(\n",
    "    df=df,\n",
    "    temp_dir_name=temp_dir_name,\n",
    "    fa_bgz=ncbi_mm10_fa_bgz,\n",
    ")"
   ]
  },
  {
   "cell_type": "code",
   "execution_count": null,
   "id": "minute-sentence",
   "metadata": {},
   "outputs": [],
   "source": [
    "pd.testing.assert_series_equal(ncbi_strand_ser, ucsc_strand_ser)\n",
    "pd.testing.assert_series_equal(ncbi_motifs_ser, ucsc_motifs_ser)"
   ]
  },
  {
   "cell_type": "code",
   "execution_count": null,
   "id": "timely-reverse",
   "metadata": {},
   "outputs": [],
   "source": [
    "ncbi_motifs_ser.value_counts(dropna=False)\n",
    "ncbi_strand_ser.value_counts(dropna=False)\n",
    "ncbi_motifs_ser.loc[ncbi_strand_ser.eq(\"-\")].value_counts()"
   ]
  },
  {
   "cell_type": "code",
   "execution_count": null,
   "id": "expensive-chinese",
   "metadata": {},
   "outputs": [],
   "source": [
    "motifs_df_final = (\n",
    "    illumina_probes_curated_chrom_defined_no_names_no_dup_intervals.reset_index(\n",
    "        drop=True\n",
    "    ).assign(strand=ncbi_motifs_ser, motif=ncbi_motifs_ser)\n",
    ")"
   ]
  },
  {
   "cell_type": "code",
   "execution_count": null,
   "id": "located-watts",
   "metadata": {
    "lines_to_next_cell": 2
   },
   "outputs": [],
   "source": [
    "motifs_df_final[\"motif\"].value_counts(dropna=False)"
   ]
  },
  {
   "cell_type": "markdown",
   "id": "413b25a3",
   "metadata": {},
   "source": [
    "## Merge all annotations"
   ]
  },
  {
   "cell_type": "code",
   "execution_count": null,
   "id": "c36c64d2",
   "metadata": {},
   "outputs": [],
   "source": [
    "pd.testing.assert_frame_equal(\n",
    "    full_cpg_island_anno_df_with_dist[[\"Chromosome\", \"Start\", \"End\"]],\n",
    "    illumina_probes_curated_chrom_defined_no_names_no_dup_intervals.reset_index(\n",
    "        drop=True\n",
    "    ),\n",
    ")\n",
    "pd.testing.assert_frame_equal(\n",
    "    merged_annos_new_chrom_dtype[[\"Chromosome\", \"Start\", \"End\"]],\n",
    "    illumina_probes_curated_chrom_defined_no_names_no_dup_intervals.reset_index(\n",
    "        drop=True\n",
    "    ),\n",
    ")"
   ]
  },
  {
   "cell_type": "code",
   "execution_count": null,
   "id": "beneficial-imagination",
   "metadata": {},
   "outputs": [],
   "source": [
    "exp_number_of_nas = (\n",
    "    illumina_probe_intervals_bed_convention[\"Chromosome\"].isin([np.nan, \"0\"]).sum()\n",
    ")"
   ]
  },
  {
   "cell_type": "code",
   "execution_count": null,
   "id": "documented-target",
   "metadata": {},
   "outputs": [],
   "source": [
    "m1 = pd.merge(\n",
    "    illumina_probe_intervals_bed_convention,\n",
    "    motifs_df_final,\n",
    "    on=[\"Chromosome\", \"Start\", \"End\"],\n",
    "    how=\"left\",\n",
    ")\n",
    "assert m1[\"motif\"].isnull().sum() == exp_number_of_nas"
   ]
  },
  {
   "cell_type": "code",
   "execution_count": null,
   "id": "worthy-realtor",
   "metadata": {},
   "outputs": [],
   "source": [
    "m2 = pd.merge(\n",
    "    m1,\n",
    "    full_cpg_island_anno_df_with_dist,\n",
    "    on=[\"Chromosome\", \"Start\", \"End\"],\n",
    "    how=\"left\",\n",
    ")\n",
    "assert m2[\"cpg_island_region_name\"].isnull().sum() == exp_number_of_nas"
   ]
  },
  {
   "cell_type": "code",
   "execution_count": null,
   "id": "sorted-finger",
   "metadata": {},
   "outputs": [],
   "source": [
    "m3 = pd.merge(\n",
    "    m2,\n",
    "    merged_annos_new_chrom_dtype,\n",
    "    on=[\"Chromosome\", \"Start\", \"End\"],\n",
    "    how=\"left\",\n",
    ")\n",
    "assert m3[\"feat_class\"].isnull().sum() == exp_number_of_nas\n",
    "m3[\"score\"] = \".\""
   ]
  },
  {
   "cell_type": "code",
   "execution_count": null,
   "id": "abstract-signature",
   "metadata": {},
   "outputs": [],
   "source": [
    "final_cols_d = {\n",
    "    \"Chromosome\": \"Chromosome\",\n",
    "    \"Start\": \"Start\",\n",
    "    \"End\": \"End\",\n",
    "    \"name\": \"IlmnID\",\n",
    "    \"score\": \"Score\",\n",
    "    \"strand\": \"Strand\",\n",
    "    \"motif\": \"Motif\",\n",
    "    \"feat_class\": \"Genomic_region_class\",\n",
    "    \"distance\": \"Distance_to_genomic_region\",\n",
    "    \"gene_name\": \"Gene_name\",\n",
    "    \"gene_id\": \"Gene_id\",\n",
    "    \"transcript_id\": \"Transcript_id\",\n",
    "    \"feat_strand\": \"Gene_strand\",\n",
    "    \"cpg_island_region_name\": \"Cpg_island_region_class\",\n",
    "    \"cpg_island_region_start\": \"Cpg_island_region_start\",\n",
    "    \"cpg_island_region_end\": \"Cpg_island_region_end\",\n",
    "    \"cpg_island_distance\": \"Cpg_island_distance\",\n",
    "}\n",
    "\n",
    "final_anno_table = m3[list(final_cols_d.keys())].rename(columns=final_cols_d)\n",
    "\n",
    "assert (\n",
    "    final_anno_table.query('Cpg_island_region_class == \"CpG islands\"')[\n",
    "        \"Cpg_island_distance\"\n",
    "    ]\n",
    "    .eq(0)\n",
    "    .all()\n",
    ")\n",
    "\n",
    "final_anno_table.query(\"Cpg_island_distance != 0\")[\n",
    "    [\"Start\", \"Cpg_island_region_start\", \"Cpg_island_region_end\", \"Cpg_island_distance\"]\n",
    "]"
   ]
  },
  {
   "cell_type": "code",
   "execution_count": null,
   "id": "destroyed-fossil",
   "metadata": {},
   "outputs": [],
   "source": [
    "final_anno_table.rename(columns={\"Chromosome\": \"#Chromosome\"}).to_csv(\n",
    "    probe_annos_one_row_bed_csv, sep=\"\\t\", header=True, index=False\n",
    ")\n",
    "final_anno_table.to_parquet(probe_annos_one_row_bed_parquet)"
   ]
  }
 ],
 "metadata": {
  "jupytext": {
   "formats": "py:percent,ipynb,md:myst"
  },
  "kernelspec": {
   "display_name": "Python [conda env:mouse_hema_meth_dev3] *",
   "language": "python",
   "name": "conda-env-mouse_hema_meth_dev3-xpython"
  }
 },
 "nbformat": 4,
 "nbformat_minor": 5
}
