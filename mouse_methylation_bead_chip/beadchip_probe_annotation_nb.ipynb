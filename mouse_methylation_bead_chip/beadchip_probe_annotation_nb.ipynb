{
 "cells": [
  {
   "cell_type": "markdown",
   "id": "7d93ff6e",
   "metadata": {},
   "source": [
    "# How to reproduce this analysis"
   ]
  },
  {
   "cell_type": "markdown",
   "id": "17f3579b",
   "metadata": {},
   "source": [
    "## Install the environment"
   ]
  },
  {
   "cell_type": "markdown",
   "id": "0af52ed5",
   "metadata": {},
   "source": [
    "Environment yaml and lock file are distributed with the notebook\n",
    "\n",
    "```\n",
    "mamba env create -f /path/to/probe-anno_env_locked.yaml\n",
    "or for development\n",
    "mamba env create -f /path/to/probe-anno_env.yaml\n",
    "```"
   ]
  },
  {
   "cell_type": "markdown",
   "id": "falling-transcript",
   "metadata": {},
   "source": [
    "## Create a project directory and copy the manifest file into it"
   ]
  },
  {
   "cell_type": "markdown",
   "id": "eligible-affiliate",
   "metadata": {},
   "source": [
    "- create a project directory\n",
    "- copy the manifest file somewhere into this project directory\n",
    "- specify these paths in the Config section"
   ]
  },
  {
   "cell_type": "markdown",
   "id": "boxed-lightweight",
   "metadata": {},
   "source": [
    "## Specify the available number of cores"
   ]
  },
  {
   "cell_type": "markdown",
   "id": "therapeutic-receipt",
   "metadata": {},
   "source": [
    "The number of cores can be specified in the Config section as well"
   ]
  },
  {
   "cell_type": "markdown",
   "id": "1586a169",
   "metadata": {},
   "source": [
    "# Setup"
   ]
  },
  {
   "cell_type": "markdown",
   "id": "8094ffb1",
   "metadata": {},
   "source": [
    "## Config (ADAPT)"
   ]
  },
  {
   "cell_type": "code",
   "execution_count": 1,
   "id": "c9990679",
   "metadata": {},
   "outputs": [],
   "source": [
    "# TODO: set number of available cores as needed\n",
    "n_cores = 12"
   ]
  },
  {
   "cell_type": "code",
   "execution_count": 2,
   "id": "white-france",
   "metadata": {},
   "outputs": [],
   "source": [
    "# TODO: set basic paths as needed\n",
    "project_dir = (\n",
    "    \"/omics/groups/OE0029/internal/kraemers/projects/epic-arrays-for-hematopoiesis\"\n",
    ")\n",
    "\n",
    "# this file is distributed with the notebook, place it somewhere in project_dir\n",
    "# and note the location here\n",
    "illumina_probes_csv = (\n",
    "    project_dir\n",
    "    + \"/Infinium_20Mouse_20Methylation_20v1.0_20A1_20GS_20Manifest_20File.csv\"\n",
    ")"
   ]
  },
  {
   "cell_type": "markdown",
   "id": "75b12114",
   "metadata": {},
   "source": [
    "## Imports"
   ]
  },
  {
   "cell_type": "code",
   "execution_count": 3,
   "id": "d03fbbb0",
   "metadata": {},
   "outputs": [],
   "source": [
    "import os\n",
    "\n",
    "num_threads = str(n_cores)\n",
    "\n",
    "# these need to be set prior to numpy import\n",
    "os.environ[\"OMP_NUM_THREADS\"] = num_threads\n",
    "os.environ[\"OPENBLAS_NUM_THREADS\"] = num_threads\n",
    "os.environ[\"MKL_NUM_THREADS\"] = num_threads\n",
    "os.environ[\"VECLIB_MAXIMUM_THREADS\"] = num_threads\n",
    "os.environ[\"NUMEXPR_NUM_THREADS\"] = num_threads\n",
    "\n",
    "import numpy as np\n",
    "\n",
    "import subprocess\n",
    "import tempfile\n",
    "from pathlib import Path\n",
    "from typing import Dict\n",
    "\n",
    "import gtfanno as ga\n",
    "import matplotlib as mpl\n",
    "import matplotlib.pyplot as plt\n",
    "import pandas as pd\n",
    "import pyranges as pr\n",
    "from IPython.display import display"
   ]
  },
  {
   "cell_type": "markdown",
   "id": "25717607",
   "metadata": {},
   "source": [
    "## Rerun flags"
   ]
  },
  {
   "cell_type": "code",
   "execution_count": 13,
   "id": "3cf230aa",
   "metadata": {},
   "outputs": [],
   "source": [
    "recompute = True"
   ]
  },
  {
   "cell_type": "markdown",
   "id": "2870c608",
   "metadata": {},
   "source": [
    "## Paths and URLs"
   ]
  },
  {
   "cell_type": "code",
   "execution_count": 14,
   "id": "entertaining-gothic",
   "metadata": {},
   "outputs": [],
   "source": [
    "# ### Input data urls and filepaths"
   ]
  },
  {
   "cell_type": "markdown",
   "id": "musical-nevada",
   "metadata": {},
   "source": [
    "#### Reference genomes"
   ]
  },
  {
   "cell_type": "code",
   "execution_count": 15,
   "id": "indirect-framework",
   "metadata": {},
   "outputs": [],
   "source": [
    "mm10_fa_url = 'http://hgdownload.cse.ucsc.edu/goldenpath/mm10/bigZips/mm10.fa.gz'\n",
    "mm10_fa = project_dir + '/ucsc_mm10.fa.gz'\n",
    "mm10_fa_bgz = project_dir + '/ucsc_mm10.fa.bgz'"
   ]
  },
  {
   "cell_type": "code",
   "execution_count": 16,
   "id": "regulated-technology",
   "metadata": {},
   "outputs": [],
   "source": [
    "ncbi_mm10_fa_url = 'https://ftp.ncbi.nlm.nih.gov/genomes/refseq/vertebrate_mammalian/Mus_musculus/all_assembly_versions/GCF_000001635.26_GRCm38.p6/GCF_000001635.26_GRCm38.p6_genomic.fna.gz'\n",
    "ncbi_mm10_fa = project_dir + '/ncbi_mm10.fa.gz'\n",
    "ncbi_mm10_fa_bgz = project_dir + '/ncbi_mm10.fa.bgz'"
   ]
  },
  {
   "cell_type": "code",
   "execution_count": 17,
   "id": "spiritual-panic",
   "metadata": {},
   "outputs": [],
   "source": [
    "chrom_alias_url = 'https://hgdownload.cse.ucsc.edu/goldenPath/mm10/database/chromAlias.txt.gz'\n",
    "chrom_alias_txt_gz = project_dir + '/chromAlias.txt.gz'"
   ]
  },
  {
   "cell_type": "markdown",
   "id": "found-interpretation",
   "metadata": {},
   "source": [
    "#### Gencode"
   ]
  },
  {
   "cell_type": "code",
   "execution_count": 18,
   "id": "diverse-german",
   "metadata": {},
   "outputs": [],
   "source": [
    "gencode_download_url = \"ftp://ftp.ebi.ac.uk/pub/databases/gencode/Gencode_mouse/release_M25/gencode.vM25.annotation.gtf.gz\"\n",
    "\n",
    "# unmodified gencode gtf (note: with chr prefix)\n",
    "gencode_gtf = project_dir + \"/gencode.vM25.annotation.gtf.gz\"\n",
    "\n",
    "# gencode filtered for principal transcripts of protein coding genes, note that that chromosome prefix ('chr') is removed in this file\n",
    "gencode_coding_canonical_gtf = (\n",
    "    project_dir + \"/gencode.vM25.annotation_coding_canonical.gtf.gz\"\n",
    ")"
   ]
  },
  {
   "cell_type": "markdown",
   "id": "exact-calculator",
   "metadata": {},
   "source": [
    "#### CpG islands"
   ]
  },
  {
   "cell_type": "code",
   "execution_count": 19,
   "id": "official-garden",
   "metadata": {},
   "outputs": [],
   "source": [
    "cpg_islands_ucsc_unmasked_url = 'http://hgdownload.cse.ucsc.edu/goldenpath/mm10/database/cpgIslandExtUnmasked.txt.gz'\n",
    "cpg_islands_ucsc_unmasked_txt_gz = project_dir + \"/cpg-islands_ucsc_unmasked.txt.gz\""
   ]
  },
  {
   "cell_type": "markdown",
   "id": "green-ottawa",
   "metadata": {},
   "source": [
    "#### Probes"
   ]
  },
  {
   "cell_type": "markdown",
   "id": "oriental-johns",
   "metadata": {},
   "source": [
    "originally retrieved from:\n",
    "illumina_probes_url = \"https://support.illumina.com/content/dam/illumina-support/documents/downloads/productfiles/mouse-methylation/Infinium%20Mouse%20Methylation%20v1.0%20A1%20GS%20Manifest%20File.csv\"\n",
    "saved to repo in case the link is not stable, use from here in the future (see Config section)"
   ]
  },
  {
   "cell_type": "markdown",
   "id": "speaking-friday",
   "metadata": {},
   "source": [
    "### Output file paths"
   ]
  },
  {
   "cell_type": "markdown",
   "id": "proper-edgar",
   "metadata": {},
   "source": [
    "#### gtfanno results"
   ]
  },
  {
   "cell_type": "code",
   "execution_count": 20,
   "id": "detailed-kennedy",
   "metadata": {},
   "outputs": [],
   "source": [
    "custom_intervals_results_dir = project_dir + \"/custom-intervals_1500-500\"\n",
    "os.makedirs(custom_intervals_results_dir, exist_ok=True)\n",
    "\n",
    "custom_intervals_trunk_path = (\n",
    "    custom_intervals_results_dir + \"/custom-intervals_1500-500\"\n",
    ")\n",
    "custom_intervals_trunk_path\n",
    "\n",
    "custom_intervals_results_paths_d = dict(\n",
    "    primary_annos_bed=custom_intervals_trunk_path + \"_primary-annotations.bed\",\n",
    "    primary_annos_p=custom_intervals_trunk_path + \"_primary-annotations.p\",\n",
    "    all_annos_bed=custom_intervals_trunk_path + \"_all-annotations.bed\",\n",
    "    all_annos_p=custom_intervals_trunk_path + \"_all-annotations.p\",\n",
    ")"
   ]
  },
  {
   "cell_type": "markdown",
   "id": "reverse-rebate",
   "metadata": {},
   "source": [
    "#### Final tables with CpG island and motif annotations"
   ]
  },
  {
   "cell_type": "code",
   "execution_count": 21,
   "id": "small-subject",
   "metadata": {},
   "outputs": [],
   "source": [
    "probe_annos_one_row_bed_csv = project_dir + \"/gene-annos_primary_one-row_v2.bed\"\n",
    "probe_annos_one_row_bed_parquet = project_dir + \"/gene-annos_primary_one-row_v2.parquet\""
   ]
  },
  {
   "cell_type": "markdown",
   "id": "favorite-interpretation",
   "metadata": {},
   "source": [
    "## TemporaryDirectory"
   ]
  },
  {
   "cell_type": "code",
   "execution_count": 22,
   "id": "solar-brighton",
   "metadata": {},
   "outputs": [
    {
     "data": {
      "text/plain": [
       "'/omics/groups/OE0029/internal/kraemers/projects/epic-arrays-for-hematopoiesis/tmpjt59wker'"
      ]
     },
     "execution_count": 22,
     "metadata": {},
     "output_type": "execute_result"
    }
   ],
   "source": [
    "temp_dir_obj = tempfile.TemporaryDirectory(dir=project_dir)\n",
    "temp_dir_name = temp_dir_obj.name\n",
    "temp_dir_name"
   ]
  },
  {
   "cell_type": "markdown",
   "id": "acknowledged-demographic",
   "metadata": {},
   "source": [
    "# Functions and objects\n",
    "## Dtypes"
   ]
  },
  {
   "cell_type": "code",
   "execution_count": 23,
   "id": "73c06447",
   "metadata": {},
   "outputs": [],
   "source": [
    "chrom_dtype_prefixed = pd.api.types.CategoricalDtype(\n",
    "    categories=[\n",
    "        \"chr1\",\n",
    "        \"chr2\",\n",
    "        \"chr3\",\n",
    "        \"chr4\",\n",
    "        \"chr5\",\n",
    "        \"chr6\",\n",
    "        \"chr7\",\n",
    "        \"chr8\",\n",
    "        \"chr9\",\n",
    "        \"chr10\",\n",
    "        \"chr11\",\n",
    "        \"chr12\",\n",
    "        \"chr13\",\n",
    "        \"chr14\",\n",
    "        \"chr15\",\n",
    "        \"chr16\",\n",
    "        \"chr17\",\n",
    "        \"chr18\",\n",
    "        \"chr19\",\n",
    "        \"chrX\",\n",
    "        \"chrY\",\n",
    "        \"chrMT\",\n",
    "    ],\n",
    "    ordered=True,\n",
    ")"
   ]
  },
  {
   "cell_type": "markdown",
   "id": "a059669e",
   "metadata": {},
   "source": [
    "## Merge multiple gene annos per probe"
   ]
  },
  {
   "cell_type": "code",
   "execution_count": 24,
   "id": "hundred-financing",
   "metadata": {},
   "outputs": [],
   "source": [
    "def merge_annos(\n",
    "    primary_annos: pd.DataFrame,\n",
    "    #     chrom_dtype: pd.api.types.CategoricalDtype,\n",
    ") -> pd.DataFrame:\n",
    "    \"\"\"Merge annotation format with multiple rows per DMR\"\"\"\n",
    "\n",
    "    # TODO: could use some print statements\n",
    "\n",
    "    # Merge information as CSV for fields with different values for different annotations\n",
    "    fields_with_different_values = [\n",
    "        \"perc_feature\",\n",
    "        \"perc_region\",\n",
    "        \"distance\",\n",
    "        \"has_center\",\n",
    "        \"gene_name\",\n",
    "        \"gene_id\",\n",
    "        \"transcript_id\",\n",
    "        \"appris_principal_score\",\n",
    "        \"feat_start\",\n",
    "        \"feat_end\",\n",
    "        \"feat_center\",\n",
    "        \"feat_strand\",\n",
    "    ]\n",
    "\n",
    "    fields_with_unique_values = [\n",
    "        f for f in primary_annos.columns if f not in fields_with_different_values\n",
    "    ]\n",
    "\n",
    "    # float fields require special str formatting\n",
    "    float_fields = [\n",
    "        f\n",
    "        for f in fields_with_different_values\n",
    "        if pd.api.types.is_float_dtype(primary_annos.dtypes[f])\n",
    "    ]\n",
    "\n",
    "    # When we concatenate, we need to convert all fields to str/object dtype\n",
    "    primary_annos_new_dtypes = primary_annos.copy()\n",
    "    primary_annos_new_dtypes[float_fields] = primary_annos_new_dtypes[\n",
    "        float_fields\n",
    "    ].round(2)\n",
    "    primary_annos_new_dtypes[fields_with_different_values] = primary_annos_new_dtypes[\n",
    "        fields_with_different_values\n",
    "    ].astype(str)\n",
    "\n",
    "    # computations are expensive, so only perform on features which are actually duplicated\n",
    "    # always take gtfanno_uid into the mix so that we can avoid problems with duplicate regions\n",
    "    # (which occur for example on the EPIC array)\n",
    "    is_duplicated = primary_annos_new_dtypes.duplicated(\n",
    "        subset=[\"Chromosome\", \"Start\", \"End\", \"gtfanno_uid\"], keep=False\n",
    "    )\n",
    "    duplicated_df = primary_annos_new_dtypes.loc[is_duplicated].copy()\n",
    "\n",
    "    #     primary_annos.query('feat_class == \"Promoter\"')\n",
    "\n",
    "    print(\"merge unique value fields\")\n",
    "    merged_different_value_fields_df = (\n",
    "        duplicated_df\n",
    "        # for testing\n",
    "        # .query('feat_class == \"Promoter\"')\n",
    "        # .head(50)\n",
    "        # / for testing\n",
    "        .groupby(\n",
    "            [\"Chromosome\", \"Start\", \"End\", \"gtfanno_uid\"], observed=True, as_index=False\n",
    "        )[fields_with_different_values].aggregate(_agg_multi_value_columns)\n",
    "    )\n",
    "    merged_different_value_fields_df\n",
    "\n",
    "    # Assert that unique value fields are really unique (1 or 0 unique values if nan)\n",
    "\n",
    "    duplicated_df\n",
    "\n",
    "    assert (\n",
    "        duplicated_df\n",
    "        # .head(100)\n",
    "        .groupby([\"Chromosome\", \"Start\", \"End\", \"gtfanno_uid\"], observed=True)[\n",
    "            fields_with_unique_values\n",
    "        ]\n",
    "        .agg(lambda ser: ser.nunique())\n",
    "        # bug: nunique() does not respected observed atm\n",
    "        # .nunique()\n",
    "        .isin([0, 1])\n",
    "        .all()\n",
    "        .all()\n",
    "    )\n",
    "\n",
    "    merged_unique_value_fields_df = duplicated_df.groupby(\n",
    "        [\"Chromosome\", \"Start\", \"End\", \"gtfanno_uid\"],\n",
    "        observed=True,\n",
    "        as_index=False,\n",
    "    )[fields_with_unique_values].first()\n",
    "    merged_unique_value_fields_df\n",
    "\n",
    "    merged_duplicated_annos = pd.concat(\n",
    "        [\n",
    "            merged_different_value_fields_df.drop(\n",
    "                [\"Chromosome\", \"Start\", \"End\", \"gtfanno_uid\"], axis=1\n",
    "            ),\n",
    "            merged_unique_value_fields_df,\n",
    "        ],\n",
    "        axis=1,\n",
    "    )[primary_annos.columns]\n",
    "    merged_duplicated_annos\n",
    "\n",
    "    full_merged_annos = pd.concat(\n",
    "        [primary_annos_new_dtypes.loc[~is_duplicated], merged_duplicated_annos], axis=0\n",
    "    ).sort_values([\"Chromosome\", \"Start\", \"End\"])\n",
    "    full_merged_annos\n",
    "\n",
    "    assert (\n",
    "        full_merged_annos[\"gtfanno_uid\"] == np.arange(full_merged_annos.shape[0])\n",
    "    ).all()\n",
    "\n",
    "    return full_merged_annos.reset_index(drop=True)\n",
    "\n",
    "\n",
    "def _agg_multi_value_columns(ser):\n",
    "    if ser.eq(\"nan\").all():\n",
    "        return \"nan\"\n",
    "    else:\n",
    "        return ser.str.cat(sep=\",\")"
   ]
  },
  {
   "cell_type": "markdown",
   "id": "favorite-muscle",
   "metadata": {},
   "source": [
    "## Classify cytosine motifs"
   ]
  },
  {
   "cell_type": "code",
   "execution_count": 25,
   "id": "absent-ratio",
   "metadata": {},
   "outputs": [],
   "source": [
    "def classify_motif(s):\n",
    "    if s[2] == \"C\":\n",
    "        if s[3] == \"G\":\n",
    "            return \"CG\"\n",
    "        elif s[3] == \"N\":\n",
    "            return \"CN\"\n",
    "        elif s[4] == \"G\":\n",
    "            return \"CHG\"\n",
    "        elif s[4] == \"N\":\n",
    "            return \"CHN\"\n",
    "        else:\n",
    "            return \"CHH\"\n",
    "    elif s[2] == \"G\":\n",
    "        if s[1] == \"C\":\n",
    "            return \"CG\"\n",
    "        elif s[1] == \"N\":\n",
    "            return \"CN\"\n",
    "        elif s[0] == \"C\":\n",
    "            return \"CHG\"\n",
    "        elif s[0] == \"N\":\n",
    "            return \"CHN\"\n",
    "        else:\n",
    "            return \"CHH\"\n",
    "    else:\n",
    "        return \"D\""
   ]
  },
  {
   "cell_type": "code",
   "execution_count": 26,
   "id": "introductory-library",
   "metadata": {},
   "outputs": [],
   "source": [
    "def find_cytosine_strand_and_motif(df, temp_dir_name, fa_bgz):\n",
    "    \"\"\"\n",
    "\n",
    "    chrom names must match ref genome\n",
    "    \"\"\"\n",
    "\n",
    "    regions_txt = temp_dir_name + \"/regions.txt\"\n",
    "    Path(regions_txt).write_text(\n",
    "        (\n",
    "            df[\"Chromosome\"].astype(str)\n",
    "            + \":\"\n",
    "            + df[\"Start\"].add(1 - 2).astype(str)\n",
    "            + \"-\"\n",
    "            + df[\"End\"].add(2).astype(str)\n",
    "        ).str.cat(sep=\"\\n\")\n",
    "    )\n",
    "\n",
    "\n",
    "    res_txt = temp_dir_name + \"/res.txt\"\n",
    "    proc2 = subprocess.run(\n",
    "        [\n",
    "            \"samtools\",\n",
    "            \"faidx\",\n",
    "            \"-r\",\n",
    "            regions_txt,\n",
    "            \"-o\",\n",
    "            res_txt,\n",
    "            fa_bgz,\n",
    "        ],\n",
    "        check=True,\n",
    "        capture_output=True,\n",
    "        encoding=\"utf-8\",\n",
    "    )\n",
    "\n",
    "    bases_ser = pd.Series(\n",
    "        [s for s in Path(res_txt).read_text().upper().split() if not s.startswith(\">\")]\n",
    "    )\n",
    "\n",
    "    strand_ser = bases_ser.str.slice(2, 3).map({\"C\": \"+\", \"G\": \"-\"}).fillna(\"NA\")\n",
    "    motifs_ser = bases_ser.map(classify_motif)\n",
    "\n",
    "    return strand_ser, motifs_ser"
   ]
  },
  {
   "cell_type": "markdown",
   "id": "36d6e376",
   "metadata": {},
   "source": [
    "# Analysis"
   ]
  },
  {
   "cell_type": "markdown",
   "id": "191d5e2d",
   "metadata": {},
   "source": [
    "## Prepare and inspect the probe manifest"
   ]
  },
  {
   "cell_type": "code",
   "execution_count": 27,
   "id": "premium-smart",
   "metadata": {},
   "outputs": [
    {
     "name": "stdout",
     "output_type": "stream",
     "text": [
      "Illumina, Inc.,,,,,,,,,,,,,,,,,,,,,,,,,,,,,,,,\n",
      "[Heading],,,,,,,,,,,,,,,,,,,,,,,,,,,,,,,,,\n",
      "Descriptor File Name,MouseMethylation-12v1-0_A1.csv,,,,,,,,,,,,,,,,,,,,,,,,,,,,,,,,\n",
      "Assay Format,Infinium 2,,,,,,,,,,,,,,,,,,,,,,,,,,,,,,,,\n",
      "Date Manufactured,10/15/2020,,,,,,,,,,,,,,,,,,,,,,,,,,,,,,,,\n",
      "Loci Count,287050,,,,,,,,,,,,,,,,,,,,,,,,,,,,,,,,\n",
      "[Assay],,,,,,,,,,,,,,,,,,,,,,,,,,,,,,,,,\n",
      "IlmnID,Name,AddressA_ID,AlleleA_ProbeSeq,AddressB_ID,AlleleB_ProbeSeq,Infinium_Design_Type,Next_Base,Color_Channel,Forward_Sequence,Top_Sequence,Genome_Build,Genome_Build_NCBI,CHR,MAPINFO,SourceSeq,Strand,Strand_TB,Strand_CO,N_Shelf,N_Shore,CpG_Island,CpG_Island_chrom,CpG_Island_chromStart,CpG_Island_chromEnd,CpG_Island_length,CpG_Island_cpgNum,CpG_Island_gcNum,CpG_Island_perCpg,CpG_Island_perGc,CpG_Island_obsExp,S_Shore,S_Shelf,MFG_Change_Flagged\n",
      "cg00101675_BC21,cg00101675,91684905,TTCCTAAAAAAACTTCAACAATACTATATCATTTTTAACTTCATAAACAC,,,II,,,AGCCTGAACTGTTCCTAAAGAAACTTCAGCAGTGCTGTGTCATTTTTGACTTCATGGACA[CG]CTATCTGATCTTAAAATGAAAGAATACAAGCGCTCCACTCTTAATGAACTGGTGGACTAC,AGCCTGAACTGTTCCTAAAGAAACTTCAGCAGTGCTGTGTCATTTTTGACTTCATGGACA[CG]CTATCTGATCTTAAAATGAAAGAATACAAGCGCTCCACTCTTAATGAACTGGTGGACTAC,mm10,GRCm10,12,75515719,TCCTAAAaAAACTTCAaCAaTaCTaTaTCATTTTTaACTTCATaaACACr,R,B,C,,,,,,,,,,,,,,,FALSE\n",
      "cg00116289_BC21,cg00116289,20615285,ACRTAACRTAAAACAACCAAAACRTCAAAACATTTTTACCTATCCAAAAC,,,II,,,GGAACCACTTAGCGTGGCGTAGAGCAGCCAGAGCGTCAAGGCATTTTTGCCTGTCCAAGA[CG]TCCGGTGGGTCTTTCACCATACCCGAGGTTACATCTAAAATGGATTGAATTGGCAAAATG,GGAACCACTTAGCGTGGCGTAGAGCAGCCAGAGCGTCAAGGCATTTTTGCCTGTCCAAGA[CG]TCCGGTGGGTCTTTCACCATACCCGAGGTTACATCTAAAATGGATTGAATTGGCAAAATG,mm10,GRCm10,15,12170850,CrTaaCrTAaAaCAaCCAaAaCrTCAAaaCATTTTTaCCTaTCCAAaACr,R,B,C,,,,,,,,,,,,,,,FALSE\n"
     ]
    }
   ],
   "source": [
    "!head {illumina_probes_csv}"
   ]
  },
  {
   "cell_type": "markdown",
   "id": "e65c35c4",
   "metadata": {},
   "source": [
    "### Get curated BED intervals for probes"
   ]
  },
  {
   "cell_type": "code",
   "execution_count": 28,
   "id": "9957560d",
   "metadata": {},
   "outputs": [],
   "source": [
    "illumina_probes = pd.read_csv(\n",
    "    illumina_probes_csv,\n",
    "    skiprows=7,\n",
    "    dtype={\n",
    "        \"AddressA_ID\": str,\n",
    "        \"CHR\": str,\n",
    "        \"MFG_Change_Flagged\": \"boolean\",\n",
    "        \"MAPINFO\": \"Int64\",\n",
    "    },\n",
    ")"
   ]
  },
  {
   "cell_type": "markdown",
   "id": "41b8a28c",
   "metadata": {},
   "source": [
    "exemplary row, drop fields with longish sequence strings for display"
   ]
  },
  {
   "cell_type": "code",
   "execution_count": 29,
   "id": "814061a1",
   "metadata": {},
   "outputs": [
    {
     "data": {
      "text/html": [
       "<div>\n",
       "<style scoped>\n",
       "    .dataframe tbody tr th:only-of-type {\n",
       "        vertical-align: middle;\n",
       "    }\n",
       "\n",
       "    .dataframe tbody tr th {\n",
       "        vertical-align: top;\n",
       "    }\n",
       "\n",
       "    .dataframe thead th {\n",
       "        text-align: right;\n",
       "    }\n",
       "</style>\n",
       "<table border=\"1\" class=\"dataframe\">\n",
       "  <thead>\n",
       "    <tr style=\"text-align: right;\">\n",
       "      <th></th>\n",
       "      <th>0</th>\n",
       "    </tr>\n",
       "  </thead>\n",
       "  <tbody>\n",
       "    <tr>\n",
       "      <th>IlmnID</th>\n",
       "      <td>cg00101675_BC21</td>\n",
       "    </tr>\n",
       "    <tr>\n",
       "      <th>Name</th>\n",
       "      <td>cg00101675</td>\n",
       "    </tr>\n",
       "    <tr>\n",
       "      <th>AddressA_ID</th>\n",
       "      <td>91684905</td>\n",
       "    </tr>\n",
       "    <tr>\n",
       "      <th>AlleleA_ProbeSeq</th>\n",
       "      <td>TTCCTAAAAAAACTTCAACAATACTATATCATTTTTAACTTCATAA...</td>\n",
       "    </tr>\n",
       "    <tr>\n",
       "      <th>AddressB_ID</th>\n",
       "      <td>NaN</td>\n",
       "    </tr>\n",
       "    <tr>\n",
       "      <th>AlleleB_ProbeSeq</th>\n",
       "      <td>NaN</td>\n",
       "    </tr>\n",
       "    <tr>\n",
       "      <th>Infinium_Design_Type</th>\n",
       "      <td>II</td>\n",
       "    </tr>\n",
       "    <tr>\n",
       "      <th>Next_Base</th>\n",
       "      <td>NaN</td>\n",
       "    </tr>\n",
       "    <tr>\n",
       "      <th>Color_Channel</th>\n",
       "      <td>NaN</td>\n",
       "    </tr>\n",
       "    <tr>\n",
       "      <th>Genome_Build</th>\n",
       "      <td>mm10</td>\n",
       "    </tr>\n",
       "    <tr>\n",
       "      <th>Genome_Build_NCBI</th>\n",
       "      <td>GRCm10</td>\n",
       "    </tr>\n",
       "    <tr>\n",
       "      <th>CHR</th>\n",
       "      <td>12</td>\n",
       "    </tr>\n",
       "    <tr>\n",
       "      <th>MAPINFO</th>\n",
       "      <td>75515719</td>\n",
       "    </tr>\n",
       "    <tr>\n",
       "      <th>SourceSeq</th>\n",
       "      <td>TCCTAAAaAAACTTCAaCAaTaCTaTaTCATTTTTaACTTCATaaA...</td>\n",
       "    </tr>\n",
       "    <tr>\n",
       "      <th>Strand</th>\n",
       "      <td>R</td>\n",
       "    </tr>\n",
       "    <tr>\n",
       "      <th>Strand_TB</th>\n",
       "      <td>B</td>\n",
       "    </tr>\n",
       "    <tr>\n",
       "      <th>Strand_CO</th>\n",
       "      <td>C</td>\n",
       "    </tr>\n",
       "    <tr>\n",
       "      <th>N_Shelf</th>\n",
       "      <td>NaN</td>\n",
       "    </tr>\n",
       "    <tr>\n",
       "      <th>N_Shore</th>\n",
       "      <td>NaN</td>\n",
       "    </tr>\n",
       "    <tr>\n",
       "      <th>CpG_Island</th>\n",
       "      <td>NaN</td>\n",
       "    </tr>\n",
       "    <tr>\n",
       "      <th>CpG_Island_chrom</th>\n",
       "      <td>NaN</td>\n",
       "    </tr>\n",
       "    <tr>\n",
       "      <th>CpG_Island_chromStart</th>\n",
       "      <td>NaN</td>\n",
       "    </tr>\n",
       "    <tr>\n",
       "      <th>CpG_Island_chromEnd</th>\n",
       "      <td>NaN</td>\n",
       "    </tr>\n",
       "    <tr>\n",
       "      <th>CpG_Island_length</th>\n",
       "      <td>NaN</td>\n",
       "    </tr>\n",
       "    <tr>\n",
       "      <th>CpG_Island_cpgNum</th>\n",
       "      <td>NaN</td>\n",
       "    </tr>\n",
       "    <tr>\n",
       "      <th>CpG_Island_gcNum</th>\n",
       "      <td>NaN</td>\n",
       "    </tr>\n",
       "    <tr>\n",
       "      <th>CpG_Island_perCpg</th>\n",
       "      <td>NaN</td>\n",
       "    </tr>\n",
       "    <tr>\n",
       "      <th>CpG_Island_perGc</th>\n",
       "      <td>NaN</td>\n",
       "    </tr>\n",
       "    <tr>\n",
       "      <th>CpG_Island_obsExp</th>\n",
       "      <td>NaN</td>\n",
       "    </tr>\n",
       "    <tr>\n",
       "      <th>S_Shore</th>\n",
       "      <td>NaN</td>\n",
       "    </tr>\n",
       "    <tr>\n",
       "      <th>S_Shelf</th>\n",
       "      <td>NaN</td>\n",
       "    </tr>\n",
       "    <tr>\n",
       "      <th>MFG_Change_Flagged</th>\n",
       "      <td>False</td>\n",
       "    </tr>\n",
       "  </tbody>\n",
       "</table>\n",
       "</div>"
      ],
      "text/plain": [
       "                                                                       0\n",
       "IlmnID                                                   cg00101675_BC21\n",
       "Name                                                          cg00101675\n",
       "AddressA_ID                                                     91684905\n",
       "AlleleA_ProbeSeq       TTCCTAAAAAAACTTCAACAATACTATATCATTTTTAACTTCATAA...\n",
       "AddressB_ID                                                          NaN\n",
       "AlleleB_ProbeSeq                                                     NaN\n",
       "Infinium_Design_Type                                                  II\n",
       "Next_Base                                                            NaN\n",
       "Color_Channel                                                        NaN\n",
       "Genome_Build                                                        mm10\n",
       "Genome_Build_NCBI                                                 GRCm10\n",
       "CHR                                                                   12\n",
       "MAPINFO                                                         75515719\n",
       "SourceSeq              TCCTAAAaAAACTTCAaCAaTaCTaTaTCATTTTTaACTTCATaaA...\n",
       "Strand                                                                 R\n",
       "Strand_TB                                                              B\n",
       "Strand_CO                                                              C\n",
       "N_Shelf                                                              NaN\n",
       "N_Shore                                                              NaN\n",
       "CpG_Island                                                           NaN\n",
       "CpG_Island_chrom                                                     NaN\n",
       "CpG_Island_chromStart                                                NaN\n",
       "CpG_Island_chromEnd                                                  NaN\n",
       "CpG_Island_length                                                    NaN\n",
       "CpG_Island_cpgNum                                                    NaN\n",
       "CpG_Island_gcNum                                                     NaN\n",
       "CpG_Island_perCpg                                                    NaN\n",
       "CpG_Island_perGc                                                     NaN\n",
       "CpG_Island_obsExp                                                    NaN\n",
       "S_Shore                                                              NaN\n",
       "S_Shelf                                                              NaN\n",
       "MFG_Change_Flagged                                                 False"
      ]
     },
     "execution_count": 29,
     "metadata": {},
     "output_type": "execute_result"
    }
   ],
   "source": [
    "illumina_probes.drop([\"Forward_Sequence\", \"Top_Sequence\"], axis=1).iloc[0].to_frame()"
   ]
  },
  {
   "cell_type": "markdown",
   "id": "7edb03a8",
   "metadata": {},
   "source": [
    "There are CHR in ['0', nan] probes"
   ]
  },
  {
   "cell_type": "code",
   "execution_count": 30,
   "id": "4728e1dd",
   "metadata": {},
   "outputs": [
    {
     "data": {
      "text/plain": [
       "2      21675\n",
       "11     18941\n",
       "7      18875\n",
       "4      18151\n",
       "5      17173\n",
       "1      17077\n",
       "X      15147\n",
       "9      14907\n",
       "10     14824\n",
       "6      14427\n",
       "8      13998\n",
       "3      13511\n",
       "17     13055\n",
       "13     11861\n",
       "15     11458\n",
       "12     11130\n",
       "14     10532\n",
       "16      9093\n",
       "18      8596\n",
       "19      8508\n",
       "Y       3665\n",
       "NaN      643\n",
       "0        410\n",
       "MT        36\n",
       "Name: CHR, dtype: int64"
      ]
     },
     "execution_count": 30,
     "metadata": {},
     "output_type": "execute_result"
    }
   ],
   "source": [
    "illumina_probes.CHR.value_counts(dropna=False)"
   ]
  },
  {
   "cell_type": "markdown",
   "id": "3dc2e2aa",
   "metadata": {},
   "source": [
    "example for control probe (everything NA)"
   ]
  },
  {
   "cell_type": "code",
   "execution_count": 31,
   "id": "statutory-surname",
   "metadata": {},
   "outputs": [
    {
     "data": {
      "text/html": [
       "<div>\n",
       "<style scoped>\n",
       "    .dataframe tbody tr th:only-of-type {\n",
       "        vertical-align: middle;\n",
       "    }\n",
       "\n",
       "    .dataframe tbody tr th {\n",
       "        vertical-align: top;\n",
       "    }\n",
       "\n",
       "    .dataframe thead th {\n",
       "        text-align: right;\n",
       "    }\n",
       "</style>\n",
       "<table border=\"1\" class=\"dataframe\">\n",
       "  <thead>\n",
       "    <tr style=\"text-align: right;\">\n",
       "      <th></th>\n",
       "      <th>287050</th>\n",
       "    </tr>\n",
       "  </thead>\n",
       "  <tbody>\n",
       "    <tr>\n",
       "      <th>IlmnID</th>\n",
       "      <td>[Controls]</td>\n",
       "    </tr>\n",
       "    <tr>\n",
       "      <th>Name</th>\n",
       "      <td>NaN</td>\n",
       "    </tr>\n",
       "    <tr>\n",
       "      <th>AddressA_ID</th>\n",
       "      <td>NaN</td>\n",
       "    </tr>\n",
       "    <tr>\n",
       "      <th>AlleleA_ProbeSeq</th>\n",
       "      <td>NaN</td>\n",
       "    </tr>\n",
       "    <tr>\n",
       "      <th>AddressB_ID</th>\n",
       "      <td>NaN</td>\n",
       "    </tr>\n",
       "    <tr>\n",
       "      <th>AlleleB_ProbeSeq</th>\n",
       "      <td>NaN</td>\n",
       "    </tr>\n",
       "    <tr>\n",
       "      <th>Infinium_Design_Type</th>\n",
       "      <td>NaN</td>\n",
       "    </tr>\n",
       "    <tr>\n",
       "      <th>Next_Base</th>\n",
       "      <td>NaN</td>\n",
       "    </tr>\n",
       "    <tr>\n",
       "      <th>Color_Channel</th>\n",
       "      <td>NaN</td>\n",
       "    </tr>\n",
       "    <tr>\n",
       "      <th>Genome_Build</th>\n",
       "      <td>NaN</td>\n",
       "    </tr>\n",
       "    <tr>\n",
       "      <th>Genome_Build_NCBI</th>\n",
       "      <td>NaN</td>\n",
       "    </tr>\n",
       "    <tr>\n",
       "      <th>CHR</th>\n",
       "      <td>NaN</td>\n",
       "    </tr>\n",
       "    <tr>\n",
       "      <th>MAPINFO</th>\n",
       "      <td>&lt;NA&gt;</td>\n",
       "    </tr>\n",
       "    <tr>\n",
       "      <th>SourceSeq</th>\n",
       "      <td>NaN</td>\n",
       "    </tr>\n",
       "    <tr>\n",
       "      <th>Strand</th>\n",
       "      <td>NaN</td>\n",
       "    </tr>\n",
       "    <tr>\n",
       "      <th>Strand_TB</th>\n",
       "      <td>NaN</td>\n",
       "    </tr>\n",
       "    <tr>\n",
       "      <th>Strand_CO</th>\n",
       "      <td>NaN</td>\n",
       "    </tr>\n",
       "    <tr>\n",
       "      <th>N_Shelf</th>\n",
       "      <td>NaN</td>\n",
       "    </tr>\n",
       "    <tr>\n",
       "      <th>N_Shore</th>\n",
       "      <td>NaN</td>\n",
       "    </tr>\n",
       "    <tr>\n",
       "      <th>CpG_Island</th>\n",
       "      <td>NaN</td>\n",
       "    </tr>\n",
       "    <tr>\n",
       "      <th>CpG_Island_chrom</th>\n",
       "      <td>NaN</td>\n",
       "    </tr>\n",
       "    <tr>\n",
       "      <th>CpG_Island_chromStart</th>\n",
       "      <td>NaN</td>\n",
       "    </tr>\n",
       "    <tr>\n",
       "      <th>CpG_Island_chromEnd</th>\n",
       "      <td>NaN</td>\n",
       "    </tr>\n",
       "    <tr>\n",
       "      <th>CpG_Island_length</th>\n",
       "      <td>NaN</td>\n",
       "    </tr>\n",
       "    <tr>\n",
       "      <th>CpG_Island_cpgNum</th>\n",
       "      <td>NaN</td>\n",
       "    </tr>\n",
       "    <tr>\n",
       "      <th>CpG_Island_gcNum</th>\n",
       "      <td>NaN</td>\n",
       "    </tr>\n",
       "    <tr>\n",
       "      <th>CpG_Island_perCpg</th>\n",
       "      <td>NaN</td>\n",
       "    </tr>\n",
       "    <tr>\n",
       "      <th>CpG_Island_perGc</th>\n",
       "      <td>NaN</td>\n",
       "    </tr>\n",
       "    <tr>\n",
       "      <th>CpG_Island_obsExp</th>\n",
       "      <td>NaN</td>\n",
       "    </tr>\n",
       "    <tr>\n",
       "      <th>S_Shore</th>\n",
       "      <td>NaN</td>\n",
       "    </tr>\n",
       "    <tr>\n",
       "      <th>S_Shelf</th>\n",
       "      <td>NaN</td>\n",
       "    </tr>\n",
       "    <tr>\n",
       "      <th>MFG_Change_Flagged</th>\n",
       "      <td>&lt;NA&gt;</td>\n",
       "    </tr>\n",
       "  </tbody>\n",
       "</table>\n",
       "</div>"
      ],
      "text/plain": [
       "                           287050\n",
       "IlmnID                 [Controls]\n",
       "Name                          NaN\n",
       "AddressA_ID                   NaN\n",
       "AlleleA_ProbeSeq              NaN\n",
       "AddressB_ID                   NaN\n",
       "AlleleB_ProbeSeq              NaN\n",
       "Infinium_Design_Type          NaN\n",
       "Next_Base                     NaN\n",
       "Color_Channel                 NaN\n",
       "Genome_Build                  NaN\n",
       "Genome_Build_NCBI             NaN\n",
       "CHR                           NaN\n",
       "MAPINFO                      <NA>\n",
       "SourceSeq                     NaN\n",
       "Strand                        NaN\n",
       "Strand_TB                     NaN\n",
       "Strand_CO                     NaN\n",
       "N_Shelf                       NaN\n",
       "N_Shore                       NaN\n",
       "CpG_Island                    NaN\n",
       "CpG_Island_chrom              NaN\n",
       "CpG_Island_chromStart         NaN\n",
       "CpG_Island_chromEnd           NaN\n",
       "CpG_Island_length             NaN\n",
       "CpG_Island_cpgNum             NaN\n",
       "CpG_Island_gcNum              NaN\n",
       "CpG_Island_perCpg             NaN\n",
       "CpG_Island_perGc              NaN\n",
       "CpG_Island_obsExp             NaN\n",
       "S_Shore                       NaN\n",
       "S_Shelf                       NaN\n",
       "MFG_Change_Flagged           <NA>"
      ]
     },
     "execution_count": 31,
     "metadata": {},
     "output_type": "execute_result"
    }
   ],
   "source": [
    "illumina_probes.loc[illumina_probes.CHR.isnull()].drop(\n",
    "    [\"Forward_Sequence\", \"Top_Sequence\"], axis=1\n",
    ").iloc[0].to_frame()"
   ]
  },
  {
   "cell_type": "markdown",
   "id": "b5f721f2",
   "metadata": {},
   "source": [
    "example for chromosome 0 probe"
   ]
  },
  {
   "cell_type": "code",
   "execution_count": 32,
   "id": "c4f51452",
   "metadata": {},
   "outputs": [
    {
     "data": {
      "text/html": [
       "<div>\n",
       "<style scoped>\n",
       "    .dataframe tbody tr th:only-of-type {\n",
       "        vertical-align: middle;\n",
       "    }\n",
       "\n",
       "    .dataframe tbody tr th {\n",
       "        vertical-align: top;\n",
       "    }\n",
       "\n",
       "    .dataframe thead th {\n",
       "        text-align: right;\n",
       "    }\n",
       "</style>\n",
       "<table border=\"1\" class=\"dataframe\">\n",
       "  <thead>\n",
       "    <tr style=\"text-align: right;\">\n",
       "      <th></th>\n",
       "      <th>285698</th>\n",
       "    </tr>\n",
       "  </thead>\n",
       "  <tbody>\n",
       "    <tr>\n",
       "      <th>IlmnID</th>\n",
       "      <td>rs108256820_TC11</td>\n",
       "    </tr>\n",
       "    <tr>\n",
       "      <th>Name</th>\n",
       "      <td>rs108256820</td>\n",
       "    </tr>\n",
       "    <tr>\n",
       "      <th>AddressA_ID</th>\n",
       "      <td>56784359</td>\n",
       "    </tr>\n",
       "    <tr>\n",
       "      <th>AlleleA_ProbeSeq</th>\n",
       "      <td>ACTCCTATTTCACTAACTAAAAAAACTTATCCCAAAAAAACACAAA...</td>\n",
       "    </tr>\n",
       "    <tr>\n",
       "      <th>AddressB_ID</th>\n",
       "      <td>91708393.0</td>\n",
       "    </tr>\n",
       "    <tr>\n",
       "      <th>AlleleB_ProbeSeq</th>\n",
       "      <td>ACTCCTATTTCACTAACTAAAAAAACTTATCCCAAAAAAACACAAA...</td>\n",
       "    </tr>\n",
       "    <tr>\n",
       "      <th>Infinium_Design_Type</th>\n",
       "      <td>I</td>\n",
       "    </tr>\n",
       "    <tr>\n",
       "      <th>Next_Base</th>\n",
       "      <td>G</td>\n",
       "    </tr>\n",
       "    <tr>\n",
       "      <th>Color_Channel</th>\n",
       "      <td>Grn</td>\n",
       "    </tr>\n",
       "    <tr>\n",
       "      <th>Genome_Build</th>\n",
       "      <td>mm10</td>\n",
       "    </tr>\n",
       "    <tr>\n",
       "      <th>Genome_Build_NCBI</th>\n",
       "      <td>GRCm10</td>\n",
       "    </tr>\n",
       "    <tr>\n",
       "      <th>CHR</th>\n",
       "      <td>0</td>\n",
       "    </tr>\n",
       "    <tr>\n",
       "      <th>MAPINFO</th>\n",
       "      <td>0</td>\n",
       "    </tr>\n",
       "    <tr>\n",
       "      <th>SourceSeq</th>\n",
       "      <td>ACTCCTATTTCACTAaCTaaAAaAACTTATCCCAAaAAAACACAaa...</td>\n",
       "    </tr>\n",
       "    <tr>\n",
       "      <th>Strand</th>\n",
       "      <td>NaN</td>\n",
       "    </tr>\n",
       "    <tr>\n",
       "      <th>Strand_TB</th>\n",
       "      <td>T</td>\n",
       "    </tr>\n",
       "    <tr>\n",
       "      <th>Strand_CO</th>\n",
       "      <td>C</td>\n",
       "    </tr>\n",
       "    <tr>\n",
       "      <th>N_Shelf</th>\n",
       "      <td>NaN</td>\n",
       "    </tr>\n",
       "    <tr>\n",
       "      <th>N_Shore</th>\n",
       "      <td>NaN</td>\n",
       "    </tr>\n",
       "    <tr>\n",
       "      <th>CpG_Island</th>\n",
       "      <td>NaN</td>\n",
       "    </tr>\n",
       "    <tr>\n",
       "      <th>CpG_Island_chrom</th>\n",
       "      <td>NaN</td>\n",
       "    </tr>\n",
       "    <tr>\n",
       "      <th>CpG_Island_chromStart</th>\n",
       "      <td>NaN</td>\n",
       "    </tr>\n",
       "    <tr>\n",
       "      <th>CpG_Island_chromEnd</th>\n",
       "      <td>NaN</td>\n",
       "    </tr>\n",
       "    <tr>\n",
       "      <th>CpG_Island_length</th>\n",
       "      <td>NaN</td>\n",
       "    </tr>\n",
       "    <tr>\n",
       "      <th>CpG_Island_cpgNum</th>\n",
       "      <td>NaN</td>\n",
       "    </tr>\n",
       "    <tr>\n",
       "      <th>CpG_Island_gcNum</th>\n",
       "      <td>NaN</td>\n",
       "    </tr>\n",
       "    <tr>\n",
       "      <th>CpG_Island_perCpg</th>\n",
       "      <td>NaN</td>\n",
       "    </tr>\n",
       "    <tr>\n",
       "      <th>CpG_Island_perGc</th>\n",
       "      <td>NaN</td>\n",
       "    </tr>\n",
       "    <tr>\n",
       "      <th>CpG_Island_obsExp</th>\n",
       "      <td>NaN</td>\n",
       "    </tr>\n",
       "    <tr>\n",
       "      <th>S_Shore</th>\n",
       "      <td>NaN</td>\n",
       "    </tr>\n",
       "    <tr>\n",
       "      <th>S_Shelf</th>\n",
       "      <td>NaN</td>\n",
       "    </tr>\n",
       "    <tr>\n",
       "      <th>MFG_Change_Flagged</th>\n",
       "      <td>True</td>\n",
       "    </tr>\n",
       "  </tbody>\n",
       "</table>\n",
       "</div>"
      ],
      "text/plain": [
       "                                                                  285698\n",
       "IlmnID                                                  rs108256820_TC11\n",
       "Name                                                         rs108256820\n",
       "AddressA_ID                                                     56784359\n",
       "AlleleA_ProbeSeq       ACTCCTATTTCACTAACTAAAAAAACTTATCCCAAAAAAACACAAA...\n",
       "AddressB_ID                                                   91708393.0\n",
       "AlleleB_ProbeSeq       ACTCCTATTTCACTAACTAAAAAAACTTATCCCAAAAAAACACAAA...\n",
       "Infinium_Design_Type                                                   I\n",
       "Next_Base                                                              G\n",
       "Color_Channel                                                        Grn\n",
       "Genome_Build                                                        mm10\n",
       "Genome_Build_NCBI                                                 GRCm10\n",
       "CHR                                                                    0\n",
       "MAPINFO                                                                0\n",
       "SourceSeq              ACTCCTATTTCACTAaCTaaAAaAACTTATCCCAAaAAAACACAaa...\n",
       "Strand                                                               NaN\n",
       "Strand_TB                                                              T\n",
       "Strand_CO                                                              C\n",
       "N_Shelf                                                              NaN\n",
       "N_Shore                                                              NaN\n",
       "CpG_Island                                                           NaN\n",
       "CpG_Island_chrom                                                     NaN\n",
       "CpG_Island_chromStart                                                NaN\n",
       "CpG_Island_chromEnd                                                  NaN\n",
       "CpG_Island_length                                                    NaN\n",
       "CpG_Island_cpgNum                                                    NaN\n",
       "CpG_Island_gcNum                                                     NaN\n",
       "CpG_Island_perCpg                                                    NaN\n",
       "CpG_Island_perGc                                                     NaN\n",
       "CpG_Island_obsExp                                                    NaN\n",
       "S_Shore                                                              NaN\n",
       "S_Shelf                                                              NaN\n",
       "MFG_Change_Flagged                                                  True"
      ]
     },
     "execution_count": 32,
     "metadata": {},
     "output_type": "execute_result"
    }
   ],
   "source": [
    "illumina_probes.loc[illumina_probes.CHR.eq(\"0\")].drop(\n",
    "    [\"Forward_Sequence\", \"Top_Sequence\"], axis=1\n",
    ").iloc[0].to_frame()"
   ]
  },
  {
   "cell_type": "markdown",
   "id": "881b31f8",
   "metadata": {},
   "source": [
    "checked manually in my index files: MAPINFO is 1-based Start info"
   ]
  },
  {
   "cell_type": "markdown",
   "id": "thorough-alabama",
   "metadata": {},
   "source": [
    "- add 'chr' prefix and make Categorical\n",
    "- provide BED interval for the 1-bp long cytosine intervals\n",
    "- restrict to columns Chromosome, Start, End"
   ]
  },
  {
   "cell_type": "code",
   "execution_count": 33,
   "id": "7b057926",
   "metadata": {},
   "outputs": [],
   "source": [
    "illumina_probe_intervals_bed_convention = (\n",
    "    illumina_probes[[\"CHR\", \"MAPINFO\", \"IlmnID\"]]\n",
    "    .rename(columns={\"CHR\": \"Chromosome\", \"MAPINFO\": \"Start\", \"IlmnID\": \"name\"})\n",
    "    .assign(\n",
    "        Start=lambda df: df[\"Start\"] - 1,\n",
    "        End=lambda df: df[\"Start\"] + 1,\n",
    "        Chromosome=lambda df: (\"chr\" + df[\"Chromosome\"]).astype(chrom_dtype_prefixed),\n",
    "    )[[\"Chromosome\", \"Start\", \"End\", \"name\"]]\n",
    ")\n",
    "\n",
    "\n",
    "illumina_probes_curated_chrom_defined = (\n",
    "    illumina_probe_intervals_bed_convention.loc[\n",
    "        lambda df: df.Chromosome.notnull() & df.Chromosome.ne(\"0\")\n",
    "    ]\n",
    "    .sort_values([\"Chromosome\", \"Start\", \"End\"])\n",
    "    .reset_index(drop=True)\n",
    ")"
   ]
  },
  {
   "cell_type": "markdown",
   "id": "moved-correlation",
   "metadata": {},
   "source": [
    "assert that we have only lost the chromosome 0|na probes"
   ]
  },
  {
   "cell_type": "code",
   "execution_count": 34,
   "id": "latin-smile",
   "metadata": {},
   "outputs": [],
   "source": [
    "n_probes_chr_defined = (\n",
    "    illumina_probes.shape[0] - illumina_probes.CHR.isin([\"0\", np.nan]).sum()\n",
    ")\n",
    "assert n_probes_chr_defined == illumina_probes_curated_chrom_defined.shape[0]"
   ]
  },
  {
   "cell_type": "markdown",
   "id": "naval-quarter",
   "metadata": {},
   "source": [
    "There are duplicated intervals, ie same interval, different probes, with different names"
   ]
  },
  {
   "cell_type": "code",
   "execution_count": 35,
   "id": "d1ac0162",
   "metadata": {},
   "outputs": [
    {
     "data": {
      "text/plain": [
       "4634"
      ]
     },
     "execution_count": 35,
     "metadata": {},
     "output_type": "execute_result"
    }
   ],
   "source": [
    "illumina_probes_curated_chrom_defined[[\"Chromosome\", \"Start\", \"End\"]].duplicated().sum()"
   ]
  },
  {
   "cell_type": "markdown",
   "id": "445484dd",
   "metadata": {},
   "source": [
    "to get unique intervals for annotation with gtfanno\n",
    "- drop duplicate rows\n",
    "- remove prefix\n",
    "- change to alphabetic sorting order\n",
    "- only save the grange columns"
   ]
  },
  {
   "cell_type": "code",
   "execution_count": 36,
   "id": "thrown-diana",
   "metadata": {},
   "outputs": [],
   "source": [
    "illumina_coordinate_bed = temp_dir_name + '/illumina-coordinates.bed'"
   ]
  },
  {
   "cell_type": "code",
   "execution_count": 37,
   "id": "primary-lover",
   "metadata": {},
   "outputs": [],
   "source": [
    "illumina_probes_curated_chrom_defined.assign(\n",
    "    Chromosome=lambda df: df.Chromosome.astype(str).str.replace(\"chr\", \"\")\n",
    ").iloc[:, 0:3].sort_values([\"Chromosome\", \"Start\", \"End\"]).drop_duplicates().to_csv(\n",
    "    illumina_coordinate_bed, sep=\"\\t\", header=False, index=False\n",
    ")"
   ]
  },
  {
   "cell_type": "code",
   "execution_count": 38,
   "id": "exotic-lewis",
   "metadata": {},
   "outputs": [
    {
     "name": "stdout",
     "output_type": "stream",
     "text": [
      "1\t3005997\t3005998\n",
      "1\t3006186\t3006187\n",
      "1\t3035832\t3035833\n",
      "1\t3062738\t3062739\n",
      "1\t3102469\t3102470\n",
      "1\t3121638\t3121639\n",
      "1\t3199333\t3199334\n",
      "1\t3216334\t3216335\n",
      "1\t3253526\t3253527\n",
      "1\t3275903\t3275904\n"
     ]
    }
   ],
   "source": [
    "!head {illumina_coordinate_bed}"
   ]
  },
  {
   "cell_type": "code",
   "execution_count": 39,
   "id": "positive-radio",
   "metadata": {},
   "outputs": [],
   "source": [
    "illumina_probes_curated_chrom_defined_no_names_no_dup_intervals = (\n",
    "    illumina_probes_curated_chrom_defined[\n",
    "        [\"Chromosome\", \"Start\", \"End\"]\n",
    "    ].drop_duplicates(subset=[\"Chromosome\", \"Start\", \"End\"])\n",
    ").reset_index(drop=True)"
   ]
  },
  {
   "cell_type": "markdown",
   "id": "92f4ce2a",
   "metadata": {},
   "source": [
    "## Gene annotation"
   ]
  },
  {
   "cell_type": "markdown",
   "id": "f2e9acaa",
   "metadata": {},
   "source": [
    "### Prepare gene annotation"
   ]
  },
  {
   "cell_type": "markdown",
   "id": "61338b25",
   "metadata": {
    "heading_collapsed": "true",
    "tags": []
   },
   "source": [
    "#### download gencode"
   ]
  },
  {
   "cell_type": "code",
   "execution_count": null,
   "id": "6dee5a38",
   "metadata": {
    "tags": []
   },
   "outputs": [],
   "source": [
    "if recompute:\n",
    "    subprocess.run(\n",
    "        [\"wget\", \"-O\", gencode_gtf, gencode_download_url],\n",
    "        check=True,\n",
    "        capture_output=True,\n",
    "    )"
   ]
  },
  {
   "cell_type": "markdown",
   "id": "9592d6a6",
   "metadata": {},
   "source": [
    "#### Filter and reformat gencode GTF"
   ]
  },
  {
   "cell_type": "markdown",
   "id": "003694d6",
   "metadata": {},
   "source": [
    "- restrict to canonical transcripts\n",
    "- restrict to coding transcripts\n",
    "- remove chr prefix\n",
    "- change M to MT"
   ]
  },
  {
   "cell_type": "code",
   "execution_count": 40,
   "id": "90aecccc",
   "metadata": {},
   "outputs": [],
   "source": [
    "gencode_df = pr.read_gtf(gencode_gtf, as_df=True, duplicate_attr=True)"
   ]
  },
  {
   "cell_type": "code",
   "execution_count": 41,
   "id": "dcfc0b84",
   "metadata": {},
   "outputs": [],
   "source": [
    "# extract appris principal score from tags\n",
    "appris_principal_score = (\n",
    "    gencode_df[\"tag\"].str.extract(r\"appris_principal_(\\d)\", expand=False).astype(float)\n",
    ")"
   ]
  },
  {
   "cell_type": "code",
   "execution_count": 42,
   "id": "737e8a82",
   "metadata": {},
   "outputs": [
    {
     "data": {
      "text/plain": [
       "1.0    484929\n",
       "2.0     88170\n",
       "3.0     69849\n",
       "4.0     15559\n",
       "5.0      8279\n",
       "Name: tag, dtype: int64"
      ]
     },
     "execution_count": 42,
     "metadata": {},
     "output_type": "execute_result"
    }
   ],
   "source": [
    "appris_principal_score.value_counts()"
   ]
  },
  {
   "cell_type": "code",
   "execution_count": 43,
   "id": "bb9f0318",
   "metadata": {},
   "outputs": [
    {
     "data": {
      "text/plain": [
       "1205266"
      ]
     },
     "execution_count": 43,
     "metadata": {},
     "output_type": "execute_result"
    }
   ],
   "source": [
    "appris_principal_score.isnull().sum()"
   ]
  },
  {
   "cell_type": "code",
   "execution_count": 44,
   "id": "5309a272",
   "metadata": {},
   "outputs": [
    {
     "data": {
      "text/plain": [
       "666786"
      ]
     },
     "execution_count": 44,
     "metadata": {},
     "output_type": "execute_result"
    }
   ],
   "source": [
    "appris_principal_score.notnull().sum()"
   ]
  },
  {
   "cell_type": "code",
   "execution_count": 45,
   "id": "51210e44",
   "metadata": {},
   "outputs": [],
   "source": [
    "is_principal_transcript = appris_principal_score.notnull()"
   ]
  },
  {
   "cell_type": "code",
   "execution_count": 46,
   "id": "df0d0c12",
   "metadata": {},
   "outputs": [],
   "source": [
    "is_protein_coding = gencode_df[\"gene_type\"].eq(\"protein_coding\")"
   ]
  },
  {
   "cell_type": "code",
   "execution_count": 47,
   "id": "6b09bfc8",
   "metadata": {},
   "outputs": [],
   "source": [
    "gencode_df_coding_canonical = gencode_df.loc[\n",
    "    is_principal_transcript & is_protein_coding\n",
    "].copy()"
   ]
  },
  {
   "cell_type": "code",
   "execution_count": 48,
   "id": "e668e5bd",
   "metadata": {},
   "outputs": [
    {
     "data": {
      "text/html": [
       "<div>\n",
       "<style scoped>\n",
       "    .dataframe tbody tr th:only-of-type {\n",
       "        vertical-align: middle;\n",
       "    }\n",
       "\n",
       "    .dataframe tbody tr th {\n",
       "        vertical-align: top;\n",
       "    }\n",
       "\n",
       "    .dataframe thead th {\n",
       "        text-align: right;\n",
       "    }\n",
       "</style>\n",
       "<table border=\"1\" class=\"dataframe\">\n",
       "  <thead>\n",
       "    <tr style=\"text-align: right;\">\n",
       "      <th></th>\n",
       "      <th>Chromosome</th>\n",
       "      <th>Source</th>\n",
       "      <th>Feature</th>\n",
       "      <th>Start</th>\n",
       "      <th>End</th>\n",
       "      <th>Score</th>\n",
       "      <th>Strand</th>\n",
       "      <th>Frame</th>\n",
       "      <th>gene_id</th>\n",
       "      <th>gene_type</th>\n",
       "      <th>...</th>\n",
       "      <th>transcript_type</th>\n",
       "      <th>transcript_name</th>\n",
       "      <th>transcript_support_level</th>\n",
       "      <th>tag</th>\n",
       "      <th>havana_transcript</th>\n",
       "      <th>exon_number</th>\n",
       "      <th>exon_id</th>\n",
       "      <th>protein_id</th>\n",
       "      <th>ccdsid</th>\n",
       "      <th>ont</th>\n",
       "    </tr>\n",
       "  </thead>\n",
       "  <tbody>\n",
       "    <tr>\n",
       "      <th>13</th>\n",
       "      <td>chr1</td>\n",
       "      <td>HAVANA</td>\n",
       "      <td>transcript</td>\n",
       "      <td>3214481</td>\n",
       "      <td>3671498</td>\n",
       "      <td>.</td>\n",
       "      <td>-</td>\n",
       "      <td>.</td>\n",
       "      <td>ENSMUSG00000051951.5</td>\n",
       "      <td>protein_coding</td>\n",
       "      <td>...</td>\n",
       "      <td>protein_coding</td>\n",
       "      <td>Xkr4-201</td>\n",
       "      <td>1</td>\n",
       "      <td>basic,appris_principal_1,CCDS</td>\n",
       "      <td>OTTMUST00000065166.1</td>\n",
       "      <td>NaN</td>\n",
       "      <td>NaN</td>\n",
       "      <td>ENSMUSP00000070648.4</td>\n",
       "      <td>CCDS14803.1</td>\n",
       "      <td>NaN</td>\n",
       "    </tr>\n",
       "    <tr>\n",
       "      <th>14</th>\n",
       "      <td>chr1</td>\n",
       "      <td>HAVANA</td>\n",
       "      <td>exon</td>\n",
       "      <td>3670551</td>\n",
       "      <td>3671498</td>\n",
       "      <td>.</td>\n",
       "      <td>-</td>\n",
       "      <td>.</td>\n",
       "      <td>ENSMUSG00000051951.5</td>\n",
       "      <td>protein_coding</td>\n",
       "      <td>...</td>\n",
       "      <td>protein_coding</td>\n",
       "      <td>Xkr4-201</td>\n",
       "      <td>1</td>\n",
       "      <td>basic,appris_principal_1,CCDS</td>\n",
       "      <td>OTTMUST00000065166.1</td>\n",
       "      <td>1</td>\n",
       "      <td>ENSMUSE00000485541.3</td>\n",
       "      <td>ENSMUSP00000070648.4</td>\n",
       "      <td>CCDS14803.1</td>\n",
       "      <td>NaN</td>\n",
       "    </tr>\n",
       "    <tr>\n",
       "      <th>15</th>\n",
       "      <td>chr1</td>\n",
       "      <td>HAVANA</td>\n",
       "      <td>CDS</td>\n",
       "      <td>3670551</td>\n",
       "      <td>3671348</td>\n",
       "      <td>.</td>\n",
       "      <td>-</td>\n",
       "      <td>0</td>\n",
       "      <td>ENSMUSG00000051951.5</td>\n",
       "      <td>protein_coding</td>\n",
       "      <td>...</td>\n",
       "      <td>protein_coding</td>\n",
       "      <td>Xkr4-201</td>\n",
       "      <td>1</td>\n",
       "      <td>basic,appris_principal_1,CCDS</td>\n",
       "      <td>OTTMUST00000065166.1</td>\n",
       "      <td>1</td>\n",
       "      <td>ENSMUSE00000485541.3</td>\n",
       "      <td>ENSMUSP00000070648.4</td>\n",
       "      <td>CCDS14803.1</td>\n",
       "      <td>NaN</td>\n",
       "    </tr>\n",
       "  </tbody>\n",
       "</table>\n",
       "<p>3 rows × 25 columns</p>\n",
       "</div>"
      ],
      "text/plain": [
       "   Chromosome  Source     Feature    Start      End Score Strand Frame  \\\n",
       "13       chr1  HAVANA  transcript  3214481  3671498     .      -     .   \n",
       "14       chr1  HAVANA        exon  3670551  3671498     .      -     .   \n",
       "15       chr1  HAVANA         CDS  3670551  3671348     .      -     0   \n",
       "\n",
       "                 gene_id       gene_type  ... transcript_type transcript_name  \\\n",
       "13  ENSMUSG00000051951.5  protein_coding  ...  protein_coding        Xkr4-201   \n",
       "14  ENSMUSG00000051951.5  protein_coding  ...  protein_coding        Xkr4-201   \n",
       "15  ENSMUSG00000051951.5  protein_coding  ...  protein_coding        Xkr4-201   \n",
       "\n",
       "   transcript_support_level                            tag  \\\n",
       "13                        1  basic,appris_principal_1,CCDS   \n",
       "14                        1  basic,appris_principal_1,CCDS   \n",
       "15                        1  basic,appris_principal_1,CCDS   \n",
       "\n",
       "       havana_transcript exon_number               exon_id  \\\n",
       "13  OTTMUST00000065166.1         NaN                   NaN   \n",
       "14  OTTMUST00000065166.1           1  ENSMUSE00000485541.3   \n",
       "15  OTTMUST00000065166.1           1  ENSMUSE00000485541.3   \n",
       "\n",
       "              protein_id       ccdsid  ont  \n",
       "13  ENSMUSP00000070648.4  CCDS14803.1  NaN  \n",
       "14  ENSMUSP00000070648.4  CCDS14803.1  NaN  \n",
       "15  ENSMUSP00000070648.4  CCDS14803.1  NaN  \n",
       "\n",
       "[3 rows x 25 columns]"
      ]
     },
     "execution_count": 48,
     "metadata": {},
     "output_type": "execute_result"
    }
   ],
   "source": [
    "gencode_df_coding_canonical.head(3)"
   ]
  },
  {
   "cell_type": "code",
   "execution_count": 49,
   "id": "adc2c529",
   "metadata": {},
   "outputs": [
    {
     "data": {
      "text/plain": [
       "(663082, 25)"
      ]
     },
     "execution_count": 49,
     "metadata": {},
     "output_type": "execute_result"
    }
   ],
   "source": [
    "gencode_df_coding_canonical.shape"
   ]
  },
  {
   "cell_type": "code",
   "execution_count": 50,
   "id": "d048c5e3",
   "metadata": {},
   "outputs": [],
   "source": [
    "gencode_df_coding_canonical[\"Chromosome\"] = gencode_df_coding_canonical[\n",
    "    \"Chromosome\"\n",
    "].str.replace(\"chr\", \"\")\n",
    "gencode_df_coding_canonical[\"Chromosome\"] = gencode_df_coding_canonical[\n",
    "    \"Chromosome\"\n",
    "].replace(\"M\", \"MT\")"
   ]
  },
  {
   "cell_type": "code",
   "execution_count": 51,
   "id": "6c1de65b",
   "metadata": {},
   "outputs": [
    {
     "data": {
      "text/plain": [
       "['1', '2', '3', '4', '5', ..., '18', '19', 'MT', 'X', 'Y']\n",
       "Length: 22\n",
       "Categories (22, object): ['1', '10', '11', '12', ..., '9', 'MT', 'X', 'Y']"
      ]
     },
     "execution_count": 51,
     "metadata": {},
     "output_type": "execute_result"
    }
   ],
   "source": [
    "gencode_pr = pr.PyRanges(gencode_df_coding_canonical)\n",
    "gencode_pr.df.Chromosome.unique()"
   ]
  },
  {
   "cell_type": "code",
   "execution_count": 52,
   "id": "41254046",
   "metadata": {},
   "outputs": [],
   "source": [
    "gencode_pr.to_gtf(gencode_coding_canonical_gtf)"
   ]
  },
  {
   "cell_type": "markdown",
   "id": "e01b219f",
   "metadata": {},
   "source": [
    "verify gtf"
   ]
  },
  {
   "cell_type": "code",
   "execution_count": 54,
   "id": "27d790b9",
   "metadata": {},
   "outputs": [],
   "source": [
    "!zcat {gencode_coding_canonical_gtf} | grep ^protein_coding"
   ]
  },
  {
   "cell_type": "code",
   "execution_count": 55,
   "id": "5fcd5d58",
   "metadata": {},
   "outputs": [],
   "source": [
    "!zcat {gencode_coding_canonical_gtf} | grep ^appris"
   ]
  },
  {
   "cell_type": "markdown",
   "id": "e7349f5d",
   "metadata": {},
   "source": [
    "### Perform gene annotations"
   ]
  },
  {
   "cell_type": "code",
   "execution_count": null,
   "id": "boolean-shame",
   "metadata": {},
   "outputs": [],
   "source": [
    "if recompute:\n",
    "    ga.annotate(\n",
    "        query_bed=illumina_coordinate_bed,\n",
    "        gtf_fp=gencode_coding_canonical_gtf,\n",
    "        trunk_path=custom_intervals_trunk_path,\n",
    "        tmpdir=temp_dir_name,\n",
    "        promoter=(-1500, 500),\n",
    "        distant_cis_regulatory_domain=(-100_000, 100_000),\n",
    "    )"
   ]
  },
  {
   "cell_type": "code",
   "execution_count": 56,
   "id": "decimal-manufacturer",
   "metadata": {},
   "outputs": [],
   "source": [
    "primary_annos = pd.read_pickle(\n",
    "    custom_intervals_results_paths_d[\"primary_annos_p\"]\n",
    ")"
   ]
  },
  {
   "cell_type": "markdown",
   "id": "55a35fc9",
   "metadata": {},
   "source": [
    "#### Multiple assignments per region"
   ]
  },
  {
   "cell_type": "markdown",
   "id": "61ee80b6",
   "metadata": {},
   "source": [
    "##### How is this distributed across feature classes?"
   ]
  },
  {
   "cell_type": "code",
   "execution_count": 57,
   "id": "57b08870",
   "metadata": {},
   "outputs": [
    {
     "data": {
      "text/html": [
       "<div>\n",
       "<style scoped>\n",
       "    .dataframe tbody tr th:only-of-type {\n",
       "        vertical-align: middle;\n",
       "    }\n",
       "\n",
       "    .dataframe tbody tr th {\n",
       "        vertical-align: top;\n",
       "    }\n",
       "\n",
       "    .dataframe thead th {\n",
       "        text-align: right;\n",
       "    }\n",
       "</style>\n",
       "<table border=\"1\" class=\"dataframe\">\n",
       "  <thead>\n",
       "    <tr style=\"text-align: right;\">\n",
       "      <th></th>\n",
       "      <th>1</th>\n",
       "      <th>2</th>\n",
       "      <th>3</th>\n",
       "      <th>4</th>\n",
       "      <th>5</th>\n",
       "      <th>6</th>\n",
       "      <th>7</th>\n",
       "      <th>8</th>\n",
       "      <th>9</th>\n",
       "      <th>10</th>\n",
       "      <th>...</th>\n",
       "      <th>16</th>\n",
       "      <th>17</th>\n",
       "      <th>18</th>\n",
       "      <th>19</th>\n",
       "      <th>20</th>\n",
       "      <th>21</th>\n",
       "      <th>22</th>\n",
       "      <th>23</th>\n",
       "      <th>24</th>\n",
       "      <th>25</th>\n",
       "    </tr>\n",
       "    <tr>\n",
       "      <th>feat_class</th>\n",
       "      <th></th>\n",
       "      <th></th>\n",
       "      <th></th>\n",
       "      <th></th>\n",
       "      <th></th>\n",
       "      <th></th>\n",
       "      <th></th>\n",
       "      <th></th>\n",
       "      <th></th>\n",
       "      <th></th>\n",
       "      <th></th>\n",
       "      <th></th>\n",
       "      <th></th>\n",
       "      <th></th>\n",
       "      <th></th>\n",
       "      <th></th>\n",
       "      <th></th>\n",
       "      <th></th>\n",
       "      <th></th>\n",
       "      <th></th>\n",
       "      <th></th>\n",
       "    </tr>\n",
       "  </thead>\n",
       "  <tbody>\n",
       "    <tr>\n",
       "      <th>Promoter</th>\n",
       "      <td>56553.0</td>\n",
       "      <td>4704.0</td>\n",
       "      <td>184.0</td>\n",
       "      <td>3.0</td>\n",
       "      <td>NaN</td>\n",
       "      <td>NaN</td>\n",
       "      <td>NaN</td>\n",
       "      <td>NaN</td>\n",
       "      <td>NaN</td>\n",
       "      <td>NaN</td>\n",
       "      <td>...</td>\n",
       "      <td>NaN</td>\n",
       "      <td>NaN</td>\n",
       "      <td>NaN</td>\n",
       "      <td>NaN</td>\n",
       "      <td>NaN</td>\n",
       "      <td>NaN</td>\n",
       "      <td>NaN</td>\n",
       "      <td>NaN</td>\n",
       "      <td>NaN</td>\n",
       "      <td>NaN</td>\n",
       "    </tr>\n",
       "    <tr>\n",
       "      <th>5'-UTR</th>\n",
       "      <td>1003.0</td>\n",
       "      <td>4.0</td>\n",
       "      <td>NaN</td>\n",
       "      <td>NaN</td>\n",
       "      <td>NaN</td>\n",
       "      <td>NaN</td>\n",
       "      <td>NaN</td>\n",
       "      <td>NaN</td>\n",
       "      <td>NaN</td>\n",
       "      <td>NaN</td>\n",
       "      <td>...</td>\n",
       "      <td>NaN</td>\n",
       "      <td>NaN</td>\n",
       "      <td>NaN</td>\n",
       "      <td>NaN</td>\n",
       "      <td>NaN</td>\n",
       "      <td>NaN</td>\n",
       "      <td>NaN</td>\n",
       "      <td>NaN</td>\n",
       "      <td>NaN</td>\n",
       "      <td>NaN</td>\n",
       "    </tr>\n",
       "    <tr>\n",
       "      <th>3'-UTR</th>\n",
       "      <td>5284.0</td>\n",
       "      <td>89.0</td>\n",
       "      <td>NaN</td>\n",
       "      <td>NaN</td>\n",
       "      <td>NaN</td>\n",
       "      <td>NaN</td>\n",
       "      <td>NaN</td>\n",
       "      <td>NaN</td>\n",
       "      <td>NaN</td>\n",
       "      <td>NaN</td>\n",
       "      <td>...</td>\n",
       "      <td>NaN</td>\n",
       "      <td>NaN</td>\n",
       "      <td>NaN</td>\n",
       "      <td>NaN</td>\n",
       "      <td>NaN</td>\n",
       "      <td>2.0</td>\n",
       "      <td>NaN</td>\n",
       "      <td>NaN</td>\n",
       "      <td>NaN</td>\n",
       "      <td>NaN</td>\n",
       "    </tr>\n",
       "    <tr>\n",
       "      <th>exon</th>\n",
       "      <td>26634.0</td>\n",
       "      <td>186.0</td>\n",
       "      <td>3.0</td>\n",
       "      <td>NaN</td>\n",
       "      <td>NaN</td>\n",
       "      <td>NaN</td>\n",
       "      <td>NaN</td>\n",
       "      <td>NaN</td>\n",
       "      <td>1.0</td>\n",
       "      <td>NaN</td>\n",
       "      <td>...</td>\n",
       "      <td>NaN</td>\n",
       "      <td>NaN</td>\n",
       "      <td>NaN</td>\n",
       "      <td>NaN</td>\n",
       "      <td>NaN</td>\n",
       "      <td>NaN</td>\n",
       "      <td>1.0</td>\n",
       "      <td>NaN</td>\n",
       "      <td>NaN</td>\n",
       "      <td>NaN</td>\n",
       "    </tr>\n",
       "    <tr>\n",
       "      <th>intron</th>\n",
       "      <td>90028.0</td>\n",
       "      <td>1929.0</td>\n",
       "      <td>84.0</td>\n",
       "      <td>4.0</td>\n",
       "      <td>10.0</td>\n",
       "      <td>6.0</td>\n",
       "      <td>5.0</td>\n",
       "      <td>1.0</td>\n",
       "      <td>3.0</td>\n",
       "      <td>9.0</td>\n",
       "      <td>...</td>\n",
       "      <td>9.0</td>\n",
       "      <td>NaN</td>\n",
       "      <td>1.0</td>\n",
       "      <td>NaN</td>\n",
       "      <td>5.0</td>\n",
       "      <td>9.0</td>\n",
       "      <td>4.0</td>\n",
       "      <td>NaN</td>\n",
       "      <td>8.0</td>\n",
       "      <td>NaN</td>\n",
       "    </tr>\n",
       "    <tr>\n",
       "      <th>DCRD</th>\n",
       "      <td>21944.0</td>\n",
       "      <td>13133.0</td>\n",
       "      <td>8339.0</td>\n",
       "      <td>5246.0</td>\n",
       "      <td>3632.0</td>\n",
       "      <td>2371.0</td>\n",
       "      <td>1574.0</td>\n",
       "      <td>1200.0</td>\n",
       "      <td>909.0</td>\n",
       "      <td>635.0</td>\n",
       "      <td>...</td>\n",
       "      <td>51.0</td>\n",
       "      <td>93.0</td>\n",
       "      <td>54.0</td>\n",
       "      <td>22.0</td>\n",
       "      <td>12.0</td>\n",
       "      <td>15.0</td>\n",
       "      <td>7.0</td>\n",
       "      <td>3.0</td>\n",
       "      <td>1.0</td>\n",
       "      <td>7.0</td>\n",
       "    </tr>\n",
       "    <tr>\n",
       "      <th>intergenic</th>\n",
       "      <td>34506.0</td>\n",
       "      <td>NaN</td>\n",
       "      <td>NaN</td>\n",
       "      <td>NaN</td>\n",
       "      <td>NaN</td>\n",
       "      <td>NaN</td>\n",
       "      <td>NaN</td>\n",
       "      <td>NaN</td>\n",
       "      <td>NaN</td>\n",
       "      <td>NaN</td>\n",
       "      <td>...</td>\n",
       "      <td>NaN</td>\n",
       "      <td>NaN</td>\n",
       "      <td>NaN</td>\n",
       "      <td>NaN</td>\n",
       "      <td>NaN</td>\n",
       "      <td>NaN</td>\n",
       "      <td>NaN</td>\n",
       "      <td>NaN</td>\n",
       "      <td>NaN</td>\n",
       "      <td>NaN</td>\n",
       "    </tr>\n",
       "  </tbody>\n",
       "</table>\n",
       "<p>7 rows × 25 columns</p>\n",
       "</div>"
      ],
      "text/plain": [
       "                 1        2       3       4       5       6       7       8   \\\n",
       "feat_class                                                                     \n",
       "Promoter    56553.0   4704.0   184.0     3.0     NaN     NaN     NaN     NaN   \n",
       "5'-UTR       1003.0      4.0     NaN     NaN     NaN     NaN     NaN     NaN   \n",
       "3'-UTR       5284.0     89.0     NaN     NaN     NaN     NaN     NaN     NaN   \n",
       "exon        26634.0    186.0     3.0     NaN     NaN     NaN     NaN     NaN   \n",
       "intron      90028.0   1929.0    84.0     4.0    10.0     6.0     5.0     1.0   \n",
       "DCRD        21944.0  13133.0  8339.0  5246.0  3632.0  2371.0  1574.0  1200.0   \n",
       "intergenic  34506.0      NaN     NaN     NaN     NaN     NaN     NaN     NaN   \n",
       "\n",
       "               9      10  ...    16    17    18    19    20    21   22   23  \\\n",
       "feat_class                ...                                                 \n",
       "Promoter      NaN    NaN  ...   NaN   NaN   NaN   NaN   NaN   NaN  NaN  NaN   \n",
       "5'-UTR        NaN    NaN  ...   NaN   NaN   NaN   NaN   NaN   NaN  NaN  NaN   \n",
       "3'-UTR        NaN    NaN  ...   NaN   NaN   NaN   NaN   NaN   2.0  NaN  NaN   \n",
       "exon          1.0    NaN  ...   NaN   NaN   NaN   NaN   NaN   NaN  1.0  NaN   \n",
       "intron        3.0    9.0  ...   9.0   NaN   1.0   NaN   5.0   9.0  4.0  NaN   \n",
       "DCRD        909.0  635.0  ...  51.0  93.0  54.0  22.0  12.0  15.0  7.0  3.0   \n",
       "intergenic    NaN    NaN  ...   NaN   NaN   NaN   NaN   NaN   NaN  NaN  NaN   \n",
       "\n",
       "             24   25  \n",
       "feat_class            \n",
       "Promoter    NaN  NaN  \n",
       "5'-UTR      NaN  NaN  \n",
       "3'-UTR      NaN  NaN  \n",
       "exon        NaN  NaN  \n",
       "intron      8.0  NaN  \n",
       "DCRD        1.0  7.0  \n",
       "intergenic  NaN  NaN  \n",
       "\n",
       "[7 rows x 25 columns]"
      ]
     },
     "execution_count": 57,
     "metadata": {},
     "output_type": "execute_result"
    }
   ],
   "source": [
    "multi_annos_crosstab = (\n",
    "    primary_annos.groupby([\"feat_class\", \"gtfanno_uid\"], observed=True)\n",
    "    .size()\n",
    "    .groupby(\"feat_class\")\n",
    "    .value_counts()\n",
    "    .unstack()\n",
    ")\n",
    "multi_annos_crosstab"
   ]
  },
  {
   "cell_type": "markdown",
   "id": "entitled-render",
   "metadata": {},
   "source": [
    "##### Example for Promoter multiple annotations"
   ]
  },
  {
   "cell_type": "code",
   "execution_count": 58,
   "id": "3ce98402",
   "metadata": {},
   "outputs": [],
   "source": [
    "primary_annos[\"is_duplicated\"] = primary_annos.duplicated(\n",
    "    subset=[\"Chromosome\", \"Start\", \"End\"], keep=False\n",
    ")"
   ]
  },
  {
   "cell_type": "code",
   "execution_count": 59,
   "id": "7cbee64e",
   "metadata": {},
   "outputs": [
    {
     "data": {
      "text/html": [
       "<div>\n",
       "<style scoped>\n",
       "    .dataframe tbody tr th:only-of-type {\n",
       "        vertical-align: middle;\n",
       "    }\n",
       "\n",
       "    .dataframe tbody tr th {\n",
       "        vertical-align: top;\n",
       "    }\n",
       "\n",
       "    .dataframe thead th {\n",
       "        text-align: right;\n",
       "    }\n",
       "</style>\n",
       "<table border=\"1\" class=\"dataframe\">\n",
       "  <thead>\n",
       "    <tr style=\"text-align: right;\">\n",
       "      <th></th>\n",
       "      <th>Chromosome</th>\n",
       "      <th>Start</th>\n",
       "      <th>End</th>\n",
       "      <th>gtfanno_uid</th>\n",
       "      <th>gene_name</th>\n",
       "    </tr>\n",
       "  </thead>\n",
       "  <tbody>\n",
       "    <tr>\n",
       "      <th>238</th>\n",
       "      <td>1</td>\n",
       "      <td>4808196</td>\n",
       "      <td>4808197</td>\n",
       "      <td>96</td>\n",
       "      <td>Gm37988</td>\n",
       "    </tr>\n",
       "    <tr>\n",
       "      <th>239</th>\n",
       "      <td>1</td>\n",
       "      <td>4808196</td>\n",
       "      <td>4808197</td>\n",
       "      <td>96</td>\n",
       "      <td>Lypla1</td>\n",
       "    </tr>\n",
       "    <tr>\n",
       "      <th>244</th>\n",
       "      <td>1</td>\n",
       "      <td>4808291</td>\n",
       "      <td>4808292</td>\n",
       "      <td>97</td>\n",
       "      <td>Gm37988</td>\n",
       "    </tr>\n",
       "    <tr>\n",
       "      <th>245</th>\n",
       "      <td>1</td>\n",
       "      <td>4808291</td>\n",
       "      <td>4808292</td>\n",
       "      <td>97</td>\n",
       "      <td>Lypla1</td>\n",
       "    </tr>\n",
       "    <tr>\n",
       "      <th>1252</th>\n",
       "      <td>1</td>\n",
       "      <td>10037877</td>\n",
       "      <td>10037878</td>\n",
       "      <td>355</td>\n",
       "      <td>Cspp1</td>\n",
       "    </tr>\n",
       "    <tr>\n",
       "      <th>1253</th>\n",
       "      <td>1</td>\n",
       "      <td>10037877</td>\n",
       "      <td>10037878</td>\n",
       "      <td>355</td>\n",
       "      <td>Cops5</td>\n",
       "    </tr>\n",
       "    <tr>\n",
       "      <th>1259</th>\n",
       "      <td>1</td>\n",
       "      <td>10038004</td>\n",
       "      <td>10038005</td>\n",
       "      <td>356</td>\n",
       "      <td>Cspp1</td>\n",
       "    </tr>\n",
       "    <tr>\n",
       "      <th>1260</th>\n",
       "      <td>1</td>\n",
       "      <td>10038004</td>\n",
       "      <td>10038005</td>\n",
       "      <td>356</td>\n",
       "      <td>Cops5</td>\n",
       "    </tr>\n",
       "    <tr>\n",
       "      <th>1266</th>\n",
       "      <td>1</td>\n",
       "      <td>10038459</td>\n",
       "      <td>10038460</td>\n",
       "      <td>357</td>\n",
       "      <td>Cops5</td>\n",
       "    </tr>\n",
       "    <tr>\n",
       "      <th>1267</th>\n",
       "      <td>1</td>\n",
       "      <td>10038459</td>\n",
       "      <td>10038460</td>\n",
       "      <td>357</td>\n",
       "      <td>Cspp1</td>\n",
       "    </tr>\n",
       "    <tr>\n",
       "      <th>1271</th>\n",
       "      <td>1</td>\n",
       "      <td>10038470</td>\n",
       "      <td>10038471</td>\n",
       "      <td>358</td>\n",
       "      <td>Cops5</td>\n",
       "    </tr>\n",
       "    <tr>\n",
       "      <th>1272</th>\n",
       "      <td>1</td>\n",
       "      <td>10038470</td>\n",
       "      <td>10038471</td>\n",
       "      <td>358</td>\n",
       "      <td>Cspp1</td>\n",
       "    </tr>\n",
       "    <tr>\n",
       "      <th>2125</th>\n",
       "      <td>1</td>\n",
       "      <td>16104481</td>\n",
       "      <td>16104482</td>\n",
       "      <td>677</td>\n",
       "      <td>Rdh10</td>\n",
       "    </tr>\n",
       "    <tr>\n",
       "      <th>2126</th>\n",
       "      <td>1</td>\n",
       "      <td>16104481</td>\n",
       "      <td>16104482</td>\n",
       "      <td>677</td>\n",
       "      <td>Rpl7</td>\n",
       "    </tr>\n",
       "    <tr>\n",
       "      <th>2132</th>\n",
       "      <td>1</td>\n",
       "      <td>16104680</td>\n",
       "      <td>16104681</td>\n",
       "      <td>678</td>\n",
       "      <td>Rdh10</td>\n",
       "    </tr>\n",
       "    <tr>\n",
       "      <th>2133</th>\n",
       "      <td>1</td>\n",
       "      <td>16104680</td>\n",
       "      <td>16104681</td>\n",
       "      <td>678</td>\n",
       "      <td>Rpl7</td>\n",
       "    </tr>\n",
       "    <tr>\n",
       "      <th>2136</th>\n",
       "      <td>1</td>\n",
       "      <td>16104707</td>\n",
       "      <td>16104708</td>\n",
       "      <td>679</td>\n",
       "      <td>Rdh10</td>\n",
       "    </tr>\n",
       "    <tr>\n",
       "      <th>2137</th>\n",
       "      <td>1</td>\n",
       "      <td>16104707</td>\n",
       "      <td>16104708</td>\n",
       "      <td>679</td>\n",
       "      <td>Rpl7</td>\n",
       "    </tr>\n",
       "    <tr>\n",
       "      <th>2140</th>\n",
       "      <td>1</td>\n",
       "      <td>16104868</td>\n",
       "      <td>16104869</td>\n",
       "      <td>680</td>\n",
       "      <td>Rdh10</td>\n",
       "    </tr>\n",
       "    <tr>\n",
       "      <th>2141</th>\n",
       "      <td>1</td>\n",
       "      <td>16104868</td>\n",
       "      <td>16104869</td>\n",
       "      <td>680</td>\n",
       "      <td>Rpl7</td>\n",
       "    </tr>\n",
       "  </tbody>\n",
       "</table>\n",
       "</div>"
      ],
      "text/plain": [
       "     Chromosome     Start       End  gtfanno_uid gene_name\n",
       "238           1   4808196   4808197           96   Gm37988\n",
       "239           1   4808196   4808197           96    Lypla1\n",
       "244           1   4808291   4808292           97   Gm37988\n",
       "245           1   4808291   4808292           97    Lypla1\n",
       "1252          1  10037877  10037878          355     Cspp1\n",
       "1253          1  10037877  10037878          355     Cops5\n",
       "1259          1  10038004  10038005          356     Cspp1\n",
       "1260          1  10038004  10038005          356     Cops5\n",
       "1266          1  10038459  10038460          357     Cops5\n",
       "1267          1  10038459  10038460          357     Cspp1\n",
       "1271          1  10038470  10038471          358     Cops5\n",
       "1272          1  10038470  10038471          358     Cspp1\n",
       "2125          1  16104481  16104482          677     Rdh10\n",
       "2126          1  16104481  16104482          677      Rpl7\n",
       "2132          1  16104680  16104681          678     Rdh10\n",
       "2133          1  16104680  16104681          678      Rpl7\n",
       "2136          1  16104707  16104708          679     Rdh10\n",
       "2137          1  16104707  16104708          679      Rpl7\n",
       "2140          1  16104868  16104869          680     Rdh10\n",
       "2141          1  16104868  16104869          680      Rpl7"
      ]
     },
     "metadata": {},
     "output_type": "display_data"
    },
    {
     "data": {
      "text/html": [
       "<div>\n",
       "<style scoped>\n",
       "    .dataframe tbody tr th:only-of-type {\n",
       "        vertical-align: middle;\n",
       "    }\n",
       "\n",
       "    .dataframe tbody tr th {\n",
       "        vertical-align: top;\n",
       "    }\n",
       "\n",
       "    .dataframe thead th {\n",
       "        text-align: right;\n",
       "    }\n",
       "</style>\n",
       "<table border=\"1\" class=\"dataframe\">\n",
       "  <thead>\n",
       "    <tr style=\"text-align: right;\">\n",
       "      <th></th>\n",
       "      <th>Chromosome</th>\n",
       "      <th>Start</th>\n",
       "      <th>End</th>\n",
       "      <th>gtfanno_uid</th>\n",
       "      <th>gene_name</th>\n",
       "    </tr>\n",
       "  </thead>\n",
       "  <tbody>\n",
       "    <tr>\n",
       "      <th>1638159</th>\n",
       "      <td>X</td>\n",
       "      <td>155624572</td>\n",
       "      <td>155624573</td>\n",
       "      <td>277148</td>\n",
       "      <td>Ptchd1</td>\n",
       "    </tr>\n",
       "    <tr>\n",
       "      <th>1638160</th>\n",
       "      <td>X</td>\n",
       "      <td>155624572</td>\n",
       "      <td>155624573</td>\n",
       "      <td>277148</td>\n",
       "      <td>Gm15155</td>\n",
       "    </tr>\n",
       "    <tr>\n",
       "      <th>1638161</th>\n",
       "      <td>X</td>\n",
       "      <td>155624668</td>\n",
       "      <td>155624669</td>\n",
       "      <td>277149</td>\n",
       "      <td>Ptchd1</td>\n",
       "    </tr>\n",
       "    <tr>\n",
       "      <th>1638162</th>\n",
       "      <td>X</td>\n",
       "      <td>155624668</td>\n",
       "      <td>155624669</td>\n",
       "      <td>277149</td>\n",
       "      <td>Gm15155</td>\n",
       "    </tr>\n",
       "    <tr>\n",
       "      <th>1641301</th>\n",
       "      <td>X</td>\n",
       "      <td>164980364</td>\n",
       "      <td>164980365</td>\n",
       "      <td>278241</td>\n",
       "      <td>Fancb</td>\n",
       "    </tr>\n",
       "    <tr>\n",
       "      <th>1641302</th>\n",
       "      <td>X</td>\n",
       "      <td>164980364</td>\n",
       "      <td>164980365</td>\n",
       "      <td>278241</td>\n",
       "      <td>Mospd2</td>\n",
       "    </tr>\n",
       "    <tr>\n",
       "      <th>1641304</th>\n",
       "      <td>X</td>\n",
       "      <td>164980482</td>\n",
       "      <td>164980483</td>\n",
       "      <td>278242</td>\n",
       "      <td>Mospd2</td>\n",
       "    </tr>\n",
       "    <tr>\n",
       "      <th>1641305</th>\n",
       "      <td>X</td>\n",
       "      <td>164980482</td>\n",
       "      <td>164980483</td>\n",
       "      <td>278242</td>\n",
       "      <td>Fancb</td>\n",
       "    </tr>\n",
       "    <tr>\n",
       "      <th>1641307</th>\n",
       "      <td>X</td>\n",
       "      <td>164980683</td>\n",
       "      <td>164980684</td>\n",
       "      <td>278243</td>\n",
       "      <td>Mospd2</td>\n",
       "    </tr>\n",
       "    <tr>\n",
       "      <th>1641308</th>\n",
       "      <td>X</td>\n",
       "      <td>164980683</td>\n",
       "      <td>164980684</td>\n",
       "      <td>278243</td>\n",
       "      <td>Fancb</td>\n",
       "    </tr>\n",
       "    <tr>\n",
       "      <th>1641313</th>\n",
       "      <td>X</td>\n",
       "      <td>164980731</td>\n",
       "      <td>164980732</td>\n",
       "      <td>278244</td>\n",
       "      <td>Mospd2</td>\n",
       "    </tr>\n",
       "    <tr>\n",
       "      <th>1641314</th>\n",
       "      <td>X</td>\n",
       "      <td>164980731</td>\n",
       "      <td>164980732</td>\n",
       "      <td>278244</td>\n",
       "      <td>Fancb</td>\n",
       "    </tr>\n",
       "    <tr>\n",
       "      <th>1641724</th>\n",
       "      <td>X</td>\n",
       "      <td>166440217</td>\n",
       "      <td>166440218</td>\n",
       "      <td>278370</td>\n",
       "      <td>Trappc2</td>\n",
       "    </tr>\n",
       "    <tr>\n",
       "      <th>1641725</th>\n",
       "      <td>X</td>\n",
       "      <td>166440217</td>\n",
       "      <td>166440218</td>\n",
       "      <td>278370</td>\n",
       "      <td>Ofd1</td>\n",
       "    </tr>\n",
       "    <tr>\n",
       "      <th>1641731</th>\n",
       "      <td>X</td>\n",
       "      <td>166440245</td>\n",
       "      <td>166440246</td>\n",
       "      <td>278371</td>\n",
       "      <td>Trappc2</td>\n",
       "    </tr>\n",
       "    <tr>\n",
       "      <th>1641732</th>\n",
       "      <td>X</td>\n",
       "      <td>166440245</td>\n",
       "      <td>166440246</td>\n",
       "      <td>278371</td>\n",
       "      <td>Ofd1</td>\n",
       "    </tr>\n",
       "    <tr>\n",
       "      <th>1641738</th>\n",
       "      <td>X</td>\n",
       "      <td>166441052</td>\n",
       "      <td>166441053</td>\n",
       "      <td>278372</td>\n",
       "      <td>Ofd1</td>\n",
       "    </tr>\n",
       "    <tr>\n",
       "      <th>1641739</th>\n",
       "      <td>X</td>\n",
       "      <td>166441052</td>\n",
       "      <td>166441053</td>\n",
       "      <td>278372</td>\n",
       "      <td>Trappc2</td>\n",
       "    </tr>\n",
       "    <tr>\n",
       "      <th>1641745</th>\n",
       "      <td>X</td>\n",
       "      <td>166441070</td>\n",
       "      <td>166441071</td>\n",
       "      <td>278373</td>\n",
       "      <td>Ofd1</td>\n",
       "    </tr>\n",
       "    <tr>\n",
       "      <th>1641746</th>\n",
       "      <td>X</td>\n",
       "      <td>166441070</td>\n",
       "      <td>166441071</td>\n",
       "      <td>278373</td>\n",
       "      <td>Trappc2</td>\n",
       "    </tr>\n",
       "  </tbody>\n",
       "</table>\n",
       "</div>"
      ],
      "text/plain": [
       "        Chromosome      Start        End  gtfanno_uid gene_name\n",
       "1638159          X  155624572  155624573       277148    Ptchd1\n",
       "1638160          X  155624572  155624573       277148   Gm15155\n",
       "1638161          X  155624668  155624669       277149    Ptchd1\n",
       "1638162          X  155624668  155624669       277149   Gm15155\n",
       "1641301          X  164980364  164980365       278241     Fancb\n",
       "1641302          X  164980364  164980365       278241    Mospd2\n",
       "1641304          X  164980482  164980483       278242    Mospd2\n",
       "1641305          X  164980482  164980483       278242     Fancb\n",
       "1641307          X  164980683  164980684       278243    Mospd2\n",
       "1641308          X  164980683  164980684       278243     Fancb\n",
       "1641313          X  164980731  164980732       278244    Mospd2\n",
       "1641314          X  164980731  164980732       278244     Fancb\n",
       "1641724          X  166440217  166440218       278370   Trappc2\n",
       "1641725          X  166440217  166440218       278370      Ofd1\n",
       "1641731          X  166440245  166440246       278371   Trappc2\n",
       "1641732          X  166440245  166440246       278371      Ofd1\n",
       "1641738          X  166441052  166441053       278372      Ofd1\n",
       "1641739          X  166441052  166441053       278372   Trappc2\n",
       "1641745          X  166441070  166441071       278373      Ofd1\n",
       "1641746          X  166441070  166441071       278373   Trappc2"
      ]
     },
     "metadata": {},
     "output_type": "display_data"
    }
   ],
   "source": [
    "df = primary_annos.query('feat_class == \"Promoter\" & is_duplicated')[\n",
    "    [\"Chromosome\", \"Start\", \"End\", \"gtfanno_uid\", \"gene_name\"]\n",
    "]\n",
    "display(df.head(20))\n",
    "display(df.tail(20))"
   ]
  },
  {
   "cell_type": "markdown",
   "id": "54c69983",
   "metadata": {},
   "source": [
    "Nsdhl\n",
    "http://nov2020.archive.ensembl.org/Mus_musculus/Gene/Summary?db=core;g=ENSMUSG00000031349;r=X:71962163-72002120\n",
    "\n",
    "Rpl7\n",
    "http://nov2020.archive.ensembl.org/Mus_musculus/Gene/Summary?db=core;g=ENSMUSG00000043716;r=1:16171519-16174886"
   ]
  },
  {
   "cell_type": "markdown",
   "id": "9c67c216",
   "metadata": {},
   "source": [
    "### Merge gene annotations (one row per unique probe interval)"
   ]
  },
  {
   "cell_type": "markdown",
   "id": "3d730cd6",
   "metadata": {},
   "source": [
    "Merging strategy: keep all\n",
    "- for Promoters, the window is relatively small. Ranking on TSS distance in such a small window seems arbitrary.\n",
    "- for enhancer candidates, a typical strategy would be to identify all TSS in +-100 kb window and try to find the target through correlation with gene expression, eg PMID: 30686579. So it also makes sense to indicate all genes in the window to give an impression of the number of possible target genes."
   ]
  },
  {
   "cell_type": "code",
   "execution_count": 60,
   "id": "d0035d53",
   "metadata": {},
   "outputs": [
    {
     "name": "stdout",
     "output_type": "stream",
     "text": [
      "merge unique value fields\n"
     ]
    },
    {
     "data": {
      "text/html": [
       "<div>\n",
       "<style scoped>\n",
       "    .dataframe tbody tr th:only-of-type {\n",
       "        vertical-align: middle;\n",
       "    }\n",
       "\n",
       "    .dataframe tbody tr th {\n",
       "        vertical-align: top;\n",
       "    }\n",
       "\n",
       "    .dataframe thead th {\n",
       "        text-align: right;\n",
       "    }\n",
       "</style>\n",
       "<table border=\"1\" class=\"dataframe\">\n",
       "  <thead>\n",
       "    <tr style=\"text-align: right;\">\n",
       "      <th></th>\n",
       "      <th>Chromosome</th>\n",
       "      <th>Start</th>\n",
       "      <th>End</th>\n",
       "      <th>gtfanno_uid</th>\n",
       "      <th>center</th>\n",
       "      <th>feat_class</th>\n",
       "      <th>perc_feature</th>\n",
       "      <th>perc_region</th>\n",
       "      <th>distance</th>\n",
       "      <th>has_center</th>\n",
       "      <th>...</th>\n",
       "      <th>gene_id</th>\n",
       "      <th>transcript_id</th>\n",
       "      <th>appris_principal_score</th>\n",
       "      <th>feat_chrom</th>\n",
       "      <th>feat_start</th>\n",
       "      <th>feat_end</th>\n",
       "      <th>feat_center</th>\n",
       "      <th>feat_strand</th>\n",
       "      <th>feature_rank</th>\n",
       "      <th>is_duplicated</th>\n",
       "    </tr>\n",
       "  </thead>\n",
       "  <tbody>\n",
       "    <tr>\n",
       "      <th>0</th>\n",
       "      <td>1</td>\n",
       "      <td>3005997</td>\n",
       "      <td>3005998</td>\n",
       "      <td>0</td>\n",
       "      <td>NaN</td>\n",
       "      <td>intergenic</td>\n",
       "      <td>nan</td>\n",
       "      <td>nan</td>\n",
       "      <td>nan</td>\n",
       "      <td>nan</td>\n",
       "      <td>...</td>\n",
       "      <td>nan</td>\n",
       "      <td>nan</td>\n",
       "      <td>nan</td>\n",
       "      <td>NaN</td>\n",
       "      <td>nan</td>\n",
       "      <td>nan</td>\n",
       "      <td>nan</td>\n",
       "      <td>nan</td>\n",
       "      <td>primary</td>\n",
       "      <td>False</td>\n",
       "    </tr>\n",
       "    <tr>\n",
       "      <th>1</th>\n",
       "      <td>1</td>\n",
       "      <td>3006186</td>\n",
       "      <td>3006187</td>\n",
       "      <td>1</td>\n",
       "      <td>NaN</td>\n",
       "      <td>intergenic</td>\n",
       "      <td>nan</td>\n",
       "      <td>nan</td>\n",
       "      <td>nan</td>\n",
       "      <td>nan</td>\n",
       "      <td>...</td>\n",
       "      <td>nan</td>\n",
       "      <td>nan</td>\n",
       "      <td>nan</td>\n",
       "      <td>NaN</td>\n",
       "      <td>nan</td>\n",
       "      <td>nan</td>\n",
       "      <td>nan</td>\n",
       "      <td>nan</td>\n",
       "      <td>primary</td>\n",
       "      <td>False</td>\n",
       "    </tr>\n",
       "    <tr>\n",
       "      <th>2</th>\n",
       "      <td>1</td>\n",
       "      <td>3035832</td>\n",
       "      <td>3035833</td>\n",
       "      <td>2</td>\n",
       "      <td>NaN</td>\n",
       "      <td>intergenic</td>\n",
       "      <td>nan</td>\n",
       "      <td>nan</td>\n",
       "      <td>nan</td>\n",
       "      <td>nan</td>\n",
       "      <td>...</td>\n",
       "      <td>nan</td>\n",
       "      <td>nan</td>\n",
       "      <td>nan</td>\n",
       "      <td>NaN</td>\n",
       "      <td>nan</td>\n",
       "      <td>nan</td>\n",
       "      <td>nan</td>\n",
       "      <td>nan</td>\n",
       "      <td>primary</td>\n",
       "      <td>False</td>\n",
       "    </tr>\n",
       "    <tr>\n",
       "      <th>3</th>\n",
       "      <td>1</td>\n",
       "      <td>3062738</td>\n",
       "      <td>3062739</td>\n",
       "      <td>3</td>\n",
       "      <td>NaN</td>\n",
       "      <td>intergenic</td>\n",
       "      <td>nan</td>\n",
       "      <td>nan</td>\n",
       "      <td>nan</td>\n",
       "      <td>nan</td>\n",
       "      <td>...</td>\n",
       "      <td>nan</td>\n",
       "      <td>nan</td>\n",
       "      <td>nan</td>\n",
       "      <td>NaN</td>\n",
       "      <td>nan</td>\n",
       "      <td>nan</td>\n",
       "      <td>nan</td>\n",
       "      <td>nan</td>\n",
       "      <td>primary</td>\n",
       "      <td>False</td>\n",
       "    </tr>\n",
       "    <tr>\n",
       "      <th>4</th>\n",
       "      <td>1</td>\n",
       "      <td>3102469</td>\n",
       "      <td>3102470</td>\n",
       "      <td>4</td>\n",
       "      <td>NaN</td>\n",
       "      <td>intergenic</td>\n",
       "      <td>nan</td>\n",
       "      <td>nan</td>\n",
       "      <td>nan</td>\n",
       "      <td>nan</td>\n",
       "      <td>...</td>\n",
       "      <td>nan</td>\n",
       "      <td>nan</td>\n",
       "      <td>nan</td>\n",
       "      <td>NaN</td>\n",
       "      <td>nan</td>\n",
       "      <td>nan</td>\n",
       "      <td>nan</td>\n",
       "      <td>nan</td>\n",
       "      <td>primary</td>\n",
       "      <td>False</td>\n",
       "    </tr>\n",
       "    <tr>\n",
       "      <th>...</th>\n",
       "      <td>...</td>\n",
       "      <td>...</td>\n",
       "      <td>...</td>\n",
       "      <td>...</td>\n",
       "      <td>...</td>\n",
       "      <td>...</td>\n",
       "      <td>...</td>\n",
       "      <td>...</td>\n",
       "      <td>...</td>\n",
       "      <td>...</td>\n",
       "      <td>...</td>\n",
       "      <td>...</td>\n",
       "      <td>...</td>\n",
       "      <td>...</td>\n",
       "      <td>...</td>\n",
       "      <td>...</td>\n",
       "      <td>...</td>\n",
       "      <td>...</td>\n",
       "      <td>...</td>\n",
       "      <td>...</td>\n",
       "      <td>...</td>\n",
       "    </tr>\n",
       "    <tr>\n",
       "      <th>282001</th>\n",
       "      <td>Y</td>\n",
       "      <td>90808022</td>\n",
       "      <td>90808023</td>\n",
       "      <td>282001</td>\n",
       "      <td>90808022.5</td>\n",
       "      <td>DCRD</td>\n",
       "      <td>nan</td>\n",
       "      <td>nan</td>\n",
       "      <td>31154.5</td>\n",
       "      <td>True</td>\n",
       "      <td>...</td>\n",
       "      <td>ENSMUSG00000096850.1</td>\n",
       "      <td>ENSMUST00000179623.1</td>\n",
       "      <td>0.0</td>\n",
       "      <td>Y</td>\n",
       "      <td>90739177.0</td>\n",
       "      <td>90939177.0</td>\n",
       "      <td>nan</td>\n",
       "      <td>-</td>\n",
       "      <td>primary</td>\n",
       "      <td>False</td>\n",
       "    </tr>\n",
       "    <tr>\n",
       "      <th>282002</th>\n",
       "      <td>Y</td>\n",
       "      <td>90808868</td>\n",
       "      <td>90808869</td>\n",
       "      <td>282002</td>\n",
       "      <td>90808868.5</td>\n",
       "      <td>DCRD</td>\n",
       "      <td>nan</td>\n",
       "      <td>nan</td>\n",
       "      <td>30308.5</td>\n",
       "      <td>True</td>\n",
       "      <td>...</td>\n",
       "      <td>ENSMUSG00000096850.1</td>\n",
       "      <td>ENSMUST00000179623.1</td>\n",
       "      <td>0.0</td>\n",
       "      <td>Y</td>\n",
       "      <td>90739177.0</td>\n",
       "      <td>90939177.0</td>\n",
       "      <td>nan</td>\n",
       "      <td>-</td>\n",
       "      <td>primary</td>\n",
       "      <td>False</td>\n",
       "    </tr>\n",
       "    <tr>\n",
       "      <th>282003</th>\n",
       "      <td>Y</td>\n",
       "      <td>90809535</td>\n",
       "      <td>90809536</td>\n",
       "      <td>282003</td>\n",
       "      <td>90809535.5</td>\n",
       "      <td>DCRD</td>\n",
       "      <td>nan</td>\n",
       "      <td>nan</td>\n",
       "      <td>29641.5</td>\n",
       "      <td>True</td>\n",
       "      <td>...</td>\n",
       "      <td>ENSMUSG00000096850.1</td>\n",
       "      <td>ENSMUST00000179623.1</td>\n",
       "      <td>0.0</td>\n",
       "      <td>Y</td>\n",
       "      <td>90739177.0</td>\n",
       "      <td>90939177.0</td>\n",
       "      <td>nan</td>\n",
       "      <td>-</td>\n",
       "      <td>primary</td>\n",
       "      <td>False</td>\n",
       "    </tr>\n",
       "    <tr>\n",
       "      <th>282004</th>\n",
       "      <td>Y</td>\n",
       "      <td>90813404</td>\n",
       "      <td>90813405</td>\n",
       "      <td>282004</td>\n",
       "      <td>90813404.5</td>\n",
       "      <td>DCRD</td>\n",
       "      <td>nan</td>\n",
       "      <td>nan</td>\n",
       "      <td>25772.5</td>\n",
       "      <td>True</td>\n",
       "      <td>...</td>\n",
       "      <td>ENSMUSG00000096850.1</td>\n",
       "      <td>ENSMUST00000179623.1</td>\n",
       "      <td>0.0</td>\n",
       "      <td>Y</td>\n",
       "      <td>90739177.0</td>\n",
       "      <td>90939177.0</td>\n",
       "      <td>nan</td>\n",
       "      <td>-</td>\n",
       "      <td>primary</td>\n",
       "      <td>False</td>\n",
       "    </tr>\n",
       "    <tr>\n",
       "      <th>282005</th>\n",
       "      <td>Y</td>\n",
       "      <td>90813678</td>\n",
       "      <td>90813679</td>\n",
       "      <td>282005</td>\n",
       "      <td>90813678.5</td>\n",
       "      <td>DCRD</td>\n",
       "      <td>nan</td>\n",
       "      <td>nan</td>\n",
       "      <td>25498.5</td>\n",
       "      <td>True</td>\n",
       "      <td>...</td>\n",
       "      <td>ENSMUSG00000096850.1</td>\n",
       "      <td>ENSMUST00000179623.1</td>\n",
       "      <td>0.0</td>\n",
       "      <td>Y</td>\n",
       "      <td>90739177.0</td>\n",
       "      <td>90939177.0</td>\n",
       "      <td>nan</td>\n",
       "      <td>-</td>\n",
       "      <td>primary</td>\n",
       "      <td>False</td>\n",
       "    </tr>\n",
       "  </tbody>\n",
       "</table>\n",
       "<p>282006 rows × 21 columns</p>\n",
       "</div>"
      ],
      "text/plain": [
       "       Chromosome     Start       End  gtfanno_uid      center  feat_class  \\\n",
       "0               1   3005997   3005998            0         NaN  intergenic   \n",
       "1               1   3006186   3006187            1         NaN  intergenic   \n",
       "2               1   3035832   3035833            2         NaN  intergenic   \n",
       "3               1   3062738   3062739            3         NaN  intergenic   \n",
       "4               1   3102469   3102470            4         NaN  intergenic   \n",
       "...           ...       ...       ...          ...         ...         ...   \n",
       "282001          Y  90808022  90808023       282001  90808022.5        DCRD   \n",
       "282002          Y  90808868  90808869       282002  90808868.5        DCRD   \n",
       "282003          Y  90809535  90809536       282003  90809535.5        DCRD   \n",
       "282004          Y  90813404  90813405       282004  90813404.5        DCRD   \n",
       "282005          Y  90813678  90813679       282005  90813678.5        DCRD   \n",
       "\n",
       "       perc_feature perc_region distance has_center  ...  \\\n",
       "0               nan         nan      nan        nan  ...   \n",
       "1               nan         nan      nan        nan  ...   \n",
       "2               nan         nan      nan        nan  ...   \n",
       "3               nan         nan      nan        nan  ...   \n",
       "4               nan         nan      nan        nan  ...   \n",
       "...             ...         ...      ...        ...  ...   \n",
       "282001          nan         nan  31154.5       True  ...   \n",
       "282002          nan         nan  30308.5       True  ...   \n",
       "282003          nan         nan  29641.5       True  ...   \n",
       "282004          nan         nan  25772.5       True  ...   \n",
       "282005          nan         nan  25498.5       True  ...   \n",
       "\n",
       "                     gene_id         transcript_id appris_principal_score  \\\n",
       "0                        nan                   nan                    nan   \n",
       "1                        nan                   nan                    nan   \n",
       "2                        nan                   nan                    nan   \n",
       "3                        nan                   nan                    nan   \n",
       "4                        nan                   nan                    nan   \n",
       "...                      ...                   ...                    ...   \n",
       "282001  ENSMUSG00000096850.1  ENSMUST00000179623.1                    0.0   \n",
       "282002  ENSMUSG00000096850.1  ENSMUST00000179623.1                    0.0   \n",
       "282003  ENSMUSG00000096850.1  ENSMUST00000179623.1                    0.0   \n",
       "282004  ENSMUSG00000096850.1  ENSMUST00000179623.1                    0.0   \n",
       "282005  ENSMUSG00000096850.1  ENSMUST00000179623.1                    0.0   \n",
       "\n",
       "       feat_chrom  feat_start    feat_end feat_center feat_strand  \\\n",
       "0             NaN         nan         nan         nan         nan   \n",
       "1             NaN         nan         nan         nan         nan   \n",
       "2             NaN         nan         nan         nan         nan   \n",
       "3             NaN         nan         nan         nan         nan   \n",
       "4             NaN         nan         nan         nan         nan   \n",
       "...           ...         ...         ...         ...         ...   \n",
       "282001          Y  90739177.0  90939177.0         nan           -   \n",
       "282002          Y  90739177.0  90939177.0         nan           -   \n",
       "282003          Y  90739177.0  90939177.0         nan           -   \n",
       "282004          Y  90739177.0  90939177.0         nan           -   \n",
       "282005          Y  90739177.0  90939177.0         nan           -   \n",
       "\n",
       "       feature_rank is_duplicated  \n",
       "0           primary         False  \n",
       "1           primary         False  \n",
       "2           primary         False  \n",
       "3           primary         False  \n",
       "4           primary         False  \n",
       "...             ...           ...  \n",
       "282001      primary         False  \n",
       "282002      primary         False  \n",
       "282003      primary         False  \n",
       "282004      primary         False  \n",
       "282005      primary         False  \n",
       "\n",
       "[282006 rows x 21 columns]"
      ]
     },
     "execution_count": 60,
     "metadata": {},
     "output_type": "execute_result"
    }
   ],
   "source": [
    "merged_annos = merge_annos(primary_annos=primary_annos)\n",
    "merged_annos"
   ]
  },
  {
   "cell_type": "code",
   "execution_count": 61,
   "id": "c080f3aa",
   "metadata": {},
   "outputs": [],
   "source": [
    "merged_annos_new_chrom_dtype = merged_annos.copy()\n",
    "merged_annos_new_chrom_dtype[\"Chromosome\"] = (\n",
    "    \"chr\" + merged_annos[\"Chromosome\"].astype(str)\n",
    ").astype(chrom_dtype_prefixed)\n",
    "merged_annos_new_chrom_dtype = (\n",
    "    merged_annos_new_chrom_dtype.sort_values([\"Chromosome\", \"Start\", \"End\"])\n",
    "    .drop(\"gtfanno_uid\", axis=1)\n",
    "    .reset_index(drop=True)\n",
    ")\n",
    "assert merged_annos_new_chrom_dtype[\"Chromosome\"].notnull().all()"
   ]
  },
  {
   "cell_type": "code",
   "execution_count": 62,
   "id": "4ddc4dfc",
   "metadata": {},
   "outputs": [],
   "source": [
    "merged_annos_new_chrom_dtype = merged_annos_new_chrom_dtype.astype(\n",
    "    {\"Start\": \"Int64\", \"End\": \"Int64\"}\n",
    ")"
   ]
  },
  {
   "cell_type": "markdown",
   "id": "2059f9f7",
   "metadata": {},
   "source": [
    "## CpG island annotations"
   ]
  },
  {
   "cell_type": "markdown",
   "id": "variable-warrior",
   "metadata": {},
   "source": [
    "### Download CpG island regions from UCSC"
   ]
  },
  {
   "cell_type": "code",
   "execution_count": 63,
   "id": "79a00a2a",
   "metadata": {},
   "outputs": [],
   "source": [
    "if recompute:\n",
    "    subprocess.run(\n",
    "        [\n",
    "            \"wget\",\n",
    "            \"-O\",\n",
    "            cpg_islands_ucsc_unmasked_txt_gz,\n",
    "            cpg_islands_ucsc_unmasked_url,\n",
    "        ],\n",
    "        check=True,\n",
    "        capture_output=True,\n",
    "    )"
   ]
  },
  {
   "cell_type": "markdown",
   "id": "generous-booking",
   "metadata": {},
   "source": [
    "### Read in CpG islands"
   ]
  },
  {
   "cell_type": "code",
   "execution_count": 64,
   "id": "searching-merchant",
   "metadata": {},
   "outputs": [],
   "source": [
    "cpg_islands_df_prelim = pd.read_csv(  # type: ignore\n",
    "        cpg_islands_ucsc_unmasked_txt_gz,\n",
    "        sep=\"\\t\",\n",
    "        header=None,\n",
    "        names=\"bin Chromosome Start End name length cpgNum gcNum perCpg perGc obsExp\".split(),\n",
    "    )"
   ]
  },
  {
   "cell_type": "markdown",
   "id": "cleared-projection",
   "metadata": {},
   "source": [
    "no MT cpg islands"
   ]
  },
  {
   "cell_type": "code",
   "execution_count": 65,
   "id": "grand-creek",
   "metadata": {},
   "outputs": [
    {
     "name": "stdout",
     "output_type": "stream",
     "text": [
      "False False\n"
     ]
    }
   ],
   "source": [
    "print(\n",
    "    \"chrMT\" in cpg_islands_df_prelim.Chromosome.unique(),\n",
    "    \"chrM\" in cpg_islands_df_prelim.Chromosome.unique(),\n",
    ")"
   ]
  },
  {
   "cell_type": "code",
   "execution_count": 66,
   "id": "agreed-reflection",
   "metadata": {},
   "outputs": [],
   "source": [
    "cpg_islands_df = (cpg_islands_df_prelim\n",
    "    .astype({\"Chromosome\": chrom_dtype_prefixed})\n",
    "    .dropna()\n",
    "    .sort_values([\"Chromosome\", \"Start\", \"End\"])\n",
    "    .reset_index(drop=True)\n",
    ")"
   ]
  },
  {
   "cell_type": "markdown",
   "id": "young-oregon",
   "metadata": {},
   "source": [
    "### Compute shores and shelves"
   ]
  },
  {
   "cell_type": "code",
   "execution_count": 67,
   "id": "sudden-junior",
   "metadata": {},
   "outputs": [],
   "source": [
    "cpg_upstream_shores = cpg_islands_df[[\"Chromosome\", \"Start\", \"End\"]].copy()\n",
    "cpg_upstream_shores[\"End\"] = cpg_islands_df[\"Start\"]\n",
    "cpg_upstream_shores[\"Start\"] = cpg_islands_df[\"Start\"] - 2000\n",
    "cpg_downstream_shores = cpg_islands_df[[\"Chromosome\", \"Start\", \"End\"]].copy()\n",
    "cpg_downstream_shores[\"Start\"] = cpg_islands_df[\"End\"]\n",
    "cpg_downstream_shores[\"End\"] = cpg_islands_df[\"End\"] + 2000\n",
    "cpg_shores_df = (\n",
    "    pd.concat([cpg_upstream_shores, cpg_downstream_shores], axis=0)\n",
    "    .sort_values([\"Chromosome\", \"Start\", \"End\"])\n",
    "    .reset_index(drop=True)\n",
    "    .astype({\"Chromosome\": chrom_dtype_prefixed})\n",
    "    .sort_values([\"Chromosome\", \"Start\", \"End\"])\n",
    "    .reset_index(drop=True)\n",
    ")"
   ]
  },
  {
   "cell_type": "code",
   "execution_count": 68,
   "id": "electric-fisher",
   "metadata": {},
   "outputs": [],
   "source": [
    "cpg_upstream_shelves = cpg_islands_df[[\"Chromosome\", \"Start\", \"End\"]].copy()\n",
    "cpg_upstream_shelves[\"End\"] = cpg_islands_df[\"Start\"] - 2000\n",
    "cpg_upstream_shelves[\"Start\"] = cpg_islands_df[\"Start\"] - 4000\n",
    "cpg_downstream_shelves = cpg_islands_df[[\"Chromosome\", \"Start\", \"End\"]].copy()\n",
    "cpg_downstream_shelves[\"Start\"] = cpg_islands_df[\"End\"] + 2000\n",
    "cpg_downstream_shelves[\"End\"] = cpg_islands_df[\"End\"] + 4000\n",
    "cpg_shelves_df = (\n",
    "    pd.concat([cpg_upstream_shelves, cpg_downstream_shelves], axis=0)\n",
    "    .sort_values([\"Chromosome\", \"Start\", \"End\"])\n",
    "    .reset_index(drop=True)\n",
    "    .astype({\"Chromosome\": chrom_dtype_prefixed})\n",
    "    .sort_values([\"Chromosome\", \"Start\", \"End\"])\n",
    "    .reset_index(drop=True)\n",
    ")"
   ]
  },
  {
   "cell_type": "code",
   "execution_count": 69,
   "id": "extensive-torture",
   "metadata": {},
   "outputs": [],
   "source": [
    "cpg_islands_regions_gr_d = {'cpg_island': pr.PyRanges(cpg_islands_df[['Chromosome', 'Start', 'End']]),\n",
    "                    'cpg_shore': pr.PyRanges(cpg_shores_df),\n",
    "                    'cpg_shelve': pr.PyRanges(cpg_shelves_df),\n",
    "                    }"
   ]
  },
  {
   "cell_type": "markdown",
   "id": "healthy-zoning",
   "metadata": {},
   "source": [
    "### Join probe and cpg region intervals"
   ]
  },
  {
   "cell_type": "code",
   "execution_count": 70,
   "id": "norman-assumption",
   "metadata": {},
   "outputs": [],
   "source": [
    "illumina_probes_curated_chrom_defined_no_names_do_dup_intervals_gr = pr.PyRanges(\n",
    "    illumina_probes_curated_chrom_defined_no_names_no_dup_intervals\n",
    ")"
   ]
  },
  {
   "cell_type": "code",
   "execution_count": 71,
   "id": "earned-carpet",
   "metadata": {},
   "outputs": [],
   "source": [
    "# join against cpg islands, shelves, shores\n",
    "dfs = []\n",
    "for cpg_island_region_name, cpg_island_region_gr in cpg_islands_regions_gr_d.items():\n",
    "    join_gr = illumina_probes_curated_chrom_defined_no_names_do_dup_intervals_gr.join(\n",
    "        cpg_island_region_gr,\n",
    "        how=None,\n",
    "    )\n",
    "    join_df = join_gr.df.rename(\n",
    "        columns={\"Start_b\": \"region_start\", \"End_b\": \"region_end\"}\n",
    "    )[\n",
    "        [\n",
    "            \"Chromosome\",\n",
    "            \"Start\",\n",
    "            \"End\",\n",
    "            \"region_start\",\n",
    "            \"region_end\",\n",
    "        ]\n",
    "    ].assign(region_name=cpg_island_region_name)\n",
    "    dfs.append(join_df)\n",
    "# NOTE: pyranges may change sorting order\n",
    "cpg_island_anno_df = pd.concat(dfs, axis=0).reset_index(drop=True)"
   ]
  },
  {
   "cell_type": "markdown",
   "id": "golden-native",
   "metadata": {},
   "source": [
    "### Inspect multi-class assignments"
   ]
  },
  {
   "cell_type": "markdown",
   "id": "entitled-method",
   "metadata": {},
   "source": [
    "some cpgs are part of multiple features, e.g. cpg is located in a CpG island and in the shelve region of another CpG island; or a CpG is located in two shelve regions of different CpG islands"
   ]
  },
  {
   "cell_type": "code",
   "execution_count": 72,
   "id": "alternate-blank",
   "metadata": {},
   "outputs": [
    {
     "data": {
      "text/plain": [
       "1    67471\n",
       "2     9812\n",
       "3     1812\n",
       "4      285\n",
       "5       39\n",
       "6        5\n",
       "dtype: int64"
      ]
     },
     "execution_count": 72,
     "metadata": {},
     "output_type": "execute_result"
    }
   ],
   "source": [
    "cpg_island_grange_cols = [\"Chromosome\", \"Start\", \"End\"]\n",
    "cpg_island_anno_df.groupby(cpg_island_grange_cols, observed=True).size().value_counts()"
   ]
  },
  {
   "cell_type": "code",
   "execution_count": 73,
   "id": "white-brisbane",
   "metadata": {},
   "outputs": [
    {
     "data": {
      "text/html": [
       "<div>\n",
       "<style scoped>\n",
       "    .dataframe tbody tr th:only-of-type {\n",
       "        vertical-align: middle;\n",
       "    }\n",
       "\n",
       "    .dataframe tbody tr th {\n",
       "        vertical-align: top;\n",
       "    }\n",
       "\n",
       "    .dataframe thead th {\n",
       "        text-align: right;\n",
       "    }\n",
       "</style>\n",
       "<table border=\"1\" class=\"dataframe\">\n",
       "  <thead>\n",
       "    <tr style=\"text-align: right;\">\n",
       "      <th></th>\n",
       "      <th></th>\n",
       "      <th></th>\n",
       "      <th>region_start</th>\n",
       "      <th>region_end</th>\n",
       "      <th>region_name</th>\n",
       "    </tr>\n",
       "    <tr>\n",
       "      <th>Chromosome</th>\n",
       "      <th>Start</th>\n",
       "      <th>End</th>\n",
       "      <th></th>\n",
       "      <th></th>\n",
       "      <th></th>\n",
       "    </tr>\n",
       "  </thead>\n",
       "  <tbody>\n",
       "    <tr>\n",
       "      <th rowspan=\"5\" valign=\"top\">chr1</th>\n",
       "      <th rowspan=\"3\" valign=\"top\">12992476</th>\n",
       "      <th>12992477</th>\n",
       "      <td>12991485</td>\n",
       "      <td>12992784</td>\n",
       "      <td>cpg_island</td>\n",
       "    </tr>\n",
       "    <tr>\n",
       "      <th>12992477</th>\n",
       "      <td>12991200</td>\n",
       "      <td>12993200</td>\n",
       "      <td>cpg_shore</td>\n",
       "    </tr>\n",
       "    <tr>\n",
       "      <th>12992477</th>\n",
       "      <td>12992222</td>\n",
       "      <td>12994222</td>\n",
       "      <td>cpg_shelve</td>\n",
       "    </tr>\n",
       "    <tr>\n",
       "      <th rowspan=\"2\" valign=\"top\">12992878</th>\n",
       "      <th>12992879</th>\n",
       "      <td>12991200</td>\n",
       "      <td>12993200</td>\n",
       "      <td>cpg_shore</td>\n",
       "    </tr>\n",
       "    <tr>\n",
       "      <th>12992879</th>\n",
       "      <td>12992784</td>\n",
       "      <td>12994784</td>\n",
       "      <td>cpg_shore</td>\n",
       "    </tr>\n",
       "    <tr>\n",
       "      <th>...</th>\n",
       "      <th>...</th>\n",
       "      <th>...</th>\n",
       "      <td>...</td>\n",
       "      <td>...</td>\n",
       "      <td>...</td>\n",
       "    </tr>\n",
       "    <tr>\n",
       "      <th rowspan=\"2\" valign=\"top\">chrX</th>\n",
       "      <th rowspan=\"2\" valign=\"top\">170677384</th>\n",
       "      <th>170677385</th>\n",
       "      <td>170675836</td>\n",
       "      <td>170677836</td>\n",
       "      <td>cpg_shelve</td>\n",
       "    </tr>\n",
       "    <tr>\n",
       "      <th>170677385</th>\n",
       "      <td>170677049</td>\n",
       "      <td>170679049</td>\n",
       "      <td>cpg_shelve</td>\n",
       "    </tr>\n",
       "    <tr>\n",
       "      <th rowspan=\"3\" valign=\"top\">chrY</th>\n",
       "      <th rowspan=\"3\" valign=\"top\">90762037</th>\n",
       "      <th>90762038</th>\n",
       "      <td>90761349</td>\n",
       "      <td>90762300</td>\n",
       "      <td>cpg_island</td>\n",
       "    </tr>\n",
       "    <tr>\n",
       "      <th>90762038</th>\n",
       "      <td>90761086</td>\n",
       "      <td>90763086</td>\n",
       "      <td>cpg_shore</td>\n",
       "    </tr>\n",
       "    <tr>\n",
       "      <th>90762038</th>\n",
       "      <td>90760383</td>\n",
       "      <td>90762383</td>\n",
       "      <td>cpg_shelve</td>\n",
       "    </tr>\n",
       "  </tbody>\n",
       "</table>\n",
       "<p>6801 rows × 3 columns</p>\n",
       "</div>"
      ],
      "text/plain": [
       "                                region_start  region_end region_name\n",
       "Chromosome Start     End                                            \n",
       "chr1       12992476  12992477       12991485    12992784  cpg_island\n",
       "                     12992477       12991200    12993200   cpg_shore\n",
       "                     12992477       12992222    12994222  cpg_shelve\n",
       "           12992878  12992879       12991200    12993200   cpg_shore\n",
       "                     12992879       12992784    12994784   cpg_shore\n",
       "...                                      ...         ...         ...\n",
       "chrX       170677384 170677385     170675836   170677836  cpg_shelve\n",
       "                     170677385     170677049   170679049  cpg_shelve\n",
       "chrY       90762037  90762038       90761349    90762300  cpg_island\n",
       "                     90762038       90761086    90763086   cpg_shore\n",
       "                     90762038       90760383    90762383  cpg_shelve\n",
       "\n",
       "[6801 rows x 3 columns]"
      ]
     },
     "execution_count": 73,
     "metadata": {},
     "output_type": "execute_result"
    }
   ],
   "source": [
    "cpg_island_anno_df.set_index(cpg_island_grange_cols).loc[\n",
    "    cpg_island_anno_df.groupby(cpg_island_grange_cols, observed=True).size().gt(2)\n",
    "].sort_values(cpg_island_grange_cols)"
   ]
  },
  {
   "cell_type": "markdown",
   "id": "unexpected-exclusion",
   "metadata": {},
   "source": [
    "Sanity check: no CpG is annotated to two CpG islands"
   ]
  },
  {
   "cell_type": "code",
   "execution_count": 74,
   "id": "entire-steering",
   "metadata": {},
   "outputs": [
    {
     "data": {
      "text/plain": [
       "1    31545\n",
       "dtype: int64"
      ]
     },
     "execution_count": 74,
     "metadata": {},
     "output_type": "execute_result"
    }
   ],
   "source": [
    "cpg_island_anno_df.query('region_name == \"cpg_island\"').groupby(\n",
    "    cpg_island_grange_cols, observed=True\n",
    ").size().value_counts()"
   ]
  },
  {
   "cell_type": "markdown",
   "id": "polyphonic-brush",
   "metadata": {},
   "source": [
    "### pick unique classif according to precedence"
   ]
  },
  {
   "cell_type": "code",
   "execution_count": 76,
   "id": "capital-nickname",
   "metadata": {},
   "outputs": [],
   "source": [
    "cpg_island_anno_df_unique = (\n",
    "    cpg_island_anno_df.assign(\n",
    "        region_name=lambda df: pd.Categorical(\n",
    "            df[\"region_name\"],\n",
    "            categories=[\"cpg_island\", \"cpg_shelve\", \"cpg_shore\", \"open_sea\"],\n",
    "        )\n",
    "    )\n",
    "    .sort_values([\"Chromosome\", \"Start\", \"End\", \"region_name\"], ascending=True)\n",
    "    .groupby(cpg_island_grange_cols, observed=True, as_index=False)\n",
    "    .first()\n",
    "    .assign(\n",
    "        Chromosome=lambda df: df[\"Chromosome\"].astype(\n",
    "            illumina_probes_curated_chrom_defined.Chromosome.dtype\n",
    "        )\n",
    "    )\n",
    ")"
   ]
  },
  {
   "cell_type": "markdown",
   "id": "answering-northwest",
   "metadata": {},
   "source": [
    "### add open sea probes"
   ]
  },
  {
   "cell_type": "markdown",
   "id": "affecting-holiday",
   "metadata": {},
   "source": [
    "the grange join operation has discarded open sea cpgs, merge to get them back"
   ]
  },
  {
   "cell_type": "code",
   "execution_count": 79,
   "id": "powerful-respect",
   "metadata": {},
   "outputs": [],
   "source": [
    "full_cpg_island_anno_df = pd.merge(\n",
    "    illumina_probes_curated_chrom_defined_no_names_no_dup_intervals,\n",
    "    cpg_island_anno_df_unique,\n",
    "    on=cpg_island_grange_cols,\n",
    "    how=\"left\",\n",
    ")"
   ]
  },
  {
   "cell_type": "code",
   "execution_count": 80,
   "id": "celtic-latitude",
   "metadata": {},
   "outputs": [],
   "source": [
    "# assert: the open sea cpgs have no region_name yet, all other features do have a region_name\n",
    "assert (\n",
    "    full_cpg_island_anno_df.region_name.notnull().sum()\n",
    "    == cpg_island_anno_df_unique.shape[0]\n",
    ")"
   ]
  },
  {
   "cell_type": "code",
   "execution_count": 81,
   "id": "gross-dialogue",
   "metadata": {},
   "outputs": [],
   "source": [
    "full_cpg_island_anno_df[\"region_name\"] = full_cpg_island_anno_df[\"region_name\"].fillna(\n",
    "    \"open_sea\"\n",
    ")"
   ]
  },
  {
   "cell_type": "markdown",
   "id": "scheduled-hunter",
   "metadata": {},
   "source": [
    "### add distance to nearest CpG island"
   ]
  },
  {
   "cell_type": "code",
   "execution_count": 82,
   "id": "english-battlefield",
   "metadata": {},
   "outputs": [],
   "source": [
    "nearest_cpg_island_grange = illumina_probes_curated_chrom_defined_no_names_do_dup_intervals_gr.nearest(\n",
    "    cpg_islands_regions_gr_d['cpg_island'],\n",
    "    strandedness=False,\n",
    "    overlap=True,\n",
    "    how=None,\n",
    ")"
   ]
  },
  {
   "cell_type": "code",
   "execution_count": 83,
   "id": "announced-centre",
   "metadata": {},
   "outputs": [],
   "source": [
    "# Distance computed by pyranges has no sign, add it\n",
    "nearest_cpg_island_df = nearest_cpg_island_grange.df.copy()\n",
    "is_upstream = nearest_cpg_island_df.eval(\"Start < Start_b\")\n",
    "is_downstream = nearest_cpg_island_df.eval(\"Start >= End_b\")\n",
    "nearest_cpg_island_df[\"distance_signed\"] = 0\n",
    "nearest_cpg_island_df.loc[is_upstream, \"distance_signed\"] = nearest_cpg_island_df.loc[\n",
    "    is_upstream\n",
    "].eval(\"(End - 1) - Start_b\")\n",
    "nearest_cpg_island_df.loc[is_downstream, \"distance_signed\"] = nearest_cpg_island_df.loc[\n",
    "    is_downstream\n",
    "].eval(\"Start - (End_b - 1)\")\n",
    "\n",
    "pd.testing.assert_series_equal(\n",
    "    nearest_cpg_island_df.distance_signed.abs(),\n",
    "    nearest_cpg_island_df.Distance,\n",
    "    check_names=False,\n",
    ")"
   ]
  },
  {
   "cell_type": "markdown",
   "id": "phantom-advancement",
   "metadata": {},
   "source": [
    "### add coords of nearest CpG island to each probe"
   ]
  },
  {
   "cell_type": "code",
   "execution_count": 85,
   "id": "documentary-colors",
   "metadata": {},
   "outputs": [],
   "source": [
    "nearest_cpg_island_df = nearest_cpg_island_df.rename(\n",
    "    columns={\"Start_b\": \"next_cpg_island_start\", \"End_b\": \"next_cpg_island_end\"}\n",
    ")\n",
    "\n",
    "full_cpg_island_anno_df_with_dist = pd.merge(\n",
    "    full_cpg_island_anno_df,\n",
    "    nearest_cpg_island_df[\n",
    "        cpg_island_grange_cols\n",
    "        + [\"distance_signed\", \"next_cpg_island_start\", \"next_cpg_island_end\"]\n",
    "    ],\n",
    "    on=cpg_island_grange_cols,\n",
    "    how=\"left\",\n",
    ")\n",
    "# fix lost chrom dtype (pandas problem)\n",
    "full_cpg_island_anno_df_with_dist.Chromosome = (\n",
    "    full_cpg_island_anno_df_with_dist.Chromosome.astype(\n",
    "        illumina_probes_curated_chrom_defined.Chromosome.dtype\n",
    "    )\n",
    ")"
   ]
  },
  {
   "cell_type": "code",
   "execution_count": 86,
   "id": "organizational-garbage",
   "metadata": {},
   "outputs": [],
   "source": [
    "pd.testing.assert_frame_equal(\n",
    "    full_cpg_island_anno_df_with_dist.query('region_name == \"CpG islands\"')[\n",
    "        [\"region_start\", \"region_end\"]\n",
    "    ].set_axis([\"a\", \"b\"], axis=1),\n",
    "    full_cpg_island_anno_df_with_dist.query('region_name == \"CpG islands\"')[\n",
    "        [\"next_cpg_island_start\", \"next_cpg_island_end\"]\n",
    "    ].set_axis([\"a\", \"b\"], axis=1),\n",
    ")"
   ]
  },
  {
   "cell_type": "code",
   "execution_count": 87,
   "id": "american-exemption",
   "metadata": {},
   "outputs": [],
   "source": [
    "full_cpg_island_anno_df_with_dist = full_cpg_island_anno_df_with_dist.drop(\n",
    "    [\"region_start\", \"region_end\"], axis=1\n",
    ").rename(\n",
    "    columns={\n",
    "        \"next_cpg_island_start\": \"region_start\",\n",
    "        \"next_cpg_island_end\": \"region_end\",\n",
    "    }\n",
    ")"
   ]
  },
  {
   "cell_type": "code",
   "execution_count": 88,
   "id": "brazilian-bangladesh",
   "metadata": {},
   "outputs": [],
   "source": [
    "# quick sanity check on distance\n",
    "assert (\n",
    "    full_cpg_island_anno_df_with_dist.query('region_name == \"cpg_island\"')[\n",
    "        \"distance_signed\"\n",
    "    ]\n",
    "    .eq(0)\n",
    "    .all()\n",
    ")"
   ]
  },
  {
   "cell_type": "markdown",
   "id": "remarkable-carry",
   "metadata": {},
   "source": [
    "### Illumina style north/south annos"
   ]
  },
  {
   "cell_type": "code",
   "execution_count": 89,
   "id": "third-introduction",
   "metadata": {},
   "outputs": [],
   "source": [
    "full_cpg_island_anno_df_with_dist[\"north_south_of_island\"] = np.sign(\n",
    "    full_cpg_island_anno_df_with_dist[\"distance_signed\"]\n",
    ").replace({0: \"\", 1: \"N\", -1: \"S\"})\n",
    "\n",
    "full_cpg_island_anno_df_with_dist.loc[\n",
    "    ~full_cpg_island_anno_df_with_dist.region_name.isin([\"cpg_shore\", \"cpg_shelve\"]),\n",
    "    \"north_south_of_island\",\n",
    "] = \"\""
   ]
  },
  {
   "cell_type": "markdown",
   "id": "waiting-power",
   "metadata": {},
   "source": [
    "### Final CpG island annos"
   ]
  },
  {
   "cell_type": "code",
   "execution_count": 90,
   "id": "labeled-seafood",
   "metadata": {},
   "outputs": [],
   "source": [
    "full_cpg_island_anno_df_with_dist = full_cpg_island_anno_df_with_dist.rename(\n",
    "    columns={\n",
    "        \"region_name\": \"cpg_island_region_name\",\n",
    "        \"region_start\": \"cpg_island_region_start\",\n",
    "        \"region_end\": \"cpg_island_region_end\",\n",
    "        \"distance_signed\": \"cpg_island_distance\",\n",
    "        \"north_south_of_island\": \"north_south_of_cpg_island\",\n",
    "    }\n",
    ")"
   ]
  },
  {
   "cell_type": "markdown",
   "id": "helpful-baltimore",
   "metadata": {},
   "source": [
    "### Inspect CpG anno results"
   ]
  },
  {
   "cell_type": "code",
   "execution_count": 91,
   "id": "civic-world",
   "metadata": {},
   "outputs": [
    {
     "data": {
      "text/plain": [
       "open_sea      202582\n",
       "cpg_island     31545\n",
       "cpg_shore      31247\n",
       "cpg_shelve     16632\n",
       "Name: cpg_island_region_name, dtype: int64"
      ]
     },
     "execution_count": 91,
     "metadata": {},
     "output_type": "execute_result"
    }
   ],
   "source": [
    "full_cpg_island_anno_df_with_dist['cpg_island_region_name'].value_counts()"
   ]
  },
  {
   "cell_type": "code",
   "execution_count": 92,
   "id": "unlike-flooring",
   "metadata": {},
   "outputs": [
    {
     "data": {
      "text/html": [
       "<div>\n",
       "<style scoped>\n",
       "    .dataframe tbody tr th:only-of-type {\n",
       "        vertical-align: middle;\n",
       "    }\n",
       "\n",
       "    .dataframe tbody tr th {\n",
       "        vertical-align: top;\n",
       "    }\n",
       "\n",
       "    .dataframe thead th {\n",
       "        text-align: right;\n",
       "    }\n",
       "</style>\n",
       "<table border=\"1\" class=\"dataframe\">\n",
       "  <thead>\n",
       "    <tr style=\"text-align: right;\">\n",
       "      <th>north_south_of_cpg_island</th>\n",
       "      <th></th>\n",
       "      <th>N</th>\n",
       "      <th>S</th>\n",
       "    </tr>\n",
       "    <tr>\n",
       "      <th>cpg_island_region_name</th>\n",
       "      <th></th>\n",
       "      <th></th>\n",
       "      <th></th>\n",
       "    </tr>\n",
       "  </thead>\n",
       "  <tbody>\n",
       "    <tr>\n",
       "      <th>cpg_island</th>\n",
       "      <td>31545</td>\n",
       "      <td>0</td>\n",
       "      <td>0</td>\n",
       "    </tr>\n",
       "    <tr>\n",
       "      <th>cpg_shelve</th>\n",
       "      <td>0</td>\n",
       "      <td>8370</td>\n",
       "      <td>8262</td>\n",
       "    </tr>\n",
       "    <tr>\n",
       "      <th>cpg_shore</th>\n",
       "      <td>0</td>\n",
       "      <td>15704</td>\n",
       "      <td>15543</td>\n",
       "    </tr>\n",
       "    <tr>\n",
       "      <th>open_sea</th>\n",
       "      <td>202582</td>\n",
       "      <td>0</td>\n",
       "      <td>0</td>\n",
       "    </tr>\n",
       "  </tbody>\n",
       "</table>\n",
       "</div>"
      ],
      "text/plain": [
       "north_south_of_cpg_island              N      S\n",
       "cpg_island_region_name                         \n",
       "cpg_island                  31545      0      0\n",
       "cpg_shelve                      0   8370   8262\n",
       "cpg_shore                       0  15704  15543\n",
       "open_sea                   202582      0      0"
      ]
     },
     "execution_count": 92,
     "metadata": {},
     "output_type": "execute_result"
    }
   ],
   "source": [
    "# check that cpg islands and open sea have no north / south, but shelves and shores do have it\n",
    "# check that strands are approx 50/50\n",
    "pd.crosstab(\n",
    "    full_cpg_island_anno_df_with_dist[\"cpg_island_region_name\"],\n",
    "    full_cpg_island_anno_df_with_dist[\"north_south_of_cpg_island\"],\n",
    ")"
   ]
  },
  {
   "cell_type": "code",
   "execution_count": 94,
   "id": "small-lincoln",
   "metadata": {},
   "outputs": [],
   "source": [
    "pd.testing.assert_frame_equal(\n",
    "    full_cpg_island_anno_df_with_dist[cpg_island_grange_cols],\n",
    "    illumina_probes_curated_chrom_defined_no_names_no_dup_intervals,\n",
    ")"
   ]
  },
  {
   "cell_type": "code",
   "execution_count": 95,
   "id": "powered-following",
   "metadata": {},
   "outputs": [
    {
     "data": {
      "text/plain": [
       "<AxesSubplot:ylabel='Frequency'>"
      ]
     },
     "execution_count": 95,
     "metadata": {},
     "output_type": "execute_result"
    },
    {
     "data": {
      "image/png": "[encoded data removed]",
      "text/plain": [
       "<Figure size 432x288 with 1 Axes>"
      ]
     },
     "metadata": {
      "needs_background": "light"
     },
     "output_type": "display_data"
    }
   ],
   "source": [
    "full_cpg_island_anno_df_with_dist[\"cpg_island_distance\"].plot.hist(\n",
    "    bins=np.linspace(-1e5, 1e5, 100)\n",
    ")"
   ]
  },
  {
   "cell_type": "markdown",
   "id": "expensive-wisconsin",
   "metadata": {},
   "source": [
    "## Add probe cytosine motif and strand"
   ]
  },
  {
   "cell_type": "markdown",
   "id": "initial-novel",
   "metadata": {},
   "source": [
    "### Download ref genomes"
   ]
  },
  {
   "cell_type": "markdown",
   "id": "quiet-chaos",
   "metadata": {},
   "source": [
    "ucsc mm10"
   ]
  },
  {
   "cell_type": "code",
   "execution_count": null,
   "id": "sticky-expression",
   "metadata": {},
   "outputs": [],
   "source": [
    "if recompute:\n",
    "    subprocess.run([\"wget\", \"-O\", mm10_fa, mm10_fa_url], check=True)\n",
    "    subprocess.run(\n",
    "        f\"zcat {mm10_fa} | bgzip > {mm10_fa_bgz}\", shell=True, check=True\n",
    "    )\n",
    "    subprocess.run([\"samtools\", \"faidx\", mm10_fa_bgz], check=True)"
   ]
  },
  {
   "cell_type": "markdown",
   "id": "written-scholarship",
   "metadata": {},
   "source": [
    "NCBI GRCm38"
   ]
  },
  {
   "cell_type": "code",
   "execution_count": null,
   "id": "collected-award",
   "metadata": {},
   "outputs": [],
   "source": [
    "if recompute:\n",
    "    subprocess.run(\n",
    "        [\"wget\", \"-O\", ncbi_mm10_fa, ncbi_mm10_fa_url], check=True,\n",
    "        capture_output=True,\n",
    "    )\n",
    "    subprocess.run(\n",
    "        f\"zcat {ncbi_mm10_fa} | bgzip > {ncbi_mm10_fa_bgz}\",\n",
    "        shell=True,\n",
    "        check=True,\n",
    "        capture_output=True,\n",
    "    )\n",
    "    subprocess.run([\"samtools\", \"faidx\", ncbi_mm10_fa_bgz], check=True, capture_output=True)"
   ]
  },
  {
   "cell_type": "markdown",
   "id": "accredited-audio",
   "metadata": {},
   "source": [
    "### download seq id mapper"
   ]
  },
  {
   "cell_type": "code",
   "execution_count": null,
   "id": "985353f3-ebc8-4ecc-94e4-2a48f64212d8",
   "metadata": {},
   "outputs": [],
   "source": [
    "if recompute:\n",
    "    subprocess.run(\n",
    "        [\n",
    "            \"wget\",\n",
    "            \"-O\",\n",
    "            chrom_alias_txt_gz,\n",
    "            chrom_alias_url,\n",
    "        ],\n",
    "        check=True,\n",
    "        capture_output=True,\n",
    "    )"
   ]
  },
  {
   "cell_type": "code",
   "execution_count": 96,
   "id": "a98c708b-8bb9-48ef-a979-47b82a4202e3",
   "metadata": {},
   "outputs": [],
   "source": [
    "chrom_aliases = pd.read_csv(  # type_ignore\n",
    "    chrom_alias_txt_gz,\n",
    "    sep=\"\\t\",\n",
    "    header=None,\n",
    "    names=[\"other_db_id\", \"ucsc_id\", \"db\"],\n",
    ")\n",
    "\n",
    "ucsc_to_refseq_chrom_name = chrom_aliases.query('db == \"refseq\"').set_index(\n",
    "    \"ucsc_id\"\n",
    ")[\"other_db_id\"]"
   ]
  },
  {
   "cell_type": "markdown",
   "id": "directed-seller",
   "metadata": {},
   "source": [
    "### Get strands and motifs"
   ]
  },
  {
   "cell_type": "markdown",
   "id": "927a1b75-3e50-40e1-987e-de81e92624b1",
   "metadata": {},
   "source": [
    "- a small number of probes does not cover cytosines\n",
    "- comparing against two separately downloaded ref genomes just to be overly cautious about getting this right"
   ]
  },
  {
   "cell_type": "code",
   "execution_count": 97,
   "id": "preceding-school",
   "metadata": {},
   "outputs": [],
   "source": [
    "ucsc_strand_ser, ucsc_motifs_ser = find_cytosine_strand_and_motif(\n",
    "    temp_dir_name=temp_dir_name,\n",
    "    df=illumina_probes_curated_chrom_defined_no_names_no_dup_intervals.assign(\n",
    "        Chromosome=lambda df: df[\"Chromosome\"].astype(str).replace({\"chrMT\": \"chrM\"})\n",
    "    ),\n",
    "    fa_bgz=mm10_fa_bgz,\n",
    ")"
   ]
  },
  {
   "cell_type": "code",
   "execution_count": 98,
   "id": "worth-flower",
   "metadata": {},
   "outputs": [],
   "source": [
    "df = illumina_probes_curated_chrom_defined_no_names_no_dup_intervals.assign(\n",
    "    Chromosome=lambda df: df[\"Chromosome\"]\n",
    "    .astype(str)\n",
    "    .replace({\"chrMT\": \"chrM\"})\n",
    "    .map(ucsc_to_refseq_chrom_name)\n",
    ")\n",
    "assert df.Chromosome.notnull().all()\n",
    "\n",
    "ncbi_strand_ser, ncbi_motifs_ser = find_cytosine_strand_and_motif(\n",
    "    df=df,\n",
    "    temp_dir_name=temp_dir_name,\n",
    "    fa_bgz=ncbi_mm10_fa_bgz,\n",
    ")"
   ]
  },
  {
   "cell_type": "code",
   "execution_count": 99,
   "id": "minute-sentence",
   "metadata": {},
   "outputs": [],
   "source": [
    "pd.testing.assert_series_equal(ncbi_strand_ser, ucsc_strand_ser)\n",
    "pd.testing.assert_series_equal(ncbi_motifs_ser, ucsc_motifs_ser)"
   ]
  },
  {
   "cell_type": "code",
   "execution_count": 100,
   "id": "timely-reverse",
   "metadata": {},
   "outputs": [
    {
     "data": {
      "text/plain": [
       "CHH    85\n",
       "CHG    11\n",
       "dtype: int64"
      ]
     },
     "execution_count": 100,
     "metadata": {},
     "output_type": "execute_result"
    }
   ],
   "source": [
    "ncbi_motifs_ser.value_counts(dropna=False)\n",
    "ncbi_strand_ser.value_counts(dropna=False)\n",
    "ncbi_motifs_ser.loc[ncbi_strand_ser.eq(\"-\")].value_counts()"
   ]
  },
  {
   "cell_type": "code",
   "execution_count": 101,
   "id": "expensive-chinese",
   "metadata": {},
   "outputs": [],
   "source": [
    "motifs_df_final = (\n",
    "    illumina_probes_curated_chrom_defined_no_names_no_dup_intervals.reset_index(\n",
    "        drop=True\n",
    "    ).assign(strand=ncbi_motifs_ser, motif=ncbi_motifs_ser)\n",
    ")"
   ]
  },
  {
   "cell_type": "code",
   "execution_count": 102,
   "id": "located-watts",
   "metadata": {},
   "outputs": [
    {
     "data": {
      "text/plain": [
       "CG     280754\n",
       "CHH       595\n",
       "CHG       474\n",
       "D         183\n",
       "Name: motif, dtype: int64"
      ]
     },
     "execution_count": 102,
     "metadata": {},
     "output_type": "execute_result"
    }
   ],
   "source": [
    "motifs_df_final[\"motif\"].value_counts(dropna=False)"
   ]
  },
  {
   "cell_type": "markdown",
   "id": "413b25a3",
   "metadata": {},
   "source": [
    "## Merge all annotations"
   ]
  },
  {
   "cell_type": "code",
   "execution_count": 103,
   "id": "c36c64d2",
   "metadata": {},
   "outputs": [],
   "source": [
    "pd.testing.assert_frame_equal(\n",
    "    full_cpg_island_anno_df_with_dist[[\"Chromosome\", \"Start\", \"End\"]],\n",
    "    illumina_probes_curated_chrom_defined_no_names_no_dup_intervals.reset_index(\n",
    "        drop=True\n",
    "    ),\n",
    ")\n",
    "pd.testing.assert_frame_equal(\n",
    "    merged_annos_new_chrom_dtype[[\"Chromosome\", \"Start\", \"End\"]],\n",
    "    illumina_probes_curated_chrom_defined_no_names_no_dup_intervals.reset_index(\n",
    "        drop=True\n",
    "    ),\n",
    ")"
   ]
  },
  {
   "cell_type": "code",
   "execution_count": 104,
   "id": "beneficial-imagination",
   "metadata": {},
   "outputs": [],
   "source": [
    "exp_number_of_nas = (\n",
    "    illumina_probe_intervals_bed_convention[\"Chromosome\"].isin([np.nan, \"0\"]).sum()\n",
    ")"
   ]
  },
  {
   "cell_type": "code",
   "execution_count": 105,
   "id": "documented-target",
   "metadata": {},
   "outputs": [],
   "source": [
    "m1 = pd.merge(\n",
    "    illumina_probe_intervals_bed_convention,\n",
    "    motifs_df_final,\n",
    "    on=[\"Chromosome\", \"Start\", \"End\"],\n",
    "    how=\"left\",\n",
    ")\n",
    "assert m1[\"motif\"].isnull().sum() == exp_number_of_nas"
   ]
  },
  {
   "cell_type": "code",
   "execution_count": 106,
   "id": "worthy-realtor",
   "metadata": {},
   "outputs": [],
   "source": [
    "m2 = pd.merge(\n",
    "    m1,\n",
    "    full_cpg_island_anno_df_with_dist,\n",
    "    on=[\"Chromosome\", \"Start\", \"End\"],\n",
    "    how=\"left\",\n",
    ")\n",
    "assert m2[\"cpg_island_region_name\"].isnull().sum() == exp_number_of_nas"
   ]
  },
  {
   "cell_type": "code",
   "execution_count": 107,
   "id": "sorted-finger",
   "metadata": {},
   "outputs": [],
   "source": [
    "m3 = pd.merge(\n",
    "    m2,\n",
    "    merged_annos_new_chrom_dtype,\n",
    "    on=[\"Chromosome\", \"Start\", \"End\"],\n",
    "    how=\"left\",\n",
    ")\n",
    "assert m3[\"feat_class\"].isnull().sum() == exp_number_of_nas\n",
    "m3[\"score\"] = \".\""
   ]
  },
  {
   "cell_type": "code",
   "execution_count": 108,
   "id": "abstract-signature",
   "metadata": {},
   "outputs": [
    {
     "data": {
      "text/html": [
       "<div>\n",
       "<style scoped>\n",
       "    .dataframe tbody tr th:only-of-type {\n",
       "        vertical-align: middle;\n",
       "    }\n",
       "\n",
       "    .dataframe tbody tr th {\n",
       "        vertical-align: top;\n",
       "    }\n",
       "\n",
       "    .dataframe thead th {\n",
       "        text-align: right;\n",
       "    }\n",
       "</style>\n",
       "<table border=\"1\" class=\"dataframe\">\n",
       "  <thead>\n",
       "    <tr style=\"text-align: right;\">\n",
       "      <th></th>\n",
       "      <th>Start</th>\n",
       "      <th>Cpg_island_region_start</th>\n",
       "      <th>Cpg_island_region_end</th>\n",
       "      <th>Cpg_island_distance</th>\n",
       "    </tr>\n",
       "  </thead>\n",
       "  <tbody>\n",
       "    <tr>\n",
       "      <th>0</th>\n",
       "      <td>75515718</td>\n",
       "      <td>75595357.0</td>\n",
       "      <td>75596718.0</td>\n",
       "      <td>-79639.0</td>\n",
       "    </tr>\n",
       "    <tr>\n",
       "      <th>1</th>\n",
       "      <td>12170849</td>\n",
       "      <td>12204780.0</td>\n",
       "      <td>12205688.0</td>\n",
       "      <td>-33931.0</td>\n",
       "    </tr>\n",
       "    <tr>\n",
       "      <th>2</th>\n",
       "      <td>57387383</td>\n",
       "      <td>57392570.0</td>\n",
       "      <td>57393038.0</td>\n",
       "      <td>-5187.0</td>\n",
       "    </tr>\n",
       "    <tr>\n",
       "      <th>3</th>\n",
       "      <td>6375936</td>\n",
       "      <td>6375517.0</td>\n",
       "      <td>6375855.0</td>\n",
       "      <td>82.0</td>\n",
       "    </tr>\n",
       "    <tr>\n",
       "      <th>4</th>\n",
       "      <td>35572741</td>\n",
       "      <td>35562004.0</td>\n",
       "      <td>35563062.0</td>\n",
       "      <td>9680.0</td>\n",
       "    </tr>\n",
       "    <tr>\n",
       "      <th>...</th>\n",
       "      <td>...</td>\n",
       "      <td>...</td>\n",
       "      <td>...</td>\n",
       "      <td>...</td>\n",
       "    </tr>\n",
       "    <tr>\n",
       "      <th>287688</th>\n",
       "      <td>&lt;NA&gt;</td>\n",
       "      <td>NaN</td>\n",
       "      <td>NaN</td>\n",
       "      <td>NaN</td>\n",
       "    </tr>\n",
       "    <tr>\n",
       "      <th>287689</th>\n",
       "      <td>&lt;NA&gt;</td>\n",
       "      <td>NaN</td>\n",
       "      <td>NaN</td>\n",
       "      <td>NaN</td>\n",
       "    </tr>\n",
       "    <tr>\n",
       "      <th>287690</th>\n",
       "      <td>&lt;NA&gt;</td>\n",
       "      <td>NaN</td>\n",
       "      <td>NaN</td>\n",
       "      <td>NaN</td>\n",
       "    </tr>\n",
       "    <tr>\n",
       "      <th>287691</th>\n",
       "      <td>&lt;NA&gt;</td>\n",
       "      <td>NaN</td>\n",
       "      <td>NaN</td>\n",
       "      <td>NaN</td>\n",
       "    </tr>\n",
       "    <tr>\n",
       "      <th>287692</th>\n",
       "      <td>&lt;NA&gt;</td>\n",
       "      <td>NaN</td>\n",
       "      <td>NaN</td>\n",
       "      <td>NaN</td>\n",
       "    </tr>\n",
       "  </tbody>\n",
       "</table>\n",
       "<p>255992 rows × 4 columns</p>\n",
       "</div>"
      ],
      "text/plain": [
       "           Start  Cpg_island_region_start  Cpg_island_region_end  \\\n",
       "0       75515718               75595357.0             75596718.0   \n",
       "1       12170849               12204780.0             12205688.0   \n",
       "2       57387383               57392570.0             57393038.0   \n",
       "3        6375936                6375517.0              6375855.0   \n",
       "4       35572741               35562004.0             35563062.0   \n",
       "...          ...                      ...                    ...   \n",
       "287688      <NA>                      NaN                    NaN   \n",
       "287689      <NA>                      NaN                    NaN   \n",
       "287690      <NA>                      NaN                    NaN   \n",
       "287691      <NA>                      NaN                    NaN   \n",
       "287692      <NA>                      NaN                    NaN   \n",
       "\n",
       "        Cpg_island_distance  \n",
       "0                  -79639.0  \n",
       "1                  -33931.0  \n",
       "2                   -5187.0  \n",
       "3                      82.0  \n",
       "4                    9680.0  \n",
       "...                     ...  \n",
       "287688                  NaN  \n",
       "287689                  NaN  \n",
       "287690                  NaN  \n",
       "287691                  NaN  \n",
       "287692                  NaN  \n",
       "\n",
       "[255992 rows x 4 columns]"
      ]
     },
     "execution_count": 108,
     "metadata": {},
     "output_type": "execute_result"
    }
   ],
   "source": [
    "final_cols_d = {\n",
    "    \"Chromosome\": \"Chromosome\",\n",
    "    \"Start\": \"Start\",\n",
    "    \"End\": \"End\",\n",
    "    \"name\": \"IlmnID\",\n",
    "    \"score\": \"Score\",\n",
    "    \"strand\": \"Strand\",\n",
    "    \"motif\": \"Motif\",\n",
    "    \"feat_class\": \"Genomic_region_class\",\n",
    "    \"distance\": \"Distance_to_genomic_region\",\n",
    "    \"gene_name\": \"Gene_name\",\n",
    "    \"gene_id\": \"Gene_id\",\n",
    "    \"transcript_id\": \"Transcript_id\",\n",
    "    \"feat_strand\": \"Gene_strand\",\n",
    "    \"cpg_island_region_name\": \"Cpg_island_region_class\",\n",
    "    \"cpg_island_region_start\": \"Cpg_island_region_start\",\n",
    "    \"cpg_island_region_end\": \"Cpg_island_region_end\",\n",
    "    \"cpg_island_distance\": \"Cpg_island_distance\",\n",
    "}\n",
    "\n",
    "final_anno_table = m3[list(final_cols_d.keys())].rename(columns=final_cols_d)\n",
    "\n",
    "assert (\n",
    "    final_anno_table.query('Cpg_island_region_class == \"CpG islands\"')[\n",
    "        \"Cpg_island_distance\"\n",
    "    ]\n",
    "    .eq(0)\n",
    "    .all()\n",
    ")\n",
    "\n",
    "final_anno_table.query(\"Cpg_island_distance != 0\")[\n",
    "    [\"Start\", \"Cpg_island_region_start\", \"Cpg_island_region_end\", \"Cpg_island_distance\"]\n",
    "]"
   ]
  },
  {
   "cell_type": "code",
   "execution_count": 109,
   "id": "destroyed-fossil",
   "metadata": {},
   "outputs": [],
   "source": [
    "final_anno_table.rename(columns={\"Chromosome\": \"#Chromosome\"}).to_csv(\n",
    "    probe_annos_one_row_bed_csv, sep=\"\\t\", header=True, index=False\n",
    ")\n",
    "final_anno_table.to_parquet(probe_annos_one_row_bed_parquet)"
   ]
  },
  {
   "cell_type": "code",
   "execution_count": null,
   "id": "2858b2f0-9d7a-4fd2-9a21-8706fc47f3dc",
   "metadata": {},
   "outputs": [],
   "source": []
  }
 ],
 "metadata": {
  "jupytext": {
   "formats": "py:percent,ipynb,md:myst"
  },
  "kernelspec": {
   "display_name": "Python [conda env:mouse_hema_meth_dev3] *",
   "language": "python",
   "name": "conda-env-mouse_hema_meth_dev3-xpython"
  },
  "language_info": {
   "name": ""
  }
 },
 "nbformat": 4,
 "nbformat_minor": 5
}
